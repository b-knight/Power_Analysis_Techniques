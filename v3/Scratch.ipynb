{
 "cells": [
  {
   "cell_type": "code",
   "execution_count": 1,
   "metadata": {},
   "outputs": [
    {
     "name": "stderr",
     "output_type": "stream",
     "text": [
      "/home/bknight/anaconda3/lib/python3.7/site-packages/statsmodels/compat/pandas.py:49: FutureWarning: The Panel class is removed from pandas. Accessing it from the top-level namespace will also be removed in the next version\n",
      "  data_klasses = (pandas.Series, pandas.DataFrame, pandas.Panel)\n"
     ]
    }
   ],
   "source": [
    "import time\n",
    "from olsEmpowered import sim_data         as sd\n",
    "from olsEmpowered import power_estimation as pe\n",
    "from olsEmpowered import isotonic         as iso\n",
    "from olsEmpowered import binary_search    as bst"
   ]
  },
  {
   "cell_type": "code",
   "execution_count": 2,
   "metadata": {},
   "outputs": [
    {
     "name": "stdout",
     "output_type": "stream",
     "text": [
      "Reconstituting data object from file.\n",
      "Successfully read in the .csv file specified at:\n",
      "     /home/bknight/Documents/Power_Analysis_Techniques/v3/data/sim_data_2019_12_31_134515.csv.\n",
      "/home/bknight/Documents/Power_Analysis_Techniques/v3/data/log_files/sim_data_2019_12_31_134515_log_file.txt\n",
      "Successfully read in the meta-data specified at:\n",
      "     /home/bknight/Documents/Power_Analysis_Techniques/v3/data/log_files/sim_data_2019_12_31_134515_log_file.txt.\n"
     ]
    }
   ],
   "source": [
    "# dgp = sd.create_random_dgp(max_covariates = 10, \n",
    "#                            permissible_distributions = ['normal', \n",
    "#                                                         'exponential', \n",
    "#                                                         'uniform'],\n",
    "#                            range_of_normal_loc = [50, 250], \n",
    "#                            range_of_normal_scale = [5, 25],\n",
    "#                            range_of_exponential_scale = [0.5, 4],\n",
    "#                            range_of_uniform = [0,10],\n",
    "#                            range_of_betas = [0, 2.5],\n",
    "#                            range_of_abs_mde = [0.02, 0.5],\n",
    "#                            range_of_noise_loc = [0.0, 25.0],\n",
    "#                            range_of_noise_scale = [5.00, 35.00],\n",
    "#                            sample_size = 4500000)\n",
    "d = '/home/bknight/Documents/Power_Analysis_Techniques/v3/data/sim_data_2019_12_31_134515.csv'\n",
    "m = '/home/bknight/Documents/Power_Analysis_Techniques/v3/data/log_files/sim_data_2019_12_31_134515_log_file.txt'\n",
    "dgp = sd.sim_data(data_path = d, meta_data_path = m)"
   ]
  },
  {
   "cell_type": "code",
   "execution_count": 3,
   "metadata": {},
   "outputs": [
    {
     "name": "stderr",
     "output_type": "stream",
     "text": [
      "/home/bknight/anaconda3/lib/python3.7/site-packages/numpy/core/fromnumeric.py:2223: FutureWarning: Method .ptp is deprecated and will be removed in a future version. Use numpy.ptp instead.\n",
      "  return ptp(axis=axis, out=out, **kwargs)\n"
     ]
    }
   ],
   "source": [
    "pe_ob = pe.power_estimation(dgp)"
   ]
  },
  {
   "cell_type": "code",
   "execution_count": 4,
   "metadata": {},
   "outputs": [],
   "source": [
    "iso_ob = iso.isotonic(pe_ob)"
   ]
  },
  {
   "cell_type": "code",
   "execution_count": 5,
   "metadata": {},
   "outputs": [
    {
     "name": "stdout",
     "output_type": "stream",
     "text": [
      "Estimating the effective power of n = 12,757 using 200 simulations.\n",
      "The effective power of sample size n = 12,757 is 41.79%.\n",
      "An upper-bound of n = 31,381 was specified.\n",
      "Estimating the effective power of n = 31,381 using 200 simulations.\n",
      "The effective power of sample size n = 31,381 is 81.59%.\n"
     ]
    },
    {
     "data": {
      "text/html": [
       "<div>\n",
       "<style scoped>\n",
       "    .dataframe tbody tr th:only-of-type {\n",
       "        vertical-align: middle;\n",
       "    }\n",
       "\n",
       "    .dataframe tbody tr th {\n",
       "        vertical-align: top;\n",
       "    }\n",
       "\n",
       "    .dataframe thead th {\n",
       "        text-align: right;\n",
       "    }\n",
       "</style>\n",
       "<table border=\"1\" class=\"dataframe\">\n",
       "  <thead>\n",
       "    <tr style=\"text-align: right;\">\n",
       "      <th></th>\n",
       "      <th>candidates</th>\n",
       "      <th>power</th>\n",
       "      <th>sims_used</th>\n",
       "      <th>seconds_used</th>\n",
       "      <th>status</th>\n",
       "    </tr>\n",
       "  </thead>\n",
       "  <tbody>\n",
       "    <tr>\n",
       "      <th>0</th>\n",
       "      <td>12757</td>\n",
       "      <td>0.41791</td>\n",
       "      <td>400</td>\n",
       "      <td>104.944869</td>\n",
       "      <td>0</td>\n",
       "    </tr>\n",
       "    <tr>\n",
       "      <th>1</th>\n",
       "      <td>31381</td>\n",
       "      <td>0.81592</td>\n",
       "      <td>400</td>\n",
       "      <td>104.944869</td>\n",
       "      <td>0</td>\n",
       "    </tr>\n",
       "  </tbody>\n",
       "</table>\n",
       "</div>"
      ],
      "text/plain": [
       "   candidates    power  sims_used  seconds_used  status\n",
       "0       12757  0.41791        400    104.944869       0\n",
       "1       31381  0.81592        400    104.944869       0"
      ]
     },
     "execution_count": 5,
     "metadata": {},
     "output_type": "execute_result"
    }
   ],
   "source": [
    "n, p, df = iso_ob.isotonic_interpolation()\n",
    "df"
   ]
  }
 ],
 "metadata": {
  "kernelspec": {
   "display_name": "Python 3",
   "language": "python",
   "name": "python3"
  },
  "language_info": {
   "codemirror_mode": {
    "name": "ipython",
    "version": 3
   },
   "file_extension": ".py",
   "mimetype": "text/x-python",
   "name": "python",
   "nbconvert_exporter": "python",
   "pygments_lexer": "ipython3",
   "version": "3.7.1"
  }
 },
 "nbformat": 4,
 "nbformat_minor": 2
}
