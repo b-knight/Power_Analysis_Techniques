{
 "cells": [
  {
   "cell_type": "code",
   "execution_count": 1,
   "metadata": {},
   "outputs": [],
   "source": [
    "import pandas as pd"
   ]
  },
  {
   "cell_type": "code",
   "execution_count": 30,
   "metadata": {},
   "outputs": [
    {
     "data": {
      "text/plain": [
       "0.4241149660336703"
      ]
     },
     "execution_count": 30,
     "metadata": {},
     "output_type": "execute_result"
    }
   ],
   "source": [
    "mde_model2_mde005 "
   ]
  },
  {
   "cell_type": "code",
   "execution_count": 32,
   "metadata": {},
   "outputs": [],
   "source": [
    "model1_mde01          = pd.read_csv(\"./residual_dfs/results/mde_0_01_n_100000_model_I.csv\") \n",
    "results_model1_mde01  = model1_mde01['Achieved Power'].tolist()\n",
    "mde_model1_mde01      = float(model1_mde01['Abs. MDE'].unique())\n",
    "#-------------------------------------------------------------------------------------------\n",
    "model1_mde005         = pd.read_csv(\"./residual_dfs/results/mde_0_005_n_100000_model_I.csv\") \n",
    "results_model1_mde005 = model1_mde005['Achieved Power'].tolist()\n",
    "mde_model1_mde005     = float(model1_mde005['Abs. MDE'].unique())\n",
    "#-------------------------------------------------------------------------------------------\n",
    "model2_mde01          = pd.read_csv(\"./residual_dfs/results/mde_0_01_n_100000_model_II.csv\") \n",
    "results_model2_mde01  = model2_mde01['Achieved Power'].tolist()\n",
    "mde_model2_mde01      = float(model2_mde01['Abs. MDE'].unique())\n",
    "#-------------------------------------------------------------------------------------------\n",
    "model2_mde005         = pd.read_csv(\"./residual_dfs/results/mde_0_005_n_100000_model_II.csv\") \n",
    "results_model2_mde005 = model2_mde005['Achieved Power'].tolist()\n",
    "mde_model2_mde005     = float(model2_mde005['Abs. MDE'].unique())\n",
    "#-------------------------------------------------------------------------------------------\n",
    "model3_mde01          = pd.read_csv(\"./residual_dfs/results/mde_0_01_n_100000_model_III.csv\") \n",
    "results_model3_mde01  = model3_mde01['Achieved Power'].tolist()\n",
    "mde_model3_mde01      = float(model3_mde01['Abs. MDE'].unique())\n",
    "#-------------------------------------------------------------------------------------------\n",
    "model3_mde005         = pd.read_csv(\"./residual_dfs/results/mde_0_005_n_100000_model_III.csv\") \n",
    "results_model3_mde005 = model3_mde005['Achieved Power'].tolist()\n",
    "mde_model3_mde005     = float(model3_mde005['Abs. MDE'].unique())\n",
    "#-------------------------------------------------------------------------------------------\n",
    "model4_mde01          = pd.read_csv(\"./residual_dfs/results/mde_0_01_n_100000_model_IV.csv\") \n",
    "results_model4_mde01  = model4_mde01['Achieved Power'].tolist()\n",
    "mde_model4_mde01      = float(model4_mde01['Abs. MDE'].unique())\n",
    "#-------------------------------------------------------------------------------------------\n",
    "model4_mde005         = pd.read_csv(\"./residual_dfs/results/mde_0_005_n_100000_model_IV.csv\") \n",
    "results_model4_mde005 = model4_mde005['Achieved Power'].tolist()\n",
    "mde_model4_mde005     = float(model4_mde005['Abs. MDE'].unique())\n",
    "#-------------------------------------------------------------------------------------------\n",
    "\n",
    "data_to_plot = [results_model1_mde01, results_model1_mde005,\n",
    "                results_model2_mde01, results_model2_mde005,\n",
    "                results_model3_mde01, results_model3_mde005, \n",
    "                results_model4_mde01, results_model4_mde005]"
   ]
  },
  {
   "cell_type": "code",
   "execution_count": 38,
   "metadata": {},
   "outputs": [
    {
     "name": "stdout",
     "output_type": "stream",
     "text": [
      "Order_Amt = 'Treated' + 'Mean_Order_Amt' + 'Mean_Retailer_Order_Amt' + 'Mean_DOW_Order_Amt'\n",
      "Order_Amt = 'Treated' + 'Mean_Retailer_Order_Amt' + 'Mean_DOW_Order_Amt'\n",
      "Order_Amt = 'Treated' + 'Mean_DOW_Order_Amt'\n",
      "Order_Amt = 'Treated'\n"
     ]
    }
   ],
   "source": [
    "model_1 = str(model1_mde01['Model'].unique()[0])\n",
    "print(model_1)\n",
    "model_2 = str(model2_mde01['Model'].unique()[0])\n",
    "print(model_2)\n",
    "model_3 = str(model3_mde01['Model'].unique()[0])\n",
    "print(model_3)\n",
    "model_4 = str(model4_mde01['Model'].unique()[0])\n",
    "print(model_4)"
   ]
  },
  {
   "cell_type": "markdown",
   "metadata": {},
   "source": [
    "http://blog.bharatbhole.com/creating-boxplots-with-matplotlib/"
   ]
  },
  {
   "cell_type": "code",
   "execution_count": 22,
   "metadata": {},
   "outputs": [
    {
     "data": {
      "image/png": "[encoded data removed]",
      "text/plain": [
       "<Figure size 1152x432 with 1 Axes>"
      ]
     },
     "metadata": {
      "needs_background": "light"
     },
     "output_type": "display_data"
    }
   ],
   "source": [
    "import matplotlib as mpl \n",
    "mpl.use('agg')\n",
    "%matplotlib inline\n",
    "import matplotlib.pyplot as plt \n",
    "from matplotlib import rc, rcParams\n",
    "rcParams['text.latex.preamble'] = [r'\\usepackage{sfmath} \\boldmath']\n",
    "rc('text', usetex=True)\n",
    "rc('axes', linewidth=2)\n",
    "rc('font', weight='bold')\n",
    "rcParams['text.latex.preamble'] = [r'\\usepackage{sfmath} \\boldmath']\n",
    "## add patch_artist=True option to ax.boxplot() \n",
    "## to get fill color\n",
    "\n",
    "# Create a figure instance\n",
    "fig = plt.figure(1, figsize=(16, 6))\n",
    "\n",
    "# Create an axes instance\n",
    "ax = fig.add_subplot(111)\n",
    "\n",
    "bp = ax.boxplot(data_to_plot, patch_artist=True)\n",
    "\n",
    "outline_whiskers_and_cap = '#737373'\n",
    "fill_color = '#80bfff'\n",
    "median = '#008000'\n",
    "\n",
    "## change outline color, fill color and linewidth of the boxes\n",
    "for box in bp['boxes']:\n",
    "    # change outline color\n",
    "    box.set( color=outline_whiskers_and_cap, linewidth=2)\n",
    "    # change fill color\n",
    "    box.set( facecolor = fill_color)\n",
    "\n",
    "## change color and linewidth of the whiskers\n",
    "for whisker in bp['whiskers']:\n",
    "    whisker.set(color=outline_whiskers_and_cap, linewidth=2)\n",
    "\n",
    "## change color and linewidth of the caps\n",
    "for cap in bp['caps']:\n",
    "    cap.set(color=outline_whiskers_and_cap, linewidth=2)\n",
    "\n",
    "## change color and linewidth of the medians\n",
    "for median in bp['medians']:\n",
    "    median.set(color='#008000', linewidth=2)\n",
    "\n",
    "## change the style of fliers and their fill\n",
    "for flier in bp['fliers']:\n",
    "    flier.set(marker='o', color='#e7298a', alpha=0.5)\n",
    "ax.axhline(y=0.8, xmin=0.0, xmax=1.0, color='r')  \n",
    "\n",
    "## Model Delimeters\n",
    "ax.axvline(x=2.5, color='black', ls='--', lw=1)  \n",
    "ax.axvline(x=4.5, color='black', ls='--', lw=1)  \n",
    "ax.axvline(x=6.5, color='black', ls='--', lw=1)  \n",
    "\n",
    "## Custom x-axis labels\n",
    "ax.tick_params(axis='y', which='major', labelsize=16)\n",
    "ax.tick_params(axis='x', which='major', labelsize=16)\n",
    "\n",
    "label_1 = r\"\\textbf{Method}\" \"\\n\" \"I\"\n",
    "label_2 = r\"\\textbf{Method}\" \"\\n\" \"II\"\n",
    "label_3 = r\"\\textbf{Method}\" \"\\n\" \"II\"\n",
    "label_4 = r\"\\textbf{Method}\" \"\\n\" \"IV\"\n",
    "label_5 = r\"\\textbf{Method}\" \"\\n\" \"V\"\n",
    "label_6 = r\"\\textbf{Method}\" \"\\n\" \"VI\"\n",
    "label_7 = r\"\\textbf{Method}\" \"\\n\" \"VII\"\n",
    "label_8 = r\"\\textbf{Method}\" \"\\n\" \"VIII\"\n",
    "label_9 = r\"\\textbf{Model IV}\" \"\\n\" \"MDE = 0.5%\"\n",
    "ax.set_xticklabels([label_1,label_2,label_3,label_4,label_5,label_6,label_7,label_8,label_9])\n",
    "\n",
    "# Y=Axis\n",
    "plt.ylabel(r\"\\textbf{Estimated} \\\\\\\\ \\phantom{aaaa}\\textbf{Power:} \\\\\\\\ \\phantom{aa}$\\%$ \\textbf{of 500} \\\\\\\\ \"\n",
    "           + r\"\\phantom{a}\\textbf{Simulations} \\\\\\\\ \\textbf{where NULL} \\\\\\\\ \\textbf{was Rejected} \\\\\\\\\" +\n",
    "           r\"\\phantom{aa}$\\alpha < 0.05$\",\n",
    "           rotation = 0, \n",
    "           labelpad = 70,\n",
    "           size = 16)\n",
    "\n",
    "ax.yaxis.set_label_coords(-0.10,0.25)\n",
    "# Plot Title\n",
    "# plt.title(r\"\"\"\\Huge{Big title !} \\newline \\normalsize{Small subtitle !}\"\"\")\n",
    "plt.figtext(.5,0.95,'Distributions of Estimated Statistical Power', \n",
    "            fontsize=36, ha='center')\n",
    "plt.figtext(.5,.9,'Each distribution represents 100 iterations.' +\\\n",
    "            ' A single iteration uses 500 simulations to verify achieved power. ',\n",
    "            fontsize=20, ha='center')\n",
    "\n",
    "# Save the figure\n",
    "fig.savefig('nine_model_results.png', bbox_inches='tight')"
   ]
  },
  {
   "cell_type": "code",
   "execution_count": null,
   "metadata": {},
   "outputs": [],
   "source": []
  }
 ],
 "metadata": {
  "kernelspec": {
   "display_name": "Python 3",
   "language": "python",
   "name": "python3"
  },
  "language_info": {
   "codemirror_mode": {
    "name": "ipython",
    "version": 3
   },
   "file_extension": ".py",
   "mimetype": "text/x-python",
   "name": "python",
   "nbconvert_exporter": "python",
   "pygments_lexer": "ipython3",
   "version": "3.7.1"
  }
 },
 "nbformat": 4,
 "nbformat_minor": 2
}
