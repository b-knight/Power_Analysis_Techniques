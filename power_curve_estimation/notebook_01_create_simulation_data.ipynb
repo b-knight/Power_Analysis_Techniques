{
 "cells": [
  {
   "cell_type": "code",
   "execution_count": 1,
   "metadata": {},
   "outputs": [],
   "source": [
    "def create_sim_data(num_retailers, num_customers, treatment_effect):\n",
    "\n",
    "    import numpy as np\n",
    "    import pandas as pd\n",
    "\n",
    "    # Create retailers, their order amount scalars, and the probability space.\n",
    "    retailer_ids = list(range(1, num_retailers + 1,1))\n",
    "    retailer_scalars = list(np.random.normal(loc = 1, scale = 0.05, size = num_retailers))\n",
    "    retailers = pd.DataFrame(list(zip(retailer_ids, retailer_scalars)), \n",
    "                             columns =['Retailer_ID', 'Retailer_Scalar']) \n",
    "    delimiters = list(np.linspace(0.0, 1.0, num = num_retailers + 1))\n",
    "    retailers['a'] = delimiters[0:len(delimiters)-1]\n",
    "    retailers['b'] = delimiters[1:len(delimiters)]\n",
    "    print('Retailer data frame created.')\n",
    "    \n",
    "    # Create customers, their mean order amount, whether or not they got the treatment, \n",
    "    # and the number of orders placed.\n",
    "    customer_ids = list(range(1, num_customers + 1,1))\n",
    "    num_orders = [int(i*10) + 1 for i in list(np.random.exponential(scale = 1.0, size = num_customers))]\n",
    "    customers = pd.DataFrame(list(zip(customer_ids, num_orders)), columns =['Customer_ID', 'N_Orders']) \n",
    "    customers['Mean_Order_Amt'] = list(np.random.normal(loc = 100, scale = 25, size = num_customers))\n",
    "    customers['Mean_Order_Amt'] = customers['Mean_Order_Amt'].apply(lambda x: round(x, 2))\n",
    "    treatment_probs = []\n",
    "    for i in list(range(0, len(customers), 1)):\n",
    "        treatment_probs.append(np.random.uniform())\n",
    "    customers['Treatment_Prob'] = treatment_probs\n",
    "    customers['Treated'] = np.where(customers['Treatment_Prob'] <= 0.5, 1, 0)\n",
    "    customers['Treatment_Modifier'] = np.where(customers['Treatment_Prob'] <= 0.5, 1+treatment_effect, 1.0)\n",
    "    customers = customers[['Customer_ID', 'N_Orders', 'Mean_Order_Amt', 'Treated', 'Treatment_Modifier']]\n",
    "    print('Customer data frame created.')\n",
    "    \n",
    "    # Explode the customers dataframe by number of orders the customer placed.\n",
    "    explodedDF = pd.DataFrame(columns = ['Customer_ID', 'N_Orders', 'Mean_Order_Amt'])\n",
    "    j = 0\n",
    "    for i in list(range(0, len(customers), 1)):\n",
    "        counter = 1\n",
    "        while counter <= int(customers.loc[[i]]['N_Orders']):\n",
    "            explodedDF = explodedDF.append(customers.loc[[i]])\n",
    "            counter += 1\n",
    "        if i % 1000 == 0:\n",
    "            j += 1\n",
    "            print(str(j*1000) + ' customers allocated (expansion {} complete).'.format(str((j*1000)/num_customers)))\n",
    "\n",
    "    explodedDF = explodedDF[['Customer_ID', 'Mean_Order_Amt', 'Treated', 'Treatment_Modifier']]\n",
    "    print('Customer dataframe exploded to order dataframe.')\n",
    "\n",
    "    float_list = []\n",
    "    for i in list(range(0, len(explodedDF), 1)):\n",
    "        float_list.append(np.random.uniform())\n",
    "    explodedDF['Retailer_Prob'] = float_list\n",
    "    \n",
    "    # Map the orders randomly to retailers and their correponding scalar.\n",
    "    a = explodedDF.Retailer_Prob.values\n",
    "    bh = retailers.b.values\n",
    "    bl = retailers.a.values\n",
    "\n",
    "    i, j = np.where((a[:, None] >= bl) & (a[:, None] <= bh))\n",
    "\n",
    "    result_df = pd.DataFrame(\n",
    "                np.column_stack([explodedDF.values[i], retailers.values[j]]),\n",
    "                columns=explodedDF.columns.append(retailers.columns))\n",
    "    result_df = result_df[['Customer_ID', 'Mean_Order_Amt', 'Treated', 'Treatment_Modifier','Retailer_ID', \n",
    "                           'Retailer_Scalar']]\n",
    "    print('Orders randomly assigned to retailers.')\n",
    "    \n",
    "    # Add random noise \n",
    "    result_df['Noise'] = list(np.random.normal(loc = 10.0, scale = 1.0, size = len(result_df)))\n",
    "    result_df['Noise'] = result_df['Noise'].apply(lambda x: round(x, 2))\n",
    "    result_df['Order_Amt'] = result_df['Mean_Order_Amt']*result_df['Treatment_Modifier']* \\\n",
    "                             result_df['Retailer_Scalar'] + result_df['Noise']\n",
    "    result_df['Order_Amt'] = result_df['Order_Amt'].apply(lambda x: round(x, 2))\n",
    "    print('Noise added.')\n",
    "\n",
    "    # Save to .csv\n",
    "    print(str(len(result_df)) + ' unique observations created.')\n",
    "    #result_df = result_df.sample(sample_size, replace=True)\n",
    "    result_df = result_df.reset_index(drop=True)\n",
    "    result_df.to_csv('data_c_16000_mde_01.csv')\n"
   ]
  },
  {
   "cell_type": "code",
   "execution_count": null,
   "metadata": {},
   "outputs": [
    {
     "name": "stdout",
     "output_type": "stream",
     "text": [
      "Retailer data frame created.\n",
      "Customer data frame created.\n",
      "1000 customers allocated (expansion 0.0625 complete).\n"
     ]
    },
    {
     "name": "stderr",
     "output_type": "stream",
     "text": [
      "/home/bknight/anaconda3/lib/python3.7/site-packages/pandas/core/frame.py:6211: FutureWarning: Sorting because non-concatenation axis is not aligned. A future version\n",
      "of pandas will change to not sort by default.\n",
      "\n",
      "To accept the future behavior, pass 'sort=False'.\n",
      "\n",
      "To retain the current behavior and silence the warning, pass 'sort=True'.\n",
      "\n",
      "  sort=sort)\n"
     ]
    },
    {
     "name": "stdout",
     "output_type": "stream",
     "text": [
      "2000 customers allocated (expansion 0.125 complete).\n",
      "3000 customers allocated (expansion 0.1875 complete).\n",
      "4000 customers allocated (expansion 0.25 complete).\n",
      "5000 customers allocated (expansion 0.3125 complete).\n",
      "6000 customers allocated (expansion 0.375 complete).\n",
      "7000 customers allocated (expansion 0.4375 complete).\n",
      "8000 customers allocated (expansion 0.5 complete).\n"
     ]
    }
   ],
   "source": [
    "import time\n",
    "start_time = time.time()\n",
    "create_sim_data(1000, 16000, 0.01)\n",
    "print(\"--- {} minutes ---\".format(str((time.time() - start_time)/60.0)))"
   ]
  }
 ],
 "metadata": {
  "kernelspec": {
   "display_name": "Python 3",
   "language": "python",
   "name": "python3"
  },
  "language_info": {
   "codemirror_mode": {
    "name": "ipython",
    "version": 3
   },
   "file_extension": ".py",
   "mimetype": "text/x-python",
   "name": "python",
   "nbconvert_exporter": "python",
   "pygments_lexer": "ipython3",
   "version": "3.7.1"
  }
 },
 "nbformat": 4,
 "nbformat_minor": 2
}
