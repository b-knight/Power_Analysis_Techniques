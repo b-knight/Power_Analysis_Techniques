{
 "cells": [
  {
   "cell_type": "code",
   "execution_count": 19,
   "metadata": {},
   "outputs": [],
   "source": [
    "import numpy as np\n",
    "import scipy.stats as ss\n",
    "import matplotlib.pyplot as plt"
   ]
  },
  {
   "cell_type": "code",
   "execution_count": 20,
   "metadata": {},
   "outputs": [],
   "source": [
    "def exponential(x_range, mu=0, sigma=1, cdf=False, **kwargs):\n",
    "    # https://emredjan.github.io/blog/2017/07/19/plotting-distributions/\n",
    "    x = x_range\n",
    "    if cdf:\n",
    "        y = ss.expon.cdf(x, mu, sigma)\n",
    "    else:\n",
    "        y = ss.expon.pdf(x, mu, sigma)\n",
    "    plt.plot(x, y, **kwargs)"
   ]
  },
  {
   "cell_type": "code",
   "execution_count": 21,
   "metadata": {},
   "outputs": [
    {
     "data": {
      "text/plain": [
       "<Figure size 720x360 with 0 Axes>"
      ]
     },
     "metadata": {},
     "output_type": "display_data"
    }
   ],
   "source": [
    "x = np.linspace(0, 1000, 1000)\n",
    "plt.figure(figsize=(10,5))\n",
    "plt.gcf().subplots_adjust(left=0.2)\n",
    "exponential(x, 0, 100,  cdf=True, color='green', lw=2, ls='--', alpha=0.8, label='cdf')\n",
    "exponential(x, 0, 400,  cdf=True, color='blue', lw=2, ls='--', alpha=0.8, label='cdf')\n",
    "exponential(x, 0, 700,  cdf=True, color='red', lw=2, ls='--', alpha=0.8, label='cdf')\n",
    "exponential(x, 0, 1000, cdf=True, color='purple', lw=2, ls='--', alpha=0.8, label='cdf')\n",
    "mde_annotation = 'Minimum Detectable Effect \\n           (MDE) = 0.01'\n",
    "power_annotation = 'Target Statistical Power = 0.70'\n",
    "plt.text(580, 0.25, mde_annotation, fontsize = 14)\n",
    "plt.text(555, 0.15, power_annotation, fontsize = 14)\n",
    "plt.text(30, 0.78, '\\u03bb = 1.5', fontsize = 14)\n",
    "plt.text(190, 0.55, '\\u03bb = 1.0', fontsize = 14)\n",
    "plt.text(320, 0.475, '\\u03bb = 0.5', fontsize = 14)\n",
    "plt.text(390, 0.26, '\\u03bb = 0.3', fontsize = 14)\n",
    "plt.xlabel('# of Observations (in Thousands)', size = 18)\n",
    "\n",
    "plt.ylabel('Probability \\n of \\n Rejecting \\n NULL \\n Hypothesis \\n (\\u03b1 = 0.05)',\n",
    "           rotation = 0, \n",
    "           labelpad = 60,\n",
    "           size = 16)\n",
    "plt.tick_params(axis='both', which='major', labelsize=14)\n",
    "# plt.show()\n",
    "plt.savefig('approximating_the_power_curve_image_1.png')\n",
    "plt.clf()"
   ]
  },
  {
   "cell_type": "code",
   "execution_count": 22,
   "metadata": {},
   "outputs": [
    {
     "data": {
      "text/plain": [
       "<Figure size 720x360 with 0 Axes>"
      ]
     },
     "metadata": {},
     "output_type": "display_data"
    }
   ],
   "source": [
    "x = np.linspace(0, 1000, 1000)\n",
    "plt.figure(figsize=(10,5))\n",
    "plt.gcf().subplots_adjust(left=0.2)\n",
    "exponential(x, 0, 100,  cdf=True, color='green', lw=2, ls='--', alpha=0.4, label='cdf')\n",
    "exponential(x, 0, 400,  cdf=True, color='blue', lw=2, ls='-', alpha=0.4, label='cdf')\n",
    "exponential(x, 0, 700,  cdf=True, color='red', lw=2, ls='--', alpha=0.4, label='cdf')\n",
    "exponential(x, 0, 1000, cdf=True, color='purple', lw=2, ls='--', alpha=0.4, label='cdf')\n",
    "plt.scatter(100, 0.17, color='black', lw=8, alpha=0.4)\n",
    "plt.scatter(300, 0.52, color='black', lw=8, alpha=0.4)\n",
    "plt.scatter(500, 0.67, color='black', lw=8, alpha=0.4)\n",
    "plt.scatter(700, 0.79, color='black', lw=8, alpha=0.4)\n",
    "plt.scatter(900, 0.83, color='black', lw=8, alpha=0.4)\n",
    "mde_annotation = 'Minimum Detectable Effect \\n           (MDE) = 0.01'\n",
    "power_annotation = 'Target Statistical Power = 0.70'\n",
    "plt.text(580, 0.25, mde_annotation, fontsize = 14)\n",
    "plt.text(555, 0.15, power_annotation, fontsize = 14)\n",
    "plt.text(30, 0.78, '\\u03bb = 1.5', fontsize = 14)\n",
    "plt.text(190, 0.55, '\\u03bb = 1.0', fontsize = 14)\n",
    "plt.text(320, 0.475, '\\u03bb = 0.5', fontsize = 14)\n",
    "plt.text(390, 0.26, '\\u03bb = 0.3', fontsize = 14)\n",
    "plt.xlabel('# of Observations (in Thousands)', size = 16)\n",
    "plt.ylabel('Probability \\n of \\n Rejecting \\n NULL \\n Hypothesis \\n (\\u03b1 = 0.05)',\n",
    "           rotation = 0, \n",
    "           labelpad = 60,\n",
    "           size = 16)\n",
    "plt.tick_params(axis='both', which='major', labelsize=14)\n",
    "#plt.show()\n",
    "plt.savefig('approximating_the_power_curve_image_2.png')\n",
    "plt.clf()"
   ]
  },
  {
   "cell_type": "code",
   "execution_count": 23,
   "metadata": {},
   "outputs": [
    {
     "data": {
      "text/plain": [
       "<Figure size 720x360 with 0 Axes>"
      ]
     },
     "metadata": {},
     "output_type": "display_data"
    }
   ],
   "source": [
    "x = np.linspace(0, 1000, 1000)\n",
    "plt.figure(figsize=(10,5))\n",
    "plt.gcf().subplots_adjust(left=0.2)\n",
    "exponential(x, 0, 400,  cdf=True, color='blue', lw=2, ls='-', alpha=0.4, label='cdf')\n",
    "exponential(x, 0, 450,  cdf=True, color='black', lw=2, ls='-', alpha=0.8, label='cdf')\n",
    "plt.scatter(100, 0.17, color='black', lw=8, alpha=0.4)\n",
    "plt.scatter(300, 0.52, color='black', lw=8, alpha=0.4)\n",
    "plt.scatter(500, 0.67, color='black', lw=8, alpha=0.4)\n",
    "plt.scatter(700, 0.79, color='black', lw=8, alpha=0.4)\n",
    "plt.scatter(900, 0.83, color='black', lw=8, alpha=0.4)\n",
    "mde_annotation = 'Minimum Detectable Effect \\n           (MDE) = 0.01'\n",
    "power_annotation = 'Target Statistical Power = 0.70'\n",
    "plt.text(580, 0.25, mde_annotation, fontsize = 14)\n",
    "plt.text(555, 0.15, power_annotation, fontsize = 14)\n",
    "plt.xlabel('# of Observations (in Thousands)', size = 16)\n",
    "plt.ylabel('Probability \\n of \\n Rejecting \\n NULL \\n Hypothesis \\n (\\u03b1 = 0.05)',\n",
    "           rotation = 0, \n",
    "           labelpad = 60,\n",
    "           size = 16)\n",
    "plt.tick_params(axis='both', which='major', labelsize=14)\n",
    "#plt.show()\n",
    "plt.savefig('approximating_the_power_curve_image_3.png')\n",
    "plt.clf()"
   ]
  },
  {
   "cell_type": "code",
   "execution_count": 24,
   "metadata": {},
   "outputs": [
    {
     "data": {
      "text/plain": [
       "<Figure size 720x360 with 0 Axes>"
      ]
     },
     "metadata": {},
     "output_type": "display_data"
    }
   ],
   "source": [
    "x = np.linspace(0, 1000, 1000)\n",
    "plt.figure(figsize=(10,5))\n",
    "plt.gcf().subplots_adjust(left=0.2)\n",
    "exponential(x, 0, 400,  cdf=True, color='blue', lw=2, ls='-', alpha=0.4, label='cdf')\n",
    "exponential(x, 0, 450,  cdf=True, color='black', lw=2, ls='-', alpha=0.8, label='cdf')\n",
    "mde_annotation = 'Minimum Detectable Effect \\n           (MDE) = 0.01'\n",
    "power_annotation = 'Target Statistical Power = 0.70'\n",
    "result_annotation = 'Actual Statistical Power = 0.74'\n",
    "plt.text(580, 0.25, mde_annotation, fontsize = 14)\n",
    "plt.text(555, 0.15, power_annotation, fontsize = 14)\n",
    "plt.text(555, 0.05, result_annotation, fontsize = 14, style='italic')\n",
    "plt.scatter(540, 0.74, color='black', lw=8, alpha=0.4)\n",
    "\n",
    "plt.xlabel('# of Observations (in Thousands)', size = 16)\n",
    "plt.ylabel('Probability \\n of \\n Rejecting \\n NULL \\n Hypothesis \\n (\\u03b1 = 0.05)',\n",
    "           rotation = 0, \n",
    "           labelpad = 60,\n",
    "           size = 16)\n",
    "plt.axhline(y = 0.70, color = 'blue', alpha=0.4)\n",
    "plt.axvline(x = 480, color = 'blue', alpha=0.4)\n",
    "plt.axvline(x = 540, color = 'black', alpha=0.4)\n",
    "plt.axhline(y = 0.74, color = 'black', alpha=0.4)\n",
    "plt.tick_params(axis='both', which='major', labelsize=14)\n",
    "#plt.show()\n",
    "plt.savefig('approximating_the_power_curve_image_4.png')\n",
    "plt.clf()"
   ]
  },
  {
   "cell_type": "code",
   "execution_count": 25,
   "metadata": {},
   "outputs": [
    {
     "data": {
      "image/png": "[encoded data removed]",
      "text/plain": [
       "<Figure size 432x288 with 1 Axes>"
      ]
     },
     "metadata": {
      "needs_background": "light"
     },
     "output_type": "display_data"
    }
   ],
   "source": [
    "import matplotlib.pyplot as plt\n",
    "import numpy as np\n",
    "import scipy.stats as stats\n",
    "import math\n",
    "\n",
    "mu = 0\n",
    "variance = 1\n",
    "sigma = math.sqrt(variance)\n",
    "x = np.linspace(mu - 3*sigma, mu + 3*sigma, 100)\n",
    "plt.plot(x, stats.norm.pdf(x, mu, sigma))\n",
    "plt.axvline(x=1, color = 'red', alpha=0.4)\n",
    "plt.axvline(x=0, color = 'red', alpha=0.4)\n",
    "plt.axvline(x=-1, color = 'red', alpha=0.4)\n",
    "# plt.axvline(x=-3, color = 'red', alpha=0.4)\n",
    "# plt.axvline(x=3, color = 'red', alpha=0.4)\n",
    "plt.axvline(x=-2, color = 'red', alpha=0.4)\n",
    "plt.axvline(x=2, color = 'red', alpha=0.4)\n",
    "plt.show()"
   ]
  }
 ],
 "metadata": {
  "kernelspec": {
   "display_name": "Python 3",
   "language": "python",
   "name": "python3"
  },
  "language_info": {
   "codemirror_mode": {
    "name": "ipython",
    "version": 3
   },
   "file_extension": ".py",
   "mimetype": "text/x-python",
   "name": "python",
   "nbconvert_exporter": "python",
   "pygments_lexer": "ipython3",
   "version": "3.7.1"
  }
 },
 "nbformat": 4,
 "nbformat_minor": 2
}
