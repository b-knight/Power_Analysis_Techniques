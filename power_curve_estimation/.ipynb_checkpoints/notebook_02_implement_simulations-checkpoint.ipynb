{
 "cells": [
  {
   "cell_type": "code",
   "execution_count": 2,
   "metadata": {},
   "outputs": [],
   "source": [
    "def infer_power(sample_sizes_to_eval, sub_iterations, meta_iterations,\n",
    "                p_value_threshold, desired_power, data):\n",
    "    import pandas as pd\n",
    "    import statsmodels.api as sm\n",
    "    import statsmodels.formula.api as smf\n",
    "    import numpy as np\n",
    "    from scipy.optimize import curve_fit\n",
    "    \n",
    "    meta_results        = []\n",
    "    meta_supplement     = []\n",
    "    sub_iterations_list = []\n",
    "    \n",
    "    df = pd.read_csv(data, index_col=False)\n",
    "    df = df[['Customer_ID', 'Retailer_ID', 'Treated', 'Order_Amt']]\n",
    "    print(str(len(df)) + ' observations read into Python.')\n",
    "    \n",
    "    master_counter = 0\n",
    "    while master_counter < meta_iterations:\n",
    "    \n",
    "        master_results = []\n",
    "        for k in sample_sizes_to_eval:\n",
    "            counter = 0 \n",
    "            pvalues = []\n",
    "            while counter < sub_iterations:\n",
    "                working_df = df.sample(k, replace=False)\n",
    "                X = working_df.Treated\n",
    "                X = sm.add_constant(X)\n",
    "                Y = working_df.Order_Amt\n",
    "                model = sm.OLS(Y, X).fit(method='pinv').get_robustcov_results(\n",
    "                        'cluster', groups = working_df.Customer_ID, \n",
    "                        use_correction=True, df_correction=True)\n",
    "                pvalues.append(model.pvalues[1])\n",
    "                counter += 1\n",
    "  \n",
    "            results = []\n",
    "            for i in pvalues:\n",
    "                if i <= p_value_threshold:\n",
    "                    results.append(1)    \n",
    "                else:\n",
    "                    results.append(0)  \n",
    "            out = []\n",
    "            out.append(k)\n",
    "            out.append(p_value_threshold)\n",
    "            out.append(sum(results)/len(results)) \n",
    "            master_results.append(out)\n",
    "\n",
    "        def exp_func(x, a, b, c):\n",
    "            return a * np.log(b * x) + c\n",
    "\n",
    "        eta = []\n",
    "        for i in master_results:\n",
    "            eta.append(i[0])\n",
    "        eta = np.asarray(eta)\n",
    "\n",
    "        cdf = []\n",
    "        for i in master_results:\n",
    "            cdf.append(i[2])\n",
    "        cdf = np.asarray(cdf)\n",
    "\n",
    "        popt, pcov = curve_fit(exp_func, eta, cdf)\n",
    "\n",
    "        recommended_n = int(np.exp((desired_power - popt[2])/popt[0])/popt[1])\n",
    "#         print(\"The recommended sample size for a statistical power level of \" +\n",
    "#               \"{} is {}.\".format(desired_power, recommended_n))\n",
    "\n",
    "        final_pvalues = []\n",
    "        counter_2 = 0 \n",
    "        while counter_2 < sub_iterations:\n",
    "            working_df_2 = df.sample(recommended_n, replace=False)\n",
    "            X = working_df_2.Treated\n",
    "            X = sm.add_constant(X)\n",
    "            Y = working_df_2.Order_Amt\n",
    "            model_2 = sm.OLS(Y, X).fit(method='pinv').get_robustcov_results(\n",
    "                      'cluster', groups = working_df_2.Customer_ID, \n",
    "                      use_correction=True, df_correction=True)\n",
    "            final_pvalues.append(model_2.pvalues[1])\n",
    "            counter_2 += 1\n",
    "\n",
    "        final_results = []\n",
    "        for i in final_pvalues:\n",
    "            if i <= p_value_threshold:\n",
    "                final_results.append(1)    \n",
    "            else:\n",
    "                final_results.append(0)  \n",
    "\n",
    "        meta_results.append(sum(final_results)/len(final_results))\n",
    "        meta_supplement.append(desired_power)\n",
    "        sub_iterations_list.append(sub_iterations)\n",
    "        master_counter += 1\n",
    "        \n",
    "    df_out = pd.DataFrame(list(zip(meta_supplement, meta_results))) \n",
    "    df_out.columns = ['Desired Power', 'Actual Power']\n",
    "    df_out['Error'] = (df_out['Desired Power'] - df_out['Actual Power']).abs()\n",
    "    df_out['Iterations'] = sub_iterations_list\n",
    "    return df_out"
   ]
  },
  {
   "cell_type": "code",
   "execution_count": 3,
   "metadata": {},
   "outputs": [],
   "source": [
    "import matplotlib.pyplot as plt\n",
    "import numpy as np\n",
    "import scipy.stats as stats\n",
    "import math"
   ]
  },
  {
   "cell_type": "code",
   "execution_count": 31,
   "metadata": {},
   "outputs": [
    {
     "name": "stdout",
     "output_type": "stream",
     "text": [
      "results_sd_3_n_500 complete.\n"
     ]
    },
    {
     "data": {
      "image/png": "[encoded data removed]",
      "text/plain": [
       "<Figure size 432x288 with 1 Axes>"
      ]
     },
     "metadata": {
      "needs_background": "light"
     },
     "output_type": "display_data"
    },
    {
     "data": {
      "text/plain": [
       "<Figure size 432x288 with 0 Axes>"
      ]
     },
     "metadata": {},
     "output_type": "display_data"
    }
   ],
   "source": [
    "results_sd_3_n_500 = infer_power([50000, 70000, 90000, 110000, 130000], \n",
    "                                  500, 100, 0.05, 0.8, 'data_c_13000_mde_01.csv')\n",
    "mu         = results_sd_3_n_500['Error'].mean()\n",
    "sigma      = results_sd_3_n_500['Error'].std()\n",
    "iterations = results_sd_3_n_500['Iterations'].unique()[0]\n",
    "x = np.linspace(mu - 3*sigma, mu + 3*sigma, 100)\n",
    "plt.plot(x, stats.norm.pdf(x, mu, sigma))\n",
    "plt.axvline(x=0, color = 'red', alpha=0.4)\n",
    "plt.xlim(-0.1,1.5)\n",
    "plt.ylim(0.0,2)\n",
    "bbox = dict(boxstyle=\"round\", fc=\"0.9\")\n",
    "plt.annotate('Mean Error  = {} \\n   Error Std. = {} \\n   Iterations = {}'.format(round(mu,2), \n",
    "                                                                                 round(sigma,2),\n",
    "                                                                                 iterations),\n",
    "            (5, 0), xytext=(257, 200),\n",
    "            xycoords='figure pixels',\n",
    "            textcoords='offset points',\n",
    "            bbox=bbox)\n",
    "#plt.show()\n",
    "plt.savefig('50k_70k_90k_110k_130k_n500.png')\n",
    "plt.clf()"
   ]
  },
  {
   "cell_type": "code",
   "execution_count": 475,
   "metadata": {},
   "outputs": [
    {
     "name": "stdout",
     "output_type": "stream",
     "text": [
      "139793 observations read into Python.\n"
     ]
    },
    {
     "name": "stderr",
     "output_type": "stream",
     "text": [
      "/home/bknight/anaconda3/lib/python3.7/site-packages/scipy/optimize/minpack.py:794: OptimizeWarning: Covariance of the parameters could not be estimated\n",
      "  category=OptimizeWarning)\n"
     ]
    },
    {
     "name": "stdout",
     "output_type": "stream",
     "text": [
      "The recommended sample size for a statistical power level of 0.8 is 4175.\n"
     ]
    },
    {
     "name": "stderr",
     "output_type": "stream",
     "text": [
      "/home/bknight/anaconda3/lib/python3.7/site-packages/scipy/optimize/minpack.py:794: OptimizeWarning: Covariance of the parameters could not be estimated\n",
      "  category=OptimizeWarning)\n"
     ]
    },
    {
     "name": "stdout",
     "output_type": "stream",
     "text": [
      "The recommended sample size for a statistical power level of 0.8 is 5548.\n"
     ]
    },
    {
     "name": "stderr",
     "output_type": "stream",
     "text": [
      "/home/bknight/anaconda3/lib/python3.7/site-packages/scipy/optimize/minpack.py:794: OptimizeWarning: Covariance of the parameters could not be estimated\n",
      "  category=OptimizeWarning)\n"
     ]
    },
    {
     "name": "stdout",
     "output_type": "stream",
     "text": [
      "The recommended sample size for a statistical power level of 0.8 is 7808.\n"
     ]
    },
    {
     "name": "stderr",
     "output_type": "stream",
     "text": [
      "/home/bknight/anaconda3/lib/python3.7/site-packages/scipy/optimize/minpack.py:794: OptimizeWarning: Covariance of the parameters could not be estimated\n",
      "  category=OptimizeWarning)\n"
     ]
    },
    {
     "name": "stdout",
     "output_type": "stream",
     "text": [
      "The recommended sample size for a statistical power level of 0.8 is 673.\n"
     ]
    },
    {
     "name": "stderr",
     "output_type": "stream",
     "text": [
      "/home/bknight/anaconda3/lib/python3.7/site-packages/scipy/optimize/minpack.py:794: OptimizeWarning: Covariance of the parameters could not be estimated\n",
      "  category=OptimizeWarning)\n"
     ]
    },
    {
     "name": "stdout",
     "output_type": "stream",
     "text": [
      "The recommended sample size for a statistical power level of 0.8 is 4129.\n"
     ]
    },
    {
     "name": "stderr",
     "output_type": "stream",
     "text": [
      "/home/bknight/anaconda3/lib/python3.7/site-packages/scipy/optimize/minpack.py:794: OptimizeWarning: Covariance of the parameters could not be estimated\n",
      "  category=OptimizeWarning)\n"
     ]
    },
    {
     "name": "stdout",
     "output_type": "stream",
     "text": [
      "The recommended sample size for a statistical power level of 0.8 is 1081.\n"
     ]
    },
    {
     "name": "stderr",
     "output_type": "stream",
     "text": [
      "/home/bknight/anaconda3/lib/python3.7/site-packages/scipy/optimize/minpack.py:794: OptimizeWarning: Covariance of the parameters could not be estimated\n",
      "  category=OptimizeWarning)\n"
     ]
    },
    {
     "name": "stdout",
     "output_type": "stream",
     "text": [
      "The recommended sample size for a statistical power level of 0.8 is 971.\n"
     ]
    },
    {
     "name": "stderr",
     "output_type": "stream",
     "text": [
      "/home/bknight/anaconda3/lib/python3.7/site-packages/scipy/optimize/minpack.py:794: OptimizeWarning: Covariance of the parameters could not be estimated\n",
      "  category=OptimizeWarning)\n"
     ]
    },
    {
     "name": "stdout",
     "output_type": "stream",
     "text": [
      "The recommended sample size for a statistical power level of 0.8 is 1850.\n"
     ]
    },
    {
     "name": "stderr",
     "output_type": "stream",
     "text": [
      "/home/bknight/anaconda3/lib/python3.7/site-packages/scipy/optimize/minpack.py:794: OptimizeWarning: Covariance of the parameters could not be estimated\n",
      "  category=OptimizeWarning)\n"
     ]
    },
    {
     "name": "stdout",
     "output_type": "stream",
     "text": [
      "The recommended sample size for a statistical power level of 0.8 is 4866.\n"
     ]
    },
    {
     "name": "stderr",
     "output_type": "stream",
     "text": [
      "/home/bknight/anaconda3/lib/python3.7/site-packages/scipy/optimize/minpack.py:794: OptimizeWarning: Covariance of the parameters could not be estimated\n",
      "  category=OptimizeWarning)\n"
     ]
    },
    {
     "name": "stdout",
     "output_type": "stream",
     "text": [
      "The recommended sample size for a statistical power level of 0.8 is 1403.\n"
     ]
    },
    {
     "name": "stderr",
     "output_type": "stream",
     "text": [
      "/home/bknight/anaconda3/lib/python3.7/site-packages/scipy/optimize/minpack.py:794: OptimizeWarning: Covariance of the parameters could not be estimated\n",
      "  category=OptimizeWarning)\n"
     ]
    },
    {
     "name": "stdout",
     "output_type": "stream",
     "text": [
      "The recommended sample size for a statistical power level of 0.8 is 1455.\n"
     ]
    },
    {
     "name": "stderr",
     "output_type": "stream",
     "text": [
      "/home/bknight/anaconda3/lib/python3.7/site-packages/scipy/optimize/minpack.py:794: OptimizeWarning: Covariance of the parameters could not be estimated\n",
      "  category=OptimizeWarning)\n"
     ]
    },
    {
     "name": "stdout",
     "output_type": "stream",
     "text": [
      "The recommended sample size for a statistical power level of 0.8 is 4866.\n"
     ]
    },
    {
     "name": "stderr",
     "output_type": "stream",
     "text": [
      "/home/bknight/anaconda3/lib/python3.7/site-packages/scipy/optimize/minpack.py:794: OptimizeWarning: Covariance of the parameters could not be estimated\n",
      "  category=OptimizeWarning)\n"
     ]
    },
    {
     "name": "stdout",
     "output_type": "stream",
     "text": [
      "The recommended sample size for a statistical power level of 0.8 is 1438.\n"
     ]
    },
    {
     "name": "stderr",
     "output_type": "stream",
     "text": [
      "/home/bknight/anaconda3/lib/python3.7/site-packages/scipy/optimize/minpack.py:794: OptimizeWarning: Covariance of the parameters could not be estimated\n",
      "  category=OptimizeWarning)\n"
     ]
    },
    {
     "name": "stdout",
     "output_type": "stream",
     "text": [
      "The recommended sample size for a statistical power level of 0.8 is 3047.\n"
     ]
    },
    {
     "name": "stderr",
     "output_type": "stream",
     "text": [
      "/home/bknight/anaconda3/lib/python3.7/site-packages/scipy/optimize/minpack.py:794: OptimizeWarning: Covariance of the parameters could not be estimated\n",
      "  category=OptimizeWarning)\n"
     ]
    },
    {
     "name": "stdout",
     "output_type": "stream",
     "text": [
      "The recommended sample size for a statistical power level of 0.8 is 3516.\n"
     ]
    },
    {
     "name": "stderr",
     "output_type": "stream",
     "text": [
      "/home/bknight/anaconda3/lib/python3.7/site-packages/scipy/optimize/minpack.py:794: OptimizeWarning: Covariance of the parameters could not be estimated\n",
      "  category=OptimizeWarning)\n"
     ]
    },
    {
     "name": "stdout",
     "output_type": "stream",
     "text": [
      "The recommended sample size for a statistical power level of 0.8 is 2336.\n"
     ]
    },
    {
     "name": "stderr",
     "output_type": "stream",
     "text": [
      "/home/bknight/anaconda3/lib/python3.7/site-packages/scipy/optimize/minpack.py:794: OptimizeWarning: Covariance of the parameters could not be estimated\n",
      "  category=OptimizeWarning)\n"
     ]
    },
    {
     "name": "stdout",
     "output_type": "stream",
     "text": [
      "The recommended sample size for a statistical power level of 0.8 is 4839.\n"
     ]
    },
    {
     "name": "stderr",
     "output_type": "stream",
     "text": [
      "/home/bknight/anaconda3/lib/python3.7/site-packages/scipy/optimize/minpack.py:794: OptimizeWarning: Covariance of the parameters could not be estimated\n",
      "  category=OptimizeWarning)\n"
     ]
    },
    {
     "name": "stdout",
     "output_type": "stream",
     "text": [
      "The recommended sample size for a statistical power level of 0.8 is 3516.\n"
     ]
    },
    {
     "name": "stderr",
     "output_type": "stream",
     "text": [
      "/home/bknight/anaconda3/lib/python3.7/site-packages/scipy/optimize/minpack.py:794: OptimizeWarning: Covariance of the parameters could not be estimated\n",
      "  category=OptimizeWarning)\n"
     ]
    },
    {
     "name": "stdout",
     "output_type": "stream",
     "text": [
      "The recommended sample size for a statistical power level of 0.8 is 714.\n"
     ]
    },
    {
     "name": "stderr",
     "output_type": "stream",
     "text": [
      "/home/bknight/anaconda3/lib/python3.7/site-packages/scipy/optimize/minpack.py:794: OptimizeWarning: Covariance of the parameters could not be estimated\n",
      "  category=OptimizeWarning)\n"
     ]
    },
    {
     "name": "stdout",
     "output_type": "stream",
     "text": [
      "The recommended sample size for a statistical power level of 0.8 is 5548.\n"
     ]
    },
    {
     "name": "stderr",
     "output_type": "stream",
     "text": [
      "/home/bknight/anaconda3/lib/python3.7/site-packages/scipy/optimize/minpack.py:794: OptimizeWarning: Covariance of the parameters could not be estimated\n",
      "  category=OptimizeWarning)\n"
     ]
    },
    {
     "name": "stdout",
     "output_type": "stream",
     "text": [
      "The recommended sample size for a statistical power level of 0.8 is 5548.\n"
     ]
    },
    {
     "name": "stderr",
     "output_type": "stream",
     "text": [
      "/home/bknight/anaconda3/lib/python3.7/site-packages/scipy/optimize/minpack.py:794: OptimizeWarning: Covariance of the parameters could not be estimated\n",
      "  category=OptimizeWarning)\n"
     ]
    },
    {
     "name": "stdout",
     "output_type": "stream",
     "text": [
      "The recommended sample size for a statistical power level of 0.8 is 1067.\n"
     ]
    },
    {
     "name": "stderr",
     "output_type": "stream",
     "text": [
      "/home/bknight/anaconda3/lib/python3.7/site-packages/scipy/optimize/minpack.py:794: OptimizeWarning: Covariance of the parameters could not be estimated\n",
      "  category=OptimizeWarning)\n"
     ]
    },
    {
     "name": "stdout",
     "output_type": "stream",
     "text": [
      "The recommended sample size for a statistical power level of 0.8 is 1003.\n"
     ]
    },
    {
     "name": "stderr",
     "output_type": "stream",
     "text": [
      "/home/bknight/anaconda3/lib/python3.7/site-packages/scipy/optimize/minpack.py:794: OptimizeWarning: Covariance of the parameters could not be estimated\n",
      "  category=OptimizeWarning)\n"
     ]
    },
    {
     "name": "stdout",
     "output_type": "stream",
     "text": [
      "The recommended sample size for a statistical power level of 0.8 is 8581.\n"
     ]
    },
    {
     "name": "stderr",
     "output_type": "stream",
     "text": [
      "/home/bknight/anaconda3/lib/python3.7/site-packages/scipy/optimize/minpack.py:794: OptimizeWarning: Covariance of the parameters could not be estimated\n",
      "  category=OptimizeWarning)\n"
     ]
    },
    {
     "name": "stdout",
     "output_type": "stream",
     "text": [
      "The recommended sample size for a statistical power level of 0.8 is 5559.\n"
     ]
    },
    {
     "name": "stderr",
     "output_type": "stream",
     "text": [
      "/home/bknight/anaconda3/lib/python3.7/site-packages/scipy/optimize/minpack.py:794: OptimizeWarning: Covariance of the parameters could not be estimated\n",
      "  category=OptimizeWarning)\n"
     ]
    },
    {
     "name": "stdout",
     "output_type": "stream",
     "text": [
      "The recommended sample size for a statistical power level of 0.8 is 2876.\n"
     ]
    },
    {
     "name": "stderr",
     "output_type": "stream",
     "text": [
      "/home/bknight/anaconda3/lib/python3.7/site-packages/scipy/optimize/minpack.py:794: OptimizeWarning: Covariance of the parameters could not be estimated\n",
      "  category=OptimizeWarning)\n"
     ]
    },
    {
     "name": "stdout",
     "output_type": "stream",
     "text": [
      "The recommended sample size for a statistical power level of 0.8 is 2409.\n"
     ]
    },
    {
     "name": "stderr",
     "output_type": "stream",
     "text": [
      "/home/bknight/anaconda3/lib/python3.7/site-packages/scipy/optimize/minpack.py:794: OptimizeWarning: Covariance of the parameters could not be estimated\n",
      "  category=OptimizeWarning)\n"
     ]
    },
    {
     "name": "stdout",
     "output_type": "stream",
     "text": [
      "The recommended sample size for a statistical power level of 0.8 is 5571.\n"
     ]
    },
    {
     "name": "stderr",
     "output_type": "stream",
     "text": [
      "/home/bknight/anaconda3/lib/python3.7/site-packages/scipy/optimize/minpack.py:794: OptimizeWarning: Covariance of the parameters could not be estimated\n",
      "  category=OptimizeWarning)\n"
     ]
    },
    {
     "name": "stdout",
     "output_type": "stream",
     "text": [
      "The recommended sample size for a statistical power level of 0.8 is 9367.\n"
     ]
    },
    {
     "name": "stderr",
     "output_type": "stream",
     "text": [
      "/home/bknight/anaconda3/lib/python3.7/site-packages/scipy/optimize/minpack.py:794: OptimizeWarning: Covariance of the parameters could not be estimated\n",
      "  category=OptimizeWarning)\n"
     ]
    },
    {
     "name": "stdout",
     "output_type": "stream",
     "text": [
      "The recommended sample size for a statistical power level of 0.8 is 2912.\n"
     ]
    },
    {
     "name": "stderr",
     "output_type": "stream",
     "text": [
      "/home/bknight/anaconda3/lib/python3.7/site-packages/scipy/optimize/minpack.py:794: OptimizeWarning: Covariance of the parameters could not be estimated\n",
      "  category=OptimizeWarning)\n"
     ]
    },
    {
     "name": "stdout",
     "output_type": "stream",
     "text": [
      "The recommended sample size for a statistical power level of 0.8 is 1886.\n"
     ]
    },
    {
     "name": "stderr",
     "output_type": "stream",
     "text": [
      "/home/bknight/anaconda3/lib/python3.7/site-packages/scipy/optimize/minpack.py:794: OptimizeWarning: Covariance of the parameters could not be estimated\n",
      "  category=OptimizeWarning)\n"
     ]
    },
    {
     "name": "stdout",
     "output_type": "stream",
     "text": [
      "The recommended sample size for a statistical power level of 0.8 is 1977.\n"
     ]
    },
    {
     "name": "stderr",
     "output_type": "stream",
     "text": [
      "/home/bknight/anaconda3/lib/python3.7/site-packages/scipy/optimize/minpack.py:794: OptimizeWarning: Covariance of the parameters could not be estimated\n",
      "  category=OptimizeWarning)\n"
     ]
    },
    {
     "name": "stdout",
     "output_type": "stream",
     "text": [
      "The recommended sample size for a statistical power level of 0.8 is 2355.\n"
     ]
    },
    {
     "name": "stderr",
     "output_type": "stream",
     "text": [
      "/home/bknight/anaconda3/lib/python3.7/site-packages/scipy/optimize/minpack.py:794: OptimizeWarning: Covariance of the parameters could not be estimated\n",
      "  category=OptimizeWarning)\n"
     ]
    },
    {
     "name": "stdout",
     "output_type": "stream",
     "text": [
      "The recommended sample size for a statistical power level of 0.8 is 4812.\n"
     ]
    },
    {
     "name": "stderr",
     "output_type": "stream",
     "text": [
      "/home/bknight/anaconda3/lib/python3.7/site-packages/scipy/optimize/minpack.py:794: OptimizeWarning: Covariance of the parameters could not be estimated\n",
      "  category=OptimizeWarning)\n"
     ]
    },
    {
     "name": "stdout",
     "output_type": "stream",
     "text": [
      "The recommended sample size for a statistical power level of 0.8 is 7026.\n"
     ]
    },
    {
     "name": "stderr",
     "output_type": "stream",
     "text": [
      "/home/bknight/anaconda3/lib/python3.7/site-packages/scipy/optimize/minpack.py:794: OptimizeWarning: Covariance of the parameters could not be estimated\n",
      "  category=OptimizeWarning)\n"
     ]
    },
    {
     "name": "stdout",
     "output_type": "stream",
     "text": [
      "The recommended sample size for a statistical power level of 0.8 is 4853.\n"
     ]
    },
    {
     "name": "stderr",
     "output_type": "stream",
     "text": [
      "/home/bknight/anaconda3/lib/python3.7/site-packages/scipy/optimize/minpack.py:794: OptimizeWarning: Covariance of the parameters could not be estimated\n",
      "  category=OptimizeWarning)\n"
     ]
    },
    {
     "name": "stdout",
     "output_type": "stream",
     "text": [
      "The recommended sample size for a statistical power level of 0.8 is 6244.\n"
     ]
    },
    {
     "name": "stderr",
     "output_type": "stream",
     "text": [
      "/home/bknight/anaconda3/lib/python3.7/site-packages/scipy/optimize/minpack.py:794: OptimizeWarning: Covariance of the parameters could not be estimated\n",
      "  category=OptimizeWarning)\n"
     ]
    },
    {
     "name": "stdout",
     "output_type": "stream",
     "text": [
      "The recommended sample size for a statistical power level of 0.8 is 1444.\n"
     ]
    },
    {
     "name": "stderr",
     "output_type": "stream",
     "text": [
      "/home/bknight/anaconda3/lib/python3.7/site-packages/scipy/optimize/minpack.py:794: OptimizeWarning: Covariance of the parameters could not be estimated\n",
      "  category=OptimizeWarning)\n"
     ]
    },
    {
     "name": "stdout",
     "output_type": "stream",
     "text": [
      "The recommended sample size for a statistical power level of 0.8 is 4853.\n"
     ]
    },
    {
     "name": "stderr",
     "output_type": "stream",
     "text": [
      "/home/bknight/anaconda3/lib/python3.7/site-packages/scipy/optimize/minpack.py:794: OptimizeWarning: Covariance of the parameters could not be estimated\n",
      "  category=OptimizeWarning)\n"
     ]
    },
    {
     "name": "stdout",
     "output_type": "stream",
     "text": [
      "The recommended sample size for a statistical power level of 0.8 is 4993.\n"
     ]
    },
    {
     "name": "stderr",
     "output_type": "stream",
     "text": [
      "/home/bknight/anaconda3/lib/python3.7/site-packages/scipy/optimize/minpack.py:794: OptimizeWarning: Covariance of the parameters could not be estimated\n",
      "  category=OptimizeWarning)\n"
     ]
    },
    {
     "name": "stdout",
     "output_type": "stream",
     "text": [
      "The recommended sample size for a statistical power level of 0.8 is 700.\n"
     ]
    },
    {
     "name": "stderr",
     "output_type": "stream",
     "text": [
      "/home/bknight/anaconda3/lib/python3.7/site-packages/scipy/optimize/minpack.py:794: OptimizeWarning: Covariance of the parameters could not be estimated\n",
      "  category=OptimizeWarning)\n"
     ]
    },
    {
     "name": "stdout",
     "output_type": "stream",
     "text": [
      "The recommended sample size for a statistical power level of 0.8 is 5712.\n"
     ]
    },
    {
     "name": "stderr",
     "output_type": "stream",
     "text": [
      "/home/bknight/anaconda3/lib/python3.7/site-packages/scipy/optimize/minpack.py:794: OptimizeWarning: Covariance of the parameters could not be estimated\n",
      "  category=OptimizeWarning)\n"
     ]
    },
    {
     "name": "stdout",
     "output_type": "stream",
     "text": [
      "The recommended sample size for a statistical power level of 0.8 is 7801.\n"
     ]
    },
    {
     "name": "stderr",
     "output_type": "stream",
     "text": [
      "/home/bknight/anaconda3/lib/python3.7/site-packages/scipy/optimize/minpack.py:794: OptimizeWarning: Covariance of the parameters could not be estimated\n",
      "  category=OptimizeWarning)\n"
     ]
    },
    {
     "name": "stdout",
     "output_type": "stream",
     "text": [
      "The recommended sample size for a statistical power level of 0.8 is 4839.\n"
     ]
    },
    {
     "name": "stderr",
     "output_type": "stream",
     "text": [
      "/home/bknight/anaconda3/lib/python3.7/site-packages/scipy/optimize/minpack.py:794: OptimizeWarning: Covariance of the parameters could not be estimated\n",
      "  category=OptimizeWarning)\n"
     ]
    },
    {
     "name": "stdout",
     "output_type": "stream",
     "text": [
      "The recommended sample size for a statistical power level of 0.8 is 4993.\n"
     ]
    },
    {
     "name": "stderr",
     "output_type": "stream",
     "text": [
      "/home/bknight/anaconda3/lib/python3.7/site-packages/scipy/optimize/minpack.py:794: OptimizeWarning: Covariance of the parameters could not be estimated\n",
      "  category=OptimizeWarning)\n"
     ]
    },
    {
     "name": "stdout",
     "output_type": "stream",
     "text": [
      "The recommended sample size for a statistical power level of 0.8 is 1420.\n"
     ]
    },
    {
     "name": "stderr",
     "output_type": "stream",
     "text": [
      "/home/bknight/anaconda3/lib/python3.7/site-packages/scipy/optimize/minpack.py:794: OptimizeWarning: Covariance of the parameters could not be estimated\n",
      "  category=OptimizeWarning)\n"
     ]
    },
    {
     "name": "stdout",
     "output_type": "stream",
     "text": [
      "The recommended sample size for a statistical power level of 0.8 is 7804.\n"
     ]
    },
    {
     "name": "stderr",
     "output_type": "stream",
     "text": [
      "/home/bknight/anaconda3/lib/python3.7/site-packages/scipy/optimize/minpack.py:794: OptimizeWarning: Covariance of the parameters could not be estimated\n",
      "  category=OptimizeWarning)\n"
     ]
    },
    {
     "name": "stdout",
     "output_type": "stream",
     "text": [
      "The recommended sample size for a statistical power level of 0.8 is 4812.\n"
     ]
    },
    {
     "name": "stderr",
     "output_type": "stream",
     "text": [
      "/home/bknight/anaconda3/lib/python3.7/site-packages/scipy/optimize/minpack.py:794: OptimizeWarning: Covariance of the parameters could not be estimated\n",
      "  category=OptimizeWarning)\n"
     ]
    },
    {
     "name": "stdout",
     "output_type": "stream",
     "text": [
      "The recommended sample size for a statistical power level of 0.8 is 1032.\n"
     ]
    },
    {
     "name": "stderr",
     "output_type": "stream",
     "text": [
      "/home/bknight/anaconda3/lib/python3.7/site-packages/scipy/optimize/minpack.py:794: OptimizeWarning: Covariance of the parameters could not be estimated\n",
      "  category=OptimizeWarning)\n"
     ]
    },
    {
     "name": "stdout",
     "output_type": "stream",
     "text": [
      "The recommended sample size for a statistical power level of 0.8 is 3549.\n"
     ]
    },
    {
     "name": "stderr",
     "output_type": "stream",
     "text": [
      "/home/bknight/anaconda3/lib/python3.7/site-packages/scipy/optimize/minpack.py:794: OptimizeWarning: Covariance of the parameters could not be estimated\n",
      "  category=OptimizeWarning)\n"
     ]
    },
    {
     "name": "stdout",
     "output_type": "stream",
     "text": [
      "The recommended sample size for a statistical power level of 0.8 is 3532.\n"
     ]
    },
    {
     "name": "stderr",
     "output_type": "stream",
     "text": [
      "/home/bknight/anaconda3/lib/python3.7/site-packages/scipy/optimize/minpack.py:794: OptimizeWarning: Covariance of the parameters could not be estimated\n",
      "  category=OptimizeWarning)\n"
     ]
    },
    {
     "name": "stdout",
     "output_type": "stream",
     "text": [
      "The recommended sample size for a statistical power level of 0.8 is 4129.\n"
     ]
    },
    {
     "name": "stderr",
     "output_type": "stream",
     "text": [
      "/home/bknight/anaconda3/lib/python3.7/site-packages/scipy/optimize/minpack.py:794: OptimizeWarning: Covariance of the parameters could not be estimated\n",
      "  category=OptimizeWarning)\n"
     ]
    },
    {
     "name": "stdout",
     "output_type": "stream",
     "text": [
      "The recommended sample size for a statistical power level of 0.8 is 2947.\n"
     ]
    },
    {
     "name": "stderr",
     "output_type": "stream",
     "text": [
      "/home/bknight/anaconda3/lib/python3.7/site-packages/scipy/optimize/minpack.py:794: OptimizeWarning: Covariance of the parameters could not be estimated\n",
      "  category=OptimizeWarning)\n"
     ]
    },
    {
     "name": "stdout",
     "output_type": "stream",
     "text": [
      "The recommended sample size for a statistical power level of 0.8 is 1386.\n"
     ]
    },
    {
     "name": "stderr",
     "output_type": "stream",
     "text": [
      "/home/bknight/anaconda3/lib/python3.7/site-packages/scipy/optimize/minpack.py:794: OptimizeWarning: Covariance of the parameters could not be estimated\n",
      "  category=OptimizeWarning)\n"
     ]
    },
    {
     "name": "stdout",
     "output_type": "stream",
     "text": [
      "The recommended sample size for a statistical power level of 0.8 is 5559.\n"
     ]
    },
    {
     "name": "stderr",
     "output_type": "stream",
     "text": [
      "/home/bknight/anaconda3/lib/python3.7/site-packages/scipy/optimize/minpack.py:794: OptimizeWarning: Covariance of the parameters could not be estimated\n",
      "  category=OptimizeWarning)\n"
     ]
    },
    {
     "name": "stdout",
     "output_type": "stream",
     "text": [
      "The recommended sample size for a statistical power level of 0.8 is 7033.\n"
     ]
    },
    {
     "name": "stderr",
     "output_type": "stream",
     "text": [
      "/home/bknight/anaconda3/lib/python3.7/site-packages/scipy/optimize/minpack.py:794: OptimizeWarning: Covariance of the parameters could not be estimated\n",
      "  category=OptimizeWarning)\n"
     ]
    },
    {
     "name": "stdout",
     "output_type": "stream",
     "text": [
      "The recommended sample size for a statistical power level of 0.8 is 5559.\n"
     ]
    },
    {
     "name": "stderr",
     "output_type": "stream",
     "text": [
      "/home/bknight/anaconda3/lib/python3.7/site-packages/scipy/optimize/minpack.py:794: OptimizeWarning: Covariance of the parameters could not be estimated\n",
      "  category=OptimizeWarning)\n"
     ]
    },
    {
     "name": "stdout",
     "output_type": "stream",
     "text": [
      "The recommended sample size for a statistical power level of 0.8 is 2930.\n"
     ]
    },
    {
     "name": "stderr",
     "output_type": "stream",
     "text": [
      "/home/bknight/anaconda3/lib/python3.7/site-packages/scipy/optimize/minpack.py:794: OptimizeWarning: Covariance of the parameters could not be estimated\n",
      "  category=OptimizeWarning)\n"
     ]
    },
    {
     "name": "stdout",
     "output_type": "stream",
     "text": [
      "The recommended sample size for a statistical power level of 0.8 is 5548.\n"
     ]
    },
    {
     "name": "stderr",
     "output_type": "stream",
     "text": [
      "/home/bknight/anaconda3/lib/python3.7/site-packages/scipy/optimize/minpack.py:794: OptimizeWarning: Covariance of the parameters could not be estimated\n",
      "  category=OptimizeWarning)\n"
     ]
    },
    {
     "name": "stdout",
     "output_type": "stream",
     "text": [
      "The recommended sample size for a statistical power level of 0.8 is 289.\n"
     ]
    },
    {
     "name": "stderr",
     "output_type": "stream",
     "text": [
      "/home/bknight/anaconda3/lib/python3.7/site-packages/scipy/optimize/minpack.py:794: OptimizeWarning: Covariance of the parameters could not be estimated\n",
      "  category=OptimizeWarning)\n"
     ]
    },
    {
     "name": "stdout",
     "output_type": "stream",
     "text": [
      "The recommended sample size for a statistical power level of 0.8 is 3499.\n"
     ]
    },
    {
     "name": "stderr",
     "output_type": "stream",
     "text": [
      "/home/bknight/anaconda3/lib/python3.7/site-packages/scipy/optimize/minpack.py:794: OptimizeWarning: Covariance of the parameters could not be estimated\n",
      "  category=OptimizeWarning)\n"
     ]
    },
    {
     "name": "stdout",
     "output_type": "stream",
     "text": [
      "The recommended sample size for a statistical power level of 0.8 is 5548.\n"
     ]
    },
    {
     "name": "stderr",
     "output_type": "stream",
     "text": [
      "/home/bknight/anaconda3/lib/python3.7/site-packages/scipy/optimize/minpack.py:794: OptimizeWarning: Covariance of the parameters could not be estimated\n",
      "  category=OptimizeWarning)\n"
     ]
    },
    {
     "name": "stdout",
     "output_type": "stream",
     "text": [
      "The recommended sample size for a statistical power level of 0.8 is 4145.\n"
     ]
    },
    {
     "name": "stderr",
     "output_type": "stream",
     "text": [
      "/home/bknight/anaconda3/lib/python3.7/site-packages/scipy/optimize/minpack.py:794: OptimizeWarning: Covariance of the parameters could not be estimated\n",
      "  category=OptimizeWarning)\n"
     ]
    },
    {
     "name": "stdout",
     "output_type": "stream",
     "text": [
      "The recommended sample size for a statistical power level of 0.8 is 2355.\n"
     ]
    },
    {
     "name": "stderr",
     "output_type": "stream",
     "text": [
      "/home/bknight/anaconda3/lib/python3.7/site-packages/scipy/optimize/minpack.py:794: OptimizeWarning: Covariance of the parameters could not be estimated\n",
      "  category=OptimizeWarning)\n"
     ]
    },
    {
     "name": "stdout",
     "output_type": "stream",
     "text": [
      "The recommended sample size for a statistical power level of 0.8 is 8579.\n"
     ]
    },
    {
     "name": "stderr",
     "output_type": "stream",
     "text": [
      "/home/bknight/anaconda3/lib/python3.7/site-packages/scipy/optimize/minpack.py:794: OptimizeWarning: Covariance of the parameters could not be estimated\n",
      "  category=OptimizeWarning)\n"
     ]
    },
    {
     "name": "stdout",
     "output_type": "stream",
     "text": [
      "The recommended sample size for a statistical power level of 0.8 is 7039.\n"
     ]
    },
    {
     "name": "stderr",
     "output_type": "stream",
     "text": [
      "/home/bknight/anaconda3/lib/python3.7/site-packages/scipy/optimize/minpack.py:794: OptimizeWarning: Covariance of the parameters could not be estimated\n",
      "  category=OptimizeWarning)\n"
     ]
    },
    {
     "name": "stdout",
     "output_type": "stream",
     "text": [
      "The recommended sample size for a statistical power level of 0.8 is 4160.\n"
     ]
    },
    {
     "name": "stderr",
     "output_type": "stream",
     "text": [
      "/home/bknight/anaconda3/lib/python3.7/site-packages/scipy/optimize/minpack.py:794: OptimizeWarning: Covariance of the parameters could not be estimated\n",
      "  category=OptimizeWarning)\n"
     ]
    },
    {
     "name": "stdout",
     "output_type": "stream",
     "text": [
      "The recommended sample size for a statistical power level of 0.8 is 6281.\n"
     ]
    },
    {
     "name": "stderr",
     "output_type": "stream",
     "text": [
      "/home/bknight/anaconda3/lib/python3.7/site-packages/scipy/optimize/minpack.py:794: OptimizeWarning: Covariance of the parameters could not be estimated\n",
      "  category=OptimizeWarning)\n"
     ]
    },
    {
     "name": "stdout",
     "output_type": "stream",
     "text": [
      "The recommended sample size for a statistical power level of 0.8 is 1438.\n"
     ]
    },
    {
     "name": "stderr",
     "output_type": "stream",
     "text": [
      "/home/bknight/anaconda3/lib/python3.7/site-packages/scipy/optimize/minpack.py:794: OptimizeWarning: Covariance of the parameters could not be estimated\n",
      "  category=OptimizeWarning)\n"
     ]
    },
    {
     "name": "stdout",
     "output_type": "stream",
     "text": [
      "The recommended sample size for a statistical power level of 0.8 is 3516.\n"
     ]
    },
    {
     "name": "stderr",
     "output_type": "stream",
     "text": [
      "/home/bknight/anaconda3/lib/python3.7/site-packages/scipy/optimize/minpack.py:794: OptimizeWarning: Covariance of the parameters could not be estimated\n",
      "  category=OptimizeWarning)\n"
     ]
    },
    {
     "name": "stdout",
     "output_type": "stream",
     "text": [
      "The recommended sample size for a statistical power level of 0.8 is 3465.\n"
     ]
    },
    {
     "name": "stderr",
     "output_type": "stream",
     "text": [
      "/home/bknight/anaconda3/lib/python3.7/site-packages/scipy/optimize/minpack.py:794: OptimizeWarning: Covariance of the parameters could not be estimated\n",
      "  category=OptimizeWarning)\n"
     ]
    },
    {
     "name": "stdout",
     "output_type": "stream",
     "text": [
      "The recommended sample size for a statistical power level of 0.8 is 3516.\n"
     ]
    },
    {
     "name": "stderr",
     "output_type": "stream",
     "text": [
      "/home/bknight/anaconda3/lib/python3.7/site-packages/scipy/optimize/minpack.py:794: OptimizeWarning: Covariance of the parameters could not be estimated\n",
      "  category=OptimizeWarning)\n"
     ]
    },
    {
     "name": "stdout",
     "output_type": "stream",
     "text": [
      "The recommended sample size for a statistical power level of 0.8 is 4826.\n"
     ]
    },
    {
     "name": "stderr",
     "output_type": "stream",
     "text": [
      "/home/bknight/anaconda3/lib/python3.7/site-packages/scipy/optimize/minpack.py:794: OptimizeWarning: Covariance of the parameters could not be estimated\n",
      "  category=OptimizeWarning)\n"
     ]
    },
    {
     "name": "stdout",
     "output_type": "stream",
     "text": [
      "The recommended sample size for a statistical power level of 0.8 is 6272.\n"
     ]
    },
    {
     "name": "stderr",
     "output_type": "stream",
     "text": [
      "/home/bknight/anaconda3/lib/python3.7/site-packages/scipy/optimize/minpack.py:794: OptimizeWarning: Covariance of the parameters could not be estimated\n",
      "  category=OptimizeWarning)\n"
     ]
    },
    {
     "name": "stdout",
     "output_type": "stream",
     "text": [
      "The recommended sample size for a statistical power level of 0.8 is 6281.\n"
     ]
    },
    {
     "name": "stderr",
     "output_type": "stream",
     "text": [
      "/home/bknight/anaconda3/lib/python3.7/site-packages/scipy/optimize/minpack.py:794: OptimizeWarning: Covariance of the parameters could not be estimated\n",
      "  category=OptimizeWarning)\n"
     ]
    },
    {
     "name": "stdout",
     "output_type": "stream",
     "text": [
      "The recommended sample size for a statistical power level of 0.8 is 7801.\n"
     ]
    },
    {
     "name": "stderr",
     "output_type": "stream",
     "text": [
      "/home/bknight/anaconda3/lib/python3.7/site-packages/scipy/optimize/minpack.py:794: OptimizeWarning: Covariance of the parameters could not be estimated\n",
      "  category=OptimizeWarning)\n"
     ]
    },
    {
     "name": "stdout",
     "output_type": "stream",
     "text": [
      "The recommended sample size for a statistical power level of 0.8 is 13337.\n"
     ]
    },
    {
     "name": "stderr",
     "output_type": "stream",
     "text": [
      "/home/bknight/anaconda3/lib/python3.7/site-packages/scipy/optimize/minpack.py:794: OptimizeWarning: Covariance of the parameters could not be estimated\n",
      "  category=OptimizeWarning)\n"
     ]
    },
    {
     "name": "stdout",
     "output_type": "stream",
     "text": [
      "The recommended sample size for a statistical power level of 0.8 is 4826.\n"
     ]
    },
    {
     "name": "stderr",
     "output_type": "stream",
     "text": [
      "/home/bknight/anaconda3/lib/python3.7/site-packages/scipy/optimize/minpack.py:794: OptimizeWarning: Covariance of the parameters could not be estimated\n",
      "  category=OptimizeWarning)\n"
     ]
    },
    {
     "name": "stdout",
     "output_type": "stream",
     "text": [
      "The recommended sample size for a statistical power level of 0.8 is 4839.\n"
     ]
    },
    {
     "name": "stderr",
     "output_type": "stream",
     "text": [
      "/home/bknight/anaconda3/lib/python3.7/site-packages/scipy/optimize/minpack.py:794: OptimizeWarning: Covariance of the parameters could not be estimated\n",
      "  category=OptimizeWarning)\n"
     ]
    },
    {
     "name": "stdout",
     "output_type": "stream",
     "text": [
      "The recommended sample size for a statistical power level of 0.8 is 3532.\n"
     ]
    },
    {
     "name": "stderr",
     "output_type": "stream",
     "text": [
      "/home/bknight/anaconda3/lib/python3.7/site-packages/scipy/optimize/minpack.py:794: OptimizeWarning: Covariance of the parameters could not be estimated\n",
      "  category=OptimizeWarning)\n"
     ]
    },
    {
     "name": "stdout",
     "output_type": "stream",
     "text": [
      "The recommended sample size for a statistical power level of 0.8 is 9363.\n"
     ]
    },
    {
     "name": "stderr",
     "output_type": "stream",
     "text": [
      "/home/bknight/anaconda3/lib/python3.7/site-packages/scipy/optimize/minpack.py:794: OptimizeWarning: Covariance of the parameters could not be estimated\n",
      "  category=OptimizeWarning)\n"
     ]
    },
    {
     "name": "stdout",
     "output_type": "stream",
     "text": [
      "The recommended sample size for a statistical power level of 0.8 is 1019.\n"
     ]
    },
    {
     "name": "stderr",
     "output_type": "stream",
     "text": [
      "/home/bknight/anaconda3/lib/python3.7/site-packages/scipy/optimize/minpack.py:794: OptimizeWarning: Covariance of the parameters could not be estimated\n",
      "  category=OptimizeWarning)\n"
     ]
    },
    {
     "name": "stdout",
     "output_type": "stream",
     "text": [
      "The recommended sample size for a statistical power level of 0.8 is 2876.\n"
     ]
    },
    {
     "name": "stderr",
     "output_type": "stream",
     "text": [
      "/home/bknight/anaconda3/lib/python3.7/site-packages/scipy/optimize/minpack.py:794: OptimizeWarning: Covariance of the parameters could not be estimated\n",
      "  category=OptimizeWarning)\n"
     ]
    },
    {
     "name": "stdout",
     "output_type": "stream",
     "text": [
      "The recommended sample size for a statistical power level of 0.8 is 2336.\n"
     ]
    },
    {
     "name": "stderr",
     "output_type": "stream",
     "text": [
      "/home/bknight/anaconda3/lib/python3.7/site-packages/scipy/optimize/minpack.py:794: OptimizeWarning: Covariance of the parameters could not be estimated\n",
      "  category=OptimizeWarning)\n"
     ]
    },
    {
     "name": "stdout",
     "output_type": "stream",
     "text": [
      "The recommended sample size for a statistical power level of 0.8 is 3012.\n"
     ]
    },
    {
     "name": "stderr",
     "output_type": "stream",
     "text": [
      "/home/bknight/anaconda3/lib/python3.7/site-packages/scipy/optimize/minpack.py:794: OptimizeWarning: Covariance of the parameters could not be estimated\n",
      "  category=OptimizeWarning)\n"
     ]
    },
    {
     "name": "stdout",
     "output_type": "stream",
     "text": [
      "The recommended sample size for a statistical power level of 0.8 is 1886.\n"
     ]
    },
    {
     "name": "stderr",
     "output_type": "stream",
     "text": [
      "/home/bknight/anaconda3/lib/python3.7/site-packages/scipy/optimize/minpack.py:794: OptimizeWarning: Covariance of the parameters could not be estimated\n",
      "  category=OptimizeWarning)\n"
     ]
    },
    {
     "name": "stdout",
     "output_type": "stream",
     "text": [
      "The recommended sample size for a statistical power level of 0.8 is 2912.\n"
     ]
    },
    {
     "name": "stderr",
     "output_type": "stream",
     "text": [
      "/home/bknight/anaconda3/lib/python3.7/site-packages/scipy/optimize/minpack.py:794: OptimizeWarning: Covariance of the parameters could not be estimated\n",
      "  category=OptimizeWarning)\n"
     ]
    },
    {
     "name": "stdout",
     "output_type": "stream",
     "text": [
      "The recommended sample size for a statistical power level of 0.8 is 2409.\n"
     ]
    },
    {
     "name": "stderr",
     "output_type": "stream",
     "text": [
      "/home/bknight/anaconda3/lib/python3.7/site-packages/scipy/optimize/minpack.py:794: OptimizeWarning: Covariance of the parameters could not be estimated\n",
      "  category=OptimizeWarning)\n"
     ]
    },
    {
     "name": "stdout",
     "output_type": "stream",
     "text": [
      "The recommended sample size for a statistical power level of 0.8 is 8582.\n"
     ]
    },
    {
     "name": "stderr",
     "output_type": "stream",
     "text": [
      "/home/bknight/anaconda3/lib/python3.7/site-packages/scipy/optimize/minpack.py:794: OptimizeWarning: Covariance of the parameters could not be estimated\n",
      "  category=OptimizeWarning)\n"
     ]
    },
    {
     "name": "stdout",
     "output_type": "stream",
     "text": [
      "The recommended sample size for a statistical power level of 0.8 is 8583.\n"
     ]
    },
    {
     "name": "stderr",
     "output_type": "stream",
     "text": [
      "/home/bknight/anaconda3/lib/python3.7/site-packages/scipy/optimize/minpack.py:794: OptimizeWarning: Covariance of the parameters could not be estimated\n",
      "  category=OptimizeWarning)\n"
     ]
    },
    {
     "name": "stdout",
     "output_type": "stream",
     "text": [
      "The recommended sample size for a statistical power level of 0.8 is 1003.\n"
     ]
    },
    {
     "name": "stderr",
     "output_type": "stream",
     "text": [
      "/home/bknight/anaconda3/lib/python3.7/site-packages/scipy/optimize/minpack.py:794: OptimizeWarning: Covariance of the parameters could not be estimated\n",
      "  category=OptimizeWarning)\n"
     ]
    },
    {
     "name": "stdout",
     "output_type": "stream",
     "text": [
      "The recommended sample size for a statistical power level of 0.8 is 6290.\n"
     ]
    },
    {
     "name": "stderr",
     "output_type": "stream",
     "text": [
      "/home/bknight/anaconda3/lib/python3.7/site-packages/scipy/optimize/minpack.py:794: OptimizeWarning: Covariance of the parameters could not be estimated\n",
      "  category=OptimizeWarning)\n"
     ]
    },
    {
     "name": "stdout",
     "output_type": "stream",
     "text": [
      "The recommended sample size for a statistical power level of 0.8 is 5536.\n"
     ]
    },
    {
     "name": "stderr",
     "output_type": "stream",
     "text": [
      "/home/bknight/anaconda3/lib/python3.7/site-packages/scipy/optimize/minpack.py:794: OptimizeWarning: Covariance of the parameters could not be estimated\n",
      "  category=OptimizeWarning)\n"
     ]
    },
    {
     "name": "stdout",
     "output_type": "stream",
     "text": [
      "The recommended sample size for a statistical power level of 0.8 is 1850.\n"
     ]
    },
    {
     "name": "stderr",
     "output_type": "stream",
     "text": [
      "/home/bknight/anaconda3/lib/python3.7/site-packages/scipy/optimize/minpack.py:794: OptimizeWarning: Covariance of the parameters could not be estimated\n",
      "  category=OptimizeWarning)\n"
     ]
    },
    {
     "name": "stdout",
     "output_type": "stream",
     "text": [
      "The recommended sample size for a statistical power level of 0.8 is 2336.\n"
     ]
    },
    {
     "name": "stderr",
     "output_type": "stream",
     "text": [
      "/home/bknight/anaconda3/lib/python3.7/site-packages/scipy/optimize/minpack.py:794: OptimizeWarning: Covariance of the parameters could not be estimated\n",
      "  category=OptimizeWarning)\n"
     ]
    },
    {
     "name": "stdout",
     "output_type": "stream",
     "text": [
      "The recommended sample size for a statistical power level of 0.8 is 6290.\n"
     ]
    },
    {
     "name": "stderr",
     "output_type": "stream",
     "text": [
      "/home/bknight/anaconda3/lib/python3.7/site-packages/scipy/optimize/minpack.py:794: OptimizeWarning: Covariance of the parameters could not be estimated\n",
      "  category=OptimizeWarning)\n"
     ]
    },
    {
     "name": "stdout",
     "output_type": "stream",
     "text": [
      "The recommended sample size for a statistical power level of 0.8 is 4145.\n"
     ]
    },
    {
     "name": "stderr",
     "output_type": "stream",
     "text": [
      "/home/bknight/anaconda3/lib/python3.7/site-packages/scipy/optimize/minpack.py:794: OptimizeWarning: Covariance of the parameters could not be estimated\n",
      "  category=OptimizeWarning)\n"
     ]
    },
    {
     "name": "stdout",
     "output_type": "stream",
     "text": [
      "The recommended sample size for a statistical power level of 0.8 is 2894.\n"
     ]
    },
    {
     "name": "stderr",
     "output_type": "stream",
     "text": [
      "/home/bknight/anaconda3/lib/python3.7/site-packages/scipy/optimize/minpack.py:794: OptimizeWarning: Covariance of the parameters could not be estimated\n",
      "  category=OptimizeWarning)\n"
     ]
    },
    {
     "name": "stdout",
     "output_type": "stream",
     "text": [
      "The recommended sample size for a statistical power level of 0.8 is 1886.\n"
     ]
    },
    {
     "name": "stderr",
     "output_type": "stream",
     "text": [
      "/home/bknight/anaconda3/lib/python3.7/site-packages/scipy/optimize/minpack.py:794: OptimizeWarning: Covariance of the parameters could not be estimated\n",
      "  category=OptimizeWarning)\n"
     ]
    },
    {
     "name": "stdout",
     "output_type": "stream",
     "text": [
      "The recommended sample size for a statistical power level of 0.8 is 2373.\n",
      "results_sd_3_n_1000 complete.\n"
     ]
    },
    {
     "data": {
      "text/plain": [
       "<Figure size 432x288 with 0 Axes>"
      ]
     },
     "metadata": {},
     "output_type": "display_data"
    }
   ],
   "source": [
    "results_sd_3_n_1000 = infer_power([50000, 70000, 90000, 110000, 130000], \n",
    "                                   1000, 100, 0.05, 0.8, 'data_c_13000_mde_01.csv')\n",
    "mu         = results_sd_3_n_1000['Error'].mean()\n",
    "sigma      = results_sd_3_n_1000['Error'].std()\n",
    "iterations = results_sd_3_n_1000['Iterations'].unique()[0]\n",
    "x = np.linspace(mu - 3*sigma, mu + 3*sigma, 100)\n",
    "plt.plot(x, stats.norm.pdf(x, mu, sigma))\n",
    "plt.axvline(x=0, color = 'red', alpha=0.4)\n",
    "plt.xlim(-0.1,1.5)\n",
    "plt.ylim(0.0,2)\n",
    "bbox = dict(boxstyle=\"round\", fc=\"0.9\")\n",
    "plt.annotate('Mean Error  = {} \\n   Error Std. = {} \\n   Iterations = {}'.format(round(mu,2), \n",
    "                                                                                 round(sigma,2),\n",
    "                                                                                 iterations),\n",
    "            (5, 0), xytext=(257, 200),\n",
    "            xycoords='figure pixels',\n",
    "            textcoords='offset points',\n",
    "            bbox=bbox)\n",
    "# plt.show()\n",
    "plt.savefig('50k_70k_90k_110k_130k_n1000.png')\n",
    "plt.clf()"
   ]
  },
  {
   "cell_type": "code",
   "execution_count": null,
   "metadata": {},
   "outputs": [
    {
     "name": "stdout",
     "output_type": "stream",
     "text": [
      "139793 observations read into Python.\n"
     ]
    },
    {
     "name": "stderr",
     "output_type": "stream",
     "text": [
      "/home/bknight/anaconda3/lib/python3.7/site-packages/scipy/optimize/minpack.py:794: OptimizeWarning: Covariance of the parameters could not be estimated\n",
      "  category=OptimizeWarning)\n"
     ]
    },
    {
     "name": "stdout",
     "output_type": "stream",
     "text": [
      "The recommended sample size for a statistical power level of 0.8 is 6276.\n"
     ]
    },
    {
     "name": "stderr",
     "output_type": "stream",
     "text": [
      "/home/bknight/anaconda3/lib/python3.7/site-packages/scipy/optimize/minpack.py:794: OptimizeWarning: Covariance of the parameters could not be estimated\n",
      "  category=OptimizeWarning)\n"
     ]
    },
    {
     "name": "stdout",
     "output_type": "stream",
     "text": [
      "The recommended sample size for a statistical power level of 0.8 is 6852.\n"
     ]
    },
    {
     "name": "stderr",
     "output_type": "stream",
     "text": [
      "/home/bknight/anaconda3/lib/python3.7/site-packages/scipy/optimize/minpack.py:794: OptimizeWarning: Covariance of the parameters could not be estimated\n",
      "  category=OptimizeWarning)\n"
     ]
    },
    {
     "name": "stdout",
     "output_type": "stream",
     "text": [
      "The recommended sample size for a statistical power level of 0.8 is 5911.\n"
     ]
    },
    {
     "name": "stderr",
     "output_type": "stream",
     "text": [
      "/home/bknight/anaconda3/lib/python3.7/site-packages/scipy/optimize/minpack.py:794: OptimizeWarning: Covariance of the parameters could not be estimated\n",
      "  category=OptimizeWarning)\n"
     ]
    },
    {
     "name": "stdout",
     "output_type": "stream",
     "text": [
      "The recommended sample size for a statistical power level of 0.8 is 5721.\n"
     ]
    },
    {
     "name": "stderr",
     "output_type": "stream",
     "text": [
      "/home/bknight/anaconda3/lib/python3.7/site-packages/scipy/optimize/minpack.py:794: OptimizeWarning: Covariance of the parameters could not be estimated\n",
      "  category=OptimizeWarning)\n"
     ]
    },
    {
     "name": "stdout",
     "output_type": "stream",
     "text": [
      "The recommended sample size for a statistical power level of 0.8 is 4344.\n"
     ]
    },
    {
     "name": "stderr",
     "output_type": "stream",
     "text": [
      "/home/bknight/anaconda3/lib/python3.7/site-packages/scipy/optimize/minpack.py:794: OptimizeWarning: Covariance of the parameters could not be estimated\n",
      "  category=OptimizeWarning)\n"
     ]
    },
    {
     "name": "stdout",
     "output_type": "stream",
     "text": [
      "The recommended sample size for a statistical power level of 0.8 is 4707.\n"
     ]
    },
    {
     "name": "stderr",
     "output_type": "stream",
     "text": [
      "/home/bknight/anaconda3/lib/python3.7/site-packages/scipy/optimize/minpack.py:794: OptimizeWarning: Covariance of the parameters could not be estimated\n",
      "  category=OptimizeWarning)\n"
     ]
    },
    {
     "name": "stdout",
     "output_type": "stream",
     "text": [
      "The recommended sample size for a statistical power level of 0.8 is 3226.\n"
     ]
    },
    {
     "name": "stderr",
     "output_type": "stream",
     "text": [
      "/home/bknight/anaconda3/lib/python3.7/site-packages/scipy/optimize/minpack.py:794: OptimizeWarning: Covariance of the parameters could not be estimated\n",
      "  category=OptimizeWarning)\n"
     ]
    },
    {
     "name": "stdout",
     "output_type": "stream",
     "text": [
      "The recommended sample size for a statistical power level of 0.8 is 4670.\n"
     ]
    },
    {
     "name": "stderr",
     "output_type": "stream",
     "text": [
      "/home/bknight/anaconda3/lib/python3.7/site-packages/scipy/optimize/minpack.py:794: OptimizeWarning: Covariance of the parameters could not be estimated\n",
      "  category=OptimizeWarning)\n"
     ]
    },
    {
     "name": "stdout",
     "output_type": "stream",
     "text": [
      "The recommended sample size for a statistical power level of 0.8 is 1881.\n"
     ]
    },
    {
     "name": "stderr",
     "output_type": "stream",
     "text": [
      "/home/bknight/anaconda3/lib/python3.7/site-packages/scipy/optimize/minpack.py:794: OptimizeWarning: Covariance of the parameters could not be estimated\n",
      "  category=OptimizeWarning)\n"
     ]
    },
    {
     "name": "stdout",
     "output_type": "stream",
     "text": [
      "The recommended sample size for a statistical power level of 0.8 is 3837.\n"
     ]
    },
    {
     "name": "stderr",
     "output_type": "stream",
     "text": [
      "/home/bknight/anaconda3/lib/python3.7/site-packages/scipy/optimize/minpack.py:794: OptimizeWarning: Covariance of the parameters could not be estimated\n",
      "  category=OptimizeWarning)\n"
     ]
    },
    {
     "name": "stdout",
     "output_type": "stream",
     "text": [
      "The recommended sample size for a statistical power level of 0.8 is 4529.\n"
     ]
    },
    {
     "name": "stderr",
     "output_type": "stream",
     "text": [
      "/home/bknight/anaconda3/lib/python3.7/site-packages/scipy/optimize/minpack.py:794: OptimizeWarning: Covariance of the parameters could not be estimated\n",
      "  category=OptimizeWarning)\n"
     ]
    },
    {
     "name": "stdout",
     "output_type": "stream",
     "text": [
      "The recommended sample size for a statistical power level of 0.8 is 3813.\n"
     ]
    },
    {
     "name": "stderr",
     "output_type": "stream",
     "text": [
      "/home/bknight/anaconda3/lib/python3.7/site-packages/scipy/optimize/minpack.py:794: OptimizeWarning: Covariance of the parameters could not be estimated\n",
      "  category=OptimizeWarning)\n"
     ]
    },
    {
     "name": "stdout",
     "output_type": "stream",
     "text": [
      "The recommended sample size for a statistical power level of 0.8 is 4385.\n"
     ]
    },
    {
     "name": "stderr",
     "output_type": "stream",
     "text": [
      "/home/bknight/anaconda3/lib/python3.7/site-packages/scipy/optimize/minpack.py:794: OptimizeWarning: Covariance of the parameters could not be estimated\n",
      "  category=OptimizeWarning)\n"
     ]
    },
    {
     "name": "stdout",
     "output_type": "stream",
     "text": [
      "The recommended sample size for a statistical power level of 0.8 is 6285.\n"
     ]
    },
    {
     "name": "stderr",
     "output_type": "stream",
     "text": [
      "/home/bknight/anaconda3/lib/python3.7/site-packages/scipy/optimize/minpack.py:794: OptimizeWarning: Covariance of the parameters could not be estimated\n",
      "  category=OptimizeWarning)\n"
     ]
    },
    {
     "name": "stdout",
     "output_type": "stream",
     "text": [
      "The recommended sample size for a statistical power level of 0.8 is 5817.\n"
     ]
    },
    {
     "name": "stderr",
     "output_type": "stream",
     "text": [
      "/home/bknight/anaconda3/lib/python3.7/site-packages/scipy/optimize/minpack.py:794: OptimizeWarning: Covariance of the parameters could not be estimated\n",
      "  category=OptimizeWarning)\n"
     ]
    },
    {
     "name": "stdout",
     "output_type": "stream",
     "text": [
      "The recommended sample size for a statistical power level of 0.8 is 4846.\n"
     ]
    },
    {
     "name": "stderr",
     "output_type": "stream",
     "text": [
      "/home/bknight/anaconda3/lib/python3.7/site-packages/scipy/optimize/minpack.py:794: OptimizeWarning: Covariance of the parameters could not be estimated\n",
      "  category=OptimizeWarning)\n"
     ]
    },
    {
     "name": "stdout",
     "output_type": "stream",
     "text": [
      "The recommended sample size for a statistical power level of 0.8 is 2091.\n"
     ]
    },
    {
     "name": "stderr",
     "output_type": "stream",
     "text": [
      "/home/bknight/anaconda3/lib/python3.7/site-packages/scipy/optimize/minpack.py:794: OptimizeWarning: Covariance of the parameters could not be estimated\n",
      "  category=OptimizeWarning)\n"
     ]
    },
    {
     "name": "stdout",
     "output_type": "stream",
     "text": [
      "The recommended sample size for a statistical power level of 0.8 is 5551.\n"
     ]
    },
    {
     "name": "stderr",
     "output_type": "stream",
     "text": [
      "/home/bknight/anaconda3/lib/python3.7/site-packages/scipy/optimize/minpack.py:794: OptimizeWarning: Covariance of the parameters could not be estimated\n",
      "  category=OptimizeWarning)\n"
     ]
    },
    {
     "name": "stdout",
     "output_type": "stream",
     "text": [
      "The recommended sample size for a statistical power level of 0.8 is 5371.\n"
     ]
    },
    {
     "name": "stderr",
     "output_type": "stream",
     "text": [
      "/home/bknight/anaconda3/lib/python3.7/site-packages/scipy/optimize/minpack.py:794: OptimizeWarning: Covariance of the parameters could not be estimated\n",
      "  category=OptimizeWarning)\n"
     ]
    },
    {
     "name": "stdout",
     "output_type": "stream",
     "text": [
      "The recommended sample size for a statistical power level of 0.8 is 3239.\n"
     ]
    },
    {
     "name": "stderr",
     "output_type": "stream",
     "text": [
      "/home/bknight/anaconda3/lib/python3.7/site-packages/scipy/optimize/minpack.py:794: OptimizeWarning: Covariance of the parameters could not be estimated\n",
      "  category=OptimizeWarning)\n"
     ]
    },
    {
     "name": "stdout",
     "output_type": "stream",
     "text": [
      "The recommended sample size for a statistical power level of 0.8 is 2373.\n"
     ]
    },
    {
     "name": "stderr",
     "output_type": "stream",
     "text": [
      "/home/bknight/anaconda3/lib/python3.7/site-packages/scipy/optimize/minpack.py:794: OptimizeWarning: Covariance of the parameters could not be estimated\n",
      "  category=OptimizeWarning)\n"
     ]
    },
    {
     "name": "stdout",
     "output_type": "stream",
     "text": [
      "The recommended sample size for a statistical power level of 0.8 is 5951.\n"
     ]
    },
    {
     "name": "stderr",
     "output_type": "stream",
     "text": [
      "/home/bknight/anaconda3/lib/python3.7/site-packages/scipy/optimize/minpack.py:794: OptimizeWarning: Covariance of the parameters could not be estimated\n",
      "  category=OptimizeWarning)\n"
     ]
    },
    {
     "name": "stdout",
     "output_type": "stream",
     "text": [
      "The recommended sample size for a statistical power level of 0.8 is 4853.\n"
     ]
    },
    {
     "name": "stderr",
     "output_type": "stream",
     "text": [
      "/home/bknight/anaconda3/lib/python3.7/site-packages/scipy/optimize/minpack.py:794: OptimizeWarning: Covariance of the parameters could not be estimated\n",
      "  category=OptimizeWarning)\n"
     ]
    },
    {
     "name": "stdout",
     "output_type": "stream",
     "text": [
      "The recommended sample size for a statistical power level of 0.8 is 5365.\n"
     ]
    },
    {
     "name": "stderr",
     "output_type": "stream",
     "text": [
      "/home/bknight/anaconda3/lib/python3.7/site-packages/scipy/optimize/minpack.py:794: OptimizeWarning: Covariance of the parameters could not be estimated\n",
      "  category=OptimizeWarning)\n"
     ]
    },
    {
     "name": "stdout",
     "output_type": "stream",
     "text": [
      "The recommended sample size for a statistical power level of 0.8 is 4485.\n"
     ]
    },
    {
     "name": "stderr",
     "output_type": "stream",
     "text": [
      "/home/bknight/anaconda3/lib/python3.7/site-packages/scipy/optimize/minpack.py:794: OptimizeWarning: Covariance of the parameters could not be estimated\n",
      "  category=OptimizeWarning)\n"
     ]
    },
    {
     "name": "stdout",
     "output_type": "stream",
     "text": [
      "The recommended sample size for a statistical power level of 0.8 is 3234.\n"
     ]
    },
    {
     "name": "stderr",
     "output_type": "stream",
     "text": [
      "/home/bknight/anaconda3/lib/python3.7/site-packages/scipy/optimize/minpack.py:794: OptimizeWarning: Covariance of the parameters could not be estimated\n",
      "  category=OptimizeWarning)\n"
     ]
    },
    {
     "name": "stdout",
     "output_type": "stream",
     "text": [
      "The recommended sample size for a statistical power level of 0.8 is 3702.\n"
     ]
    },
    {
     "name": "stderr",
     "output_type": "stream",
     "text": [
      "/home/bknight/anaconda3/lib/python3.7/site-packages/scipy/optimize/minpack.py:794: OptimizeWarning: Covariance of the parameters could not be estimated\n",
      "  category=OptimizeWarning)\n"
     ]
    },
    {
     "name": "stdout",
     "output_type": "stream",
     "text": [
      "The recommended sample size for a statistical power level of 0.8 is 6513.\n"
     ]
    },
    {
     "name": "stderr",
     "output_type": "stream",
     "text": [
      "/home/bknight/anaconda3/lib/python3.7/site-packages/scipy/optimize/minpack.py:794: OptimizeWarning: Covariance of the parameters could not be estimated\n",
      "  category=OptimizeWarning)\n"
     ]
    },
    {
     "name": "stdout",
     "output_type": "stream",
     "text": [
      "The recommended sample size for a statistical power level of 0.8 is 4507.\n"
     ]
    },
    {
     "name": "stderr",
     "output_type": "stream",
     "text": [
      "/home/bknight/anaconda3/lib/python3.7/site-packages/scipy/optimize/minpack.py:794: OptimizeWarning: Covariance of the parameters could not be estimated\n",
      "  category=OptimizeWarning)\n"
     ]
    },
    {
     "name": "stdout",
     "output_type": "stream",
     "text": [
      "The recommended sample size for a statistical power level of 0.8 is 3511.\n"
     ]
    },
    {
     "name": "stderr",
     "output_type": "stream",
     "text": [
      "/home/bknight/anaconda3/lib/python3.7/site-packages/scipy/optimize/minpack.py:794: OptimizeWarning: Covariance of the parameters could not be estimated\n",
      "  category=OptimizeWarning)\n"
     ]
    },
    {
     "name": "stdout",
     "output_type": "stream",
     "text": [
      "The recommended sample size for a statistical power level of 0.8 is 1755.\n"
     ]
    },
    {
     "name": "stderr",
     "output_type": "stream",
     "text": [
      "/home/bknight/anaconda3/lib/python3.7/site-packages/scipy/optimize/minpack.py:794: OptimizeWarning: Covariance of the parameters could not be estimated\n",
      "  category=OptimizeWarning)\n"
     ]
    },
    {
     "name": "stdout",
     "output_type": "stream",
     "text": [
      "The recommended sample size for a statistical power level of 0.8 is 3813.\n"
     ]
    },
    {
     "name": "stderr",
     "output_type": "stream",
     "text": [
      "/home/bknight/anaconda3/lib/python3.7/site-packages/scipy/optimize/minpack.py:794: OptimizeWarning: Covariance of the parameters could not be estimated\n",
      "  category=OptimizeWarning)\n"
     ]
    },
    {
     "name": "stdout",
     "output_type": "stream",
     "text": [
      "The recommended sample size for a statistical power level of 0.8 is 8384.\n"
     ]
    },
    {
     "name": "stderr",
     "output_type": "stream",
     "text": [
      "/home/bknight/anaconda3/lib/python3.7/site-packages/scipy/optimize/minpack.py:794: OptimizeWarning: Covariance of the parameters could not be estimated\n",
      "  category=OptimizeWarning)\n"
     ]
    },
    {
     "name": "stdout",
     "output_type": "stream",
     "text": [
      "The recommended sample size for a statistical power level of 0.8 is 4839.\n"
     ]
    },
    {
     "name": "stderr",
     "output_type": "stream",
     "text": [
      "/home/bknight/anaconda3/lib/python3.7/site-packages/scipy/optimize/minpack.py:794: OptimizeWarning: Covariance of the parameters could not be estimated\n",
      "  category=OptimizeWarning)\n"
     ]
    },
    {
     "name": "stdout",
     "output_type": "stream",
     "text": [
      "The recommended sample size for a statistical power level of 0.8 is 6662.\n"
     ]
    },
    {
     "name": "stderr",
     "output_type": "stream",
     "text": [
      "/home/bknight/anaconda3/lib/python3.7/site-packages/scipy/optimize/minpack.py:794: OptimizeWarning: Covariance of the parameters could not be estimated\n",
      "  category=OptimizeWarning)\n"
     ]
    },
    {
     "name": "stdout",
     "output_type": "stream",
     "text": [
      "The recommended sample size for a statistical power level of 0.8 is 5618.\n"
     ]
    },
    {
     "name": "stderr",
     "output_type": "stream",
     "text": [
      "/home/bknight/anaconda3/lib/python3.7/site-packages/scipy/optimize/minpack.py:794: OptimizeWarning: Covariance of the parameters could not be estimated\n",
      "  category=OptimizeWarning)\n"
     ]
    },
    {
     "name": "stdout",
     "output_type": "stream",
     "text": [
      "The recommended sample size for a statistical power level of 0.8 is 4670.\n"
     ]
    },
    {
     "name": "stderr",
     "output_type": "stream",
     "text": [
      "/home/bknight/anaconda3/lib/python3.7/site-packages/scipy/optimize/minpack.py:794: OptimizeWarning: Covariance of the parameters could not be estimated\n",
      "  category=OptimizeWarning)\n"
     ]
    },
    {
     "name": "stdout",
     "output_type": "stream",
     "text": [
      "The recommended sample size for a statistical power level of 0.8 is 6339.\n"
     ]
    },
    {
     "name": "stderr",
     "output_type": "stream",
     "text": [
      "/home/bknight/anaconda3/lib/python3.7/site-packages/scipy/optimize/minpack.py:794: OptimizeWarning: Covariance of the parameters could not be estimated\n",
      "  category=OptimizeWarning)\n"
     ]
    },
    {
     "name": "stdout",
     "output_type": "stream",
     "text": [
      "The recommended sample size for a statistical power level of 0.8 is 2654.\n"
     ]
    },
    {
     "name": "stderr",
     "output_type": "stream",
     "text": [
      "/home/bknight/anaconda3/lib/python3.7/site-packages/scipy/optimize/minpack.py:794: OptimizeWarning: Covariance of the parameters could not be estimated\n",
      "  category=OptimizeWarning)\n"
     ]
    },
    {
     "name": "stdout",
     "output_type": "stream",
     "text": [
      "The recommended sample size for a statistical power level of 0.8 is 5556.\n"
     ]
    },
    {
     "name": "stderr",
     "output_type": "stream",
     "text": [
      "/home/bknight/anaconda3/lib/python3.7/site-packages/scipy/optimize/minpack.py:794: OptimizeWarning: Covariance of the parameters could not be estimated\n",
      "  category=OptimizeWarning)\n"
     ]
    },
    {
     "name": "stdout",
     "output_type": "stream",
     "text": [
      "The recommended sample size for a statistical power level of 0.8 is 4554.\n"
     ]
    },
    {
     "name": "stderr",
     "output_type": "stream",
     "text": [
      "/home/bknight/anaconda3/lib/python3.7/site-packages/scipy/optimize/minpack.py:794: OptimizeWarning: Covariance of the parameters could not be estimated\n",
      "  category=OptimizeWarning)\n"
     ]
    },
    {
     "name": "stdout",
     "output_type": "stream",
     "text": [
      "The recommended sample size for a statistical power level of 0.8 is 5545.\n"
     ]
    },
    {
     "name": "stderr",
     "output_type": "stream",
     "text": [
      "/home/bknight/anaconda3/lib/python3.7/site-packages/scipy/optimize/minpack.py:794: OptimizeWarning: Covariance of the parameters could not be estimated\n",
      "  category=OptimizeWarning)\n"
     ]
    },
    {
     "name": "stdout",
     "output_type": "stream",
     "text": [
      "The recommended sample size for a statistical power level of 0.8 is 3365.\n"
     ]
    },
    {
     "name": "stderr",
     "output_type": "stream",
     "text": [
      "/home/bknight/anaconda3/lib/python3.7/site-packages/scipy/optimize/minpack.py:794: OptimizeWarning: Covariance of the parameters could not be estimated\n",
      "  category=OptimizeWarning)\n"
     ]
    },
    {
     "name": "stdout",
     "output_type": "stream",
     "text": [
      "The recommended sample size for a statistical power level of 0.8 is 5911.\n"
     ]
    },
    {
     "name": "stderr",
     "output_type": "stream",
     "text": [
      "/home/bknight/anaconda3/lib/python3.7/site-packages/scipy/optimize/minpack.py:794: OptimizeWarning: Covariance of the parameters could not be estimated\n",
      "  category=OptimizeWarning)\n"
     ]
    },
    {
     "name": "stdout",
     "output_type": "stream",
     "text": [
      "The recommended sample size for a statistical power level of 0.8 is 4152.\n"
     ]
    },
    {
     "name": "stderr",
     "output_type": "stream",
     "text": [
      "/home/bknight/anaconda3/lib/python3.7/site-packages/scipy/optimize/minpack.py:794: OptimizeWarning: Covariance of the parameters could not be estimated\n",
      "  category=OptimizeWarning)\n"
     ]
    },
    {
     "name": "stdout",
     "output_type": "stream",
     "text": [
      "The recommended sample size for a statistical power level of 0.8 is 4214.\n"
     ]
    },
    {
     "name": "stderr",
     "output_type": "stream",
     "text": [
      "/home/bknight/anaconda3/lib/python3.7/site-packages/scipy/optimize/minpack.py:794: OptimizeWarning: Covariance of the parameters could not be estimated\n",
      "  category=OptimizeWarning)\n"
     ]
    },
    {
     "name": "stdout",
     "output_type": "stream",
     "text": [
      "The recommended sample size for a statistical power level of 0.8 is 4156.\n"
     ]
    },
    {
     "name": "stderr",
     "output_type": "stream",
     "text": [
      "/home/bknight/anaconda3/lib/python3.7/site-packages/scipy/optimize/minpack.py:794: OptimizeWarning: Covariance of the parameters could not be estimated\n",
      "  category=OptimizeWarning)\n"
     ]
    },
    {
     "name": "stdout",
     "output_type": "stream",
     "text": [
      "The recommended sample size for a statistical power level of 0.8 is 2640.\n"
     ]
    },
    {
     "name": "stderr",
     "output_type": "stream",
     "text": [
      "/home/bknight/anaconda3/lib/python3.7/site-packages/scipy/optimize/minpack.py:794: OptimizeWarning: Covariance of the parameters could not be estimated\n",
      "  category=OptimizeWarning)\n"
     ]
    },
    {
     "name": "stdout",
     "output_type": "stream",
     "text": [
      "The recommended sample size for a statistical power level of 0.8 is 3401.\n"
     ]
    },
    {
     "name": "stderr",
     "output_type": "stream",
     "text": [
      "/home/bknight/anaconda3/lib/python3.7/site-packages/scipy/optimize/minpack.py:794: OptimizeWarning: Covariance of the parameters could not be estimated\n",
      "  category=OptimizeWarning)\n"
     ]
    },
    {
     "name": "stdout",
     "output_type": "stream",
     "text": [
      "The recommended sample size for a statistical power level of 0.8 is 4697.\n"
     ]
    },
    {
     "name": "stderr",
     "output_type": "stream",
     "text": [
      "/home/bknight/anaconda3/lib/python3.7/site-packages/scipy/optimize/minpack.py:794: OptimizeWarning: Covariance of the parameters could not be estimated\n",
      "  category=OptimizeWarning)\n"
     ]
    },
    {
     "name": "stdout",
     "output_type": "stream",
     "text": [
      "The recommended sample size for a statistical power level of 0.8 is 7604.\n"
     ]
    },
    {
     "name": "stderr",
     "output_type": "stream",
     "text": [
      "/home/bknight/anaconda3/lib/python3.7/site-packages/scipy/optimize/minpack.py:794: OptimizeWarning: Covariance of the parameters could not be estimated\n",
      "  category=OptimizeWarning)\n"
     ]
    },
    {
     "name": "stdout",
     "output_type": "stream",
     "text": [
      "The recommended sample size for a statistical power level of 0.8 is 7219.\n"
     ]
    },
    {
     "name": "stderr",
     "output_type": "stream",
     "text": [
      "/home/bknight/anaconda3/lib/python3.7/site-packages/scipy/optimize/minpack.py:794: OptimizeWarning: Covariance of the parameters could not be estimated\n",
      "  category=OptimizeWarning)\n"
     ]
    },
    {
     "name": "stdout",
     "output_type": "stream",
     "text": [
      "The recommended sample size for a statistical power level of 0.8 is 3657.\n"
     ]
    },
    {
     "name": "stderr",
     "output_type": "stream",
     "text": [
      "/home/bknight/anaconda3/lib/python3.7/site-packages/scipy/optimize/minpack.py:794: OptimizeWarning: Covariance of the parameters could not be estimated\n",
      "  category=OptimizeWarning)\n"
     ]
    },
    {
     "name": "stdout",
     "output_type": "stream",
     "text": [
      "The recommended sample size for a statistical power level of 0.8 is 3833.\n"
     ]
    },
    {
     "name": "stderr",
     "output_type": "stream",
     "text": [
      "/home/bknight/anaconda3/lib/python3.7/site-packages/scipy/optimize/minpack.py:794: OptimizeWarning: Covariance of the parameters could not be estimated\n",
      "  category=OptimizeWarning)\n"
     ]
    },
    {
     "name": "stdout",
     "output_type": "stream",
     "text": [
      "The recommended sample size for a statistical power level of 0.8 is 5734.\n"
     ]
    },
    {
     "name": "stderr",
     "output_type": "stream",
     "text": [
      "/home/bknight/anaconda3/lib/python3.7/site-packages/scipy/optimize/minpack.py:794: OptimizeWarning: Covariance of the parameters could not be estimated\n",
      "  category=OptimizeWarning)\n"
     ]
    },
    {
     "name": "stdout",
     "output_type": "stream",
     "text": [
      "The recommended sample size for a statistical power level of 0.8 is 3208.\n"
     ]
    },
    {
     "name": "stderr",
     "output_type": "stream",
     "text": [
      "/home/bknight/anaconda3/lib/python3.7/site-packages/scipy/optimize/minpack.py:794: OptimizeWarning: Covariance of the parameters could not be estimated\n",
      "  category=OptimizeWarning)\n"
     ]
    },
    {
     "name": "stdout",
     "output_type": "stream",
     "text": [
      "The recommended sample size for a statistical power level of 0.8 is 3735.\n"
     ]
    },
    {
     "name": "stderr",
     "output_type": "stream",
     "text": [
      "/home/bknight/anaconda3/lib/python3.7/site-packages/scipy/optimize/minpack.py:794: OptimizeWarning: Covariance of the parameters could not be estimated\n",
      "  category=OptimizeWarning)\n"
     ]
    },
    {
     "name": "stdout",
     "output_type": "stream",
     "text": [
      "The recommended sample size for a statistical power level of 0.8 is 3727.\n"
     ]
    },
    {
     "name": "stderr",
     "output_type": "stream",
     "text": [
      "/home/bknight/anaconda3/lib/python3.7/site-packages/scipy/optimize/minpack.py:794: OptimizeWarning: Covariance of the parameters could not be estimated\n",
      "  category=OptimizeWarning)\n"
     ]
    },
    {
     "name": "stdout",
     "output_type": "stream",
     "text": [
      "The recommended sample size for a statistical power level of 0.8 is 7465.\n"
     ]
    },
    {
     "name": "stderr",
     "output_type": "stream",
     "text": [
      "/home/bknight/anaconda3/lib/python3.7/site-packages/scipy/optimize/minpack.py:794: OptimizeWarning: Covariance of the parameters could not be estimated\n",
      "  category=OptimizeWarning)\n"
     ]
    },
    {
     "name": "stdout",
     "output_type": "stream",
     "text": [
      "The recommended sample size for a statistical power level of 0.8 is 3528.\n"
     ]
    },
    {
     "name": "stderr",
     "output_type": "stream",
     "text": [
      "/home/bknight/anaconda3/lib/python3.7/site-packages/scipy/optimize/minpack.py:794: OptimizeWarning: Covariance of the parameters could not be estimated\n",
      "  category=OptimizeWarning)\n"
     ]
    },
    {
     "name": "stdout",
     "output_type": "stream",
     "text": [
      "The recommended sample size for a statistical power level of 0.8 is 2768.\n"
     ]
    },
    {
     "name": "stderr",
     "output_type": "stream",
     "text": [
      "/home/bknight/anaconda3/lib/python3.7/site-packages/scipy/optimize/minpack.py:794: OptimizeWarning: Covariance of the parameters could not be estimated\n",
      "  category=OptimizeWarning)\n"
     ]
    },
    {
     "name": "stdout",
     "output_type": "stream",
     "text": [
      "The recommended sample size for a statistical power level of 0.8 is 3665.\n"
     ]
    },
    {
     "name": "stderr",
     "output_type": "stream",
     "text": [
      "/home/bknight/anaconda3/lib/python3.7/site-packages/scipy/optimize/minpack.py:794: OptimizeWarning: Covariance of the parameters could not be estimated\n",
      "  category=OptimizeWarning)\n"
     ]
    },
    {
     "name": "stdout",
     "output_type": "stream",
     "text": [
      "The recommended sample size for a statistical power level of 0.8 is 6103.\n"
     ]
    },
    {
     "name": "stderr",
     "output_type": "stream",
     "text": [
      "/home/bknight/anaconda3/lib/python3.7/site-packages/scipy/optimize/minpack.py:794: OptimizeWarning: Covariance of the parameters could not be estimated\n",
      "  category=OptimizeWarning)\n"
     ]
    },
    {
     "name": "stdout",
     "output_type": "stream",
     "text": [
      "The recommended sample size for a statistical power level of 0.8 is 3685.\n"
     ]
    },
    {
     "name": "stderr",
     "output_type": "stream",
     "text": [
      "/home/bknight/anaconda3/lib/python3.7/site-packages/scipy/optimize/minpack.py:794: OptimizeWarning: Covariance of the parameters could not be estimated\n",
      "  category=OptimizeWarning)\n"
     ]
    },
    {
     "name": "stdout",
     "output_type": "stream",
     "text": [
      "The recommended sample size for a statistical power level of 0.8 is 4184.\n"
     ]
    },
    {
     "name": "stderr",
     "output_type": "stream",
     "text": [
      "/home/bknight/anaconda3/lib/python3.7/site-packages/scipy/optimize/minpack.py:794: OptimizeWarning: Covariance of the parameters could not be estimated\n",
      "  category=OptimizeWarning)\n"
     ]
    },
    {
     "name": "stdout",
     "output_type": "stream",
     "text": [
      "The recommended sample size for a statistical power level of 0.8 is 5049.\n"
     ]
    },
    {
     "name": "stderr",
     "output_type": "stream",
     "text": [
      "/home/bknight/anaconda3/lib/python3.7/site-packages/scipy/optimize/minpack.py:794: OptimizeWarning: Covariance of the parameters could not be estimated\n",
      "  category=OptimizeWarning)\n"
     ]
    },
    {
     "name": "stdout",
     "output_type": "stream",
     "text": [
      "The recommended sample size for a statistical power level of 0.8 is 4327.\n"
     ]
    },
    {
     "name": "stderr",
     "output_type": "stream",
     "text": [
      "/home/bknight/anaconda3/lib/python3.7/site-packages/scipy/optimize/minpack.py:794: OptimizeWarning: Covariance of the parameters could not be estimated\n",
      "  category=OptimizeWarning)\n"
     ]
    },
    {
     "name": "stdout",
     "output_type": "stream",
     "text": [
      "The recommended sample size for a statistical power level of 0.8 is 5380.\n"
     ]
    },
    {
     "name": "stderr",
     "output_type": "stream",
     "text": [
      "/home/bknight/anaconda3/lib/python3.7/site-packages/scipy/optimize/minpack.py:794: OptimizeWarning: Covariance of the parameters could not be estimated\n",
      "  category=OptimizeWarning)\n"
     ]
    },
    {
     "name": "stdout",
     "output_type": "stream",
     "text": [
      "The recommended sample size for a statistical power level of 0.8 is 4843.\n"
     ]
    },
    {
     "name": "stderr",
     "output_type": "stream",
     "text": [
      "/home/bknight/anaconda3/lib/python3.7/site-packages/scipy/optimize/minpack.py:794: OptimizeWarning: Covariance of the parameters could not be estimated\n",
      "  category=OptimizeWarning)\n"
     ]
    },
    {
     "name": "stdout",
     "output_type": "stream",
     "text": [
      "The recommended sample size for a statistical power level of 0.8 is 4011.\n"
     ]
    },
    {
     "name": "stderr",
     "output_type": "stream",
     "text": [
      "/home/bknight/anaconda3/lib/python3.7/site-packages/scipy/optimize/minpack.py:794: OptimizeWarning: Covariance of the parameters could not be estimated\n",
      "  category=OptimizeWarning)\n"
     ]
    },
    {
     "name": "stdout",
     "output_type": "stream",
     "text": [
      "The recommended sample size for a statistical power level of 0.8 is 728.\n"
     ]
    },
    {
     "name": "stderr",
     "output_type": "stream",
     "text": [
      "/home/bknight/anaconda3/lib/python3.7/site-packages/scipy/optimize/minpack.py:794: OptimizeWarning: Covariance of the parameters could not be estimated\n",
      "  category=OptimizeWarning)\n"
     ]
    },
    {
     "name": "stdout",
     "output_type": "stream",
     "text": [
      "The recommended sample size for a statistical power level of 0.8 is 4507.\n"
     ]
    },
    {
     "name": "stderr",
     "output_type": "stream",
     "text": [
      "/home/bknight/anaconda3/lib/python3.7/site-packages/scipy/optimize/minpack.py:794: OptimizeWarning: Covariance of the parameters could not be estimated\n",
      "  category=OptimizeWarning)\n"
     ]
    },
    {
     "name": "stdout",
     "output_type": "stream",
     "text": [
      "The recommended sample size for a statistical power level of 0.8 is 3059.\n"
     ]
    },
    {
     "name": "stderr",
     "output_type": "stream",
     "text": [
      "/home/bknight/anaconda3/lib/python3.7/site-packages/scipy/optimize/minpack.py:794: OptimizeWarning: Covariance of the parameters could not be estimated\n",
      "  category=OptimizeWarning)\n"
     ]
    },
    {
     "name": "stdout",
     "output_type": "stream",
     "text": [
      "The recommended sample size for a statistical power level of 0.8 is 5904.\n"
     ]
    },
    {
     "name": "stderr",
     "output_type": "stream",
     "text": [
      "/home/bknight/anaconda3/lib/python3.7/site-packages/scipy/optimize/minpack.py:794: OptimizeWarning: Covariance of the parameters could not be estimated\n",
      "  category=OptimizeWarning)\n"
     ]
    },
    {
     "name": "stdout",
     "output_type": "stream",
     "text": [
      "The recommended sample size for a statistical power level of 0.8 is 5773.\n"
     ]
    },
    {
     "name": "stderr",
     "output_type": "stream",
     "text": [
      "/home/bknight/anaconda3/lib/python3.7/site-packages/scipy/optimize/minpack.py:794: OptimizeWarning: Covariance of the parameters could not be estimated\n",
      "  category=OptimizeWarning)\n"
     ]
    },
    {
     "name": "stdout",
     "output_type": "stream",
     "text": [
      "The recommended sample size for a statistical power level of 0.8 is 2350.\n"
     ]
    },
    {
     "name": "stderr",
     "output_type": "stream",
     "text": [
      "/home/bknight/anaconda3/lib/python3.7/site-packages/scipy/optimize/minpack.py:794: OptimizeWarning: Covariance of the parameters could not be estimated\n",
      "  category=OptimizeWarning)\n"
     ]
    },
    {
     "name": "stdout",
     "output_type": "stream",
     "text": [
      "The recommended sample size for a statistical power level of 0.8 is 3257.\n"
     ]
    },
    {
     "name": "stderr",
     "output_type": "stream",
     "text": [
      "/home/bknight/anaconda3/lib/python3.7/site-packages/scipy/optimize/minpack.py:794: OptimizeWarning: Covariance of the parameters could not be estimated\n",
      "  category=OptimizeWarning)\n"
     ]
    },
    {
     "name": "stdout",
     "output_type": "stream",
     "text": [
      "The recommended sample size for a statistical power level of 0.8 is 5724.\n"
     ]
    },
    {
     "name": "stderr",
     "output_type": "stream",
     "text": [
      "/home/bknight/anaconda3/lib/python3.7/site-packages/scipy/optimize/minpack.py:794: OptimizeWarning: Covariance of the parameters could not be estimated\n",
      "  category=OptimizeWarning)\n"
     ]
    },
    {
     "name": "stdout",
     "output_type": "stream",
     "text": [
      "The recommended sample size for a statistical power level of 0.8 is 1975.\n"
     ]
    },
    {
     "name": "stderr",
     "output_type": "stream",
     "text": [
      "/home/bknight/anaconda3/lib/python3.7/site-packages/scipy/optimize/minpack.py:794: OptimizeWarning: Covariance of the parameters could not be estimated\n",
      "  category=OptimizeWarning)\n"
     ]
    },
    {
     "name": "stdout",
     "output_type": "stream",
     "text": [
      "The recommended sample size for a statistical power level of 0.8 is 5904.\n"
     ]
    },
    {
     "name": "stderr",
     "output_type": "stream",
     "text": [
      "/home/bknight/anaconda3/lib/python3.7/site-packages/scipy/optimize/minpack.py:794: OptimizeWarning: Covariance of the parameters could not be estimated\n",
      "  category=OptimizeWarning)\n"
     ]
    },
    {
     "name": "stdout",
     "output_type": "stream",
     "text": [
      "The recommended sample size for a statistical power level of 0.8 is 3532.\n"
     ]
    },
    {
     "name": "stderr",
     "output_type": "stream",
     "text": [
      "/home/bknight/anaconda3/lib/python3.7/site-packages/scipy/optimize/minpack.py:794: OptimizeWarning: Covariance of the parameters could not be estimated\n",
      "  category=OptimizeWarning)\n"
     ]
    },
    {
     "name": "stdout",
     "output_type": "stream",
     "text": [
      "The recommended sample size for a statistical power level of 0.8 is 3972.\n"
     ]
    },
    {
     "name": "stderr",
     "output_type": "stream",
     "text": [
      "/home/bknight/anaconda3/lib/python3.7/site-packages/scipy/optimize/minpack.py:794: OptimizeWarning: Covariance of the parameters could not be estimated\n",
      "  category=OptimizeWarning)\n"
     ]
    },
    {
     "name": "stdout",
     "output_type": "stream",
     "text": [
      "The recommended sample size for a statistical power level of 0.8 is 3516.\n"
     ]
    },
    {
     "name": "stderr",
     "output_type": "stream",
     "text": [
      "/home/bknight/anaconda3/lib/python3.7/site-packages/scipy/optimize/minpack.py:794: OptimizeWarning: Covariance of the parameters could not be estimated\n",
      "  category=OptimizeWarning)\n"
     ]
    },
    {
     "name": "stdout",
     "output_type": "stream",
     "text": [
      "The recommended sample size for a statistical power level of 0.8 is 2799.\n"
     ]
    },
    {
     "name": "stderr",
     "output_type": "stream",
     "text": [
      "/home/bknight/anaconda3/lib/python3.7/site-packages/scipy/optimize/minpack.py:794: OptimizeWarning: Covariance of the parameters could not be estimated\n",
      "  category=OptimizeWarning)\n"
     ]
    },
    {
     "name": "stdout",
     "output_type": "stream",
     "text": [
      "The recommended sample size for a statistical power level of 0.8 is 5203.\n"
     ]
    },
    {
     "name": "stderr",
     "output_type": "stream",
     "text": [
      "/home/bknight/anaconda3/lib/python3.7/site-packages/scipy/optimize/minpack.py:794: OptimizeWarning: Covariance of the parameters could not be estimated\n",
      "  category=OptimizeWarning)\n"
     ]
    },
    {
     "name": "stdout",
     "output_type": "stream",
     "text": [
      "The recommended sample size for a statistical power level of 0.8 is 2100.\n"
     ]
    },
    {
     "name": "stderr",
     "output_type": "stream",
     "text": [
      "/home/bknight/anaconda3/lib/python3.7/site-packages/scipy/optimize/minpack.py:794: OptimizeWarning: Covariance of the parameters could not be estimated\n",
      "  category=OptimizeWarning)\n"
     ]
    },
    {
     "name": "stdout",
     "output_type": "stream",
     "text": [
      "The recommended sample size for a statistical power level of 0.8 is 4481.\n"
     ]
    },
    {
     "name": "stderr",
     "output_type": "stream",
     "text": [
      "/home/bknight/anaconda3/lib/python3.7/site-packages/scipy/optimize/minpack.py:794: OptimizeWarning: Covariance of the parameters could not be estimated\n",
      "  category=OptimizeWarning)\n"
     ]
    },
    {
     "name": "stdout",
     "output_type": "stream",
     "text": [
      "The recommended sample size for a statistical power level of 0.8 is 7609.\n"
     ]
    },
    {
     "name": "stderr",
     "output_type": "stream",
     "text": [
      "/home/bknight/anaconda3/lib/python3.7/site-packages/scipy/optimize/minpack.py:794: OptimizeWarning: Covariance of the parameters could not be estimated\n",
      "  category=OptimizeWarning)\n"
     ]
    },
    {
     "name": "stdout",
     "output_type": "stream",
     "text": [
      "The recommended sample size for a statistical power level of 0.8 is 3681.\n"
     ]
    },
    {
     "name": "stderr",
     "output_type": "stream",
     "text": [
      "/home/bknight/anaconda3/lib/python3.7/site-packages/scipy/optimize/minpack.py:794: OptimizeWarning: Covariance of the parameters could not be estimated\n",
      "  category=OptimizeWarning)\n"
     ]
    },
    {
     "name": "stdout",
     "output_type": "stream",
     "text": [
      "The recommended sample size for a statistical power level of 0.8 is 4002.\n"
     ]
    },
    {
     "name": "stderr",
     "output_type": "stream",
     "text": [
      "/home/bknight/anaconda3/lib/python3.7/site-packages/scipy/optimize/minpack.py:794: OptimizeWarning: Covariance of the parameters could not be estimated\n",
      "  category=OptimizeWarning)\n"
     ]
    },
    {
     "name": "stdout",
     "output_type": "stream",
     "text": [
      "The recommended sample size for a statistical power level of 0.8 is 4188.\n"
     ]
    },
    {
     "name": "stderr",
     "output_type": "stream",
     "text": [
      "/home/bknight/anaconda3/lib/python3.7/site-packages/scipy/optimize/minpack.py:794: OptimizeWarning: Covariance of the parameters could not be estimated\n",
      "  category=OptimizeWarning)\n"
     ]
    },
    {
     "name": "stdout",
     "output_type": "stream",
     "text": [
      "The recommended sample size for a statistical power level of 0.8 is 3127.\n"
     ]
    },
    {
     "name": "stderr",
     "output_type": "stream",
     "text": [
      "/home/bknight/anaconda3/lib/python3.7/site-packages/scipy/optimize/minpack.py:794: OptimizeWarning: Covariance of the parameters could not be estimated\n",
      "  category=OptimizeWarning)\n"
     ]
    },
    {
     "name": "stdout",
     "output_type": "stream",
     "text": [
      "The recommended sample size for a statistical power level of 0.8 is 4046.\n"
     ]
    },
    {
     "name": "stderr",
     "output_type": "stream",
     "text": [
      "/home/bknight/anaconda3/lib/python3.7/site-packages/scipy/optimize/minpack.py:794: OptimizeWarning: Covariance of the parameters could not be estimated\n",
      "  category=OptimizeWarning)\n"
     ]
    },
    {
     "name": "stdout",
     "output_type": "stream",
     "text": [
      "The recommended sample size for a statistical power level of 0.8 is 5729.\n"
     ]
    },
    {
     "name": "stderr",
     "output_type": "stream",
     "text": [
      "/home/bknight/anaconda3/lib/python3.7/site-packages/scipy/optimize/minpack.py:794: OptimizeWarning: Covariance of the parameters could not be estimated\n",
      "  category=OptimizeWarning)\n"
     ]
    },
    {
     "name": "stdout",
     "output_type": "stream",
     "text": [
      "The recommended sample size for a statistical power level of 0.8 is 5033.\n"
     ]
    },
    {
     "name": "stderr",
     "output_type": "stream",
     "text": [
      "/home/bknight/anaconda3/lib/python3.7/site-packages/scipy/optimize/minpack.py:794: OptimizeWarning: Covariance of the parameters could not be estimated\n",
      "  category=OptimizeWarning)\n"
     ]
    },
    {
     "name": "stdout",
     "output_type": "stream",
     "text": [
      "The recommended sample size for a statistical power level of 0.8 is 6515.\n"
     ]
    },
    {
     "name": "stderr",
     "output_type": "stream",
     "text": [
      "/home/bknight/anaconda3/lib/python3.7/site-packages/scipy/optimize/minpack.py:794: OptimizeWarning: Covariance of the parameters could not be estimated\n",
      "  category=OptimizeWarning)\n"
     ]
    },
    {
     "name": "stdout",
     "output_type": "stream",
     "text": [
      "The recommended sample size for a statistical power level of 0.8 is 3652.\n"
     ]
    },
    {
     "name": "stderr",
     "output_type": "stream",
     "text": [
      "/home/bknight/anaconda3/lib/python3.7/site-packages/scipy/optimize/minpack.py:794: OptimizeWarning: Covariance of the parameters could not be estimated\n",
      "  category=OptimizeWarning)\n"
     ]
    },
    {
     "name": "stdout",
     "output_type": "stream",
     "text": [
      "The recommended sample size for a statistical power level of 0.8 is 5770.\n"
     ]
    },
    {
     "name": "stderr",
     "output_type": "stream",
     "text": [
      "/home/bknight/anaconda3/lib/python3.7/site-packages/scipy/optimize/minpack.py:794: OptimizeWarning: Covariance of the parameters could not be estimated\n",
      "  category=OptimizeWarning)\n"
     ]
    },
    {
     "name": "stdout",
     "output_type": "stream",
     "text": [
      "The recommended sample size for a statistical power level of 0.8 is 4488.\n"
     ]
    },
    {
     "name": "stderr",
     "output_type": "stream",
     "text": [
      "/home/bknight/anaconda3/lib/python3.7/site-packages/scipy/optimize/minpack.py:794: OptimizeWarning: Covariance of the parameters could not be estimated\n",
      "  category=OptimizeWarning)\n"
     ]
    },
    {
     "name": "stdout",
     "output_type": "stream",
     "text": [
      "The recommended sample size for a statistical power level of 0.8 is 4826.\n",
      "results_sd_3_n_2000 complete.\n"
     ]
    },
    {
     "data": {
      "text/plain": [
       "<Figure size 432x288 with 0 Axes>"
      ]
     },
     "metadata": {},
     "output_type": "display_data"
    }
   ],
   "source": [
    "results_sd_3_n_2000 = infer_power([50000, 70000, 90000, 110000, 130000], \n",
    "                                   1500, 100, 0.05, 0.8, 'data_c_13000_mde_01.csv')\n",
    "mu         = results_sd_3_n_2000['Error'].mean()\n",
    "sigma      = results_sd_3_n_2000['Error'].std()\n",
    "iterations = results_sd_3_n_2000['Iterations'].unique()[0]\n",
    "x = np.linspace(mu - 3*sigma, mu + 3*sigma, 100)\n",
    "plt.plot(x, stats.norm.pdf(x, mu, sigma))\n",
    "plt.axvline(x=0, color = 'red', alpha=0.4)\n",
    "plt.xlim(-0.1,1.5)\n",
    "plt.ylim(0.0,2)\n",
    "bbox = dict(boxstyle=\"round\", fc=\"0.9\")\n",
    "plt.annotate('Mean Error  = {} \\n   Error Std. = {} \\n   Iterations = {}'.format(round(mu,2), \n",
    "                                                                                 round(sigma,2),\n",
    "                                                                                 iterations),\n",
    "            (5, 0), xytext=(257, 200),\n",
    "            xycoords='figure pixels',\n",
    "            textcoords='offset points',\n",
    "            bbox=bbox)\n",
    "# plt.show()\n",
    "plt.savefig('50k_70k_90k_110k_130k_n1500.png')\n",
    "plt.clf()"
   ]
  },
  {
   "cell_type": "code",
   "execution_count": null,
   "metadata": {},
   "outputs": [
    {
     "name": "stdout",
     "output_type": "stream",
     "text": [
      "139793 observations read into Python.\n",
      "The recommended sample size for a statistical power level of 0.8 is 17433.\n",
      "The recommended sample size for a statistical power level of 0.8 is 16947.\n",
      "The recommended sample size for a statistical power level of 0.8 is 21082.\n",
      "The recommended sample size for a statistical power level of 0.8 is 12743.\n",
      "The recommended sample size for a statistical power level of 0.8 is 13595.\n",
      "The recommended sample size for a statistical power level of 0.8 is 18571.\n",
      "The recommended sample size for a statistical power level of 0.8 is 13014.\n",
      "The recommended sample size for a statistical power level of 0.8 is 14999.\n",
      "The recommended sample size for a statistical power level of 0.8 is 13273.\n",
      "The recommended sample size for a statistical power level of 0.8 is 18047.\n",
      "The recommended sample size for a statistical power level of 0.8 is 19522.\n",
      "The recommended sample size for a statistical power level of 0.8 is 18422.\n",
      "The recommended sample size for a statistical power level of 0.8 is 12805.\n",
      "The recommended sample size for a statistical power level of 0.8 is 16683.\n",
      "The recommended sample size for a statistical power level of 0.8 is 16485.\n",
      "The recommended sample size for a statistical power level of 0.8 is 17675.\n",
      "The recommended sample size for a statistical power level of 0.8 is 17975.\n",
      "The recommended sample size for a statistical power level of 0.8 is 15734.\n",
      "The recommended sample size for a statistical power level of 0.8 is 16056.\n",
      "The recommended sample size for a statistical power level of 0.8 is 11637.\n",
      "The recommended sample size for a statistical power level of 0.8 is 16863.\n",
      "The recommended sample size for a statistical power level of 0.8 is 13962.\n",
      "The recommended sample size for a statistical power level of 0.8 is 15071.\n",
      "The recommended sample size for a statistical power level of 0.8 is 11396.\n",
      "The recommended sample size for a statistical power level of 0.8 is 14830.\n",
      "The recommended sample size for a statistical power level of 0.8 is 15208.\n",
      "The recommended sample size for a statistical power level of 0.8 is 16362.\n",
      "The recommended sample size for a statistical power level of 0.8 is 15974.\n",
      "The recommended sample size for a statistical power level of 0.8 is 13348.\n",
      "The recommended sample size for a statistical power level of 0.8 is 14677.\n",
      "The recommended sample size for a statistical power level of 0.8 is 15003.\n",
      "The recommended sample size for a statistical power level of 0.8 is 13995.\n",
      "The recommended sample size for a statistical power level of 0.8 is 17954.\n",
      "The recommended sample size for a statistical power level of 0.8 is 16819.\n",
      "The recommended sample size for a statistical power level of 0.8 is 17107.\n",
      "The recommended sample size for a statistical power level of 0.8 is 21468.\n",
      "The recommended sample size for a statistical power level of 0.8 is 14157.\n",
      "The recommended sample size for a statistical power level of 0.8 is 19498.\n",
      "The recommended sample size for a statistical power level of 0.8 is 17601.\n",
      "The recommended sample size for a statistical power level of 0.8 is 13787.\n",
      "The recommended sample size for a statistical power level of 0.8 is 14058.\n",
      "The recommended sample size for a statistical power level of 0.8 is 13619.\n",
      "The recommended sample size for a statistical power level of 0.8 is 18037.\n",
      "The recommended sample size for a statistical power level of 0.8 is 16399.\n",
      "The recommended sample size for a statistical power level of 0.8 is 16221.\n",
      "The recommended sample size for a statistical power level of 0.8 is 12647.\n",
      "The recommended sample size for a statistical power level of 0.8 is 19749.\n",
      "The recommended sample size for a statistical power level of 0.8 is 18127.\n",
      "The recommended sample size for a statistical power level of 0.8 is 18976.\n",
      "The recommended sample size for a statistical power level of 0.8 is 18282.\n",
      "The recommended sample size for a statistical power level of 0.8 is 16930.\n",
      "The recommended sample size for a statistical power level of 0.8 is 16221.\n",
      "The recommended sample size for a statistical power level of 0.8 is 13779.\n",
      "The recommended sample size for a statistical power level of 0.8 is 16226.\n",
      "The recommended sample size for a statistical power level of 0.8 is 17754.\n",
      "The recommended sample size for a statistical power level of 0.8 is 18071.\n",
      "The recommended sample size for a statistical power level of 0.8 is 17914.\n",
      "The recommended sample size for a statistical power level of 0.8 is 18964.\n",
      "The recommended sample size for a statistical power level of 0.8 is 16867.\n",
      "The recommended sample size for a statistical power level of 0.8 is 17615.\n",
      "The recommended sample size for a statistical power level of 0.8 is 22727.\n",
      "The recommended sample size for a statistical power level of 0.8 is 18372.\n",
      "The recommended sample size for a statistical power level of 0.8 is 13810.\n",
      "The recommended sample size for a statistical power level of 0.8 is 15972.\n",
      "The recommended sample size for a statistical power level of 0.8 is 14845.\n",
      "The recommended sample size for a statistical power level of 0.8 is 10784.\n",
      "The recommended sample size for a statistical power level of 0.8 is 17546.\n",
      "The recommended sample size for a statistical power level of 0.8 is 14392.\n",
      "The recommended sample size for a statistical power level of 0.8 is 12506.\n",
      "The recommended sample size for a statistical power level of 0.8 is 17042.\n",
      "The recommended sample size for a statistical power level of 0.8 is 17996.\n",
      "The recommended sample size for a statistical power level of 0.8 is 12938.\n",
      "The recommended sample size for a statistical power level of 0.8 is 13399.\n",
      "The recommended sample size for a statistical power level of 0.8 is 14709.\n",
      "The recommended sample size for a statistical power level of 0.8 is 18512.\n",
      "The recommended sample size for a statistical power level of 0.8 is 17045.\n",
      "The recommended sample size for a statistical power level of 0.8 is 13489.\n",
      "The recommended sample size for a statistical power level of 0.8 is 14603.\n",
      "The recommended sample size for a statistical power level of 0.8 is 18143.\n",
      "The recommended sample size for a statistical power level of 0.8 is 14389.\n",
      "The recommended sample size for a statistical power level of 0.8 is 15742.\n",
      "The recommended sample size for a statistical power level of 0.8 is 16200.\n",
      "The recommended sample size for a statistical power level of 0.8 is 18457.\n",
      "The recommended sample size for a statistical power level of 0.8 is 11006.\n",
      "The recommended sample size for a statistical power level of 0.8 is 21813.\n",
      "The recommended sample size for a statistical power level of 0.8 is 15878.\n",
      "The recommended sample size for a statistical power level of 0.8 is 18795.\n",
      "The recommended sample size for a statistical power level of 0.8 is 17211.\n",
      "The recommended sample size for a statistical power level of 0.8 is 17219.\n",
      "The recommended sample size for a statistical power level of 0.8 is 16545.\n",
      "The recommended sample size for a statistical power level of 0.8 is 12977.\n",
      "The recommended sample size for a statistical power level of 0.8 is 16262.\n",
      "The recommended sample size for a statistical power level of 0.8 is 15496.\n",
      "The recommended sample size for a statistical power level of 0.8 is 14281.\n",
      "The recommended sample size for a statistical power level of 0.8 is 14735.\n",
      "The recommended sample size for a statistical power level of 0.8 is 18791.\n",
      "The recommended sample size for a statistical power level of 0.8 is 13641.\n",
      "The recommended sample size for a statistical power level of 0.8 is 15584.\n",
      "The recommended sample size for a statistical power level of 0.8 is 12039.\n",
      "The recommended sample size for a statistical power level of 0.8 is 17390.\n",
      "results_sd_5_n_500 complete.\n"
     ]
    },
    {
     "data": {
      "text/plain": [
       "<Figure size 432x288 with 0 Axes>"
      ]
     },
     "metadata": {},
     "output_type": "display_data"
    }
   ],
   "source": [
    "results_sd_5_n_500 = infer_power([30000, 50000, 70000, 90000, 110000, 130000, 150000], \n",
    "                                  500, 100, 0.05, 0.8, 'data_c_13000_mde_01.csv')\n",
    "mu         = results_sd_5_n_500['Error'].mean()\n",
    "sigma      = results_sd_5_n_500['Error'].std()\n",
    "iterations = results_sd_5_n_500['Iterations'].unique()[0]\n",
    "x = np.linspace(mu - 3*sigma, mu + 3*sigma, 100)\n",
    "plt.plot(x, stats.norm.pdf(x, mu, sigma))\n",
    "plt.axvline(x=0, color = 'red', alpha=0.4)\n",
    "plt.xlim(-0.1,1.5)\n",
    "plt.ylim(0.0,2)\n",
    "bbox = dict(boxstyle=\"round\", fc=\"0.9\")\n",
    "plt.annotate('Mean Error  = {} \\n   Error Std. = {} \\n   Iterations = {}'.format(round(mu,2), \n",
    "                                                                                 round(sigma,2),\n",
    "                                                                                 iterations),\n",
    "            (5, 0), xytext=(257, 200),\n",
    "            xycoords='figure pixels',\n",
    "            textcoords='offset points',\n",
    "            bbox=bbox)\n",
    "# plt.show()\n",
    "plt.savefig('30k_50k_70k_90k_110k_130k_150k_n500.png')\n",
    "plt.clf()"
   ]
  },
  {
   "cell_type": "code",
   "execution_count": null,
   "metadata": {},
   "outputs": [
    {
     "name": "stdout",
     "output_type": "stream",
     "text": [
      "139793 observations read into Python.\n",
      "The recommended sample size for a statistical power level of 0.8 is 16944.\n",
      "The recommended sample size for a statistical power level of 0.8 is 14962.\n",
      "The recommended sample size for a statistical power level of 0.8 is 16098.\n",
      "The recommended sample size for a statistical power level of 0.8 is 14973.\n",
      "The recommended sample size for a statistical power level of 0.8 is 17538.\n",
      "The recommended sample size for a statistical power level of 0.8 is 18635.\n",
      "The recommended sample size for a statistical power level of 0.8 is 13259.\n",
      "The recommended sample size for a statistical power level of 0.8 is 13831.\n",
      "The recommended sample size for a statistical power level of 0.8 is 15968.\n",
      "The recommended sample size for a statistical power level of 0.8 is 15447.\n",
      "The recommended sample size for a statistical power level of 0.8 is 15571.\n",
      "The recommended sample size for a statistical power level of 0.8 is 13477.\n",
      "The recommended sample size for a statistical power level of 0.8 is 15136.\n",
      "The recommended sample size for a statistical power level of 0.8 is 18192.\n",
      "The recommended sample size for a statistical power level of 0.8 is 18187.\n",
      "The recommended sample size for a statistical power level of 0.8 is 12501.\n",
      "The recommended sample size for a statistical power level of 0.8 is 17074.\n",
      "The recommended sample size for a statistical power level of 0.8 is 12445.\n",
      "The recommended sample size for a statistical power level of 0.8 is 14506.\n",
      "The recommended sample size for a statistical power level of 0.8 is 12932.\n",
      "The recommended sample size for a statistical power level of 0.8 is 14517.\n",
      "The recommended sample size for a statistical power level of 0.8 is 19022.\n",
      "The recommended sample size for a statistical power level of 0.8 is 15085.\n",
      "The recommended sample size for a statistical power level of 0.8 is 14380.\n",
      "The recommended sample size for a statistical power level of 0.8 is 16289.\n",
      "The recommended sample size for a statistical power level of 0.8 is 15049.\n",
      "The recommended sample size for a statistical power level of 0.8 is 16050.\n",
      "The recommended sample size for a statistical power level of 0.8 is 15483.\n",
      "The recommended sample size for a statistical power level of 0.8 is 15387.\n",
      "The recommended sample size for a statistical power level of 0.8 is 15063.\n",
      "The recommended sample size for a statistical power level of 0.8 is 13220.\n",
      "The recommended sample size for a statistical power level of 0.8 is 13165.\n",
      "The recommended sample size for a statistical power level of 0.8 is 15699.\n",
      "The recommended sample size for a statistical power level of 0.8 is 16688.\n",
      "The recommended sample size for a statistical power level of 0.8 is 17586.\n",
      "The recommended sample size for a statistical power level of 0.8 is 16329.\n",
      "The recommended sample size for a statistical power level of 0.8 is 18476.\n",
      "The recommended sample size for a statistical power level of 0.8 is 19780.\n",
      "The recommended sample size for a statistical power level of 0.8 is 16169.\n",
      "The recommended sample size for a statistical power level of 0.8 is 20277.\n",
      "The recommended sample size for a statistical power level of 0.8 is 16018.\n",
      "The recommended sample size for a statistical power level of 0.8 is 15760.\n",
      "The recommended sample size for a statistical power level of 0.8 is 11974.\n",
      "The recommended sample size for a statistical power level of 0.8 is 18651.\n",
      "The recommended sample size for a statistical power level of 0.8 is 17796.\n",
      "The recommended sample size for a statistical power level of 0.8 is 17274.\n",
      "The recommended sample size for a statistical power level of 0.8 is 15434.\n",
      "The recommended sample size for a statistical power level of 0.8 is 16907.\n",
      "The recommended sample size for a statistical power level of 0.8 is 14690.\n",
      "The recommended sample size for a statistical power level of 0.8 is 15868.\n",
      "The recommended sample size for a statistical power level of 0.8 is 20336.\n",
      "The recommended sample size for a statistical power level of 0.8 is 14077.\n",
      "The recommended sample size for a statistical power level of 0.8 is 16116.\n",
      "The recommended sample size for a statistical power level of 0.8 is 15291.\n",
      "The recommended sample size for a statistical power level of 0.8 is 16310.\n",
      "The recommended sample size for a statistical power level of 0.8 is 16176.\n",
      "The recommended sample size for a statistical power level of 0.8 is 18134.\n",
      "The recommended sample size for a statistical power level of 0.8 is 14900.\n",
      "The recommended sample size for a statistical power level of 0.8 is 17551.\n",
      "The recommended sample size for a statistical power level of 0.8 is 14559.\n",
      "The recommended sample size for a statistical power level of 0.8 is 15966.\n",
      "The recommended sample size for a statistical power level of 0.8 is 15623.\n",
      "The recommended sample size for a statistical power level of 0.8 is 15095.\n",
      "The recommended sample size for a statistical power level of 0.8 is 16750.\n",
      "The recommended sample size for a statistical power level of 0.8 is 18147.\n",
      "The recommended sample size for a statistical power level of 0.8 is 17066.\n",
      "The recommended sample size for a statistical power level of 0.8 is 17316.\n",
      "The recommended sample size for a statistical power level of 0.8 is 17293.\n",
      "The recommended sample size for a statistical power level of 0.8 is 14210.\n",
      "The recommended sample size for a statistical power level of 0.8 is 19459.\n",
      "The recommended sample size for a statistical power level of 0.8 is 17409.\n",
      "The recommended sample size for a statistical power level of 0.8 is 15618.\n",
      "The recommended sample size for a statistical power level of 0.8 is 15622.\n",
      "The recommended sample size for a statistical power level of 0.8 is 18691.\n",
      "The recommended sample size for a statistical power level of 0.8 is 12275.\n",
      "The recommended sample size for a statistical power level of 0.8 is 17158.\n",
      "The recommended sample size for a statistical power level of 0.8 is 13299.\n",
      "The recommended sample size for a statistical power level of 0.8 is 13896.\n",
      "The recommended sample size for a statistical power level of 0.8 is 14672.\n",
      "The recommended sample size for a statistical power level of 0.8 is 16389.\n",
      "The recommended sample size for a statistical power level of 0.8 is 16184.\n",
      "The recommended sample size for a statistical power level of 0.8 is 16130.\n",
      "The recommended sample size for a statistical power level of 0.8 is 16364.\n",
      "The recommended sample size for a statistical power level of 0.8 is 12532.\n",
      "The recommended sample size for a statistical power level of 0.8 is 16542.\n",
      "The recommended sample size for a statistical power level of 0.8 is 18182.\n",
      "The recommended sample size for a statistical power level of 0.8 is 16632.\n",
      "The recommended sample size for a statistical power level of 0.8 is 15457.\n",
      "The recommended sample size for a statistical power level of 0.8 is 13768.\n",
      "The recommended sample size for a statistical power level of 0.8 is 15113.\n",
      "The recommended sample size for a statistical power level of 0.8 is 16666.\n",
      "The recommended sample size for a statistical power level of 0.8 is 16572.\n",
      "The recommended sample size for a statistical power level of 0.8 is 12798.\n",
      "The recommended sample size for a statistical power level of 0.8 is 16399.\n",
      "The recommended sample size for a statistical power level of 0.8 is 16823.\n",
      "The recommended sample size for a statistical power level of 0.8 is 13335.\n",
      "The recommended sample size for a statistical power level of 0.8 is 15012.\n",
      "The recommended sample size for a statistical power level of 0.8 is 16830.\n",
      "The recommended sample size for a statistical power level of 0.8 is 19668.\n",
      "The recommended sample size for a statistical power level of 0.8 is 17666.\n",
      "results_sd_5_n_1000 complete.\n"
     ]
    },
    {
     "data": {
      "text/plain": [
       "<Figure size 432x288 with 0 Axes>"
      ]
     },
     "metadata": {},
     "output_type": "display_data"
    }
   ],
   "source": [
    "results_sd_5_n_1000 = infer_power([30000, 50000, 70000, 90000, 110000, 130000, 150000],  \n",
    "                                   1000, 100, 0.05, 0.8, 'data_c_13000_mde_01.csv')\n",
    "mu         = results_sd_5_n_1000['Error'].mean()\n",
    "sigma      = results_sd_5_n_1000['Error'].std()\n",
    "iterations = results_sd_5_n_1000['Iterations'].unique()[0]\n",
    "x = np.linspace(mu - 3*sigma, mu + 3*sigma, 100)\n",
    "plt.plot(x, stats.norm.pdf(x, mu, sigma))\n",
    "plt.axvline(x=0, color = 'red', alpha=0.4)\n",
    "plt.xlim(-0.1,1.5)\n",
    "plt.ylim(0.0,2)\n",
    "bbox = dict(boxstyle=\"round\", fc=\"0.9\")\n",
    "plt.annotate('Mean Error  = {} \\n   Error Std. = {} \\n   Iterations = {}'.format(round(mu,2), \n",
    "                                                                                 round(sigma,2),\n",
    "                                                                                 iterations),\n",
    "            (5, 0), xytext=(257, 200),\n",
    "            xycoords='figure pixels',\n",
    "            textcoords='offset points',\n",
    "            bbox=bbox)\n",
    "# plt.show()\n",
    "plt.savefig('30k_50k_70k_90k_110k_130k_150k_n1000.png')\n",
    "plt.clf()"
   ]
  },
  {
   "cell_type": "code",
   "execution_count": null,
   "metadata": {},
   "outputs": [
    {
     "name": "stdout",
     "output_type": "stream",
     "text": [
      "139793 observations read into Python.\n",
      "The recommended sample size for a statistical power level of 0.8 is 14974.\n",
      "The recommended sample size for a statistical power level of 0.8 is 15918.\n",
      "The recommended sample size for a statistical power level of 0.8 is 16113.\n",
      "The recommended sample size for a statistical power level of 0.8 is 15036.\n",
      "The recommended sample size for a statistical power level of 0.8 is 17752.\n",
      "The recommended sample size for a statistical power level of 0.8 is 15766.\n",
      "The recommended sample size for a statistical power level of 0.8 is 13714.\n",
      "The recommended sample size for a statistical power level of 0.8 is 17384.\n",
      "The recommended sample size for a statistical power level of 0.8 is 16288.\n",
      "The recommended sample size for a statistical power level of 0.8 is 16205.\n",
      "The recommended sample size for a statistical power level of 0.8 is 16399.\n",
      "The recommended sample size for a statistical power level of 0.8 is 17468.\n",
      "The recommended sample size for a statistical power level of 0.8 is 15437.\n",
      "The recommended sample size for a statistical power level of 0.8 is 16837.\n",
      "The recommended sample size for a statistical power level of 0.8 is 16964.\n",
      "The recommended sample size for a statistical power level of 0.8 is 15133.\n",
      "The recommended sample size for a statistical power level of 0.8 is 17534.\n",
      "The recommended sample size for a statistical power level of 0.8 is 15757.\n",
      "The recommended sample size for a statistical power level of 0.8 is 15217.\n",
      "The recommended sample size for a statistical power level of 0.8 is 14603.\n",
      "The recommended sample size for a statistical power level of 0.8 is 16111.\n",
      "The recommended sample size for a statistical power level of 0.8 is 15988.\n",
      "The recommended sample size for a statistical power level of 0.8 is 15687.\n",
      "The recommended sample size for a statistical power level of 0.8 is 16615.\n",
      "The recommended sample size for a statistical power level of 0.8 is 15426.\n",
      "The recommended sample size for a statistical power level of 0.8 is 14684.\n",
      "The recommended sample size for a statistical power level of 0.8 is 15380.\n",
      "The recommended sample size for a statistical power level of 0.8 is 16172.\n",
      "The recommended sample size for a statistical power level of 0.8 is 14259.\n",
      "The recommended sample size for a statistical power level of 0.8 is 19136.\n",
      "The recommended sample size for a statistical power level of 0.8 is 14646.\n",
      "The recommended sample size for a statistical power level of 0.8 is 16375.\n",
      "The recommended sample size for a statistical power level of 0.8 is 14769.\n",
      "The recommended sample size for a statistical power level of 0.8 is 14970.\n",
      "The recommended sample size for a statistical power level of 0.8 is 18042.\n",
      "The recommended sample size for a statistical power level of 0.8 is 17532.\n",
      "The recommended sample size for a statistical power level of 0.8 is 18148.\n",
      "The recommended sample size for a statistical power level of 0.8 is 17868.\n",
      "The recommended sample size for a statistical power level of 0.8 is 15885.\n",
      "The recommended sample size for a statistical power level of 0.8 is 15682.\n",
      "The recommended sample size for a statistical power level of 0.8 is 17647.\n",
      "The recommended sample size for a statistical power level of 0.8 is 16969.\n",
      "The recommended sample size for a statistical power level of 0.8 is 16088.\n",
      "The recommended sample size for a statistical power level of 0.8 is 17753.\n",
      "The recommended sample size for a statistical power level of 0.8 is 18236.\n",
      "The recommended sample size for a statistical power level of 0.8 is 16894.\n",
      "The recommended sample size for a statistical power level of 0.8 is 17755.\n",
      "The recommended sample size for a statistical power level of 0.8 is 18761.\n",
      "The recommended sample size for a statistical power level of 0.8 is 17494.\n",
      "The recommended sample size for a statistical power level of 0.8 is 16065.\n",
      "The recommended sample size for a statistical power level of 0.8 is 15541.\n",
      "The recommended sample size for a statistical power level of 0.8 is 16059.\n",
      "The recommended sample size for a statistical power level of 0.8 is 16012.\n",
      "The recommended sample size for a statistical power level of 0.8 is 15522.\n",
      "The recommended sample size for a statistical power level of 0.8 is 18301.\n",
      "The recommended sample size for a statistical power level of 0.8 is 15817.\n",
      "The recommended sample size for a statistical power level of 0.8 is 17298.\n",
      "The recommended sample size for a statistical power level of 0.8 is 14888.\n",
      "The recommended sample size for a statistical power level of 0.8 is 16249.\n",
      "The recommended sample size for a statistical power level of 0.8 is 14863.\n",
      "The recommended sample size for a statistical power level of 0.8 is 16613.\n",
      "The recommended sample size for a statistical power level of 0.8 is 12914.\n",
      "The recommended sample size for a statistical power level of 0.8 is 16608.\n",
      "The recommended sample size for a statistical power level of 0.8 is 13466.\n",
      "The recommended sample size for a statistical power level of 0.8 is 12670.\n",
      "The recommended sample size for a statistical power level of 0.8 is 12926.\n",
      "The recommended sample size for a statistical power level of 0.8 is 16927.\n",
      "The recommended sample size for a statistical power level of 0.8 is 13472.\n",
      "The recommended sample size for a statistical power level of 0.8 is 16426.\n",
      "The recommended sample size for a statistical power level of 0.8 is 12546.\n",
      "The recommended sample size for a statistical power level of 0.8 is 15752.\n",
      "The recommended sample size for a statistical power level of 0.8 is 15202.\n",
      "The recommended sample size for a statistical power level of 0.8 is 18240.\n",
      "The recommended sample size for a statistical power level of 0.8 is 15592.\n",
      "The recommended sample size for a statistical power level of 0.8 is 16106.\n",
      "The recommended sample size for a statistical power level of 0.8 is 18058.\n",
      "The recommended sample size for a statistical power level of 0.8 is 16011.\n",
      "The recommended sample size for a statistical power level of 0.8 is 15368.\n"
     ]
    }
   ],
   "source": [
    "results_sd_5_n_2000 = infer_power([30000, 50000, 70000, 90000, 110000, 130000, 150000], \n",
    "                                   1500, 100, 0.05, 0.8, 'data_c_13000_mde_01.csv')\n",
    "mu         = results_sd_5_n_2000['Error'].mean()\n",
    "sigma      = results_sd_5_n_2000['Error'].std()\n",
    "iterations = results_sd_5_n_2000['Iterations'].unique()[0]\n",
    "x = np.linspace(mu - 3*sigma, mu + 3*sigma, 100)\n",
    "plt.plot(x, stats.norm.pdf(x, mu, sigma))\n",
    "plt.axvline(x=0, color = 'red', alpha=0.4)\n",
    "plt.xlim(-0.1,1.5)\n",
    "plt.ylim(0.0,2)\n",
    "bbox = dict(boxstyle=\"round\", fc=\"0.9\")\n",
    "plt.annotate('Mean Error  = {} \\n   Error Std. = {} \\n   Iterations = {}'.format(round(mu,2), \n",
    "                                                                                 round(sigma,2),\n",
    "                                                                                 iterations),\n",
    "            (5, 0), xytext=(257, 200),\n",
    "            xycoords='figure pixels',\n",
    "            textcoords='offset points',\n",
    "            bbox=bbox)\n",
    "# plt.show()\n",
    "plt.savefig('30k_50k_70k_90k_110k_130k_150k_n1500.png')\n",
    "plt.clf()"
   ]
  },
  {
   "cell_type": "code",
   "execution_count": null,
   "metadata": {},
   "outputs": [],
   "source": [
    "results_sd_7_n_500 = infer_power([10000, 30000, 50000, 70000, 90000, 110000, 130000, 150000, 170000], \n",
    "                                  500, 100, 0.05, 0.8, 'data_c_13000_mde_01.csv')\n",
    "mu         = results_sd_7_n_500['Error'].mean()\n",
    "sigma      = results_sd_7_n_500['Error'].std()\n",
    "iterations = results_sd_7_n_500['Iterations'].unique()[0]\n",
    "x = np.linspace(mu - 3*sigma, mu + 3*sigma, 100)\n",
    "plt.plot(x, stats.norm.pdf(x, mu, sigma))\n",
    "plt.axvline(x=0, color = 'red', alpha=0.4)\n",
    "plt.xlim(-0.1,1.5)\n",
    "plt.ylim(0.0,2)\n",
    "bbox = dict(boxstyle=\"round\", fc=\"0.9\")\n",
    "plt.annotate('Mean Error  = {} \\n   Error Std. = {} \\n   Iterations = {}'.format(round(mu,2), \n",
    "                                                                                 round(sigma,2),\n",
    "                                                                                 iterations),\n",
    "            (5, 0), xytext=(257, 200),\n",
    "            xycoords='figure pixels',\n",
    "            textcoords='offset points',\n",
    "            bbox=bbox)\n",
    "# plt.show()\n",
    "plt.savefig('10k_30k_50k_70k_90k_110k_130k_150k_170k_n500.png')\n",
    "plt.clf()"
   ]
  },
  {
   "cell_type": "code",
   "execution_count": null,
   "metadata": {},
   "outputs": [],
   "source": [
    "results_sd_7_n_1000 = infer_power([10000, 30000, 50000, 70000, 90000, 110000, 130000, 150000, 170000],\n",
    "                                  1000, 100, 0.05, 0.8, 'data_c_13000_mde_01.csv')\n",
    "mu         = results_sd_7_n_1000['Error'].mean()\n",
    "sigma      = results_sd_7_n_1000['Error'].std()\n",
    "iterations = results_sd_7_n_1000['Iterations'].unique()[0]\n",
    "x = np.linspace(mu - 3*sigma, mu + 3*sigma, 100)\n",
    "plt.plot(x, stats.norm.pdf(x, mu, sigma))\n",
    "plt.axvline(x=0, color = 'red', alpha=0.4)\n",
    "plt.xlim(-0.1,1.5)\n",
    "plt.ylim(0.0,2)\n",
    "bbox = dict(boxstyle=\"round\", fc=\"0.9\")\n",
    "plt.annotate('Mean Error  = {} \\n   Error Std. = {} \\n   Iterations = {}'.format(round(mu,2), \n",
    "                                                                                 round(sigma,2),\n",
    "                                                                                 iterations),\n",
    "            (5, 0), xytext=(257, 200),\n",
    "            xycoords='figure pixels',\n",
    "            textcoords='offset points',\n",
    "            bbox=bbox)\n",
    "# plt.show()\n",
    "plt.savefig('10k_30k_50k_70k_90k_110k_130k_150k_170k_n1000.png')\n",
    "plt.clf()"
   ]
  },
  {
   "cell_type": "code",
   "execution_count": null,
   "metadata": {},
   "outputs": [],
   "source": [
    "results_sd_7_n_2000 = infer_power([10000, 30000, 50000, 70000, 90000, 110000, 130000, 150000, 170000], \n",
    "                                   1500, 100, 0.05, 0.8, 'data_c_13000_mde_01.csv')\n",
    "mu         = results_sd_7_n_2000['Error'].mean()\n",
    "sigma      = results_sd_7_n_2000['Error'].std()\n",
    "iterations = results_sd_7_n_2000['Iterations'].unique()[0]\n",
    "x = np.linspace(mu - 3*sigma, mu + 3*sigma, 100)\n",
    "plt.plot(x, stats.norm.pdf(x, mu, sigma))\n",
    "plt.axvline(x=0, color = 'red', alpha=0.4)\n",
    "plt.xlim(-0.1,1.5)\n",
    "plt.ylim(0.0,2)\n",
    "bbox = dict(boxstyle=\"round\", fc=\"0.9\")\n",
    "plt.annotate('Mean Error  = {} \\n   Error Std. = {} \\n   Iterations = {}'.format(round(mu,2), \n",
    "                                                                                 round(sigma,2),\n",
    "                                                                                 iterations),\n",
    "            (5, 0), xytext=(257, 200),\n",
    "            xycoords='figure pixels',\n",
    "            textcoords='offset points',\n",
    "            bbox=bbox)\n",
    "# plt.show()\n",
    "plt.savefig('10k_30k_50k_70k_90k_110k_130k_150k_170k_n1500.png')\n",
    "plt.clf()"
   ]
  }
 ],
 "metadata": {
  "kernelspec": {
   "display_name": "Python 3",
   "language": "python",
   "name": "python3"
  },
  "language_info": {
   "codemirror_mode": {
    "name": "ipython",
    "version": 3
   },
   "file_extension": ".py",
   "mimetype": "text/x-python",
   "name": "python",
   "nbconvert_exporter": "python",
   "pygments_lexer": "ipython3",
   "version": "3.7.1"
  }
 },
 "nbformat": 4,
 "nbformat_minor": 2
}
