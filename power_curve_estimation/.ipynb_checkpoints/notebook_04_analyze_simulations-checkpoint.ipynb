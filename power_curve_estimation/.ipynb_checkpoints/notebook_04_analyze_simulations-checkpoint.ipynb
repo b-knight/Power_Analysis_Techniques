{
 "cells": [
  {
   "cell_type": "code",
   "execution_count": 1,
   "metadata": {},
   "outputs": [],
   "source": [
    "import pandas as pd"
   ]
  },
  {
   "cell_type": "code",
   "execution_count": 2,
   "metadata": {},
   "outputs": [],
   "source": [
    "df1    = pd.read_csv(\"df1.csv\") \n",
    "results_1 = df1['Actual Power'].tolist()\n",
    "df2    = pd.read_csv(\"df2.csv\") \n",
    "results_2 = df2['Actual Power'].tolist()\n",
    "df3    = pd.read_csv(\"df3.csv\") \n",
    "results_3 = df3['Actual Power'].tolist()\n",
    "df4    = pd.read_csv(\"df4.csv\") \n",
    "results_4 = df4['Actual Power'].tolist()\n",
    "df5    = pd.read_csv(\"df5.csv\") \n",
    "results_5 = df5['Actual Power'].tolist()\n",
    "df6    = pd.read_csv(\"df6.csv\") \n",
    "results_6 = df6['Actual Power'].tolist()\n",
    "df7    = pd.read_csv(\"df7.csv\") \n",
    "results_7 = df7['Actual Power'].tolist()\n",
    "df8    = pd.read_csv(\"df8.csv\") \n",
    "results_8 = df8['Actual Power'].tolist()\n",
    "df9    = pd.read_csv(\"df9.csv\") \n",
    "results_9 = df9['Actual Power'].tolist()\n",
    "\n",
    "data_to_plot = [results_1,results_2,results_3,results_4,results_5,results_6,results_7,results_8,results_9]"
   ]
  },
  {
   "cell_type": "markdown",
   "metadata": {},
   "source": [
    "http://blog.bharatbhole.com/creating-boxplots-with-matplotlib/"
   ]
  },
  {
   "cell_type": "code",
   "execution_count": 48,
   "metadata": {},
   "outputs": [
    {
     "data": {
      "text/plain": [
       "[Text(0, 0, '\\\\textbf{Model I}\\n$\\\\mu \\\\pm[1]\\\\sigma$\\n100 Iterations\\n per Point\\nX 3\\nTotal\\nIterations\\n= 800'),\n",
       " Text(0, 0, '\\\\textbf{Model II}\\n$\\\\mu \\\\pm[1,2]\\\\sigma$\\n100 Iterations\\n per Point\\nX 5\\nTotal\\nIterations\\n= 1,000'),\n",
       " Text(0, 0, '\\\\textbf{Model III}\\n$\\\\mu \\\\pm[1,2,3]\\\\sigma$\\n100 Iterations\\n per Point\\nX 7\\nTotal\\nIterations\\n= 1,200'),\n",
       " Text(0, 0, '\\\\textbf{Model IV}\\n$\\\\mu \\\\pm[1]\\\\sigma$\\n200 Iterations\\n per Point\\nX 3\\nTotal\\nIterations\\n= 1,100'),\n",
       " Text(0, 0, '\\\\textbf{Model V}\\n$\\\\mu \\\\pm[1,2]\\\\sigma$\\n200 Iterations\\n per Point\\nX 5\\nTotal\\nIterations\\n= 1,500'),\n",
       " Text(0, 0, '\\\\textbf{Model VI}\\n$\\\\mu \\\\pm[1,2,3]\\\\sigma$\\n200 Iterations\\n per Point\\nX 7\\nTotal\\nIterations\\n= 1,900')]"
      ]
     },
     "execution_count": 48,
     "metadata": {},
     "output_type": "execute_result"
    },
    {
     "data": {
      "image/png": "[encoded data removed]",
      "text/plain": [
       "<Figure size 1152x432 with 1 Axes>"
      ]
     },
     "metadata": {
      "needs_background": "light"
     },
     "output_type": "display_data"
    }
   ],
   "source": [
    "import matplotlib as mpl \n",
    "mpl.use('agg')\n",
    "%matplotlib inline\n",
    "import matplotlib.pyplot as plt \n",
    "from matplotlib import rc, rcParams\n",
    "rcParams['text.latex.preamble'] = [r'\\usepackage{sfmath} \\boldmath']\n",
    "rc('text', usetex=True)\n",
    "rc('axes', linewidth=2)\n",
    "rc('font', weight='bold')\n",
    "rcParams['text.latex.preamble'] = [r'\\usepackage{sfmath} \\boldmath']\n",
    "## add patch_artist=True option to ax.boxplot() \n",
    "## to get fill color\n",
    "\n",
    "# Create a figure instance\n",
    "fig = plt.figure(1, figsize=(16, 6))\n",
    "\n",
    "# Create an axes instance\n",
    "ax = fig.add_subplot(111)\n",
    "\n",
    "bp = ax.boxplot(data_to_plot, patch_artist=True)\n",
    "\n",
    "## change outline color, fill color and linewidth of the boxes\n",
    "for box in bp['boxes']:\n",
    "    # change outline color\n",
    "    box.set( color='#7570b3', linewidth=2)\n",
    "    # change fill color\n",
    "    box.set( facecolor = '#1b9e77' )\n",
    "\n",
    "## change color and linewidth of the whiskers\n",
    "for whisker in bp['whiskers']:\n",
    "    whisker.set(color='#7570b3', linewidth=2)\n",
    "\n",
    "## change color and linewidth of the caps\n",
    "for cap in bp['caps']:\n",
    "    cap.set(color='#7570b3', linewidth=2)\n",
    "\n",
    "## change color and linewidth of the medians\n",
    "for median in bp['medians']:\n",
    "    median.set(color='#b2df8a', linewidth=2)\n",
    "\n",
    "## change the style of fliers and their fill\n",
    "for flier in bp['fliers']:\n",
    "    flier.set(marker='o', color='#e7298a', alpha=0.5)\n",
    "ax.axhline(y=0.8, xmin=0.0, xmax=1.0, color='r')    \n",
    "\n",
    "## Custom x-axis labels\n",
    "ax.tick_params(axis='y', which='major', labelsize=16)\n",
    "ax.tick_params(axis='x', which='major', labelsize=16)\n",
    "label_1 = r\"\\textbf{Model I}\" \"\\n\" \"$\\mu \\pm[1]\\sigma$\" \"\\n\" \"100 Iterations\" \"\\n\" \" per Point\" \\\n",
    "           \"\\n\" \"X 3\" \"\\n\" \"Total\" \"\\n\" \"Iterations\" \"\\n\" \"= 800\"\n",
    "label_2 = r\"\\textbf{Model II}\" \"\\n\" \"$\\mu \\pm[1,2]\\sigma$\" \"\\n\" \"100 Iterations\" \"\\n\" \" per Point\" \\\n",
    "           \"\\n\" \"X 5\" \"\\n\" \"Total\" \"\\n\" \"Iterations\" \"\\n\" \"= 1,000\"\n",
    "label_3 = r\"\\textbf{Model III}\" \"\\n\" \"$\\mu \\pm[1,2,3]\\sigma$\" \"\\n\" \"100 Iterations\" \"\\n\" \" per Point\" \\\n",
    "           \"\\n\" \"X 7\" \"\\n\" \"Total\" \"\\n\" \"Iterations\" \"\\n\" \"= 1,200\"\n",
    "label_4 = r\"\\textbf{Model IV}\" \"\\n\" \"$\\mu \\pm[1]\\sigma$\" \"\\n\" \"200 Iterations\" \"\\n\" \" per Point\" \\\n",
    "           \"\\n\" \"X 3\" \"\\n\" \"Total\" \"\\n\" \"Iterations\" \"\\n\" \"= 1,100\"\n",
    "label_5 = r\"\\textbf{Model V}\" \"\\n\" \"$\\mu \\pm[1,2]\\sigma$\" \"\\n\" \"200 Iterations\" \"\\n\" \" per Point\" \\\n",
    "           \"\\n\" \"X 5\" \"\\n\" \"Total\" \"\\n\" \"Iterations\" \"\\n\" \"= 1,500\"\n",
    "label_6 = r\"\\textbf{Model VI}\" \"\\n\" \"$\\mu \\pm[1,2,3]\\sigma$\" \"\\n\" \"200 Iterations\" \"\\n\" \" per Point\" \\\n",
    "           \"\\n\" \"X 7\" \"\\n\" \"Total\" \"\\n\" \"Iterations\" \"\\n\" \"= 1,900\"\n",
    "label_7 = r\"\\textbf{Model IV}\" \"\\n\" \"$\\mu \\pm[1]\\sigma$\" \"\\n\" \"300 Iterations\" \"\\n\" \" per Point\" \\\n",
    "           \"\\n\" \"X 3\" \"\\n\" \"Total\" \"\\n\" \"Iterations\" \"\\n\" \"= 1,400\"\n",
    "label_8 = r\"\\textbf{Model V}\" \"\\n\" \"$\\mu \\pm[1,2]\\sigma$\" \"\\n\" \"300 Iterations\" \"\\n\" \" per Point\" \\\n",
    "           \"\\n\" \"X 5\" \"\\n\" \"Total\" \"\\n\" \"Iterations\" \"\\n\" \"= 1,500\"\n",
    "label_9 = r\"\\textbf{Model VI}\" \"\\n\" \"$\\mu \\pm[1,2,3]\\sigma$\" \"\\n\" \"300 Iterations\" \"\\n\" \" per Point\" \\\n",
    "           \"\\n\" \"X 7\" \"\\n\" \"Total\" \"\\n\" \"Iterations\" \"\\n\" \"= 1,900\"\n",
    "ax.set_xticklabels([label_1,label_2,label_3,label_4,label_5,label_6])\n",
    "# 'Model I \\n \\u03bc +/- [1] \\u03c3 \\n 100 \\n Iterations \\n per Point \\n X 3 \\n = 800 Total \\n Iterations',\n",
    "# '\\u03bc +/- [1,2] \\u03c3 \\n 100 \\n Iterations \\n per Point \\n X 5 \\n = 1,000 Total \\n Iterations',\n",
    "# '\\u03bc +/- [1,2,3] \\u03c3 \\n 100 \\n Iterations \\n per Point \\n X 7 \\n = 1,200 Total \\n Iterations',\n",
    "# r'\\textbf{Y-AXIS}'])\n",
    "\n",
    "# # Save the figure\n",
    "# fig.savefig('fig1.png', bbox_inches='tight')"
   ]
  },
  {
   "cell_type": "code",
   "execution_count": null,
   "metadata": {},
   "outputs": [],
   "source": []
  }
 ],
 "metadata": {
  "kernelspec": {
   "display_name": "Python 3",
   "language": "python",
   "name": "python3"
  },
  "language_info": {
   "codemirror_mode": {
    "name": "ipython",
    "version": 3
   },
   "file_extension": ".py",
   "mimetype": "text/x-python",
   "name": "python",
   "nbconvert_exporter": "python",
   "pygments_lexer": "ipython3",
   "version": "3.7.1"
  }
 },
 "nbformat": 4,
 "nbformat_minor": 2
}
