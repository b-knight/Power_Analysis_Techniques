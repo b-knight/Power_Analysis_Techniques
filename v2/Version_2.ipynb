{
 "cells": [
  {
   "cell_type": "code",
   "execution_count": 1,
   "metadata": {},
   "outputs": [],
   "source": [
    "import pandas as pd\n",
    "from olsEmpowered import sim_data  as sd\n",
    "from olsEmpowered import isotonic  as iso\n",
    "from olsEmpowered import naive_bst as nbst"
   ]
  },
  {
   "cell_type": "code",
   "execution_count": null,
   "metadata": {},
   "outputs": [
    {
     "name": "stdout",
     "output_type": "stream",
     "text": [
      "Successfully read in the .csv file specified at:\n",
      "     /home/bknight/Documents/Power_Analysis_Techniques/v2/data/sim_data_2019_12_25_202156.csv.\n",
      "Successfully read in the meta-data specified at:\n",
      "     /home/bknight/Documents/Power_Analysis_Techniques/v2/data/log_files/sim_data_2019_12_25_202156_log_file.txt.\n"
     ]
    },
    {
     "data": {
      "text/html": [
       "<div>\n",
       "<style scoped>\n",
       "    .dataframe tbody tr th:only-of-type {\n",
       "        vertical-align: middle;\n",
       "    }\n",
       "\n",
       "    .dataframe tbody tr th {\n",
       "        vertical-align: top;\n",
       "    }\n",
       "\n",
       "    .dataframe thead th {\n",
       "        text-align: right;\n",
       "    }\n",
       "</style>\n",
       "<table border=\"1\" class=\"dataframe\">\n",
       "  <thead>\n",
       "    <tr style=\"text-align: right;\">\n",
       "      <th></th>\n",
       "      <th>ID</th>\n",
       "      <th>order_amount</th>\n",
       "      <th>treated</th>\n",
       "      <th>retailer</th>\n",
       "      <th>customer</th>\n",
       "      <th>dow</th>\n",
       "      <th>noise</th>\n",
       "    </tr>\n",
       "  </thead>\n",
       "  <tbody>\n",
       "    <tr>\n",
       "      <th>0</th>\n",
       "      <td>1</td>\n",
       "      <td>50.862087</td>\n",
       "      <td>1</td>\n",
       "      <td>8.614801</td>\n",
       "      <td>100.960607</td>\n",
       "      <td>3.236155</td>\n",
       "      <td>-32.202975</td>\n",
       "    </tr>\n",
       "    <tr>\n",
       "      <th>1</th>\n",
       "      <td>2</td>\n",
       "      <td>135.518870</td>\n",
       "      <td>0</td>\n",
       "      <td>-37.081147</td>\n",
       "      <td>121.128707</td>\n",
       "      <td>1.496583</td>\n",
       "      <td>45.882475</td>\n",
       "    </tr>\n",
       "    <tr>\n",
       "      <th>2</th>\n",
       "      <td>3</td>\n",
       "      <td>94.424430</td>\n",
       "      <td>0</td>\n",
       "      <td>-5.049161</td>\n",
       "      <td>79.859155</td>\n",
       "      <td>7.094837</td>\n",
       "      <td>30.837454</td>\n",
       "    </tr>\n",
       "    <tr>\n",
       "      <th>3</th>\n",
       "      <td>4</td>\n",
       "      <td>73.684338</td>\n",
       "      <td>0</td>\n",
       "      <td>-9.941915</td>\n",
       "      <td>79.168003</td>\n",
       "      <td>6.049413</td>\n",
       "      <td>11.733377</td>\n",
       "    </tr>\n",
       "    <tr>\n",
       "      <th>4</th>\n",
       "      <td>5</td>\n",
       "      <td>23.420177</td>\n",
       "      <td>0</td>\n",
       "      <td>-25.637783</td>\n",
       "      <td>121.436989</td>\n",
       "      <td>4.269616</td>\n",
       "      <td>-69.028819</td>\n",
       "    </tr>\n",
       "  </tbody>\n",
       "</table>\n",
       "</div>"
      ],
      "text/plain": [
       "   ID  order_amount  treated   retailer    customer       dow      noise\n",
       "0   1     50.862087        1   8.614801  100.960607  3.236155 -32.202975\n",
       "1   2    135.518870        0 -37.081147  121.128707  1.496583  45.882475\n",
       "2   3     94.424430        0  -5.049161   79.859155  7.094837  30.837454\n",
       "3   4     73.684338        0  -9.941915   79.168003  6.049413  11.733377\n",
       "4   5     23.420177        0 -25.637783  121.436989  4.269616 -69.028819"
      ]
     },
     "execution_count": 2,
     "metadata": {},
     "output_type": "execute_result"
    }
   ],
   "source": [
    "covariates  = {'retailer': ['normal',  [0, 25],   0.2],\n",
    "               'customer': ['normal',  [100, 20], 0.8],\n",
    "               'dow':      ['uniform', [1,8],     0.1]}\n",
    "\n",
    "# p1 = sd.sim_data(dv_name = 'order_amount', \n",
    "#                  dv_cardinality = 'continuous', \n",
    "#                  absolute_effect_size = 0.25, \n",
    "#                  sample_size = 2500000, \n",
    "#                  noise_loc = 0.0, \n",
    "#                  noise_scale = 25,\n",
    "#                  covariates_dict = covariates)\n",
    "\n",
    "p1 = sd.sim_data(\n",
    "data_path =      '/home/bknight/Documents/Power_Analysis_Techniques/v2/data/sim_data_2019_12_25_202156.csv', \n",
    "meta_data_path = '/home/bknight/Documents/Power_Analysis_Techniques/v2/data/log_files/sim_data_2019_12_25_202156_log_file.txt')\n",
    "\n",
    "p1.data.head()"
   ]
  },
  {
   "cell_type": "code",
   "execution_count": null,
   "metadata": {},
   "outputs": [
    {
     "name": "stdout",
     "output_type": "stream",
     "text": [
      "Commencing power estimation via binary search (no starting value was specified).\n",
      "Estimating the effective power of n = 1,250,000 using 200 simulations.\n"
     ]
    }
   ],
   "source": [
    "p2 = nbst.naive_bst(p1)\n",
    "p3 = iso.isotonic(p1)\n",
    "p4 = iso.isotonic(p1, points_per_iteration = 3)\n",
    "#######################################\n",
    "nbst_n,  nbst_p,  nbst_df = p2.naive_bst()\n",
    "iso1_n,  iso1_p,  iso1_df = p3.isotonic_interpolation()\n",
    "iso2_n,  iso2_p,  iso2_df = p4.isotonic_interpolation()"
   ]
  },
  {
   "cell_type": "code",
   "execution_count": null,
   "metadata": {},
   "outputs": [],
   "source": [
    "nbst_df"
   ]
  },
  {
   "cell_type": "code",
   "execution_count": null,
   "metadata": {},
   "outputs": [],
   "source": [
    "iso1_df"
   ]
  },
  {
   "cell_type": "code",
   "execution_count": null,
   "metadata": {},
   "outputs": [],
   "source": [
    "iso2_df"
   ]
  }
 ],
 "metadata": {
  "kernelspec": {
   "display_name": "Python 3",
   "language": "python",
   "name": "python3"
  },
  "language_info": {
   "codemirror_mode": {
    "name": "ipython",
    "version": 3
   },
   "file_extension": ".py",
   "mimetype": "text/x-python",
   "name": "python",
   "nbconvert_exporter": "python",
   "pygments_lexer": "ipython3",
   "version": "3.7.1"
  }
 },
 "nbformat": 4,
 "nbformat_minor": 2
}
