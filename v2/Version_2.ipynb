{
 "cells": [
  {
   "cell_type": "code",
   "execution_count": 7,
   "metadata": {},
   "outputs": [],
   "source": [
    "import pandas as pd\n",
    "import supporting_functions as sf"
   ]
  },
  {
   "cell_type": "code",
   "execution_count": 8,
   "metadata": {},
   "outputs": [],
   "source": [
    "csv_name =  sf.create_sim_data(\n",
    "            absolute_treatment_effect = 0.50, \n",
    "            num_orders                = 1000000, \n",
    "            num_retailers             = 100, \n",
    "            retailer_loc              = 100.0, \n",
    "            retailer_scale            = 25.0, \n",
    "            noise_loc                 = 0.0, \n",
    "            noise_scale               = 25.0    \n",
    "            )"
   ]
  },
  {
   "cell_type": "code",
   "execution_count": 9,
   "metadata": {},
   "outputs": [
    {
     "data": {
      "text/plain": [
       "'./data/sim_data_2019_12_21_155654.csv'"
      ]
     },
     "execution_count": 9,
     "metadata": {},
     "output_type": "execute_result"
    }
   ],
   "source": [
    "csv_name"
   ]
  },
  {
   "cell_type": "code",
   "execution_count": 10,
   "metadata": {},
   "outputs": [
    {
     "data": {
      "text/html": [
       "<div>\n",
       "<style scoped>\n",
       "    .dataframe tbody tr th:only-of-type {\n",
       "        vertical-align: middle;\n",
       "    }\n",
       "\n",
       "    .dataframe tbody tr th {\n",
       "        vertical-align: top;\n",
       "    }\n",
       "\n",
       "    .dataframe thead th {\n",
       "        text-align: right;\n",
       "    }\n",
       "</style>\n",
       "<table border=\"1\" class=\"dataframe\">\n",
       "  <thead>\n",
       "    <tr style=\"text-align: right;\">\n",
       "      <th></th>\n",
       "      <th>Order_ID</th>\n",
       "      <th>Initial_Order_Amount</th>\n",
       "      <th>Treated</th>\n",
       "      <th>Mean_Retailer_Amount</th>\n",
       "    </tr>\n",
       "  </thead>\n",
       "  <tbody>\n",
       "    <tr>\n",
       "      <th>0</th>\n",
       "      <td>1.0</td>\n",
       "      <td>99.602812</td>\n",
       "      <td>1.0</td>\n",
       "      <td>105.03408</td>\n",
       "    </tr>\n",
       "    <tr>\n",
       "      <th>1</th>\n",
       "      <td>2.0</td>\n",
       "      <td>100.596704</td>\n",
       "      <td>1.0</td>\n",
       "      <td>105.03408</td>\n",
       "    </tr>\n",
       "    <tr>\n",
       "      <th>2</th>\n",
       "      <td>377.0</td>\n",
       "      <td>83.609874</td>\n",
       "      <td>1.0</td>\n",
       "      <td>105.03408</td>\n",
       "    </tr>\n",
       "    <tr>\n",
       "      <th>3</th>\n",
       "      <td>479.0</td>\n",
       "      <td>123.746820</td>\n",
       "      <td>1.0</td>\n",
       "      <td>105.03408</td>\n",
       "    </tr>\n",
       "    <tr>\n",
       "      <th>4</th>\n",
       "      <td>564.0</td>\n",
       "      <td>160.399740</td>\n",
       "      <td>1.0</td>\n",
       "      <td>105.03408</td>\n",
       "    </tr>\n",
       "  </tbody>\n",
       "</table>\n",
       "</div>"
      ],
      "text/plain": [
       "   Order_ID  Initial_Order_Amount  Treated  Mean_Retailer_Amount\n",
       "0       1.0             99.602812      1.0             105.03408\n",
       "1       2.0            100.596704      1.0             105.03408\n",
       "2     377.0             83.609874      1.0             105.03408\n",
       "3     479.0            123.746820      1.0             105.03408\n",
       "4     564.0            160.399740      1.0             105.03408"
      ]
     },
     "execution_count": 10,
     "metadata": {},
     "output_type": "execute_result"
    }
   ],
   "source": [
    "data = pd.read_csv(csv_name)\n",
    "data.head()"
   ]
  },
  {
   "cell_type": "code",
   "execution_count": 11,
   "metadata": {},
   "outputs": [
    {
     "data": {
      "text/plain": [
       "123474"
      ]
     },
     "execution_count": 11,
     "metadata": {},
     "output_type": "execute_result"
    }
   ],
   "source": [
    "rec_n = sf.set_starting_value(data, 'Treated', ['Mean_Retailer_Amount'], \n",
    "                              'Initial_Order_Amount', 0.25, 0.05, 0.8)\n",
    "rec_n "
   ]
  }
 ],
 "metadata": {
  "kernelspec": {
   "display_name": "Python 3",
   "language": "python",
   "name": "python3"
  },
  "language_info": {
   "codemirror_mode": {
    "name": "ipython",
    "version": 3
   },
   "file_extension": ".py",
   "mimetype": "text/x-python",
   "name": "python",
   "nbconvert_exporter": "python",
   "pygments_lexer": "ipython3",
   "version": "3.7.1"
  }
 },
 "nbformat": 4,
 "nbformat_minor": 2
}
