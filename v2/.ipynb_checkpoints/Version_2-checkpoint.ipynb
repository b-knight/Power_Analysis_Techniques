{
 "cells": [
  {
   "cell_type": "code",
   "execution_count": 1,
   "metadata": {},
   "outputs": [],
   "source": [
    "import pandas as pd\n",
    "from olsEmpowered import sim_data as sd\n",
    "from olsEmpowered import isotonic as iso"
   ]
  },
  {
   "cell_type": "code",
   "execution_count": 2,
   "metadata": {},
   "outputs": [
    {
     "name": "stdout",
     "output_type": "stream",
     "text": [
      "Simulation data was saved to: \n",
      "     /home/bknight/Documents/Power_Analysis_Techniques/v2/data/sim_data_2019_12_24_201909.csv.\n",
      "Meta-data was saved to: \n",
      "     ./data/log_files/sim_data_2019_12_24_201909_log_file.txt.\n",
      "20000 observations of simulation data created in 0 minutes and 0 seconds.\n"
     ]
    },
    {
     "data": {
      "text/html": [
       "<div>\n",
       "<style scoped>\n",
       "    .dataframe tbody tr th:only-of-type {\n",
       "        vertical-align: middle;\n",
       "    }\n",
       "\n",
       "    .dataframe tbody tr th {\n",
       "        vertical-align: top;\n",
       "    }\n",
       "\n",
       "    .dataframe thead th {\n",
       "        text-align: right;\n",
       "    }\n",
       "</style>\n",
       "<table border=\"1\" class=\"dataframe\">\n",
       "  <thead>\n",
       "    <tr style=\"text-align: right;\">\n",
       "      <th></th>\n",
       "      <th>ID</th>\n",
       "      <th>order_amount</th>\n",
       "      <th>treated</th>\n",
       "      <th>retailer</th>\n",
       "      <th>customer</th>\n",
       "      <th>dow</th>\n",
       "    </tr>\n",
       "  </thead>\n",
       "  <tbody>\n",
       "    <tr>\n",
       "      <th>0</th>\n",
       "      <td>1</td>\n",
       "      <td>76.753456</td>\n",
       "      <td>0</td>\n",
       "      <td>16.917670</td>\n",
       "      <td>90.988436</td>\n",
       "      <td>5.791733</td>\n",
       "    </tr>\n",
       "    <tr>\n",
       "      <th>1</th>\n",
       "      <td>2</td>\n",
       "      <td>66.348660</td>\n",
       "      <td>1</td>\n",
       "      <td>-84.864306</td>\n",
       "      <td>102.999438</td>\n",
       "      <td>6.719712</td>\n",
       "    </tr>\n",
       "    <tr>\n",
       "      <th>2</th>\n",
       "      <td>3</td>\n",
       "      <td>86.671372</td>\n",
       "      <td>1</td>\n",
       "      <td>-27.332786</td>\n",
       "      <td>114.240710</td>\n",
       "      <td>4.953615</td>\n",
       "    </tr>\n",
       "    <tr>\n",
       "      <th>3</th>\n",
       "      <td>4</td>\n",
       "      <td>93.401295</td>\n",
       "      <td>0</td>\n",
       "      <td>0.125690</td>\n",
       "      <td>116.184551</td>\n",
       "      <td>4.285158</td>\n",
       "    </tr>\n",
       "    <tr>\n",
       "      <th>4</th>\n",
       "      <td>5</td>\n",
       "      <td>71.908799</td>\n",
       "      <td>1</td>\n",
       "      <td>-27.232504</td>\n",
       "      <td>95.865532</td>\n",
       "      <td>4.128741</td>\n",
       "    </tr>\n",
       "  </tbody>\n",
       "</table>\n",
       "</div>"
      ],
      "text/plain": [
       "   ID  order_amount  treated   retailer    customer       dow\n",
       "0   1     76.753456        0  16.917670   90.988436  5.791733\n",
       "1   2     66.348660        1 -84.864306  102.999438  6.719712\n",
       "2   3     86.671372        1 -27.332786  114.240710  4.953615\n",
       "3   4     93.401295        0   0.125690  116.184551  4.285158\n",
       "4   5     71.908799        1 -27.232504   95.865532  4.128741"
      ]
     },
     "execution_count": 2,
     "metadata": {},
     "output_type": "execute_result"
    }
   ],
   "source": [
    "covariates  = {'retailer': ['normal',  [0, 25],   0.2],\n",
    "               'customer': ['normal',  [100, 20], 0.8],\n",
    "               'dow':      ['uniform', [1,8],     0.1]}\n",
    "\n",
    "p1 = sd.sim_data(dv_name = 'order_amount', \n",
    "                 dv_cardinality = 'continuous', \n",
    "                 absolute_effect_size = 0.01, \n",
    "                 sample_size = 20000, \n",
    "                 covariates_dict = covariates)\n",
    "p1.data.head()"
   ]
  },
  {
   "cell_type": "code",
   "execution_count": 3,
   "metadata": {},
   "outputs": [
    {
     "name": "stderr",
     "output_type": "stream",
     "text": [
      "/home/bknight/anaconda3/lib/python3.7/site-packages/statsmodels/stats/power.py:300: ConvergenceWarning: \n",
      "Failed to converge on a solution.\n",
      "\n",
      "  warnings.warn(convergence_doc, ConvergenceWarning)\n"
     ]
    },
    {
     "data": {
      "text/plain": [
       "10"
      ]
     },
     "execution_count": 3,
     "metadata": {},
     "output_type": "execute_result"
    }
   ],
   "source": [
    "iso1 = iso.isotonic(p1)\n",
    "n = iso1.set_starting_value()\n",
    "n"
   ]
  }
 ],
 "metadata": {
  "kernelspec": {
   "display_name": "Python 3",
   "language": "python",
   "name": "python3"
  },
  "language_info": {
   "codemirror_mode": {
    "name": "ipython",
    "version": 3
   },
   "file_extension": ".py",
   "mimetype": "text/x-python",
   "name": "python",
   "nbconvert_exporter": "python",
   "pygments_lexer": "ipython3",
   "version": "3.7.1"
  }
 },
 "nbformat": 4,
 "nbformat_minor": 2
}
