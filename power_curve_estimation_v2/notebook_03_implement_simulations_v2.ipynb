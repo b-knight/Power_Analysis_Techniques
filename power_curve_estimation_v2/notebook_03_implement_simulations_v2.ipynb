{
 "cells": [
  {
   "cell_type": "code",
   "execution_count": 1,
   "metadata": {},
   "outputs": [],
   "source": [
    "def create_data_frame(data_src): \n",
    "    import pandas as pd\n",
    "    \n",
    "    data_labels = ['Order_ID', 'Customer_ID', 'Mean_Order_Amt', 'Treated',\n",
    "                   'Treatment_Modifier', 'Retailer_ID', 'Retailer_Scalar',\n",
    "                   'Dow_Rand', 'DOW', 'Noise', 'Order_Amt']\n",
    "     \n",
    "    pa_retailer_means = pd.DataFrame(data_src.groupby(['Retailer_ID'])['Order_Amt'].mean())\n",
    "    pa_retailer_means.reset_index(inplace=True)\n",
    "    pa_retailer_means.columns = ['Retailer_ID', 'Mean_Retailer_Order_Amt']\n",
    "    ###############################################################################\n",
    "    pa_dow_means = pd.DataFrame(data_src.groupby(['Dow_Rand'])['Order_Amt'].mean())\n",
    "    pa_dow_means.reset_index(inplace = True)\n",
    "    pa_dow_means.columns = ['Dow_Rand', 'Mean_DOW_Order_Amt']\n",
    "    ###############################################################################\n",
    "    analysis_df = pd.merge(data_src, pa_retailer_means, on = 'Retailer_ID', how = 'left')\n",
    "    analysis_df = pd.merge(analysis_df, pa_dow_means, on = 'Dow_Rand', how = 'left')\n",
    "    ###############################################################################\n",
    "    analysis_df = analysis_df[['Order_Amt', 'Treated', 'Customer_ID', 'Mean_Order_Amt', \n",
    "                               'Mean_Retailer_Order_Amt','Mean_DOW_Order_Amt']]\n",
    "    return analysis_df"
   ]
  },
  {
   "cell_type": "code",
   "execution_count": 2,
   "metadata": {},
   "outputs": [],
   "source": [
    "def assess_point(point_n, num_sim, threshold, data):\n",
    "    from statistics import mean\n",
    "    import statsmodels.api as sm\n",
    "    import statsmodels.formula.api as smf\n",
    "    \n",
    "    pvalues  = []\n",
    "    detected = []\n",
    "    \n",
    "#     print(\"Estimating power using n = {} with a p-value threshold of {}.\".format(point_n, threshold))\n",
    "    for i in list(range(0, num_sim, 1)):\n",
    "        working_df = data.sample(point_n, replace=False)\n",
    "        X = working_df[['Treated', 'Mean_Retailer_Order_Amt','Mean_DOW_Order_Amt']]\n",
    "        X = sm.add_constant(X)\n",
    "        Y = working_df[['Order_Amt']]\n",
    "        model = sm.OLS(Y, X).fit(method='pinv').get_robustcov_results(\n",
    "                'cluster', groups = working_df['Customer_ID'], \n",
    "                use_correction=True, df_correction=True)\n",
    "        pvalues.append(model.pvalues[1])\n",
    "#         print(model.summary())\n",
    "        if model.pvalues[1] < threshold:\n",
    "            detected.append(1)\n",
    "        else:\n",
    "            detected.append(0)\n",
    "    power = mean(detected)\n",
    "#     print(\"Power was estimated as {}.\".format(power))\n",
    "    return power, pvalues"
   ]
  },
  {
   "cell_type": "code",
   "execution_count": 3,
   "metadata": {},
   "outputs": [],
   "source": [
    "def create_rec(points, sub_iterations, threshold, desired_power, data):\n",
    "    import numpy as np\n",
    "    from scipy.optimize import curve_fit\n",
    "    import time    \n",
    "\n",
    "    start = time.time()\n",
    "    master_results = []\n",
    "    for i in points:\n",
    "        power, pvalues = assess_point(i, sub_iterations, 0.05, data)\n",
    "        master_results.append(power)\n",
    "        \n",
    "    def exp_func(x, a, b, c):\n",
    "        return a * np.log(b * x) + c\n",
    "\n",
    "    eta = []\n",
    "    for i in points:\n",
    "        eta.append(i)\n",
    "    eta = np.asarray(eta)\n",
    " #   print(eta)\n",
    "    cdf = []\n",
    "    for i in master_results:\n",
    "        cdf.append(i)\n",
    "    cdf = np.asarray(cdf)\n",
    "  #  print(cdf)\n",
    "\n",
    "    popt, pcov = curve_fit(exp_func, eta, cdf)\n",
    "    \n",
    "    recommended_n = int(np.exp((desired_power - popt[2])/popt[0])/popt[1])    \n",
    "    end = time.time()\n",
    "    time_req = (end - start)/60.0\n",
    "    return recommended_n, master_results, time_req"
   ]
  },
  {
   "cell_type": "code",
   "execution_count": 4,
   "metadata": {},
   "outputs": [],
   "source": [
    "def verify_sample_size_est(sample_size, alpha, verify_n_times, data):\n",
    "\n",
    "    import statsmodels.api as sm\n",
    "    import pandas as pd\n",
    "    \n",
    "    SAMPLE_SIZE = sample_size\n",
    "    VERIFICATION_ITERATIONS = verify_n_times\n",
    "    ALPHA = alpha\n",
    "\n",
    "    \n",
    "    data_labels = ['Order_ID', 'Customer_ID', 'Mean_Order_Amt', 'Treated',\n",
    "                   'Treatment_Modifier', 'Retailer_ID', 'Retailer_Scalar',\n",
    "                   'Dow_Rand', 'DOW', 'Noise', 'Order_Amt']\n",
    "    \n",
    "    i = 0\n",
    "    pvals  = []\n",
    "    r_sqr  = []\n",
    "    cond_n = []\n",
    "    while i < VERIFICATION_ITERATIONS:\n",
    "        try:\n",
    "            analysis_df = data.sample(sample_size, replace=False)\n",
    "        except:\n",
    "            print(\"Failed to collect subsample of size {}. Reattempting\".format())\n",
    "            analysis_df = data.sample(sample_size, replace=False)\n",
    "            \n",
    "        X = analysis_df[['Treated', 'Mean_Retailer_Order_Amt','Mean_DOW_Order_Amt']]\n",
    "        X = sm.add_constant(X)\n",
    "        Y = analysis_df[['Order_Amt']]\n",
    "        model = sm.OLS(Y.astype(float), X.astype(float)).fit(method='pinv'). \\\n",
    "                       get_robustcov_results('cluster', groups = analysis_df['Customer_ID'], \n",
    "                       use_correction=True, df_correction=True)\n",
    "        if model.pvalues[1] < ALPHA: \n",
    "            pvals.append(1)\n",
    "        else:\n",
    "            pvals.append(0)  \n",
    "\n",
    "        r_sqr.append(model.rsquared_adj)\n",
    "        cond_n.append(model.condition_number)\n",
    "        i += 1\n",
    "        if i % int((VERIFICATION_ITERATIONS)/10.0) == 0:\n",
    "            completion = str(round((i/VERIFICATION_ITERATIONS)*100, 2))+'%'\n",
    "            print(completion + ' complete.')\n",
    "            \n",
    "    # ----- Exit inner loop     \n",
    "    x = ['Treated', 'Mean_Retailer_Order_Amt','Mean_DOW_Order_Amt']\n",
    "    str_out = 'Order_Amt =' \n",
    "    d = 0\n",
    "    for i in x:\n",
    "        if d < 1:\n",
    "            k = \" '\" + i + \"'\"\n",
    "        else:\n",
    "            k = \" + '\" + i + \"'\"\n",
    "        str_out += k\n",
    "        d += 1    \n",
    "    \n",
    "    actual_power = sum(pvals)/len(pvals)  \n",
    "   # print(pvals)\n",
    "    mean_r_sqr   = sum(r_sqr)/len(r_sqr)   \n",
    "    mean_cond_n  = sum(cond_n)/len(cond_n)  \n",
    "    #print(\"Actual power was estimated at {}.\".format(actual_power))\n",
    "    return actual_power, mean_r_sqr, mean_cond_n, str_out"
   ]
  },
  {
   "cell_type": "code",
   "execution_count": null,
   "metadata": {},
   "outputs": [],
   "source": [
    "def create_df(points, meta_iterations, sub_iterations, threshold, desired_power,verification_n):\n",
    "    import pandas as pd\n",
    "    \n",
    "    dir_name = '/home/bknight/Documents/Power_Analysis_Techniques/variance_of_residuals/residual_dfs/'\n",
    "    file_A = 'part_II_df_mde_0_01_n_100000_a.csv'\n",
    "    file_B = 'part_II_df_mde_0_01_n_100000_b.csv'\n",
    "    data_A = pd.read_csv(dir_name + file_A)\n",
    "    data_B = pd.read_csv(dir_name + file_B)\n",
    "    data_a = create_data_frame(data_A)\n",
    "    data_b = create_data_frame(data_B)\n",
    "    ##########################################################################################################\n",
    "\n",
    "    recommendations       = []\n",
    "    time_required         = []\n",
    "    desired_p_list        = []\n",
    "    actual_power_list     = []\n",
    "    mean_r_sqr_list       = []\n",
    "    mean_cond_n_list      = []\n",
    "    str_out_list          = []\n",
    "    n_points              = []\n",
    "    point_list            = []\n",
    "    simulations_per_point = []\n",
    "    verification_steps    = []\n",
    "\n",
    "\n",
    "    for i in list(range(0, meta_iterations, 1)):\n",
    "        recommended_n, results, time_req = create_rec(points, sub_iterations, \n",
    "                                                      threshold, desired_power, data_a)\n",
    "        actual_power, mean_r_sqr, mean_cond_n, str_out = \\\n",
    "                      verify_sample_size_est(recommended_n, threshold, verification_n, data_b)\n",
    "\n",
    "        recommendations.append(recommended_n)\n",
    "        time_required.append(time_req)\n",
    "        desired_p_list.append(desired_power) \n",
    "        actual_power_list.append(actual_power)\n",
    "        mean_r_sqr_list.append(mean_r_sqr)\n",
    "        mean_cond_n_list.append(mean_cond_n)\n",
    "        str_out_list.append(str_out)\n",
    "        n_points.append(len(points))\n",
    "        point_list.append(points)\n",
    "        simulations_per_point.append(sub_iterations)\n",
    "        verification_steps.append(verification_n)\n",
    "\n",
    "    df = pd.DataFrame([recommendations, time_required, desired_p_list, actual_power_list, \n",
    "                       mean_r_sqr_list, mean_cond_n_list, str_out_list, n_points, \n",
    "                       point_list, simulations_per_point, verification_steps]).T\n",
    "    df.columns = ['Recommended N', 'Time Required', 'Desired Power', 'Actual Power',\n",
    "                  'Avg. R-Squared', 'Mean Cond. Number', 'Model Specification', '# Points', \n",
    "                  'Points', 'Simulations per Point', 'Verification Simulations']\n",
    "    df.to_csv(\"Model_II_{}_Points_{}_Iterations.csv\".format(len(points), sub_iterations))\n",
    "    return df"
   ]
  },
  {
   "cell_type": "code",
   "execution_count": null,
   "metadata": {},
   "outputs": [
    {
     "name": "stderr",
     "output_type": "stream",
     "text": [
      "/home/bknight/anaconda3/lib/python3.7/site-packages/ipykernel_launcher.py:13: RuntimeWarning: invalid value encountered in log\n",
      "  del sys.path[0]\n",
      "/home/bknight/anaconda3/lib/python3.7/site-packages/scipy/optimize/minpack.py:794: OptimizeWarning: Covariance of the parameters could not be estimated\n",
      "  category=OptimizeWarning)\n"
     ]
    },
    {
     "name": "stdout",
     "output_type": "stream",
     "text": [
      "10.0% complete.\n",
      "20.0% complete.\n",
      "30.0% complete.\n",
      "40.0% complete.\n",
      "50.0% complete.\n",
      "60.0% complete.\n",
      "70.0% complete.\n",
      "80.0% complete.\n",
      "90.0% complete.\n",
      "100.0% complete.\n"
     ]
    },
    {
     "name": "stderr",
     "output_type": "stream",
     "text": [
      "/home/bknight/anaconda3/lib/python3.7/site-packages/scipy/optimize/minpack.py:794: OptimizeWarning: Covariance of the parameters could not be estimated\n",
      "  category=OptimizeWarning)\n"
     ]
    },
    {
     "name": "stdout",
     "output_type": "stream",
     "text": [
      "10.0% complete.\n",
      "20.0% complete.\n",
      "30.0% complete.\n",
      "40.0% complete.\n",
      "50.0% complete.\n",
      "60.0% complete.\n",
      "70.0% complete.\n",
      "80.0% complete.\n",
      "90.0% complete.\n",
      "100.0% complete.\n"
     ]
    },
    {
     "name": "stderr",
     "output_type": "stream",
     "text": [
      "/home/bknight/anaconda3/lib/python3.7/site-packages/scipy/optimize/minpack.py:794: OptimizeWarning: Covariance of the parameters could not be estimated\n",
      "  category=OptimizeWarning)\n"
     ]
    },
    {
     "name": "stdout",
     "output_type": "stream",
     "text": [
      "10.0% complete.\n",
      "20.0% complete.\n",
      "30.0% complete.\n",
      "40.0% complete.\n",
      "50.0% complete.\n",
      "60.0% complete.\n",
      "70.0% complete.\n",
      "80.0% complete.\n",
      "90.0% complete.\n",
      "100.0% complete.\n"
     ]
    },
    {
     "name": "stderr",
     "output_type": "stream",
     "text": [
      "/home/bknight/anaconda3/lib/python3.7/site-packages/scipy/optimize/minpack.py:794: OptimizeWarning: Covariance of the parameters could not be estimated\n",
      "  category=OptimizeWarning)\n"
     ]
    },
    {
     "name": "stdout",
     "output_type": "stream",
     "text": [
      "10.0% complete.\n",
      "20.0% complete.\n",
      "30.0% complete.\n",
      "40.0% complete.\n",
      "50.0% complete.\n",
      "60.0% complete.\n",
      "70.0% complete.\n",
      "80.0% complete.\n",
      "90.0% complete.\n",
      "100.0% complete.\n"
     ]
    },
    {
     "name": "stderr",
     "output_type": "stream",
     "text": [
      "/home/bknight/anaconda3/lib/python3.7/site-packages/scipy/optimize/minpack.py:794: OptimizeWarning: Covariance of the parameters could not be estimated\n",
      "  category=OptimizeWarning)\n"
     ]
    },
    {
     "name": "stdout",
     "output_type": "stream",
     "text": [
      "10.0% complete.\n",
      "20.0% complete.\n",
      "30.0% complete.\n",
      "40.0% complete.\n",
      "50.0% complete.\n",
      "60.0% complete.\n",
      "70.0% complete.\n",
      "80.0% complete.\n",
      "90.0% complete.\n",
      "100.0% complete.\n"
     ]
    },
    {
     "name": "stderr",
     "output_type": "stream",
     "text": [
      "/home/bknight/anaconda3/lib/python3.7/site-packages/scipy/optimize/minpack.py:794: OptimizeWarning: Covariance of the parameters could not be estimated\n",
      "  category=OptimizeWarning)\n"
     ]
    },
    {
     "name": "stdout",
     "output_type": "stream",
     "text": [
      "10.0% complete.\n",
      "20.0% complete.\n",
      "30.0% complete.\n",
      "40.0% complete.\n",
      "50.0% complete.\n",
      "60.0% complete.\n",
      "70.0% complete.\n",
      "80.0% complete.\n",
      "90.0% complete.\n",
      "100.0% complete.\n"
     ]
    },
    {
     "name": "stderr",
     "output_type": "stream",
     "text": [
      "/home/bknight/anaconda3/lib/python3.7/site-packages/scipy/optimize/minpack.py:794: OptimizeWarning: Covariance of the parameters could not be estimated\n",
      "  category=OptimizeWarning)\n"
     ]
    },
    {
     "name": "stdout",
     "output_type": "stream",
     "text": [
      "10.0% complete.\n",
      "20.0% complete.\n",
      "30.0% complete.\n",
      "40.0% complete.\n",
      "50.0% complete.\n",
      "60.0% complete.\n",
      "70.0% complete.\n",
      "80.0% complete.\n",
      "90.0% complete.\n",
      "100.0% complete.\n"
     ]
    },
    {
     "name": "stderr",
     "output_type": "stream",
     "text": [
      "/home/bknight/anaconda3/lib/python3.7/site-packages/scipy/optimize/minpack.py:794: OptimizeWarning: Covariance of the parameters could not be estimated\n",
      "  category=OptimizeWarning)\n"
     ]
    },
    {
     "name": "stdout",
     "output_type": "stream",
     "text": [
      "10.0% complete.\n",
      "20.0% complete.\n",
      "30.0% complete.\n",
      "40.0% complete.\n",
      "50.0% complete.\n",
      "60.0% complete.\n",
      "70.0% complete.\n",
      "80.0% complete.\n",
      "90.0% complete.\n",
      "100.0% complete.\n"
     ]
    },
    {
     "name": "stderr",
     "output_type": "stream",
     "text": [
      "/home/bknight/anaconda3/lib/python3.7/site-packages/scipy/optimize/minpack.py:794: OptimizeWarning: Covariance of the parameters could not be estimated\n",
      "  category=OptimizeWarning)\n"
     ]
    },
    {
     "name": "stdout",
     "output_type": "stream",
     "text": [
      "10.0% complete.\n",
      "20.0% complete.\n",
      "30.0% complete.\n",
      "40.0% complete.\n",
      "50.0% complete.\n",
      "60.0% complete.\n",
      "70.0% complete.\n",
      "80.0% complete.\n",
      "90.0% complete.\n",
      "100.0% complete.\n"
     ]
    },
    {
     "name": "stderr",
     "output_type": "stream",
     "text": [
      "/home/bknight/anaconda3/lib/python3.7/site-packages/scipy/optimize/minpack.py:794: OptimizeWarning: Covariance of the parameters could not be estimated\n",
      "  category=OptimizeWarning)\n"
     ]
    },
    {
     "name": "stdout",
     "output_type": "stream",
     "text": [
      "10.0% complete.\n",
      "20.0% complete.\n",
      "30.0% complete.\n",
      "40.0% complete.\n",
      "50.0% complete.\n",
      "60.0% complete.\n",
      "70.0% complete.\n",
      "80.0% complete.\n",
      "90.0% complete.\n",
      "100.0% complete.\n"
     ]
    },
    {
     "name": "stderr",
     "output_type": "stream",
     "text": [
      "/home/bknight/anaconda3/lib/python3.7/site-packages/scipy/optimize/minpack.py:794: OptimizeWarning: Covariance of the parameters could not be estimated\n",
      "  category=OptimizeWarning)\n"
     ]
    },
    {
     "name": "stdout",
     "output_type": "stream",
     "text": [
      "10.0% complete.\n",
      "20.0% complete.\n",
      "30.0% complete.\n",
      "40.0% complete.\n",
      "50.0% complete.\n",
      "60.0% complete.\n",
      "70.0% complete.\n",
      "80.0% complete.\n",
      "90.0% complete.\n",
      "100.0% complete.\n"
     ]
    },
    {
     "name": "stderr",
     "output_type": "stream",
     "text": [
      "/home/bknight/anaconda3/lib/python3.7/site-packages/scipy/optimize/minpack.py:794: OptimizeWarning: Covariance of the parameters could not be estimated\n",
      "  category=OptimizeWarning)\n"
     ]
    },
    {
     "name": "stdout",
     "output_type": "stream",
     "text": [
      "10.0% complete.\n",
      "20.0% complete.\n",
      "30.0% complete.\n",
      "40.0% complete.\n",
      "50.0% complete.\n",
      "60.0% complete.\n",
      "70.0% complete.\n",
      "80.0% complete.\n",
      "90.0% complete.\n",
      "100.0% complete.\n"
     ]
    },
    {
     "name": "stderr",
     "output_type": "stream",
     "text": [
      "/home/bknight/anaconda3/lib/python3.7/site-packages/scipy/optimize/minpack.py:794: OptimizeWarning: Covariance of the parameters could not be estimated\n",
      "  category=OptimizeWarning)\n"
     ]
    },
    {
     "name": "stdout",
     "output_type": "stream",
     "text": [
      "10.0% complete.\n",
      "20.0% complete.\n",
      "30.0% complete.\n",
      "40.0% complete.\n",
      "50.0% complete.\n",
      "60.0% complete.\n",
      "70.0% complete.\n",
      "80.0% complete.\n",
      "90.0% complete.\n",
      "100.0% complete.\n"
     ]
    },
    {
     "name": "stderr",
     "output_type": "stream",
     "text": [
      "/home/bknight/anaconda3/lib/python3.7/site-packages/scipy/optimize/minpack.py:794: OptimizeWarning: Covariance of the parameters could not be estimated\n",
      "  category=OptimizeWarning)\n"
     ]
    },
    {
     "name": "stdout",
     "output_type": "stream",
     "text": [
      "10.0% complete.\n",
      "20.0% complete.\n",
      "30.0% complete.\n",
      "40.0% complete.\n",
      "50.0% complete.\n",
      "60.0% complete.\n",
      "70.0% complete.\n",
      "80.0% complete.\n",
      "90.0% complete.\n",
      "100.0% complete.\n"
     ]
    },
    {
     "name": "stderr",
     "output_type": "stream",
     "text": [
      "/home/bknight/anaconda3/lib/python3.7/site-packages/scipy/optimize/minpack.py:794: OptimizeWarning: Covariance of the parameters could not be estimated\n",
      "  category=OptimizeWarning)\n"
     ]
    },
    {
     "name": "stdout",
     "output_type": "stream",
     "text": [
      "10.0% complete.\n",
      "20.0% complete.\n",
      "30.0% complete.\n",
      "40.0% complete.\n",
      "50.0% complete.\n",
      "60.0% complete.\n",
      "70.0% complete.\n",
      "80.0% complete.\n",
      "90.0% complete.\n",
      "100.0% complete.\n"
     ]
    },
    {
     "name": "stderr",
     "output_type": "stream",
     "text": [
      "/home/bknight/anaconda3/lib/python3.7/site-packages/scipy/optimize/minpack.py:794: OptimizeWarning: Covariance of the parameters could not be estimated\n",
      "  category=OptimizeWarning)\n"
     ]
    },
    {
     "name": "stdout",
     "output_type": "stream",
     "text": [
      "10.0% complete.\n",
      "20.0% complete.\n",
      "30.0% complete.\n",
      "40.0% complete.\n",
      "50.0% complete.\n",
      "60.0% complete.\n",
      "70.0% complete.\n",
      "80.0% complete.\n",
      "90.0% complete.\n",
      "100.0% complete.\n"
     ]
    },
    {
     "name": "stderr",
     "output_type": "stream",
     "text": [
      "/home/bknight/anaconda3/lib/python3.7/site-packages/scipy/optimize/minpack.py:794: OptimizeWarning: Covariance of the parameters could not be estimated\n",
      "  category=OptimizeWarning)\n"
     ]
    },
    {
     "name": "stdout",
     "output_type": "stream",
     "text": [
      "10.0% complete.\n",
      "20.0% complete.\n",
      "30.0% complete.\n",
      "40.0% complete.\n",
      "50.0% complete.\n",
      "60.0% complete.\n",
      "70.0% complete.\n",
      "80.0% complete.\n",
      "90.0% complete.\n",
      "100.0% complete.\n"
     ]
    },
    {
     "name": "stderr",
     "output_type": "stream",
     "text": [
      "/home/bknight/anaconda3/lib/python3.7/site-packages/scipy/optimize/minpack.py:794: OptimizeWarning: Covariance of the parameters could not be estimated\n",
      "  category=OptimizeWarning)\n"
     ]
    },
    {
     "name": "stdout",
     "output_type": "stream",
     "text": [
      "10.0% complete.\n",
      "20.0% complete.\n",
      "30.0% complete.\n",
      "40.0% complete.\n",
      "50.0% complete.\n",
      "60.0% complete.\n",
      "70.0% complete.\n",
      "80.0% complete.\n",
      "90.0% complete.\n",
      "100.0% complete.\n"
     ]
    },
    {
     "name": "stderr",
     "output_type": "stream",
     "text": [
      "/home/bknight/anaconda3/lib/python3.7/site-packages/scipy/optimize/minpack.py:794: OptimizeWarning: Covariance of the parameters could not be estimated\n",
      "  category=OptimizeWarning)\n"
     ]
    },
    {
     "name": "stdout",
     "output_type": "stream",
     "text": [
      "10.0% complete.\n",
      "20.0% complete.\n",
      "30.0% complete.\n",
      "40.0% complete.\n",
      "50.0% complete.\n",
      "60.0% complete.\n",
      "70.0% complete.\n",
      "80.0% complete.\n",
      "90.0% complete.\n",
      "100.0% complete.\n"
     ]
    },
    {
     "name": "stderr",
     "output_type": "stream",
     "text": [
      "/home/bknight/anaconda3/lib/python3.7/site-packages/scipy/optimize/minpack.py:794: OptimizeWarning: Covariance of the parameters could not be estimated\n",
      "  category=OptimizeWarning)\n"
     ]
    },
    {
     "name": "stdout",
     "output_type": "stream",
     "text": [
      "10.0% complete.\n",
      "20.0% complete.\n",
      "30.0% complete.\n",
      "40.0% complete.\n",
      "50.0% complete.\n",
      "60.0% complete.\n",
      "70.0% complete.\n",
      "80.0% complete.\n",
      "90.0% complete.\n",
      "100.0% complete.\n"
     ]
    },
    {
     "name": "stderr",
     "output_type": "stream",
     "text": [
      "/home/bknight/anaconda3/lib/python3.7/site-packages/scipy/optimize/minpack.py:794: OptimizeWarning: Covariance of the parameters could not be estimated\n",
      "  category=OptimizeWarning)\n"
     ]
    },
    {
     "name": "stdout",
     "output_type": "stream",
     "text": [
      "10.0% complete.\n",
      "20.0% complete.\n",
      "30.0% complete.\n",
      "40.0% complete.\n",
      "50.0% complete.\n",
      "60.0% complete.\n",
      "70.0% complete.\n",
      "80.0% complete.\n",
      "90.0% complete.\n",
      "100.0% complete.\n"
     ]
    },
    {
     "name": "stderr",
     "output_type": "stream",
     "text": [
      "/home/bknight/anaconda3/lib/python3.7/site-packages/scipy/optimize/minpack.py:794: OptimizeWarning: Covariance of the parameters could not be estimated\n",
      "  category=OptimizeWarning)\n"
     ]
    },
    {
     "name": "stdout",
     "output_type": "stream",
     "text": [
      "10.0% complete.\n",
      "20.0% complete.\n",
      "30.0% complete.\n",
      "40.0% complete.\n",
      "50.0% complete.\n",
      "60.0% complete.\n",
      "70.0% complete.\n",
      "80.0% complete.\n",
      "90.0% complete.\n",
      "100.0% complete.\n"
     ]
    },
    {
     "name": "stderr",
     "output_type": "stream",
     "text": [
      "/home/bknight/anaconda3/lib/python3.7/site-packages/scipy/optimize/minpack.py:794: OptimizeWarning: Covariance of the parameters could not be estimated\n",
      "  category=OptimizeWarning)\n"
     ]
    },
    {
     "name": "stdout",
     "output_type": "stream",
     "text": [
      "10.0% complete.\n",
      "20.0% complete.\n",
      "30.0% complete.\n",
      "40.0% complete.\n",
      "50.0% complete.\n",
      "60.0% complete.\n",
      "70.0% complete.\n",
      "80.0% complete.\n",
      "90.0% complete.\n",
      "100.0% complete.\n"
     ]
    },
    {
     "name": "stderr",
     "output_type": "stream",
     "text": [
      "/home/bknight/anaconda3/lib/python3.7/site-packages/scipy/optimize/minpack.py:794: OptimizeWarning: Covariance of the parameters could not be estimated\n",
      "  category=OptimizeWarning)\n"
     ]
    },
    {
     "name": "stdout",
     "output_type": "stream",
     "text": [
      "10.0% complete.\n",
      "20.0% complete.\n",
      "30.0% complete.\n",
      "40.0% complete.\n",
      "50.0% complete.\n",
      "60.0% complete.\n",
      "70.0% complete.\n",
      "80.0% complete.\n",
      "90.0% complete.\n",
      "100.0% complete.\n"
     ]
    },
    {
     "name": "stderr",
     "output_type": "stream",
     "text": [
      "/home/bknight/anaconda3/lib/python3.7/site-packages/scipy/optimize/minpack.py:794: OptimizeWarning: Covariance of the parameters could not be estimated\n",
      "  category=OptimizeWarning)\n"
     ]
    },
    {
     "name": "stdout",
     "output_type": "stream",
     "text": [
      "10.0% complete.\n",
      "20.0% complete.\n",
      "30.0% complete.\n",
      "40.0% complete.\n",
      "50.0% complete.\n",
      "60.0% complete.\n",
      "70.0% complete.\n",
      "80.0% complete.\n",
      "90.0% complete.\n",
      "100.0% complete.\n"
     ]
    },
    {
     "name": "stderr",
     "output_type": "stream",
     "text": [
      "/home/bknight/anaconda3/lib/python3.7/site-packages/scipy/optimize/minpack.py:794: OptimizeWarning: Covariance of the parameters could not be estimated\n",
      "  category=OptimizeWarning)\n"
     ]
    },
    {
     "name": "stdout",
     "output_type": "stream",
     "text": [
      "10.0% complete.\n",
      "20.0% complete.\n",
      "30.0% complete.\n",
      "40.0% complete.\n",
      "50.0% complete.\n",
      "60.0% complete.\n",
      "70.0% complete.\n",
      "80.0% complete.\n",
      "90.0% complete.\n",
      "100.0% complete.\n"
     ]
    },
    {
     "name": "stderr",
     "output_type": "stream",
     "text": [
      "/home/bknight/anaconda3/lib/python3.7/site-packages/scipy/optimize/minpack.py:794: OptimizeWarning: Covariance of the parameters could not be estimated\n",
      "  category=OptimizeWarning)\n"
     ]
    },
    {
     "name": "stdout",
     "output_type": "stream",
     "text": [
      "10.0% complete.\n",
      "20.0% complete.\n",
      "30.0% complete.\n",
      "40.0% complete.\n",
      "50.0% complete.\n",
      "60.0% complete.\n",
      "70.0% complete.\n",
      "80.0% complete.\n",
      "90.0% complete.\n",
      "100.0% complete.\n"
     ]
    },
    {
     "name": "stderr",
     "output_type": "stream",
     "text": [
      "/home/bknight/anaconda3/lib/python3.7/site-packages/scipy/optimize/minpack.py:794: OptimizeWarning: Covariance of the parameters could not be estimated\n",
      "  category=OptimizeWarning)\n"
     ]
    },
    {
     "name": "stdout",
     "output_type": "stream",
     "text": [
      "10.0% complete.\n",
      "20.0% complete.\n",
      "30.0% complete.\n",
      "40.0% complete.\n",
      "50.0% complete.\n",
      "60.0% complete.\n",
      "70.0% complete.\n",
      "80.0% complete.\n",
      "90.0% complete.\n",
      "100.0% complete.\n"
     ]
    },
    {
     "name": "stderr",
     "output_type": "stream",
     "text": [
      "/home/bknight/anaconda3/lib/python3.7/site-packages/scipy/optimize/minpack.py:794: OptimizeWarning: Covariance of the parameters could not be estimated\n",
      "  category=OptimizeWarning)\n"
     ]
    },
    {
     "name": "stdout",
     "output_type": "stream",
     "text": [
      "10.0% complete.\n",
      "20.0% complete.\n",
      "30.0% complete.\n",
      "40.0% complete.\n",
      "50.0% complete.\n",
      "60.0% complete.\n",
      "70.0% complete.\n",
      "80.0% complete.\n",
      "90.0% complete.\n",
      "100.0% complete.\n"
     ]
    },
    {
     "name": "stderr",
     "output_type": "stream",
     "text": [
      "/home/bknight/anaconda3/lib/python3.7/site-packages/scipy/optimize/minpack.py:794: OptimizeWarning: Covariance of the parameters could not be estimated\n",
      "  category=OptimizeWarning)\n"
     ]
    },
    {
     "name": "stdout",
     "output_type": "stream",
     "text": [
      "10.0% complete.\n",
      "20.0% complete.\n",
      "30.0% complete.\n",
      "40.0% complete.\n",
      "50.0% complete.\n",
      "60.0% complete.\n",
      "70.0% complete.\n",
      "80.0% complete.\n",
      "90.0% complete.\n",
      "100.0% complete.\n"
     ]
    },
    {
     "name": "stderr",
     "output_type": "stream",
     "text": [
      "/home/bknight/anaconda3/lib/python3.7/site-packages/scipy/optimize/minpack.py:794: OptimizeWarning: Covariance of the parameters could not be estimated\n",
      "  category=OptimizeWarning)\n"
     ]
    },
    {
     "name": "stdout",
     "output_type": "stream",
     "text": [
      "10.0% complete.\n",
      "20.0% complete.\n",
      "30.0% complete.\n",
      "40.0% complete.\n",
      "50.0% complete.\n",
      "60.0% complete.\n",
      "70.0% complete.\n",
      "80.0% complete.\n",
      "90.0% complete.\n",
      "100.0% complete.\n"
     ]
    },
    {
     "name": "stderr",
     "output_type": "stream",
     "text": [
      "/home/bknight/anaconda3/lib/python3.7/site-packages/scipy/optimize/minpack.py:794: OptimizeWarning: Covariance of the parameters could not be estimated\n",
      "  category=OptimizeWarning)\n"
     ]
    },
    {
     "name": "stdout",
     "output_type": "stream",
     "text": [
      "10.0% complete.\n",
      "20.0% complete.\n",
      "30.0% complete.\n",
      "40.0% complete.\n",
      "50.0% complete.\n",
      "60.0% complete.\n",
      "70.0% complete.\n",
      "80.0% complete.\n",
      "90.0% complete.\n",
      "100.0% complete.\n"
     ]
    },
    {
     "name": "stderr",
     "output_type": "stream",
     "text": [
      "/home/bknight/anaconda3/lib/python3.7/site-packages/scipy/optimize/minpack.py:794: OptimizeWarning: Covariance of the parameters could not be estimated\n",
      "  category=OptimizeWarning)\n"
     ]
    },
    {
     "name": "stdout",
     "output_type": "stream",
     "text": [
      "10.0% complete.\n",
      "20.0% complete.\n",
      "30.0% complete.\n",
      "40.0% complete.\n",
      "50.0% complete.\n",
      "60.0% complete.\n",
      "70.0% complete.\n",
      "80.0% complete.\n",
      "90.0% complete.\n",
      "100.0% complete.\n"
     ]
    },
    {
     "name": "stderr",
     "output_type": "stream",
     "text": [
      "/home/bknight/anaconda3/lib/python3.7/site-packages/scipy/optimize/minpack.py:794: OptimizeWarning: Covariance of the parameters could not be estimated\n",
      "  category=OptimizeWarning)\n"
     ]
    },
    {
     "name": "stdout",
     "output_type": "stream",
     "text": [
      "10.0% complete.\n",
      "20.0% complete.\n",
      "30.0% complete.\n",
      "40.0% complete.\n",
      "50.0% complete.\n",
      "60.0% complete.\n",
      "70.0% complete.\n",
      "80.0% complete.\n",
      "90.0% complete.\n",
      "100.0% complete.\n"
     ]
    },
    {
     "name": "stderr",
     "output_type": "stream",
     "text": [
      "/home/bknight/anaconda3/lib/python3.7/site-packages/scipy/optimize/minpack.py:794: OptimizeWarning: Covariance of the parameters could not be estimated\n",
      "  category=OptimizeWarning)\n"
     ]
    },
    {
     "name": "stdout",
     "output_type": "stream",
     "text": [
      "10.0% complete.\n",
      "20.0% complete.\n",
      "30.0% complete.\n",
      "40.0% complete.\n",
      "50.0% complete.\n",
      "60.0% complete.\n",
      "70.0% complete.\n",
      "80.0% complete.\n",
      "90.0% complete.\n",
      "100.0% complete.\n"
     ]
    },
    {
     "name": "stderr",
     "output_type": "stream",
     "text": [
      "/home/bknight/anaconda3/lib/python3.7/site-packages/scipy/optimize/minpack.py:794: OptimizeWarning: Covariance of the parameters could not be estimated\n",
      "  category=OptimizeWarning)\n"
     ]
    },
    {
     "name": "stdout",
     "output_type": "stream",
     "text": [
      "10.0% complete.\n",
      "20.0% complete.\n",
      "30.0% complete.\n",
      "40.0% complete.\n",
      "50.0% complete.\n",
      "60.0% complete.\n",
      "70.0% complete.\n",
      "80.0% complete.\n",
      "90.0% complete.\n",
      "100.0% complete.\n"
     ]
    },
    {
     "name": "stderr",
     "output_type": "stream",
     "text": [
      "/home/bknight/anaconda3/lib/python3.7/site-packages/scipy/optimize/minpack.py:794: OptimizeWarning: Covariance of the parameters could not be estimated\n",
      "  category=OptimizeWarning)\n"
     ]
    },
    {
     "name": "stdout",
     "output_type": "stream",
     "text": [
      "10.0% complete.\n",
      "20.0% complete.\n",
      "30.0% complete.\n",
      "40.0% complete.\n",
      "50.0% complete.\n",
      "60.0% complete.\n",
      "70.0% complete.\n",
      "80.0% complete.\n",
      "90.0% complete.\n",
      "100.0% complete.\n"
     ]
    },
    {
     "name": "stderr",
     "output_type": "stream",
     "text": [
      "/home/bknight/anaconda3/lib/python3.7/site-packages/scipy/optimize/minpack.py:794: OptimizeWarning: Covariance of the parameters could not be estimated\n",
      "  category=OptimizeWarning)\n"
     ]
    },
    {
     "name": "stdout",
     "output_type": "stream",
     "text": [
      "10.0% complete.\n",
      "20.0% complete.\n",
      "30.0% complete.\n",
      "40.0% complete.\n",
      "50.0% complete.\n",
      "60.0% complete.\n",
      "70.0% complete.\n",
      "80.0% complete.\n",
      "90.0% complete.\n",
      "100.0% complete.\n"
     ]
    },
    {
     "name": "stderr",
     "output_type": "stream",
     "text": [
      "/home/bknight/anaconda3/lib/python3.7/site-packages/scipy/optimize/minpack.py:794: OptimizeWarning: Covariance of the parameters could not be estimated\n",
      "  category=OptimizeWarning)\n"
     ]
    },
    {
     "name": "stdout",
     "output_type": "stream",
     "text": [
      "10.0% complete.\n",
      "20.0% complete.\n",
      "30.0% complete.\n",
      "40.0% complete.\n",
      "50.0% complete.\n",
      "60.0% complete.\n",
      "70.0% complete.\n",
      "80.0% complete.\n",
      "90.0% complete.\n",
      "100.0% complete.\n"
     ]
    },
    {
     "name": "stderr",
     "output_type": "stream",
     "text": [
      "/home/bknight/anaconda3/lib/python3.7/site-packages/scipy/optimize/minpack.py:794: OptimizeWarning: Covariance of the parameters could not be estimated\n",
      "  category=OptimizeWarning)\n"
     ]
    },
    {
     "name": "stdout",
     "output_type": "stream",
     "text": [
      "10.0% complete.\n",
      "20.0% complete.\n",
      "30.0% complete.\n",
      "40.0% complete.\n",
      "50.0% complete.\n",
      "60.0% complete.\n",
      "70.0% complete.\n",
      "80.0% complete.\n",
      "90.0% complete.\n",
      "100.0% complete.\n"
     ]
    },
    {
     "name": "stderr",
     "output_type": "stream",
     "text": [
      "/home/bknight/anaconda3/lib/python3.7/site-packages/scipy/optimize/minpack.py:794: OptimizeWarning: Covariance of the parameters could not be estimated\n",
      "  category=OptimizeWarning)\n"
     ]
    },
    {
     "name": "stdout",
     "output_type": "stream",
     "text": [
      "10.0% complete.\n",
      "20.0% complete.\n",
      "30.0% complete.\n",
      "40.0% complete.\n",
      "50.0% complete.\n",
      "60.0% complete.\n",
      "70.0% complete.\n",
      "80.0% complete.\n",
      "90.0% complete.\n",
      "100.0% complete.\n"
     ]
    },
    {
     "name": "stderr",
     "output_type": "stream",
     "text": [
      "/home/bknight/anaconda3/lib/python3.7/site-packages/scipy/optimize/minpack.py:794: OptimizeWarning: Covariance of the parameters could not be estimated\n",
      "  category=OptimizeWarning)\n"
     ]
    },
    {
     "name": "stdout",
     "output_type": "stream",
     "text": [
      "10.0% complete.\n",
      "20.0% complete.\n",
      "30.0% complete.\n",
      "40.0% complete.\n",
      "50.0% complete.\n",
      "60.0% complete.\n",
      "70.0% complete.\n",
      "80.0% complete.\n",
      "90.0% complete.\n",
      "100.0% complete.\n"
     ]
    },
    {
     "name": "stderr",
     "output_type": "stream",
     "text": [
      "/home/bknight/anaconda3/lib/python3.7/site-packages/scipy/optimize/minpack.py:794: OptimizeWarning: Covariance of the parameters could not be estimated\n",
      "  category=OptimizeWarning)\n"
     ]
    },
    {
     "name": "stdout",
     "output_type": "stream",
     "text": [
      "10.0% complete.\n",
      "20.0% complete.\n",
      "30.0% complete.\n",
      "40.0% complete.\n",
      "50.0% complete.\n",
      "60.0% complete.\n",
      "70.0% complete.\n",
      "80.0% complete.\n",
      "90.0% complete.\n",
      "100.0% complete.\n"
     ]
    },
    {
     "name": "stderr",
     "output_type": "stream",
     "text": [
      "/home/bknight/anaconda3/lib/python3.7/site-packages/scipy/optimize/minpack.py:794: OptimizeWarning: Covariance of the parameters could not be estimated\n",
      "  category=OptimizeWarning)\n"
     ]
    },
    {
     "name": "stdout",
     "output_type": "stream",
     "text": [
      "10.0% complete.\n",
      "20.0% complete.\n",
      "30.0% complete.\n",
      "40.0% complete.\n",
      "50.0% complete.\n",
      "60.0% complete.\n",
      "70.0% complete.\n",
      "80.0% complete.\n",
      "90.0% complete.\n",
      "100.0% complete.\n"
     ]
    },
    {
     "name": "stderr",
     "output_type": "stream",
     "text": [
      "/home/bknight/anaconda3/lib/python3.7/site-packages/scipy/optimize/minpack.py:794: OptimizeWarning: Covariance of the parameters could not be estimated\n",
      "  category=OptimizeWarning)\n"
     ]
    },
    {
     "name": "stdout",
     "output_type": "stream",
     "text": [
      "10.0% complete.\n",
      "20.0% complete.\n",
      "30.0% complete.\n",
      "40.0% complete.\n",
      "50.0% complete.\n",
      "60.0% complete.\n",
      "70.0% complete.\n",
      "80.0% complete.\n",
      "90.0% complete.\n",
      "100.0% complete.\n"
     ]
    },
    {
     "name": "stderr",
     "output_type": "stream",
     "text": [
      "/home/bknight/anaconda3/lib/python3.7/site-packages/scipy/optimize/minpack.py:794: OptimizeWarning: Covariance of the parameters could not be estimated\n",
      "  category=OptimizeWarning)\n"
     ]
    },
    {
     "name": "stdout",
     "output_type": "stream",
     "text": [
      "10.0% complete.\n",
      "20.0% complete.\n",
      "30.0% complete.\n",
      "40.0% complete.\n",
      "50.0% complete.\n",
      "60.0% complete.\n",
      "70.0% complete.\n",
      "80.0% complete.\n",
      "90.0% complete.\n",
      "100.0% complete.\n"
     ]
    },
    {
     "name": "stderr",
     "output_type": "stream",
     "text": [
      "/home/bknight/anaconda3/lib/python3.7/site-packages/scipy/optimize/minpack.py:794: OptimizeWarning: Covariance of the parameters could not be estimated\n",
      "  category=OptimizeWarning)\n"
     ]
    },
    {
     "name": "stdout",
     "output_type": "stream",
     "text": [
      "10.0% complete.\n",
      "20.0% complete.\n",
      "30.0% complete.\n",
      "40.0% complete.\n",
      "50.0% complete.\n",
      "60.0% complete.\n",
      "70.0% complete.\n",
      "80.0% complete.\n",
      "90.0% complete.\n",
      "100.0% complete.\n"
     ]
    },
    {
     "name": "stderr",
     "output_type": "stream",
     "text": [
      "/home/bknight/anaconda3/lib/python3.7/site-packages/scipy/optimize/minpack.py:794: OptimizeWarning: Covariance of the parameters could not be estimated\n",
      "  category=OptimizeWarning)\n"
     ]
    },
    {
     "name": "stdout",
     "output_type": "stream",
     "text": [
      "10.0% complete.\n",
      "20.0% complete.\n",
      "30.0% complete.\n",
      "40.0% complete.\n",
      "50.0% complete.\n",
      "60.0% complete.\n",
      "70.0% complete.\n",
      "80.0% complete.\n",
      "90.0% complete.\n",
      "100.0% complete.\n"
     ]
    },
    {
     "name": "stderr",
     "output_type": "stream",
     "text": [
      "/home/bknight/anaconda3/lib/python3.7/site-packages/scipy/optimize/minpack.py:794: OptimizeWarning: Covariance of the parameters could not be estimated\n",
      "  category=OptimizeWarning)\n"
     ]
    },
    {
     "name": "stdout",
     "output_type": "stream",
     "text": [
      "10.0% complete.\n",
      "20.0% complete.\n",
      "30.0% complete.\n",
      "40.0% complete.\n",
      "50.0% complete.\n",
      "60.0% complete.\n",
      "70.0% complete.\n",
      "80.0% complete.\n",
      "90.0% complete.\n",
      "100.0% complete.\n"
     ]
    },
    {
     "name": "stderr",
     "output_type": "stream",
     "text": [
      "/home/bknight/anaconda3/lib/python3.7/site-packages/scipy/optimize/minpack.py:794: OptimizeWarning: Covariance of the parameters could not be estimated\n",
      "  category=OptimizeWarning)\n"
     ]
    },
    {
     "name": "stdout",
     "output_type": "stream",
     "text": [
      "10.0% complete.\n",
      "20.0% complete.\n",
      "30.0% complete.\n",
      "40.0% complete.\n",
      "50.0% complete.\n",
      "60.0% complete.\n",
      "70.0% complete.\n",
      "80.0% complete.\n",
      "90.0% complete.\n",
      "100.0% complete.\n"
     ]
    },
    {
     "name": "stderr",
     "output_type": "stream",
     "text": [
      "/home/bknight/anaconda3/lib/python3.7/site-packages/scipy/optimize/minpack.py:794: OptimizeWarning: Covariance of the parameters could not be estimated\n",
      "  category=OptimizeWarning)\n"
     ]
    },
    {
     "name": "stdout",
     "output_type": "stream",
     "text": [
      "10.0% complete.\n",
      "20.0% complete.\n",
      "30.0% complete.\n",
      "40.0% complete.\n",
      "50.0% complete.\n",
      "60.0% complete.\n",
      "70.0% complete.\n",
      "80.0% complete.\n",
      "90.0% complete.\n",
      "100.0% complete.\n"
     ]
    },
    {
     "name": "stderr",
     "output_type": "stream",
     "text": [
      "/home/bknight/anaconda3/lib/python3.7/site-packages/scipy/optimize/minpack.py:794: OptimizeWarning: Covariance of the parameters could not be estimated\n",
      "  category=OptimizeWarning)\n"
     ]
    },
    {
     "name": "stdout",
     "output_type": "stream",
     "text": [
      "10.0% complete.\n",
      "20.0% complete.\n",
      "30.0% complete.\n",
      "40.0% complete.\n",
      "50.0% complete.\n",
      "60.0% complete.\n",
      "70.0% complete.\n",
      "80.0% complete.\n",
      "90.0% complete.\n",
      "100.0% complete.\n"
     ]
    },
    {
     "name": "stderr",
     "output_type": "stream",
     "text": [
      "/home/bknight/anaconda3/lib/python3.7/site-packages/scipy/optimize/minpack.py:794: OptimizeWarning: Covariance of the parameters could not be estimated\n",
      "  category=OptimizeWarning)\n"
     ]
    },
    {
     "name": "stdout",
     "output_type": "stream",
     "text": [
      "10.0% complete.\n",
      "20.0% complete.\n",
      "30.0% complete.\n",
      "40.0% complete.\n",
      "50.0% complete.\n",
      "60.0% complete.\n",
      "70.0% complete.\n",
      "80.0% complete.\n",
      "90.0% complete.\n",
      "100.0% complete.\n"
     ]
    },
    {
     "name": "stderr",
     "output_type": "stream",
     "text": [
      "/home/bknight/anaconda3/lib/python3.7/site-packages/scipy/optimize/minpack.py:794: OptimizeWarning: Covariance of the parameters could not be estimated\n",
      "  category=OptimizeWarning)\n"
     ]
    },
    {
     "name": "stdout",
     "output_type": "stream",
     "text": [
      "10.0% complete.\n",
      "20.0% complete.\n",
      "30.0% complete.\n",
      "40.0% complete.\n",
      "50.0% complete.\n",
      "60.0% complete.\n",
      "70.0% complete.\n",
      "80.0% complete.\n",
      "90.0% complete.\n",
      "100.0% complete.\n"
     ]
    },
    {
     "name": "stderr",
     "output_type": "stream",
     "text": [
      "/home/bknight/anaconda3/lib/python3.7/site-packages/scipy/optimize/minpack.py:794: OptimizeWarning: Covariance of the parameters could not be estimated\n",
      "  category=OptimizeWarning)\n"
     ]
    },
    {
     "name": "stdout",
     "output_type": "stream",
     "text": [
      "10.0% complete.\n",
      "20.0% complete.\n",
      "30.0% complete.\n",
      "40.0% complete.\n",
      "50.0% complete.\n",
      "60.0% complete.\n",
      "70.0% complete.\n",
      "80.0% complete.\n",
      "90.0% complete.\n",
      "100.0% complete.\n"
     ]
    },
    {
     "name": "stderr",
     "output_type": "stream",
     "text": [
      "/home/bknight/anaconda3/lib/python3.7/site-packages/scipy/optimize/minpack.py:794: OptimizeWarning: Covariance of the parameters could not be estimated\n",
      "  category=OptimizeWarning)\n"
     ]
    },
    {
     "name": "stdout",
     "output_type": "stream",
     "text": [
      "10.0% complete.\n",
      "20.0% complete.\n",
      "30.0% complete.\n",
      "40.0% complete.\n",
      "50.0% complete.\n",
      "60.0% complete.\n",
      "70.0% complete.\n",
      "80.0% complete.\n",
      "90.0% complete.\n",
      "100.0% complete.\n"
     ]
    },
    {
     "name": "stderr",
     "output_type": "stream",
     "text": [
      "/home/bknight/anaconda3/lib/python3.7/site-packages/scipy/optimize/minpack.py:794: OptimizeWarning: Covariance of the parameters could not be estimated\n",
      "  category=OptimizeWarning)\n"
     ]
    },
    {
     "name": "stdout",
     "output_type": "stream",
     "text": [
      "10.0% complete.\n",
      "20.0% complete.\n",
      "30.0% complete.\n",
      "40.0% complete.\n",
      "50.0% complete.\n",
      "60.0% complete.\n",
      "70.0% complete.\n",
      "80.0% complete.\n",
      "90.0% complete.\n",
      "100.0% complete.\n"
     ]
    },
    {
     "name": "stderr",
     "output_type": "stream",
     "text": [
      "/home/bknight/anaconda3/lib/python3.7/site-packages/scipy/optimize/minpack.py:794: OptimizeWarning: Covariance of the parameters could not be estimated\n",
      "  category=OptimizeWarning)\n"
     ]
    },
    {
     "name": "stdout",
     "output_type": "stream",
     "text": [
      "10.0% complete.\n",
      "20.0% complete.\n",
      "30.0% complete.\n",
      "40.0% complete.\n",
      "50.0% complete.\n",
      "60.0% complete.\n",
      "70.0% complete.\n",
      "80.0% complete.\n",
      "90.0% complete.\n",
      "100.0% complete.\n"
     ]
    },
    {
     "name": "stderr",
     "output_type": "stream",
     "text": [
      "/home/bknight/anaconda3/lib/python3.7/site-packages/scipy/optimize/minpack.py:794: OptimizeWarning: Covariance of the parameters could not be estimated\n",
      "  category=OptimizeWarning)\n"
     ]
    },
    {
     "name": "stdout",
     "output_type": "stream",
     "text": [
      "10.0% complete.\n",
      "20.0% complete.\n",
      "30.0% complete.\n",
      "40.0% complete.\n",
      "50.0% complete.\n",
      "60.0% complete.\n",
      "70.0% complete.\n",
      "80.0% complete.\n",
      "90.0% complete.\n",
      "100.0% complete.\n"
     ]
    },
    {
     "name": "stderr",
     "output_type": "stream",
     "text": [
      "/home/bknight/anaconda3/lib/python3.7/site-packages/scipy/optimize/minpack.py:794: OptimizeWarning: Covariance of the parameters could not be estimated\n",
      "  category=OptimizeWarning)\n"
     ]
    },
    {
     "name": "stdout",
     "output_type": "stream",
     "text": [
      "10.0% complete.\n",
      "20.0% complete.\n",
      "30.0% complete.\n",
      "40.0% complete.\n",
      "50.0% complete.\n",
      "60.0% complete.\n",
      "70.0% complete.\n",
      "80.0% complete.\n",
      "90.0% complete.\n",
      "100.0% complete.\n"
     ]
    },
    {
     "name": "stderr",
     "output_type": "stream",
     "text": [
      "/home/bknight/anaconda3/lib/python3.7/site-packages/scipy/optimize/minpack.py:794: OptimizeWarning: Covariance of the parameters could not be estimated\n",
      "  category=OptimizeWarning)\n"
     ]
    },
    {
     "name": "stdout",
     "output_type": "stream",
     "text": [
      "10.0% complete.\n",
      "20.0% complete.\n",
      "30.0% complete.\n",
      "40.0% complete.\n",
      "50.0% complete.\n",
      "60.0% complete.\n",
      "70.0% complete.\n",
      "80.0% complete.\n",
      "90.0% complete.\n",
      "100.0% complete.\n"
     ]
    },
    {
     "name": "stderr",
     "output_type": "stream",
     "text": [
      "/home/bknight/anaconda3/lib/python3.7/site-packages/scipy/optimize/minpack.py:794: OptimizeWarning: Covariance of the parameters could not be estimated\n",
      "  category=OptimizeWarning)\n"
     ]
    },
    {
     "name": "stdout",
     "output_type": "stream",
     "text": [
      "10.0% complete.\n",
      "20.0% complete.\n",
      "30.0% complete.\n",
      "40.0% complete.\n",
      "50.0% complete.\n",
      "60.0% complete.\n",
      "70.0% complete.\n",
      "80.0% complete.\n",
      "90.0% complete.\n",
      "100.0% complete.\n"
     ]
    },
    {
     "name": "stderr",
     "output_type": "stream",
     "text": [
      "/home/bknight/anaconda3/lib/python3.7/site-packages/scipy/optimize/minpack.py:794: OptimizeWarning: Covariance of the parameters could not be estimated\n",
      "  category=OptimizeWarning)\n"
     ]
    },
    {
     "name": "stdout",
     "output_type": "stream",
     "text": [
      "10.0% complete.\n",
      "20.0% complete.\n",
      "30.0% complete.\n",
      "40.0% complete.\n",
      "50.0% complete.\n",
      "60.0% complete.\n",
      "70.0% complete.\n",
      "80.0% complete.\n",
      "90.0% complete.\n",
      "100.0% complete.\n"
     ]
    },
    {
     "name": "stderr",
     "output_type": "stream",
     "text": [
      "/home/bknight/anaconda3/lib/python3.7/site-packages/scipy/optimize/minpack.py:794: OptimizeWarning: Covariance of the parameters could not be estimated\n",
      "  category=OptimizeWarning)\n"
     ]
    },
    {
     "name": "stdout",
     "output_type": "stream",
     "text": [
      "10.0% complete.\n",
      "20.0% complete.\n",
      "30.0% complete.\n",
      "40.0% complete.\n",
      "50.0% complete.\n",
      "60.0% complete.\n",
      "70.0% complete.\n",
      "80.0% complete.\n",
      "90.0% complete.\n",
      "100.0% complete.\n"
     ]
    },
    {
     "name": "stderr",
     "output_type": "stream",
     "text": [
      "/home/bknight/anaconda3/lib/python3.7/site-packages/scipy/optimize/minpack.py:794: OptimizeWarning: Covariance of the parameters could not be estimated\n",
      "  category=OptimizeWarning)\n"
     ]
    },
    {
     "name": "stdout",
     "output_type": "stream",
     "text": [
      "10.0% complete.\n",
      "20.0% complete.\n",
      "30.0% complete.\n",
      "40.0% complete.\n",
      "50.0% complete.\n",
      "60.0% complete.\n",
      "70.0% complete.\n",
      "80.0% complete.\n",
      "90.0% complete.\n",
      "100.0% complete.\n"
     ]
    },
    {
     "name": "stderr",
     "output_type": "stream",
     "text": [
      "/home/bknight/anaconda3/lib/python3.7/site-packages/scipy/optimize/minpack.py:794: OptimizeWarning: Covariance of the parameters could not be estimated\n",
      "  category=OptimizeWarning)\n"
     ]
    },
    {
     "name": "stdout",
     "output_type": "stream",
     "text": [
      "10.0% complete.\n",
      "20.0% complete.\n",
      "30.0% complete.\n",
      "40.0% complete.\n",
      "50.0% complete.\n",
      "60.0% complete.\n",
      "70.0% complete.\n",
      "80.0% complete.\n",
      "90.0% complete.\n",
      "100.0% complete.\n"
     ]
    },
    {
     "name": "stderr",
     "output_type": "stream",
     "text": [
      "/home/bknight/anaconda3/lib/python3.7/site-packages/scipy/optimize/minpack.py:794: OptimizeWarning: Covariance of the parameters could not be estimated\n",
      "  category=OptimizeWarning)\n"
     ]
    },
    {
     "name": "stdout",
     "output_type": "stream",
     "text": [
      "10.0% complete.\n",
      "20.0% complete.\n",
      "30.0% complete.\n",
      "40.0% complete.\n",
      "50.0% complete.\n",
      "60.0% complete.\n",
      "70.0% complete.\n",
      "80.0% complete.\n",
      "90.0% complete.\n",
      "100.0% complete.\n"
     ]
    },
    {
     "name": "stderr",
     "output_type": "stream",
     "text": [
      "/home/bknight/anaconda3/lib/python3.7/site-packages/scipy/optimize/minpack.py:794: OptimizeWarning: Covariance of the parameters could not be estimated\n",
      "  category=OptimizeWarning)\n"
     ]
    },
    {
     "name": "stdout",
     "output_type": "stream",
     "text": [
      "10.0% complete.\n",
      "20.0% complete.\n",
      "30.0% complete.\n",
      "40.0% complete.\n",
      "50.0% complete.\n",
      "60.0% complete.\n",
      "70.0% complete.\n",
      "80.0% complete.\n",
      "90.0% complete.\n",
      "100.0% complete.\n"
     ]
    },
    {
     "name": "stderr",
     "output_type": "stream",
     "text": [
      "/home/bknight/anaconda3/lib/python3.7/site-packages/scipy/optimize/minpack.py:794: OptimizeWarning: Covariance of the parameters could not be estimated\n",
      "  category=OptimizeWarning)\n"
     ]
    },
    {
     "name": "stdout",
     "output_type": "stream",
     "text": [
      "10.0% complete.\n",
      "20.0% complete.\n",
      "30.0% complete.\n",
      "40.0% complete.\n",
      "50.0% complete.\n",
      "60.0% complete.\n",
      "70.0% complete.\n",
      "80.0% complete.\n",
      "90.0% complete.\n",
      "100.0% complete.\n"
     ]
    },
    {
     "name": "stderr",
     "output_type": "stream",
     "text": [
      "/home/bknight/anaconda3/lib/python3.7/site-packages/scipy/optimize/minpack.py:794: OptimizeWarning: Covariance of the parameters could not be estimated\n",
      "  category=OptimizeWarning)\n"
     ]
    },
    {
     "name": "stdout",
     "output_type": "stream",
     "text": [
      "10.0% complete.\n",
      "20.0% complete.\n",
      "30.0% complete.\n",
      "40.0% complete.\n",
      "50.0% complete.\n",
      "60.0% complete.\n",
      "70.0% complete.\n",
      "80.0% complete.\n",
      "90.0% complete.\n",
      "100.0% complete.\n"
     ]
    },
    {
     "name": "stderr",
     "output_type": "stream",
     "text": [
      "/home/bknight/anaconda3/lib/python3.7/site-packages/scipy/optimize/minpack.py:794: OptimizeWarning: Covariance of the parameters could not be estimated\n",
      "  category=OptimizeWarning)\n"
     ]
    },
    {
     "name": "stdout",
     "output_type": "stream",
     "text": [
      "10.0% complete.\n",
      "20.0% complete.\n",
      "30.0% complete.\n",
      "40.0% complete.\n",
      "50.0% complete.\n",
      "60.0% complete.\n",
      "70.0% complete.\n",
      "80.0% complete.\n",
      "90.0% complete.\n",
      "100.0% complete.\n"
     ]
    },
    {
     "name": "stderr",
     "output_type": "stream",
     "text": [
      "/home/bknight/anaconda3/lib/python3.7/site-packages/scipy/optimize/minpack.py:794: OptimizeWarning: Covariance of the parameters could not be estimated\n",
      "  category=OptimizeWarning)\n"
     ]
    },
    {
     "name": "stdout",
     "output_type": "stream",
     "text": [
      "10.0% complete.\n",
      "20.0% complete.\n",
      "30.0% complete.\n",
      "40.0% complete.\n",
      "50.0% complete.\n",
      "60.0% complete.\n",
      "70.0% complete.\n",
      "80.0% complete.\n",
      "90.0% complete.\n",
      "100.0% complete.\n"
     ]
    },
    {
     "name": "stderr",
     "output_type": "stream",
     "text": [
      "/home/bknight/anaconda3/lib/python3.7/site-packages/scipy/optimize/minpack.py:794: OptimizeWarning: Covariance of the parameters could not be estimated\n",
      "  category=OptimizeWarning)\n"
     ]
    },
    {
     "name": "stdout",
     "output_type": "stream",
     "text": [
      "10.0% complete.\n",
      "20.0% complete.\n",
      "30.0% complete.\n",
      "40.0% complete.\n",
      "50.0% complete.\n",
      "60.0% complete.\n",
      "70.0% complete.\n",
      "80.0% complete.\n",
      "90.0% complete.\n",
      "100.0% complete.\n"
     ]
    },
    {
     "name": "stderr",
     "output_type": "stream",
     "text": [
      "/home/bknight/anaconda3/lib/python3.7/site-packages/scipy/optimize/minpack.py:794: OptimizeWarning: Covariance of the parameters could not be estimated\n",
      "  category=OptimizeWarning)\n"
     ]
    },
    {
     "name": "stdout",
     "output_type": "stream",
     "text": [
      "10.0% complete.\n",
      "20.0% complete.\n",
      "30.0% complete.\n",
      "40.0% complete.\n",
      "50.0% complete.\n",
      "60.0% complete.\n",
      "70.0% complete.\n",
      "80.0% complete.\n",
      "90.0% complete.\n",
      "100.0% complete.\n"
     ]
    },
    {
     "name": "stderr",
     "output_type": "stream",
     "text": [
      "/home/bknight/anaconda3/lib/python3.7/site-packages/scipy/optimize/minpack.py:794: OptimizeWarning: Covariance of the parameters could not be estimated\n",
      "  category=OptimizeWarning)\n"
     ]
    },
    {
     "name": "stdout",
     "output_type": "stream",
     "text": [
      "10.0% complete.\n",
      "20.0% complete.\n",
      "30.0% complete.\n",
      "40.0% complete.\n",
      "50.0% complete.\n",
      "60.0% complete.\n",
      "70.0% complete.\n",
      "80.0% complete.\n",
      "90.0% complete.\n",
      "100.0% complete.\n"
     ]
    },
    {
     "name": "stderr",
     "output_type": "stream",
     "text": [
      "/home/bknight/anaconda3/lib/python3.7/site-packages/scipy/optimize/minpack.py:794: OptimizeWarning: Covariance of the parameters could not be estimated\n",
      "  category=OptimizeWarning)\n"
     ]
    },
    {
     "name": "stdout",
     "output_type": "stream",
     "text": [
      "10.0% complete.\n",
      "20.0% complete.\n",
      "30.0% complete.\n",
      "40.0% complete.\n",
      "50.0% complete.\n",
      "60.0% complete.\n",
      "70.0% complete.\n",
      "80.0% complete.\n",
      "90.0% complete.\n",
      "100.0% complete.\n"
     ]
    },
    {
     "name": "stderr",
     "output_type": "stream",
     "text": [
      "/home/bknight/anaconda3/lib/python3.7/site-packages/scipy/optimize/minpack.py:794: OptimizeWarning: Covariance of the parameters could not be estimated\n",
      "  category=OptimizeWarning)\n"
     ]
    },
    {
     "name": "stdout",
     "output_type": "stream",
     "text": [
      "10.0% complete.\n",
      "20.0% complete.\n",
      "30.0% complete.\n",
      "40.0% complete.\n",
      "50.0% complete.\n",
      "60.0% complete.\n",
      "70.0% complete.\n",
      "80.0% complete.\n",
      "90.0% complete.\n",
      "100.0% complete.\n"
     ]
    },
    {
     "name": "stderr",
     "output_type": "stream",
     "text": [
      "/home/bknight/anaconda3/lib/python3.7/site-packages/scipy/optimize/minpack.py:794: OptimizeWarning: Covariance of the parameters could not be estimated\n",
      "  category=OptimizeWarning)\n"
     ]
    },
    {
     "name": "stdout",
     "output_type": "stream",
     "text": [
      "10.0% complete.\n",
      "20.0% complete.\n",
      "30.0% complete.\n",
      "40.0% complete.\n",
      "50.0% complete.\n",
      "60.0% complete.\n",
      "70.0% complete.\n",
      "80.0% complete.\n",
      "90.0% complete.\n",
      "100.0% complete.\n"
     ]
    },
    {
     "name": "stderr",
     "output_type": "stream",
     "text": [
      "/home/bknight/anaconda3/lib/python3.7/site-packages/scipy/optimize/minpack.py:794: OptimizeWarning: Covariance of the parameters could not be estimated\n",
      "  category=OptimizeWarning)\n"
     ]
    },
    {
     "name": "stdout",
     "output_type": "stream",
     "text": [
      "10.0% complete.\n",
      "20.0% complete.\n",
      "30.0% complete.\n",
      "40.0% complete.\n",
      "50.0% complete.\n",
      "60.0% complete.\n",
      "70.0% complete.\n",
      "80.0% complete.\n",
      "90.0% complete.\n",
      "100.0% complete.\n"
     ]
    },
    {
     "name": "stderr",
     "output_type": "stream",
     "text": [
      "/home/bknight/anaconda3/lib/python3.7/site-packages/scipy/optimize/minpack.py:794: OptimizeWarning: Covariance of the parameters could not be estimated\n",
      "  category=OptimizeWarning)\n"
     ]
    },
    {
     "name": "stdout",
     "output_type": "stream",
     "text": [
      "10.0% complete.\n",
      "20.0% complete.\n",
      "30.0% complete.\n",
      "40.0% complete.\n",
      "50.0% complete.\n",
      "60.0% complete.\n",
      "70.0% complete.\n",
      "80.0% complete.\n",
      "90.0% complete.\n",
      "100.0% complete.\n"
     ]
    },
    {
     "name": "stderr",
     "output_type": "stream",
     "text": [
      "/home/bknight/anaconda3/lib/python3.7/site-packages/scipy/optimize/minpack.py:794: OptimizeWarning: Covariance of the parameters could not be estimated\n",
      "  category=OptimizeWarning)\n"
     ]
    },
    {
     "name": "stdout",
     "output_type": "stream",
     "text": [
      "10.0% complete.\n",
      "20.0% complete.\n",
      "30.0% complete.\n",
      "40.0% complete.\n",
      "50.0% complete.\n",
      "60.0% complete.\n",
      "70.0% complete.\n",
      "80.0% complete.\n",
      "90.0% complete.\n",
      "100.0% complete.\n"
     ]
    },
    {
     "name": "stderr",
     "output_type": "stream",
     "text": [
      "/home/bknight/anaconda3/lib/python3.7/site-packages/scipy/optimize/minpack.py:794: OptimizeWarning: Covariance of the parameters could not be estimated\n",
      "  category=OptimizeWarning)\n"
     ]
    },
    {
     "name": "stdout",
     "output_type": "stream",
     "text": [
      "10.0% complete.\n",
      "20.0% complete.\n",
      "30.0% complete.\n",
      "40.0% complete.\n",
      "50.0% complete.\n",
      "60.0% complete.\n",
      "70.0% complete.\n",
      "80.0% complete.\n",
      "90.0% complete.\n",
      "100.0% complete.\n"
     ]
    },
    {
     "name": "stderr",
     "output_type": "stream",
     "text": [
      "/home/bknight/anaconda3/lib/python3.7/site-packages/scipy/optimize/minpack.py:794: OptimizeWarning: Covariance of the parameters could not be estimated\n",
      "  category=OptimizeWarning)\n"
     ]
    },
    {
     "name": "stdout",
     "output_type": "stream",
     "text": [
      "10.0% complete.\n",
      "20.0% complete.\n",
      "30.0% complete.\n",
      "40.0% complete.\n",
      "50.0% complete.\n",
      "60.0% complete.\n",
      "70.0% complete.\n",
      "80.0% complete.\n",
      "90.0% complete.\n",
      "100.0% complete.\n"
     ]
    },
    {
     "name": "stderr",
     "output_type": "stream",
     "text": [
      "/home/bknight/anaconda3/lib/python3.7/site-packages/scipy/optimize/minpack.py:794: OptimizeWarning: Covariance of the parameters could not be estimated\n",
      "  category=OptimizeWarning)\n"
     ]
    },
    {
     "name": "stdout",
     "output_type": "stream",
     "text": [
      "10.0% complete.\n",
      "20.0% complete.\n",
      "30.0% complete.\n",
      "40.0% complete.\n",
      "50.0% complete.\n",
      "60.0% complete.\n",
      "70.0% complete.\n",
      "80.0% complete.\n",
      "90.0% complete.\n",
      "100.0% complete.\n"
     ]
    },
    {
     "name": "stderr",
     "output_type": "stream",
     "text": [
      "/home/bknight/anaconda3/lib/python3.7/site-packages/scipy/optimize/minpack.py:794: OptimizeWarning: Covariance of the parameters could not be estimated\n",
      "  category=OptimizeWarning)\n"
     ]
    },
    {
     "name": "stdout",
     "output_type": "stream",
     "text": [
      "10.0% complete.\n",
      "20.0% complete.\n",
      "30.0% complete.\n",
      "40.0% complete.\n",
      "50.0% complete.\n",
      "60.0% complete.\n",
      "70.0% complete.\n",
      "80.0% complete.\n",
      "90.0% complete.\n",
      "100.0% complete.\n"
     ]
    },
    {
     "name": "stderr",
     "output_type": "stream",
     "text": [
      "/home/bknight/anaconda3/lib/python3.7/site-packages/scipy/optimize/minpack.py:794: OptimizeWarning: Covariance of the parameters could not be estimated\n",
      "  category=OptimizeWarning)\n"
     ]
    },
    {
     "name": "stdout",
     "output_type": "stream",
     "text": [
      "10.0% complete.\n",
      "20.0% complete.\n",
      "30.0% complete.\n",
      "40.0% complete.\n",
      "50.0% complete.\n",
      "60.0% complete.\n",
      "70.0% complete.\n",
      "80.0% complete.\n",
      "90.0% complete.\n",
      "100.0% complete.\n"
     ]
    },
    {
     "name": "stderr",
     "output_type": "stream",
     "text": [
      "/home/bknight/anaconda3/lib/python3.7/site-packages/scipy/optimize/minpack.py:794: OptimizeWarning: Covariance of the parameters could not be estimated\n",
      "  category=OptimizeWarning)\n"
     ]
    },
    {
     "name": "stdout",
     "output_type": "stream",
     "text": [
      "10.0% complete.\n",
      "20.0% complete.\n",
      "30.0% complete.\n",
      "40.0% complete.\n",
      "50.0% complete.\n",
      "60.0% complete.\n",
      "70.0% complete.\n",
      "80.0% complete.\n",
      "90.0% complete.\n",
      "100.0% complete.\n"
     ]
    },
    {
     "name": "stderr",
     "output_type": "stream",
     "text": [
      "/home/bknight/anaconda3/lib/python3.7/site-packages/scipy/optimize/minpack.py:794: OptimizeWarning: Covariance of the parameters could not be estimated\n",
      "  category=OptimizeWarning)\n"
     ]
    },
    {
     "name": "stdout",
     "output_type": "stream",
     "text": [
      "10.0% complete.\n",
      "20.0% complete.\n",
      "30.0% complete.\n",
      "40.0% complete.\n",
      "50.0% complete.\n",
      "60.0% complete.\n",
      "70.0% complete.\n",
      "80.0% complete.\n",
      "90.0% complete.\n",
      "100.0% complete.\n"
     ]
    },
    {
     "name": "stderr",
     "output_type": "stream",
     "text": [
      "/home/bknight/anaconda3/lib/python3.7/site-packages/scipy/optimize/minpack.py:794: OptimizeWarning: Covariance of the parameters could not be estimated\n",
      "  category=OptimizeWarning)\n"
     ]
    },
    {
     "name": "stdout",
     "output_type": "stream",
     "text": [
      "10.0% complete.\n",
      "20.0% complete.\n",
      "30.0% complete.\n",
      "40.0% complete.\n",
      "50.0% complete.\n",
      "60.0% complete.\n",
      "70.0% complete.\n",
      "80.0% complete.\n",
      "90.0% complete.\n",
      "100.0% complete.\n"
     ]
    },
    {
     "name": "stderr",
     "output_type": "stream",
     "text": [
      "/home/bknight/anaconda3/lib/python3.7/site-packages/scipy/optimize/minpack.py:794: OptimizeWarning: Covariance of the parameters could not be estimated\n",
      "  category=OptimizeWarning)\n"
     ]
    },
    {
     "name": "stdout",
     "output_type": "stream",
     "text": [
      "10.0% complete.\n",
      "20.0% complete.\n",
      "30.0% complete.\n",
      "40.0% complete.\n",
      "50.0% complete.\n",
      "60.0% complete.\n",
      "70.0% complete.\n",
      "80.0% complete.\n",
      "90.0% complete.\n",
      "100.0% complete.\n"
     ]
    },
    {
     "name": "stderr",
     "output_type": "stream",
     "text": [
      "/home/bknight/anaconda3/lib/python3.7/site-packages/scipy/optimize/minpack.py:794: OptimizeWarning: Covariance of the parameters could not be estimated\n",
      "  category=OptimizeWarning)\n"
     ]
    },
    {
     "name": "stdout",
     "output_type": "stream",
     "text": [
      "10.0% complete.\n",
      "20.0% complete.\n",
      "30.0% complete.\n",
      "40.0% complete.\n",
      "50.0% complete.\n",
      "60.0% complete.\n",
      "70.0% complete.\n",
      "80.0% complete.\n",
      "90.0% complete.\n",
      "100.0% complete.\n"
     ]
    },
    {
     "name": "stderr",
     "output_type": "stream",
     "text": [
      "/home/bknight/anaconda3/lib/python3.7/site-packages/scipy/optimize/minpack.py:794: OptimizeWarning: Covariance of the parameters could not be estimated\n",
      "  category=OptimizeWarning)\n"
     ]
    },
    {
     "name": "stdout",
     "output_type": "stream",
     "text": [
      "10.0% complete.\n",
      "20.0% complete.\n",
      "30.0% complete.\n",
      "40.0% complete.\n",
      "50.0% complete.\n",
      "60.0% complete.\n",
      "70.0% complete.\n",
      "80.0% complete.\n",
      "90.0% complete.\n",
      "100.0% complete.\n"
     ]
    },
    {
     "name": "stderr",
     "output_type": "stream",
     "text": [
      "/home/bknight/anaconda3/lib/python3.7/site-packages/scipy/optimize/minpack.py:794: OptimizeWarning: Covariance of the parameters could not be estimated\n",
      "  category=OptimizeWarning)\n"
     ]
    },
    {
     "name": "stdout",
     "output_type": "stream",
     "text": [
      "10.0% complete.\n",
      "20.0% complete.\n",
      "30.0% complete.\n",
      "40.0% complete.\n",
      "50.0% complete.\n",
      "60.0% complete.\n",
      "70.0% complete.\n",
      "80.0% complete.\n",
      "90.0% complete.\n",
      "100.0% complete.\n"
     ]
    },
    {
     "name": "stderr",
     "output_type": "stream",
     "text": [
      "/home/bknight/anaconda3/lib/python3.7/site-packages/scipy/optimize/minpack.py:794: OptimizeWarning: Covariance of the parameters could not be estimated\n",
      "  category=OptimizeWarning)\n"
     ]
    },
    {
     "name": "stdout",
     "output_type": "stream",
     "text": [
      "10.0% complete.\n",
      "20.0% complete.\n",
      "30.0% complete.\n",
      "40.0% complete.\n",
      "50.0% complete.\n",
      "60.0% complete.\n",
      "70.0% complete.\n",
      "80.0% complete.\n",
      "90.0% complete.\n",
      "100.0% complete.\n"
     ]
    },
    {
     "name": "stderr",
     "output_type": "stream",
     "text": [
      "/home/bknight/anaconda3/lib/python3.7/site-packages/scipy/optimize/minpack.py:794: OptimizeWarning: Covariance of the parameters could not be estimated\n",
      "  category=OptimizeWarning)\n"
     ]
    },
    {
     "name": "stdout",
     "output_type": "stream",
     "text": [
      "10.0% complete.\n",
      "20.0% complete.\n",
      "30.0% complete.\n",
      "40.0% complete.\n",
      "50.0% complete.\n",
      "60.0% complete.\n",
      "70.0% complete.\n",
      "80.0% complete.\n",
      "90.0% complete.\n",
      "100.0% complete.\n"
     ]
    },
    {
     "name": "stderr",
     "output_type": "stream",
     "text": [
      "/home/bknight/anaconda3/lib/python3.7/site-packages/scipy/optimize/minpack.py:794: OptimizeWarning: Covariance of the parameters could not be estimated\n",
      "  category=OptimizeWarning)\n"
     ]
    },
    {
     "name": "stdout",
     "output_type": "stream",
     "text": [
      "10.0% complete.\n",
      "20.0% complete.\n",
      "30.0% complete.\n",
      "40.0% complete.\n",
      "50.0% complete.\n",
      "60.0% complete.\n",
      "70.0% complete.\n",
      "80.0% complete.\n",
      "90.0% complete.\n",
      "100.0% complete.\n"
     ]
    },
    {
     "name": "stderr",
     "output_type": "stream",
     "text": [
      "/home/bknight/anaconda3/lib/python3.7/site-packages/scipy/optimize/minpack.py:794: OptimizeWarning: Covariance of the parameters could not be estimated\n",
      "  category=OptimizeWarning)\n"
     ]
    },
    {
     "name": "stdout",
     "output_type": "stream",
     "text": [
      "10.0% complete.\n",
      "20.0% complete.\n",
      "30.0% complete.\n",
      "40.0% complete.\n",
      "50.0% complete.\n",
      "60.0% complete.\n",
      "70.0% complete.\n",
      "80.0% complete.\n",
      "90.0% complete.\n",
      "100.0% complete.\n"
     ]
    },
    {
     "name": "stderr",
     "output_type": "stream",
     "text": [
      "/home/bknight/anaconda3/lib/python3.7/site-packages/scipy/optimize/minpack.py:794: OptimizeWarning: Covariance of the parameters could not be estimated\n",
      "  category=OptimizeWarning)\n"
     ]
    },
    {
     "name": "stdout",
     "output_type": "stream",
     "text": [
      "10.0% complete.\n",
      "20.0% complete.\n",
      "30.0% complete.\n",
      "40.0% complete.\n",
      "50.0% complete.\n",
      "60.0% complete.\n",
      "70.0% complete.\n",
      "80.0% complete.\n",
      "90.0% complete.\n",
      "100.0% complete.\n"
     ]
    },
    {
     "name": "stderr",
     "output_type": "stream",
     "text": [
      "/home/bknight/anaconda3/lib/python3.7/site-packages/scipy/optimize/minpack.py:794: OptimizeWarning: Covariance of the parameters could not be estimated\n",
      "  category=OptimizeWarning)\n"
     ]
    },
    {
     "name": "stdout",
     "output_type": "stream",
     "text": [
      "10.0% complete.\n",
      "20.0% complete.\n",
      "30.0% complete.\n",
      "40.0% complete.\n",
      "50.0% complete.\n",
      "60.0% complete.\n",
      "70.0% complete.\n",
      "80.0% complete.\n",
      "90.0% complete.\n",
      "100.0% complete.\n"
     ]
    },
    {
     "name": "stderr",
     "output_type": "stream",
     "text": [
      "/home/bknight/anaconda3/lib/python3.7/site-packages/scipy/optimize/minpack.py:794: OptimizeWarning: Covariance of the parameters could not be estimated\n",
      "  category=OptimizeWarning)\n"
     ]
    },
    {
     "name": "stdout",
     "output_type": "stream",
     "text": [
      "10.0% complete.\n",
      "20.0% complete.\n",
      "30.0% complete.\n",
      "40.0% complete.\n",
      "50.0% complete.\n",
      "60.0% complete.\n",
      "70.0% complete.\n",
      "80.0% complete.\n",
      "90.0% complete.\n",
      "100.0% complete.\n",
      "Framework 0 completed.\n",
      "10.0% complete.\n",
      "20.0% complete.\n",
      "30.0% complete.\n",
      "40.0% complete.\n",
      "50.0% complete.\n",
      "60.0% complete.\n",
      "70.0% complete.\n",
      "80.0% complete.\n",
      "90.0% complete.\n",
      "100.0% complete.\n",
      "10.0% complete.\n",
      "20.0% complete.\n",
      "30.0% complete.\n",
      "40.0% complete.\n",
      "50.0% complete.\n",
      "60.0% complete.\n",
      "70.0% complete.\n",
      "80.0% complete.\n",
      "90.0% complete.\n",
      "100.0% complete.\n",
      "10.0% complete.\n",
      "20.0% complete.\n",
      "30.0% complete.\n",
      "40.0% complete.\n",
      "50.0% complete.\n",
      "60.0% complete.\n",
      "70.0% complete.\n",
      "80.0% complete.\n",
      "90.0% complete.\n",
      "100.0% complete.\n",
      "10.0% complete.\n",
      "20.0% complete.\n",
      "30.0% complete.\n",
      "40.0% complete.\n",
      "50.0% complete.\n",
      "60.0% complete.\n",
      "70.0% complete.\n",
      "80.0% complete.\n",
      "90.0% complete.\n",
      "100.0% complete.\n",
      "10.0% complete.\n",
      "20.0% complete.\n",
      "30.0% complete.\n",
      "40.0% complete.\n",
      "50.0% complete.\n",
      "60.0% complete.\n",
      "70.0% complete.\n",
      "80.0% complete.\n",
      "90.0% complete.\n",
      "100.0% complete.\n",
      "10.0% complete.\n",
      "20.0% complete.\n",
      "30.0% complete.\n",
      "40.0% complete.\n",
      "50.0% complete.\n",
      "60.0% complete.\n",
      "70.0% complete.\n",
      "80.0% complete.\n",
      "90.0% complete.\n",
      "100.0% complete.\n",
      "10.0% complete.\n",
      "20.0% complete.\n",
      "30.0% complete.\n",
      "40.0% complete.\n",
      "50.0% complete.\n",
      "60.0% complete.\n",
      "70.0% complete.\n",
      "80.0% complete.\n",
      "90.0% complete.\n",
      "100.0% complete.\n",
      "10.0% complete.\n",
      "20.0% complete.\n",
      "30.0% complete.\n",
      "40.0% complete.\n",
      "50.0% complete.\n",
      "60.0% complete.\n",
      "70.0% complete.\n",
      "80.0% complete.\n",
      "90.0% complete.\n",
      "100.0% complete.\n",
      "10.0% complete.\n",
      "20.0% complete.\n",
      "30.0% complete.\n",
      "40.0% complete.\n",
      "50.0% complete.\n",
      "60.0% complete.\n",
      "70.0% complete.\n",
      "80.0% complete.\n",
      "90.0% complete.\n",
      "100.0% complete.\n",
      "10.0% complete.\n",
      "20.0% complete.\n",
      "30.0% complete.\n",
      "40.0% complete.\n",
      "50.0% complete.\n",
      "60.0% complete.\n",
      "70.0% complete.\n",
      "80.0% complete.\n",
      "90.0% complete.\n",
      "100.0% complete.\n",
      "10.0% complete.\n",
      "20.0% complete.\n",
      "30.0% complete.\n",
      "40.0% complete.\n",
      "50.0% complete.\n",
      "60.0% complete.\n",
      "70.0% complete.\n",
      "80.0% complete.\n",
      "90.0% complete.\n",
      "100.0% complete.\n",
      "10.0% complete.\n",
      "20.0% complete.\n",
      "30.0% complete.\n",
      "40.0% complete.\n",
      "50.0% complete.\n",
      "60.0% complete.\n",
      "70.0% complete.\n",
      "80.0% complete.\n",
      "90.0% complete.\n",
      "100.0% complete.\n",
      "10.0% complete.\n",
      "20.0% complete.\n",
      "30.0% complete.\n",
      "40.0% complete.\n",
      "50.0% complete.\n",
      "60.0% complete.\n",
      "70.0% complete.\n",
      "80.0% complete.\n",
      "90.0% complete.\n",
      "100.0% complete.\n",
      "10.0% complete.\n",
      "20.0% complete.\n",
      "30.0% complete.\n",
      "40.0% complete.\n",
      "50.0% complete.\n",
      "60.0% complete.\n",
      "70.0% complete.\n",
      "80.0% complete.\n",
      "90.0% complete.\n",
      "100.0% complete.\n",
      "10.0% complete.\n",
      "20.0% complete.\n",
      "30.0% complete.\n",
      "40.0% complete.\n",
      "50.0% complete.\n",
      "60.0% complete.\n",
      "70.0% complete.\n",
      "80.0% complete.\n",
      "90.0% complete.\n",
      "100.0% complete.\n",
      "10.0% complete.\n",
      "20.0% complete.\n",
      "30.0% complete.\n",
      "40.0% complete.\n",
      "50.0% complete.\n",
      "60.0% complete.\n",
      "70.0% complete.\n",
      "80.0% complete.\n",
      "90.0% complete.\n",
      "100.0% complete.\n",
      "10.0% complete.\n",
      "20.0% complete.\n",
      "30.0% complete.\n",
      "40.0% complete.\n",
      "50.0% complete.\n",
      "60.0% complete.\n",
      "70.0% complete.\n",
      "80.0% complete.\n",
      "90.0% complete.\n",
      "100.0% complete.\n",
      "10.0% complete.\n",
      "20.0% complete.\n",
      "30.0% complete.\n",
      "40.0% complete.\n",
      "50.0% complete.\n",
      "60.0% complete.\n",
      "70.0% complete.\n",
      "80.0% complete.\n",
      "90.0% complete.\n",
      "100.0% complete.\n",
      "10.0% complete.\n",
      "20.0% complete.\n",
      "30.0% complete.\n",
      "40.0% complete.\n",
      "50.0% complete.\n",
      "60.0% complete.\n",
      "70.0% complete.\n",
      "80.0% complete.\n",
      "90.0% complete.\n",
      "100.0% complete.\n",
      "10.0% complete.\n",
      "20.0% complete.\n",
      "30.0% complete.\n",
      "40.0% complete.\n",
      "50.0% complete.\n",
      "60.0% complete.\n",
      "70.0% complete.\n",
      "80.0% complete.\n",
      "90.0% complete.\n",
      "100.0% complete.\n",
      "10.0% complete.\n",
      "20.0% complete.\n",
      "30.0% complete.\n",
      "40.0% complete.\n",
      "50.0% complete.\n",
      "60.0% complete.\n",
      "70.0% complete.\n",
      "80.0% complete.\n",
      "90.0% complete.\n",
      "100.0% complete.\n"
     ]
    },
    {
     "name": "stderr",
     "output_type": "stream",
     "text": [
      "/home/bknight/anaconda3/lib/python3.7/site-packages/scipy/optimize/minpack.py:794: OptimizeWarning: Covariance of the parameters could not be estimated\n",
      "  category=OptimizeWarning)\n"
     ]
    },
    {
     "name": "stdout",
     "output_type": "stream",
     "text": [
      "10.0% complete.\n",
      "20.0% complete.\n",
      "30.0% complete.\n",
      "40.0% complete.\n",
      "50.0% complete.\n",
      "60.0% complete.\n",
      "70.0% complete.\n",
      "80.0% complete.\n",
      "90.0% complete.\n",
      "100.0% complete.\n",
      "10.0% complete.\n",
      "20.0% complete.\n",
      "30.0% complete.\n",
      "40.0% complete.\n",
      "50.0% complete.\n",
      "60.0% complete.\n",
      "70.0% complete.\n",
      "80.0% complete.\n",
      "90.0% complete.\n",
      "100.0% complete.\n",
      "10.0% complete.\n",
      "20.0% complete.\n",
      "30.0% complete.\n",
      "40.0% complete.\n",
      "50.0% complete.\n",
      "60.0% complete.\n",
      "70.0% complete.\n",
      "80.0% complete.\n",
      "90.0% complete.\n",
      "100.0% complete.\n",
      "10.0% complete.\n",
      "20.0% complete.\n",
      "30.0% complete.\n",
      "40.0% complete.\n",
      "50.0% complete.\n",
      "60.0% complete.\n",
      "70.0% complete.\n",
      "80.0% complete.\n",
      "90.0% complete.\n",
      "100.0% complete.\n",
      "10.0% complete.\n",
      "20.0% complete.\n",
      "30.0% complete.\n",
      "40.0% complete.\n",
      "50.0% complete.\n",
      "60.0% complete.\n",
      "70.0% complete.\n",
      "80.0% complete.\n",
      "90.0% complete.\n",
      "100.0% complete.\n",
      "10.0% complete.\n",
      "20.0% complete.\n",
      "30.0% complete.\n",
      "40.0% complete.\n",
      "50.0% complete.\n",
      "60.0% complete.\n",
      "70.0% complete.\n",
      "80.0% complete.\n",
      "90.0% complete.\n",
      "100.0% complete.\n",
      "10.0% complete.\n",
      "20.0% complete.\n",
      "30.0% complete.\n",
      "40.0% complete.\n",
      "50.0% complete.\n",
      "60.0% complete.\n",
      "70.0% complete.\n",
      "80.0% complete.\n",
      "90.0% complete.\n",
      "100.0% complete.\n",
      "10.0% complete.\n",
      "20.0% complete.\n",
      "30.0% complete.\n",
      "40.0% complete.\n",
      "50.0% complete.\n",
      "60.0% complete.\n",
      "70.0% complete.\n",
      "80.0% complete.\n",
      "90.0% complete.\n",
      "100.0% complete.\n",
      "10.0% complete.\n",
      "20.0% complete.\n",
      "30.0% complete.\n",
      "40.0% complete.\n",
      "50.0% complete.\n",
      "60.0% complete.\n",
      "70.0% complete.\n",
      "80.0% complete.\n",
      "90.0% complete.\n",
      "100.0% complete.\n",
      "10.0% complete.\n",
      "20.0% complete.\n",
      "30.0% complete.\n",
      "40.0% complete.\n",
      "50.0% complete.\n",
      "60.0% complete.\n",
      "70.0% complete.\n",
      "80.0% complete.\n",
      "90.0% complete.\n",
      "100.0% complete.\n",
      "10.0% complete.\n",
      "20.0% complete.\n",
      "30.0% complete.\n",
      "40.0% complete.\n",
      "50.0% complete.\n",
      "60.0% complete.\n",
      "70.0% complete.\n",
      "80.0% complete.\n",
      "90.0% complete.\n",
      "100.0% complete.\n",
      "10.0% complete.\n",
      "20.0% complete.\n",
      "30.0% complete.\n",
      "40.0% complete.\n",
      "50.0% complete.\n",
      "60.0% complete.\n",
      "70.0% complete.\n",
      "80.0% complete.\n",
      "90.0% complete.\n",
      "100.0% complete.\n",
      "10.0% complete.\n",
      "20.0% complete.\n",
      "30.0% complete.\n",
      "40.0% complete.\n",
      "50.0% complete.\n",
      "60.0% complete.\n",
      "70.0% complete.\n",
      "80.0% complete.\n",
      "90.0% complete.\n",
      "100.0% complete.\n",
      "10.0% complete.\n",
      "20.0% complete.\n",
      "30.0% complete.\n",
      "40.0% complete.\n",
      "50.0% complete.\n",
      "60.0% complete.\n",
      "70.0% complete.\n",
      "80.0% complete.\n",
      "90.0% complete.\n",
      "100.0% complete.\n",
      "10.0% complete.\n",
      "20.0% complete.\n",
      "30.0% complete.\n",
      "40.0% complete.\n",
      "50.0% complete.\n",
      "60.0% complete.\n",
      "70.0% complete.\n",
      "80.0% complete.\n",
      "90.0% complete.\n",
      "100.0% complete.\n",
      "10.0% complete.\n",
      "20.0% complete.\n",
      "30.0% complete.\n",
      "40.0% complete.\n",
      "50.0% complete.\n",
      "60.0% complete.\n",
      "70.0% complete.\n",
      "80.0% complete.\n",
      "90.0% complete.\n",
      "100.0% complete.\n",
      "10.0% complete.\n",
      "20.0% complete.\n",
      "30.0% complete.\n",
      "40.0% complete.\n",
      "50.0% complete.\n",
      "60.0% complete.\n",
      "70.0% complete.\n",
      "80.0% complete.\n",
      "90.0% complete.\n",
      "100.0% complete.\n",
      "10.0% complete.\n",
      "20.0% complete.\n",
      "30.0% complete.\n",
      "40.0% complete.\n",
      "50.0% complete.\n",
      "60.0% complete.\n",
      "70.0% complete.\n",
      "80.0% complete.\n",
      "90.0% complete.\n",
      "100.0% complete.\n"
     ]
    },
    {
     "name": "stderr",
     "output_type": "stream",
     "text": [
      "/home/bknight/anaconda3/lib/python3.7/site-packages/scipy/optimize/minpack.py:794: OptimizeWarning: Covariance of the parameters could not be estimated\n",
      "  category=OptimizeWarning)\n"
     ]
    },
    {
     "name": "stdout",
     "output_type": "stream",
     "text": [
      "10.0% complete.\n",
      "20.0% complete.\n",
      "30.0% complete.\n",
      "40.0% complete.\n",
      "50.0% complete.\n",
      "60.0% complete.\n",
      "70.0% complete.\n",
      "80.0% complete.\n",
      "90.0% complete.\n",
      "100.0% complete.\n",
      "10.0% complete.\n",
      "20.0% complete.\n",
      "30.0% complete.\n",
      "40.0% complete.\n",
      "50.0% complete.\n",
      "60.0% complete.\n",
      "70.0% complete.\n",
      "80.0% complete.\n",
      "90.0% complete.\n",
      "100.0% complete.\n",
      "10.0% complete.\n",
      "20.0% complete.\n",
      "30.0% complete.\n",
      "40.0% complete.\n",
      "50.0% complete.\n",
      "60.0% complete.\n",
      "70.0% complete.\n",
      "80.0% complete.\n",
      "90.0% complete.\n",
      "100.0% complete.\n",
      "10.0% complete.\n",
      "20.0% complete.\n",
      "30.0% complete.\n",
      "40.0% complete.\n",
      "50.0% complete.\n",
      "60.0% complete.\n",
      "70.0% complete.\n",
      "80.0% complete.\n",
      "90.0% complete.\n",
      "100.0% complete.\n",
      "10.0% complete.\n",
      "20.0% complete.\n",
      "30.0% complete.\n",
      "40.0% complete.\n",
      "50.0% complete.\n",
      "60.0% complete.\n",
      "70.0% complete.\n",
      "80.0% complete.\n",
      "90.0% complete.\n",
      "100.0% complete.\n",
      "10.0% complete.\n",
      "20.0% complete.\n",
      "30.0% complete.\n",
      "40.0% complete.\n",
      "50.0% complete.\n",
      "60.0% complete.\n",
      "70.0% complete.\n",
      "80.0% complete.\n",
      "90.0% complete.\n",
      "100.0% complete.\n",
      "10.0% complete.\n",
      "20.0% complete.\n",
      "30.0% complete.\n",
      "40.0% complete.\n",
      "50.0% complete.\n",
      "60.0% complete.\n",
      "70.0% complete.\n",
      "80.0% complete.\n",
      "90.0% complete.\n",
      "100.0% complete.\n",
      "10.0% complete.\n",
      "20.0% complete.\n",
      "30.0% complete.\n",
      "40.0% complete.\n",
      "50.0% complete.\n",
      "60.0% complete.\n",
      "70.0% complete.\n",
      "80.0% complete.\n",
      "90.0% complete.\n",
      "100.0% complete.\n",
      "10.0% complete.\n",
      "20.0% complete.\n",
      "30.0% complete.\n",
      "40.0% complete.\n",
      "50.0% complete.\n",
      "60.0% complete.\n",
      "70.0% complete.\n",
      "80.0% complete.\n",
      "90.0% complete.\n",
      "100.0% complete.\n",
      "10.0% complete.\n",
      "20.0% complete.\n",
      "30.0% complete.\n",
      "40.0% complete.\n",
      "50.0% complete.\n",
      "60.0% complete.\n",
      "70.0% complete.\n",
      "80.0% complete.\n",
      "90.0% complete.\n",
      "100.0% complete.\n",
      "10.0% complete.\n",
      "20.0% complete.\n",
      "30.0% complete.\n",
      "40.0% complete.\n",
      "50.0% complete.\n",
      "60.0% complete.\n",
      "70.0% complete.\n",
      "80.0% complete.\n",
      "90.0% complete.\n",
      "100.0% complete.\n",
      "10.0% complete.\n",
      "20.0% complete.\n",
      "30.0% complete.\n",
      "40.0% complete.\n",
      "50.0% complete.\n",
      "60.0% complete.\n",
      "70.0% complete.\n",
      "80.0% complete.\n",
      "90.0% complete.\n",
      "100.0% complete.\n"
     ]
    },
    {
     "name": "stderr",
     "output_type": "stream",
     "text": [
      "/home/bknight/anaconda3/lib/python3.7/site-packages/scipy/optimize/minpack.py:794: OptimizeWarning: Covariance of the parameters could not be estimated\n",
      "  category=OptimizeWarning)\n"
     ]
    },
    {
     "name": "stdout",
     "output_type": "stream",
     "text": [
      "10.0% complete.\n",
      "20.0% complete.\n",
      "30.0% complete.\n",
      "40.0% complete.\n",
      "50.0% complete.\n",
      "60.0% complete.\n",
      "70.0% complete.\n",
      "80.0% complete.\n",
      "90.0% complete.\n",
      "100.0% complete.\n",
      "10.0% complete.\n",
      "20.0% complete.\n",
      "30.0% complete.\n",
      "40.0% complete.\n",
      "50.0% complete.\n",
      "60.0% complete.\n",
      "70.0% complete.\n",
      "80.0% complete.\n",
      "90.0% complete.\n",
      "100.0% complete.\n",
      "10.0% complete.\n",
      "20.0% complete.\n",
      "30.0% complete.\n",
      "40.0% complete.\n",
      "50.0% complete.\n",
      "60.0% complete.\n",
      "70.0% complete.\n",
      "80.0% complete.\n",
      "90.0% complete.\n",
      "100.0% complete.\n",
      "10.0% complete.\n",
      "20.0% complete.\n",
      "30.0% complete.\n",
      "40.0% complete.\n",
      "50.0% complete.\n",
      "60.0% complete.\n",
      "70.0% complete.\n",
      "80.0% complete.\n",
      "90.0% complete.\n",
      "100.0% complete.\n",
      "10.0% complete.\n",
      "20.0% complete.\n",
      "30.0% complete.\n",
      "40.0% complete.\n",
      "50.0% complete.\n",
      "60.0% complete.\n",
      "70.0% complete.\n",
      "80.0% complete.\n",
      "90.0% complete.\n",
      "100.0% complete.\n",
      "10.0% complete.\n",
      "20.0% complete.\n",
      "30.0% complete.\n",
      "40.0% complete.\n",
      "50.0% complete.\n",
      "60.0% complete.\n",
      "70.0% complete.\n",
      "80.0% complete.\n",
      "90.0% complete.\n",
      "100.0% complete.\n",
      "10.0% complete.\n",
      "20.0% complete.\n",
      "30.0% complete.\n",
      "40.0% complete.\n",
      "50.0% complete.\n",
      "60.0% complete.\n",
      "70.0% complete.\n",
      "80.0% complete.\n",
      "90.0% complete.\n",
      "100.0% complete.\n",
      "10.0% complete.\n",
      "20.0% complete.\n",
      "30.0% complete.\n",
      "40.0% complete.\n",
      "50.0% complete.\n",
      "60.0% complete.\n",
      "70.0% complete.\n",
      "80.0% complete.\n",
      "90.0% complete.\n",
      "100.0% complete.\n",
      "10.0% complete.\n",
      "20.0% complete.\n",
      "30.0% complete.\n",
      "40.0% complete.\n",
      "50.0% complete.\n",
      "60.0% complete.\n",
      "70.0% complete.\n",
      "80.0% complete.\n",
      "90.0% complete.\n",
      "100.0% complete.\n"
     ]
    },
    {
     "name": "stderr",
     "output_type": "stream",
     "text": [
      "/home/bknight/anaconda3/lib/python3.7/site-packages/scipy/optimize/minpack.py:794: OptimizeWarning: Covariance of the parameters could not be estimated\n",
      "  category=OptimizeWarning)\n"
     ]
    },
    {
     "name": "stdout",
     "output_type": "stream",
     "text": [
      "10.0% complete.\n",
      "20.0% complete.\n",
      "30.0% complete.\n",
      "40.0% complete.\n",
      "50.0% complete.\n",
      "60.0% complete.\n",
      "70.0% complete.\n",
      "80.0% complete.\n",
      "90.0% complete.\n",
      "100.0% complete.\n"
     ]
    },
    {
     "name": "stderr",
     "output_type": "stream",
     "text": [
      "/home/bknight/anaconda3/lib/python3.7/site-packages/scipy/optimize/minpack.py:794: OptimizeWarning: Covariance of the parameters could not be estimated\n",
      "  category=OptimizeWarning)\n"
     ]
    },
    {
     "name": "stdout",
     "output_type": "stream",
     "text": [
      "10.0% complete.\n",
      "20.0% complete.\n",
      "30.0% complete.\n",
      "40.0% complete.\n",
      "50.0% complete.\n",
      "60.0% complete.\n",
      "70.0% complete.\n",
      "80.0% complete.\n",
      "90.0% complete.\n",
      "100.0% complete.\n",
      "10.0% complete.\n",
      "20.0% complete.\n",
      "30.0% complete.\n",
      "40.0% complete.\n",
      "50.0% complete.\n",
      "60.0% complete.\n",
      "70.0% complete.\n",
      "80.0% complete.\n",
      "90.0% complete.\n",
      "100.0% complete.\n",
      "10.0% complete.\n",
      "20.0% complete.\n",
      "30.0% complete.\n",
      "40.0% complete.\n",
      "50.0% complete.\n",
      "60.0% complete.\n",
      "70.0% complete.\n",
      "80.0% complete.\n",
      "90.0% complete.\n",
      "100.0% complete.\n",
      "10.0% complete.\n",
      "20.0% complete.\n",
      "30.0% complete.\n",
      "40.0% complete.\n",
      "50.0% complete.\n",
      "60.0% complete.\n",
      "70.0% complete.\n",
      "80.0% complete.\n",
      "90.0% complete.\n",
      "100.0% complete.\n",
      "10.0% complete.\n",
      "20.0% complete.\n",
      "30.0% complete.\n",
      "40.0% complete.\n",
      "50.0% complete.\n",
      "60.0% complete.\n",
      "70.0% complete.\n",
      "80.0% complete.\n",
      "90.0% complete.\n",
      "100.0% complete.\n",
      "10.0% complete.\n",
      "20.0% complete.\n",
      "30.0% complete.\n",
      "40.0% complete.\n",
      "50.0% complete.\n",
      "60.0% complete.\n",
      "70.0% complete.\n",
      "80.0% complete.\n",
      "90.0% complete.\n",
      "100.0% complete.\n",
      "10.0% complete.\n",
      "20.0% complete.\n",
      "30.0% complete.\n",
      "40.0% complete.\n",
      "50.0% complete.\n",
      "60.0% complete.\n",
      "70.0% complete.\n",
      "80.0% complete.\n",
      "90.0% complete.\n",
      "100.0% complete.\n",
      "10.0% complete.\n",
      "20.0% complete.\n",
      "30.0% complete.\n",
      "40.0% complete.\n",
      "50.0% complete.\n",
      "60.0% complete.\n",
      "70.0% complete.\n",
      "80.0% complete.\n",
      "90.0% complete.\n",
      "100.0% complete.\n",
      "10.0% complete.\n",
      "20.0% complete.\n",
      "30.0% complete.\n",
      "40.0% complete.\n",
      "50.0% complete.\n",
      "60.0% complete.\n",
      "70.0% complete.\n",
      "80.0% complete.\n",
      "90.0% complete.\n",
      "100.0% complete.\n",
      "10.0% complete.\n",
      "20.0% complete.\n",
      "30.0% complete.\n",
      "40.0% complete.\n",
      "50.0% complete.\n",
      "60.0% complete.\n",
      "70.0% complete.\n",
      "80.0% complete.\n",
      "90.0% complete.\n",
      "100.0% complete.\n",
      "10.0% complete.\n",
      "20.0% complete.\n",
      "30.0% complete.\n",
      "40.0% complete.\n",
      "50.0% complete.\n",
      "60.0% complete.\n",
      "70.0% complete.\n",
      "80.0% complete.\n",
      "90.0% complete.\n",
      "100.0% complete.\n",
      "10.0% complete.\n",
      "20.0% complete.\n",
      "30.0% complete.\n",
      "40.0% complete.\n",
      "50.0% complete.\n",
      "60.0% complete.\n",
      "70.0% complete.\n",
      "80.0% complete.\n",
      "90.0% complete.\n",
      "100.0% complete.\n",
      "10.0% complete.\n",
      "20.0% complete.\n",
      "30.0% complete.\n",
      "40.0% complete.\n",
      "50.0% complete.\n",
      "60.0% complete.\n",
      "70.0% complete.\n",
      "80.0% complete.\n",
      "90.0% complete.\n",
      "100.0% complete.\n",
      "10.0% complete.\n",
      "20.0% complete.\n",
      "30.0% complete.\n",
      "40.0% complete.\n",
      "50.0% complete.\n",
      "60.0% complete.\n",
      "70.0% complete.\n",
      "80.0% complete.\n",
      "90.0% complete.\n",
      "100.0% complete.\n",
      "10.0% complete.\n",
      "20.0% complete.\n",
      "30.0% complete.\n",
      "40.0% complete.\n",
      "50.0% complete.\n",
      "60.0% complete.\n",
      "70.0% complete.\n",
      "80.0% complete.\n",
      "90.0% complete.\n",
      "100.0% complete.\n",
      "10.0% complete.\n",
      "20.0% complete.\n",
      "30.0% complete.\n",
      "40.0% complete.\n",
      "50.0% complete.\n",
      "60.0% complete.\n",
      "70.0% complete.\n",
      "80.0% complete.\n",
      "90.0% complete.\n",
      "100.0% complete.\n",
      "10.0% complete.\n",
      "20.0% complete.\n",
      "30.0% complete.\n",
      "40.0% complete.\n",
      "50.0% complete.\n",
      "60.0% complete.\n",
      "70.0% complete.\n",
      "80.0% complete.\n",
      "90.0% complete.\n",
      "100.0% complete.\n",
      "10.0% complete.\n",
      "20.0% complete.\n",
      "30.0% complete.\n",
      "40.0% complete.\n",
      "50.0% complete.\n",
      "60.0% complete.\n",
      "70.0% complete.\n",
      "80.0% complete.\n",
      "90.0% complete.\n",
      "100.0% complete.\n",
      "10.0% complete.\n",
      "20.0% complete.\n",
      "30.0% complete.\n",
      "40.0% complete.\n",
      "50.0% complete.\n",
      "60.0% complete.\n",
      "70.0% complete.\n",
      "80.0% complete.\n",
      "90.0% complete.\n",
      "100.0% complete.\n",
      "10.0% complete.\n",
      "20.0% complete.\n",
      "30.0% complete.\n",
      "40.0% complete.\n",
      "50.0% complete.\n",
      "60.0% complete.\n",
      "70.0% complete.\n",
      "80.0% complete.\n",
      "90.0% complete.\n",
      "100.0% complete.\n",
      "10.0% complete.\n",
      "20.0% complete.\n",
      "30.0% complete.\n",
      "40.0% complete.\n",
      "50.0% complete.\n",
      "60.0% complete.\n",
      "70.0% complete.\n",
      "80.0% complete.\n",
      "90.0% complete.\n",
      "100.0% complete.\n",
      "10.0% complete.\n",
      "20.0% complete.\n",
      "30.0% complete.\n",
      "40.0% complete.\n",
      "50.0% complete.\n",
      "60.0% complete.\n",
      "70.0% complete.\n",
      "80.0% complete.\n",
      "90.0% complete.\n",
      "100.0% complete.\n",
      "10.0% complete.\n",
      "20.0% complete.\n",
      "30.0% complete.\n",
      "40.0% complete.\n",
      "50.0% complete.\n",
      "60.0% complete.\n",
      "70.0% complete.\n",
      "80.0% complete.\n",
      "90.0% complete.\n",
      "100.0% complete.\n",
      "10.0% complete.\n",
      "20.0% complete.\n",
      "30.0% complete.\n",
      "40.0% complete.\n",
      "50.0% complete.\n",
      "60.0% complete.\n",
      "70.0% complete.\n",
      "80.0% complete.\n",
      "90.0% complete.\n",
      "100.0% complete.\n",
      "10.0% complete.\n",
      "20.0% complete.\n",
      "30.0% complete.\n",
      "40.0% complete.\n",
      "50.0% complete.\n",
      "60.0% complete.\n",
      "70.0% complete.\n",
      "80.0% complete.\n",
      "90.0% complete.\n",
      "100.0% complete.\n",
      "10.0% complete.\n",
      "20.0% complete.\n",
      "30.0% complete.\n",
      "40.0% complete.\n",
      "50.0% complete.\n",
      "60.0% complete.\n",
      "70.0% complete.\n",
      "80.0% complete.\n",
      "90.0% complete.\n",
      "100.0% complete.\n",
      "10.0% complete.\n",
      "20.0% complete.\n",
      "30.0% complete.\n",
      "40.0% complete.\n",
      "50.0% complete.\n",
      "60.0% complete.\n",
      "70.0% complete.\n",
      "80.0% complete.\n",
      "90.0% complete.\n",
      "100.0% complete.\n"
     ]
    },
    {
     "name": "stderr",
     "output_type": "stream",
     "text": [
      "/home/bknight/anaconda3/lib/python3.7/site-packages/scipy/optimize/minpack.py:794: OptimizeWarning: Covariance of the parameters could not be estimated\n",
      "  category=OptimizeWarning)\n"
     ]
    },
    {
     "name": "stdout",
     "output_type": "stream",
     "text": [
      "10.0% complete.\n",
      "20.0% complete.\n",
      "30.0% complete.\n",
      "40.0% complete.\n",
      "50.0% complete.\n",
      "60.0% complete.\n",
      "70.0% complete.\n",
      "80.0% complete.\n",
      "90.0% complete.\n",
      "100.0% complete.\n",
      "10.0% complete.\n",
      "20.0% complete.\n",
      "30.0% complete.\n",
      "40.0% complete.\n",
      "50.0% complete.\n",
      "60.0% complete.\n",
      "70.0% complete.\n",
      "80.0% complete.\n",
      "90.0% complete.\n",
      "100.0% complete.\n",
      "10.0% complete.\n",
      "20.0% complete.\n",
      "30.0% complete.\n",
      "40.0% complete.\n",
      "50.0% complete.\n",
      "60.0% complete.\n",
      "70.0% complete.\n",
      "80.0% complete.\n",
      "90.0% complete.\n",
      "100.0% complete.\n",
      "10.0% complete.\n",
      "20.0% complete.\n",
      "30.0% complete.\n",
      "40.0% complete.\n",
      "50.0% complete.\n",
      "60.0% complete.\n",
      "70.0% complete.\n",
      "80.0% complete.\n",
      "90.0% complete.\n",
      "100.0% complete.\n",
      "10.0% complete.\n",
      "20.0% complete.\n",
      "30.0% complete.\n",
      "40.0% complete.\n",
      "50.0% complete.\n",
      "60.0% complete.\n",
      "70.0% complete.\n",
      "80.0% complete.\n",
      "90.0% complete.\n",
      "100.0% complete.\n",
      "10.0% complete.\n",
      "20.0% complete.\n",
      "30.0% complete.\n",
      "40.0% complete.\n",
      "50.0% complete.\n",
      "60.0% complete.\n",
      "70.0% complete.\n",
      "80.0% complete.\n",
      "90.0% complete.\n",
      "100.0% complete.\n",
      "10.0% complete.\n",
      "20.0% complete.\n",
      "30.0% complete.\n",
      "40.0% complete.\n",
      "50.0% complete.\n",
      "60.0% complete.\n",
      "70.0% complete.\n",
      "80.0% complete.\n",
      "90.0% complete.\n",
      "100.0% complete.\n",
      "10.0% complete.\n",
      "20.0% complete.\n",
      "30.0% complete.\n",
      "40.0% complete.\n",
      "50.0% complete.\n",
      "60.0% complete.\n",
      "70.0% complete.\n",
      "80.0% complete.\n",
      "90.0% complete.\n",
      "100.0% complete.\n",
      "10.0% complete.\n",
      "20.0% complete.\n",
      "30.0% complete.\n",
      "40.0% complete.\n",
      "50.0% complete.\n",
      "60.0% complete.\n",
      "70.0% complete.\n",
      "80.0% complete.\n",
      "90.0% complete.\n",
      "100.0% complete.\n",
      "10.0% complete.\n",
      "20.0% complete.\n",
      "30.0% complete.\n",
      "40.0% complete.\n",
      "50.0% complete.\n",
      "60.0% complete.\n",
      "70.0% complete.\n",
      "80.0% complete.\n",
      "90.0% complete.\n",
      "100.0% complete.\n",
      "10.0% complete.\n",
      "20.0% complete.\n",
      "30.0% complete.\n",
      "40.0% complete.\n",
      "50.0% complete.\n",
      "60.0% complete.\n",
      "70.0% complete.\n",
      "80.0% complete.\n",
      "90.0% complete.\n",
      "100.0% complete.\n",
      "10.0% complete.\n",
      "20.0% complete.\n",
      "30.0% complete.\n",
      "40.0% complete.\n",
      "50.0% complete.\n",
      "60.0% complete.\n",
      "70.0% complete.\n",
      "80.0% complete.\n",
      "90.0% complete.\n",
      "100.0% complete.\n",
      "Framework 1 completed.\n",
      "10.0% complete.\n",
      "20.0% complete.\n",
      "30.0% complete.\n",
      "40.0% complete.\n",
      "50.0% complete.\n",
      "60.0% complete.\n",
      "70.0% complete.\n",
      "80.0% complete.\n",
      "90.0% complete.\n",
      "100.0% complete.\n",
      "10.0% complete.\n",
      "20.0% complete.\n",
      "30.0% complete.\n",
      "40.0% complete.\n",
      "50.0% complete.\n",
      "60.0% complete.\n",
      "70.0% complete.\n",
      "80.0% complete.\n",
      "90.0% complete.\n",
      "100.0% complete.\n",
      "10.0% complete.\n",
      "20.0% complete.\n",
      "30.0% complete.\n",
      "40.0% complete.\n",
      "50.0% complete.\n",
      "60.0% complete.\n",
      "70.0% complete.\n",
      "80.0% complete.\n",
      "90.0% complete.\n",
      "100.0% complete.\n",
      "10.0% complete.\n",
      "20.0% complete.\n",
      "30.0% complete.\n",
      "40.0% complete.\n",
      "50.0% complete.\n",
      "60.0% complete.\n",
      "70.0% complete.\n",
      "80.0% complete.\n",
      "90.0% complete.\n",
      "100.0% complete.\n",
      "10.0% complete.\n",
      "20.0% complete.\n",
      "30.0% complete.\n",
      "40.0% complete.\n",
      "50.0% complete.\n",
      "60.0% complete.\n",
      "70.0% complete.\n",
      "80.0% complete.\n",
      "90.0% complete.\n",
      "100.0% complete.\n",
      "10.0% complete.\n",
      "20.0% complete.\n",
      "30.0% complete.\n",
      "40.0% complete.\n",
      "50.0% complete.\n",
      "60.0% complete.\n",
      "70.0% complete.\n",
      "80.0% complete.\n",
      "90.0% complete.\n",
      "100.0% complete.\n",
      "10.0% complete.\n",
      "20.0% complete.\n",
      "30.0% complete.\n",
      "40.0% complete.\n",
      "50.0% complete.\n",
      "60.0% complete.\n",
      "70.0% complete.\n",
      "80.0% complete.\n",
      "90.0% complete.\n",
      "100.0% complete.\n",
      "10.0% complete.\n",
      "20.0% complete.\n",
      "30.0% complete.\n",
      "40.0% complete.\n",
      "50.0% complete.\n",
      "60.0% complete.\n",
      "70.0% complete.\n",
      "80.0% complete.\n",
      "90.0% complete.\n",
      "100.0% complete.\n",
      "10.0% complete.\n",
      "20.0% complete.\n",
      "30.0% complete.\n",
      "40.0% complete.\n",
      "50.0% complete.\n",
      "60.0% complete.\n",
      "70.0% complete.\n",
      "80.0% complete.\n",
      "90.0% complete.\n",
      "100.0% complete.\n",
      "10.0% complete.\n",
      "20.0% complete.\n",
      "30.0% complete.\n",
      "40.0% complete.\n",
      "50.0% complete.\n",
      "60.0% complete.\n",
      "70.0% complete.\n",
      "80.0% complete.\n",
      "90.0% complete.\n",
      "100.0% complete.\n",
      "10.0% complete.\n",
      "20.0% complete.\n",
      "30.0% complete.\n",
      "40.0% complete.\n",
      "50.0% complete.\n",
      "60.0% complete.\n",
      "70.0% complete.\n",
      "80.0% complete.\n",
      "90.0% complete.\n",
      "100.0% complete.\n",
      "10.0% complete.\n",
      "20.0% complete.\n",
      "30.0% complete.\n",
      "40.0% complete.\n",
      "50.0% complete.\n",
      "60.0% complete.\n",
      "70.0% complete.\n",
      "80.0% complete.\n",
      "90.0% complete.\n",
      "100.0% complete.\n",
      "10.0% complete.\n",
      "20.0% complete.\n",
      "30.0% complete.\n",
      "40.0% complete.\n",
      "50.0% complete.\n",
      "60.0% complete.\n",
      "70.0% complete.\n",
      "80.0% complete.\n",
      "90.0% complete.\n",
      "100.0% complete.\n",
      "10.0% complete.\n",
      "20.0% complete.\n",
      "30.0% complete.\n",
      "40.0% complete.\n",
      "50.0% complete.\n",
      "60.0% complete.\n",
      "70.0% complete.\n",
      "80.0% complete.\n",
      "90.0% complete.\n",
      "100.0% complete.\n",
      "10.0% complete.\n",
      "20.0% complete.\n",
      "30.0% complete.\n",
      "40.0% complete.\n",
      "50.0% complete.\n",
      "60.0% complete.\n",
      "70.0% complete.\n",
      "80.0% complete.\n",
      "90.0% complete.\n",
      "100.0% complete.\n",
      "10.0% complete.\n",
      "20.0% complete.\n",
      "30.0% complete.\n",
      "40.0% complete.\n",
      "50.0% complete.\n",
      "60.0% complete.\n",
      "70.0% complete.\n",
      "80.0% complete.\n",
      "90.0% complete.\n",
      "100.0% complete.\n",
      "10.0% complete.\n",
      "20.0% complete.\n",
      "30.0% complete.\n",
      "40.0% complete.\n",
      "50.0% complete.\n",
      "60.0% complete.\n",
      "70.0% complete.\n",
      "80.0% complete.\n",
      "90.0% complete.\n",
      "100.0% complete.\n",
      "10.0% complete.\n",
      "20.0% complete.\n",
      "30.0% complete.\n",
      "40.0% complete.\n",
      "50.0% complete.\n",
      "60.0% complete.\n",
      "70.0% complete.\n",
      "80.0% complete.\n",
      "90.0% complete.\n",
      "100.0% complete.\n",
      "10.0% complete.\n",
      "20.0% complete.\n",
      "30.0% complete.\n",
      "40.0% complete.\n",
      "50.0% complete.\n",
      "60.0% complete.\n",
      "70.0% complete.\n",
      "80.0% complete.\n",
      "90.0% complete.\n",
      "100.0% complete.\n",
      "10.0% complete.\n",
      "20.0% complete.\n",
      "30.0% complete.\n",
      "40.0% complete.\n",
      "50.0% complete.\n",
      "60.0% complete.\n",
      "70.0% complete.\n",
      "80.0% complete.\n",
      "90.0% complete.\n",
      "100.0% complete.\n",
      "10.0% complete.\n",
      "20.0% complete.\n",
      "30.0% complete.\n",
      "40.0% complete.\n",
      "50.0% complete.\n",
      "60.0% complete.\n",
      "70.0% complete.\n",
      "80.0% complete.\n",
      "90.0% complete.\n",
      "100.0% complete.\n",
      "10.0% complete.\n",
      "20.0% complete.\n",
      "30.0% complete.\n",
      "40.0% complete.\n",
      "50.0% complete.\n",
      "60.0% complete.\n",
      "70.0% complete.\n",
      "80.0% complete.\n",
      "90.0% complete.\n",
      "100.0% complete.\n",
      "10.0% complete.\n",
      "20.0% complete.\n",
      "30.0% complete.\n",
      "40.0% complete.\n",
      "50.0% complete.\n",
      "60.0% complete.\n",
      "70.0% complete.\n",
      "80.0% complete.\n",
      "90.0% complete.\n",
      "100.0% complete.\n",
      "10.0% complete.\n",
      "20.0% complete.\n",
      "30.0% complete.\n",
      "40.0% complete.\n",
      "50.0% complete.\n",
      "60.0% complete.\n",
      "70.0% complete.\n",
      "80.0% complete.\n",
      "90.0% complete.\n",
      "100.0% complete.\n",
      "10.0% complete.\n",
      "20.0% complete.\n",
      "30.0% complete.\n",
      "40.0% complete.\n",
      "50.0% complete.\n",
      "60.0% complete.\n",
      "70.0% complete.\n",
      "80.0% complete.\n",
      "90.0% complete.\n",
      "100.0% complete.\n",
      "10.0% complete.\n",
      "20.0% complete.\n",
      "30.0% complete.\n",
      "40.0% complete.\n",
      "50.0% complete.\n",
      "60.0% complete.\n",
      "70.0% complete.\n",
      "80.0% complete.\n",
      "90.0% complete.\n",
      "100.0% complete.\n",
      "10.0% complete.\n",
      "20.0% complete.\n",
      "30.0% complete.\n",
      "40.0% complete.\n",
      "50.0% complete.\n",
      "60.0% complete.\n",
      "70.0% complete.\n",
      "80.0% complete.\n",
      "90.0% complete.\n",
      "100.0% complete.\n",
      "10.0% complete.\n",
      "20.0% complete.\n",
      "30.0% complete.\n",
      "40.0% complete.\n",
      "50.0% complete.\n",
      "60.0% complete.\n",
      "70.0% complete.\n",
      "80.0% complete.\n",
      "90.0% complete.\n",
      "100.0% complete.\n",
      "10.0% complete.\n",
      "20.0% complete.\n",
      "30.0% complete.\n",
      "40.0% complete.\n",
      "50.0% complete.\n",
      "60.0% complete.\n",
      "70.0% complete.\n",
      "80.0% complete.\n",
      "90.0% complete.\n",
      "100.0% complete.\n",
      "10.0% complete.\n",
      "20.0% complete.\n",
      "30.0% complete.\n",
      "40.0% complete.\n",
      "50.0% complete.\n",
      "60.0% complete.\n",
      "70.0% complete.\n",
      "80.0% complete.\n",
      "90.0% complete.\n",
      "100.0% complete.\n",
      "10.0% complete.\n",
      "20.0% complete.\n",
      "30.0% complete.\n",
      "40.0% complete.\n",
      "50.0% complete.\n",
      "60.0% complete.\n",
      "70.0% complete.\n",
      "80.0% complete.\n",
      "90.0% complete.\n",
      "100.0% complete.\n",
      "10.0% complete.\n",
      "20.0% complete.\n",
      "30.0% complete.\n",
      "40.0% complete.\n",
      "50.0% complete.\n",
      "60.0% complete.\n",
      "70.0% complete.\n",
      "80.0% complete.\n",
      "90.0% complete.\n",
      "100.0% complete.\n",
      "10.0% complete.\n",
      "20.0% complete.\n",
      "30.0% complete.\n",
      "40.0% complete.\n",
      "50.0% complete.\n",
      "60.0% complete.\n",
      "70.0% complete.\n",
      "80.0% complete.\n",
      "90.0% complete.\n",
      "100.0% complete.\n",
      "10.0% complete.\n",
      "20.0% complete.\n",
      "30.0% complete.\n",
      "40.0% complete.\n",
      "50.0% complete.\n",
      "60.0% complete.\n",
      "70.0% complete.\n",
      "80.0% complete.\n",
      "90.0% complete.\n",
      "100.0% complete.\n",
      "10.0% complete.\n",
      "20.0% complete.\n",
      "30.0% complete.\n",
      "40.0% complete.\n",
      "50.0% complete.\n",
      "60.0% complete.\n",
      "70.0% complete.\n",
      "80.0% complete.\n",
      "90.0% complete.\n",
      "100.0% complete.\n",
      "10.0% complete.\n",
      "20.0% complete.\n",
      "30.0% complete.\n",
      "40.0% complete.\n",
      "50.0% complete.\n",
      "60.0% complete.\n",
      "70.0% complete.\n",
      "80.0% complete.\n",
      "90.0% complete.\n",
      "100.0% complete.\n",
      "10.0% complete.\n",
      "20.0% complete.\n",
      "30.0% complete.\n",
      "40.0% complete.\n",
      "50.0% complete.\n",
      "60.0% complete.\n",
      "70.0% complete.\n",
      "80.0% complete.\n",
      "90.0% complete.\n",
      "100.0% complete.\n",
      "10.0% complete.\n",
      "20.0% complete.\n",
      "30.0% complete.\n",
      "40.0% complete.\n",
      "50.0% complete.\n",
      "60.0% complete.\n",
      "70.0% complete.\n",
      "80.0% complete.\n",
      "90.0% complete.\n",
      "100.0% complete.\n",
      "10.0% complete.\n",
      "20.0% complete.\n",
      "30.0% complete.\n",
      "40.0% complete.\n",
      "50.0% complete.\n",
      "60.0% complete.\n",
      "70.0% complete.\n",
      "80.0% complete.\n"
     ]
    },
    {
     "name": "stdout",
     "output_type": "stream",
     "text": [
      "90.0% complete.\n",
      "100.0% complete.\n",
      "10.0% complete.\n",
      "20.0% complete.\n",
      "30.0% complete.\n",
      "40.0% complete.\n",
      "50.0% complete.\n",
      "60.0% complete.\n",
      "70.0% complete.\n",
      "80.0% complete.\n",
      "90.0% complete.\n",
      "100.0% complete.\n",
      "10.0% complete.\n",
      "20.0% complete.\n",
      "30.0% complete.\n",
      "40.0% complete.\n",
      "50.0% complete.\n",
      "60.0% complete.\n",
      "70.0% complete.\n",
      "80.0% complete.\n",
      "90.0% complete.\n",
      "100.0% complete.\n",
      "10.0% complete.\n",
      "20.0% complete.\n",
      "30.0% complete.\n",
      "40.0% complete.\n",
      "50.0% complete.\n",
      "60.0% complete.\n",
      "70.0% complete.\n",
      "80.0% complete.\n",
      "90.0% complete.\n",
      "100.0% complete.\n",
      "10.0% complete.\n",
      "20.0% complete.\n",
      "30.0% complete.\n",
      "40.0% complete.\n",
      "50.0% complete.\n",
      "60.0% complete.\n",
      "70.0% complete.\n",
      "80.0% complete.\n",
      "90.0% complete.\n",
      "100.0% complete.\n",
      "10.0% complete.\n",
      "20.0% complete.\n",
      "30.0% complete.\n",
      "40.0% complete.\n",
      "50.0% complete.\n",
      "60.0% complete.\n",
      "70.0% complete.\n",
      "80.0% complete.\n",
      "90.0% complete.\n",
      "100.0% complete.\n",
      "10.0% complete.\n",
      "20.0% complete.\n",
      "30.0% complete.\n",
      "40.0% complete.\n",
      "50.0% complete.\n",
      "60.0% complete.\n",
      "70.0% complete.\n",
      "80.0% complete.\n",
      "90.0% complete.\n",
      "100.0% complete.\n",
      "10.0% complete.\n",
      "20.0% complete.\n",
      "30.0% complete.\n",
      "40.0% complete.\n",
      "50.0% complete.\n",
      "60.0% complete.\n",
      "70.0% complete.\n",
      "80.0% complete.\n",
      "90.0% complete.\n",
      "100.0% complete.\n",
      "10.0% complete.\n",
      "20.0% complete.\n",
      "30.0% complete.\n",
      "40.0% complete.\n",
      "50.0% complete.\n",
      "60.0% complete.\n",
      "70.0% complete.\n",
      "80.0% complete.\n",
      "90.0% complete.\n",
      "100.0% complete.\n",
      "10.0% complete.\n",
      "20.0% complete.\n",
      "30.0% complete.\n",
      "40.0% complete.\n",
      "50.0% complete.\n",
      "60.0% complete.\n",
      "70.0% complete.\n",
      "80.0% complete.\n",
      "90.0% complete.\n",
      "100.0% complete.\n",
      "10.0% complete.\n",
      "20.0% complete.\n",
      "30.0% complete.\n",
      "40.0% complete.\n",
      "50.0% complete.\n",
      "60.0% complete.\n",
      "70.0% complete.\n",
      "80.0% complete.\n",
      "90.0% complete.\n",
      "100.0% complete.\n",
      "10.0% complete.\n",
      "20.0% complete.\n",
      "30.0% complete.\n",
      "40.0% complete.\n",
      "50.0% complete.\n",
      "60.0% complete.\n",
      "70.0% complete.\n",
      "80.0% complete.\n",
      "90.0% complete.\n",
      "100.0% complete.\n",
      "10.0% complete.\n",
      "20.0% complete.\n",
      "30.0% complete.\n",
      "40.0% complete.\n",
      "50.0% complete.\n",
      "60.0% complete.\n",
      "70.0% complete.\n",
      "80.0% complete.\n",
      "90.0% complete.\n",
      "100.0% complete.\n",
      "10.0% complete.\n",
      "20.0% complete.\n",
      "30.0% complete.\n",
      "40.0% complete.\n",
      "50.0% complete.\n",
      "60.0% complete.\n",
      "70.0% complete.\n",
      "80.0% complete.\n",
      "90.0% complete.\n",
      "100.0% complete.\n",
      "10.0% complete.\n",
      "20.0% complete.\n",
      "30.0% complete.\n",
      "40.0% complete.\n",
      "50.0% complete.\n",
      "60.0% complete.\n",
      "70.0% complete.\n",
      "80.0% complete.\n",
      "90.0% complete.\n",
      "100.0% complete.\n",
      "10.0% complete.\n",
      "20.0% complete.\n",
      "30.0% complete.\n",
      "40.0% complete.\n",
      "50.0% complete.\n",
      "60.0% complete.\n",
      "70.0% complete.\n",
      "80.0% complete.\n",
      "90.0% complete.\n",
      "100.0% complete.\n",
      "10.0% complete.\n",
      "20.0% complete.\n",
      "30.0% complete.\n",
      "40.0% complete.\n",
      "50.0% complete.\n",
      "60.0% complete.\n",
      "70.0% complete.\n",
      "80.0% complete.\n",
      "90.0% complete.\n",
      "100.0% complete.\n",
      "10.0% complete.\n",
      "20.0% complete.\n",
      "30.0% complete.\n",
      "40.0% complete.\n",
      "50.0% complete.\n",
      "60.0% complete.\n",
      "70.0% complete.\n",
      "80.0% complete.\n",
      "90.0% complete.\n",
      "100.0% complete.\n",
      "10.0% complete.\n",
      "20.0% complete.\n",
      "30.0% complete.\n",
      "40.0% complete.\n",
      "50.0% complete.\n",
      "60.0% complete.\n",
      "70.0% complete.\n",
      "80.0% complete.\n",
      "90.0% complete.\n",
      "100.0% complete.\n",
      "10.0% complete.\n",
      "20.0% complete.\n",
      "30.0% complete.\n",
      "40.0% complete.\n",
      "50.0% complete.\n",
      "60.0% complete.\n",
      "70.0% complete.\n",
      "80.0% complete.\n",
      "90.0% complete.\n",
      "100.0% complete.\n",
      "10.0% complete.\n",
      "20.0% complete.\n",
      "30.0% complete.\n",
      "40.0% complete.\n",
      "50.0% complete.\n",
      "60.0% complete.\n",
      "70.0% complete.\n",
      "80.0% complete.\n",
      "90.0% complete.\n",
      "100.0% complete.\n",
      "10.0% complete.\n",
      "20.0% complete.\n",
      "30.0% complete.\n",
      "40.0% complete.\n",
      "50.0% complete.\n",
      "60.0% complete.\n",
      "70.0% complete.\n",
      "80.0% complete.\n",
      "90.0% complete.\n",
      "100.0% complete.\n",
      "10.0% complete.\n",
      "20.0% complete.\n",
      "30.0% complete.\n",
      "40.0% complete.\n",
      "50.0% complete.\n",
      "60.0% complete.\n",
      "70.0% complete.\n",
      "80.0% complete.\n",
      "90.0% complete.\n",
      "100.0% complete.\n",
      "10.0% complete.\n",
      "20.0% complete.\n",
      "30.0% complete.\n",
      "40.0% complete.\n",
      "50.0% complete.\n",
      "60.0% complete.\n",
      "70.0% complete.\n",
      "80.0% complete.\n",
      "90.0% complete.\n",
      "100.0% complete.\n",
      "10.0% complete.\n",
      "20.0% complete.\n",
      "30.0% complete.\n",
      "40.0% complete.\n",
      "50.0% complete.\n",
      "60.0% complete.\n",
      "70.0% complete.\n",
      "80.0% complete.\n",
      "90.0% complete.\n",
      "100.0% complete.\n",
      "10.0% complete.\n",
      "20.0% complete.\n",
      "30.0% complete.\n",
      "40.0% complete.\n",
      "50.0% complete.\n",
      "60.0% complete.\n",
      "70.0% complete.\n",
      "80.0% complete.\n",
      "90.0% complete.\n",
      "100.0% complete.\n",
      "10.0% complete.\n",
      "20.0% complete.\n",
      "30.0% complete.\n",
      "40.0% complete.\n",
      "50.0% complete.\n",
      "60.0% complete.\n",
      "70.0% complete.\n",
      "80.0% complete.\n",
      "90.0% complete.\n",
      "100.0% complete.\n",
      "10.0% complete.\n",
      "20.0% complete.\n",
      "30.0% complete.\n",
      "40.0% complete.\n",
      "50.0% complete.\n",
      "60.0% complete.\n",
      "70.0% complete.\n",
      "80.0% complete.\n",
      "90.0% complete.\n",
      "100.0% complete.\n",
      "10.0% complete.\n",
      "20.0% complete.\n",
      "30.0% complete.\n",
      "40.0% complete.\n",
      "50.0% complete.\n",
      "60.0% complete.\n",
      "70.0% complete.\n",
      "80.0% complete.\n",
      "90.0% complete.\n",
      "100.0% complete.\n",
      "10.0% complete.\n",
      "20.0% complete.\n",
      "30.0% complete.\n",
      "40.0% complete.\n",
      "50.0% complete.\n",
      "60.0% complete.\n",
      "70.0% complete.\n",
      "80.0% complete.\n",
      "90.0% complete.\n",
      "100.0% complete.\n",
      "10.0% complete.\n",
      "20.0% complete.\n",
      "30.0% complete.\n",
      "40.0% complete.\n",
      "50.0% complete.\n",
      "60.0% complete.\n",
      "70.0% complete.\n",
      "80.0% complete.\n",
      "90.0% complete.\n",
      "100.0% complete.\n",
      "10.0% complete.\n",
      "20.0% complete.\n",
      "30.0% complete.\n",
      "40.0% complete.\n",
      "50.0% complete.\n",
      "60.0% complete.\n",
      "70.0% complete.\n",
      "80.0% complete.\n",
      "90.0% complete.\n",
      "100.0% complete.\n",
      "10.0% complete.\n",
      "20.0% complete.\n",
      "30.0% complete.\n",
      "40.0% complete.\n",
      "50.0% complete.\n",
      "60.0% complete.\n",
      "70.0% complete.\n",
      "80.0% complete.\n",
      "90.0% complete.\n",
      "100.0% complete.\n",
      "10.0% complete.\n",
      "20.0% complete.\n",
      "30.0% complete.\n",
      "40.0% complete.\n",
      "50.0% complete.\n",
      "60.0% complete.\n",
      "70.0% complete.\n",
      "80.0% complete.\n",
      "90.0% complete.\n",
      "100.0% complete.\n",
      "10.0% complete.\n",
      "20.0% complete.\n",
      "30.0% complete.\n",
      "40.0% complete.\n",
      "50.0% complete.\n",
      "60.0% complete.\n",
      "70.0% complete.\n",
      "80.0% complete.\n",
      "90.0% complete.\n",
      "100.0% complete.\n",
      "10.0% complete.\n",
      "20.0% complete.\n",
      "30.0% complete.\n",
      "40.0% complete.\n",
      "50.0% complete.\n",
      "60.0% complete.\n",
      "70.0% complete.\n",
      "80.0% complete.\n",
      "90.0% complete.\n",
      "100.0% complete.\n",
      "10.0% complete.\n",
      "20.0% complete.\n",
      "30.0% complete.\n",
      "40.0% complete.\n",
      "50.0% complete.\n",
      "60.0% complete.\n",
      "70.0% complete.\n",
      "80.0% complete.\n",
      "90.0% complete.\n",
      "100.0% complete.\n",
      "10.0% complete.\n",
      "20.0% complete.\n",
      "30.0% complete.\n",
      "40.0% complete.\n",
      "50.0% complete.\n",
      "60.0% complete.\n",
      "70.0% complete.\n",
      "80.0% complete.\n",
      "90.0% complete.\n",
      "100.0% complete.\n",
      "10.0% complete.\n",
      "20.0% complete.\n",
      "30.0% complete.\n",
      "40.0% complete.\n",
      "50.0% complete.\n",
      "60.0% complete.\n",
      "70.0% complete.\n",
      "80.0% complete.\n",
      "90.0% complete.\n",
      "100.0% complete.\n",
      "10.0% complete.\n",
      "20.0% complete.\n",
      "30.0% complete.\n",
      "40.0% complete.\n",
      "50.0% complete.\n",
      "60.0% complete.\n",
      "70.0% complete.\n",
      "80.0% complete.\n",
      "90.0% complete.\n",
      "100.0% complete.\n",
      "10.0% complete.\n",
      "20.0% complete.\n",
      "30.0% complete.\n",
      "40.0% complete.\n",
      "50.0% complete.\n",
      "60.0% complete.\n",
      "70.0% complete.\n",
      "80.0% complete.\n",
      "90.0% complete.\n",
      "100.0% complete.\n",
      "10.0% complete.\n",
      "20.0% complete.\n",
      "30.0% complete.\n",
      "40.0% complete.\n",
      "50.0% complete.\n",
      "60.0% complete.\n",
      "70.0% complete.\n",
      "80.0% complete.\n",
      "90.0% complete.\n",
      "100.0% complete.\n",
      "10.0% complete.\n",
      "20.0% complete.\n",
      "30.0% complete.\n",
      "40.0% complete.\n",
      "50.0% complete.\n",
      "60.0% complete.\n",
      "70.0% complete.\n",
      "80.0% complete.\n",
      "90.0% complete.\n",
      "100.0% complete.\n",
      "10.0% complete.\n",
      "20.0% complete.\n",
      "30.0% complete.\n",
      "40.0% complete.\n",
      "50.0% complete.\n",
      "60.0% complete.\n",
      "70.0% complete.\n",
      "80.0% complete.\n",
      "90.0% complete.\n",
      "100.0% complete.\n",
      "10.0% complete.\n",
      "20.0% complete.\n",
      "30.0% complete.\n",
      "40.0% complete.\n",
      "50.0% complete.\n",
      "60.0% complete.\n",
      "70.0% complete.\n",
      "80.0% complete.\n",
      "90.0% complete.\n",
      "100.0% complete.\n",
      "10.0% complete.\n",
      "20.0% complete.\n",
      "30.0% complete.\n",
      "40.0% complete.\n",
      "50.0% complete.\n",
      "60.0% complete.\n",
      "70.0% complete.\n",
      "80.0% complete.\n",
      "90.0% complete.\n",
      "100.0% complete.\n",
      "10.0% complete.\n",
      "20.0% complete.\n",
      "30.0% complete.\n",
      "40.0% complete.\n",
      "50.0% complete.\n",
      "60.0% complete.\n",
      "70.0% complete.\n",
      "80.0% complete.\n",
      "90.0% complete.\n",
      "100.0% complete.\n",
      "10.0% complete.\n",
      "20.0% complete.\n",
      "30.0% complete.\n",
      "40.0% complete.\n",
      "50.0% complete.\n",
      "60.0% complete.\n",
      "70.0% complete.\n",
      "80.0% complete.\n",
      "90.0% complete.\n",
      "100.0% complete.\n",
      "10.0% complete.\n",
      "20.0% complete.\n",
      "30.0% complete.\n",
      "40.0% complete.\n",
      "50.0% complete.\n",
      "60.0% complete.\n",
      "70.0% complete.\n",
      "80.0% complete.\n",
      "90.0% complete.\n",
      "100.0% complete.\n",
      "10.0% complete.\n",
      "20.0% complete.\n",
      "30.0% complete.\n",
      "40.0% complete.\n",
      "50.0% complete.\n",
      "60.0% complete.\n",
      "70.0% complete.\n",
      "80.0% complete.\n",
      "90.0% complete.\n",
      "100.0% complete.\n",
      "10.0% complete.\n",
      "20.0% complete.\n",
      "30.0% complete.\n",
      "40.0% complete.\n",
      "50.0% complete.\n",
      "60.0% complete.\n",
      "70.0% complete.\n",
      "80.0% complete.\n",
      "90.0% complete.\n",
      "100.0% complete.\n",
      "10.0% complete.\n",
      "20.0% complete.\n",
      "30.0% complete.\n",
      "40.0% complete.\n",
      "50.0% complete.\n",
      "60.0% complete.\n",
      "70.0% complete.\n"
     ]
    },
    {
     "name": "stdout",
     "output_type": "stream",
     "text": [
      "80.0% complete.\n",
      "90.0% complete.\n",
      "100.0% complete.\n",
      "10.0% complete.\n",
      "20.0% complete.\n",
      "30.0% complete.\n",
      "40.0% complete.\n",
      "50.0% complete.\n",
      "60.0% complete.\n",
      "70.0% complete.\n",
      "80.0% complete.\n",
      "90.0% complete.\n",
      "100.0% complete.\n",
      "10.0% complete.\n",
      "20.0% complete.\n",
      "30.0% complete.\n",
      "40.0% complete.\n",
      "50.0% complete.\n",
      "60.0% complete.\n",
      "70.0% complete.\n",
      "80.0% complete.\n",
      "90.0% complete.\n",
      "100.0% complete.\n",
      "10.0% complete.\n",
      "20.0% complete.\n",
      "30.0% complete.\n",
      "40.0% complete.\n",
      "50.0% complete.\n",
      "60.0% complete.\n",
      "70.0% complete.\n",
      "80.0% complete.\n",
      "90.0% complete.\n",
      "100.0% complete.\n",
      "10.0% complete.\n",
      "20.0% complete.\n",
      "30.0% complete.\n",
      "40.0% complete.\n",
      "50.0% complete.\n",
      "60.0% complete.\n",
      "70.0% complete.\n",
      "80.0% complete.\n",
      "90.0% complete.\n",
      "100.0% complete.\n",
      "10.0% complete.\n",
      "20.0% complete.\n",
      "30.0% complete.\n",
      "40.0% complete.\n",
      "50.0% complete.\n",
      "60.0% complete.\n",
      "70.0% complete.\n",
      "80.0% complete.\n",
      "90.0% complete.\n",
      "100.0% complete.\n",
      "10.0% complete.\n",
      "20.0% complete.\n",
      "30.0% complete.\n",
      "40.0% complete.\n",
      "50.0% complete.\n",
      "60.0% complete.\n",
      "70.0% complete.\n",
      "80.0% complete.\n",
      "90.0% complete.\n",
      "100.0% complete.\n",
      "10.0% complete.\n",
      "20.0% complete.\n",
      "30.0% complete.\n",
      "40.0% complete.\n",
      "50.0% complete.\n",
      "60.0% complete.\n",
      "70.0% complete.\n",
      "80.0% complete.\n",
      "90.0% complete.\n",
      "100.0% complete.\n",
      "10.0% complete.\n",
      "20.0% complete.\n",
      "30.0% complete.\n",
      "40.0% complete.\n",
      "50.0% complete.\n",
      "60.0% complete.\n",
      "70.0% complete.\n",
      "80.0% complete.\n",
      "90.0% complete.\n",
      "100.0% complete.\n",
      "10.0% complete.\n",
      "20.0% complete.\n",
      "30.0% complete.\n",
      "40.0% complete.\n",
      "50.0% complete.\n",
      "60.0% complete.\n",
      "70.0% complete.\n",
      "80.0% complete.\n",
      "90.0% complete.\n",
      "100.0% complete.\n",
      "10.0% complete.\n",
      "20.0% complete.\n",
      "30.0% complete.\n",
      "40.0% complete.\n",
      "50.0% complete.\n",
      "60.0% complete.\n",
      "70.0% complete.\n",
      "80.0% complete.\n",
      "90.0% complete.\n",
      "100.0% complete.\n",
      "Framework 2 completed.\n"
     ]
    },
    {
     "name": "stderr",
     "output_type": "stream",
     "text": [
      "/home/bknight/anaconda3/lib/python3.7/site-packages/scipy/optimize/minpack.py:794: OptimizeWarning: Covariance of the parameters could not be estimated\n",
      "  category=OptimizeWarning)\n"
     ]
    },
    {
     "name": "stdout",
     "output_type": "stream",
     "text": [
      "10.0% complete.\n",
      "20.0% complete.\n",
      "30.0% complete.\n",
      "40.0% complete.\n",
      "50.0% complete.\n",
      "60.0% complete.\n",
      "70.0% complete.\n",
      "80.0% complete.\n",
      "90.0% complete.\n",
      "100.0% complete.\n"
     ]
    },
    {
     "name": "stderr",
     "output_type": "stream",
     "text": [
      "/home/bknight/anaconda3/lib/python3.7/site-packages/scipy/optimize/minpack.py:794: OptimizeWarning: Covariance of the parameters could not be estimated\n",
      "  category=OptimizeWarning)\n"
     ]
    },
    {
     "name": "stdout",
     "output_type": "stream",
     "text": [
      "10.0% complete.\n",
      "20.0% complete.\n",
      "30.0% complete.\n",
      "40.0% complete.\n",
      "50.0% complete.\n",
      "60.0% complete.\n",
      "70.0% complete.\n",
      "80.0% complete.\n",
      "90.0% complete.\n",
      "100.0% complete.\n"
     ]
    },
    {
     "name": "stderr",
     "output_type": "stream",
     "text": [
      "/home/bknight/anaconda3/lib/python3.7/site-packages/scipy/optimize/minpack.py:794: OptimizeWarning: Covariance of the parameters could not be estimated\n",
      "  category=OptimizeWarning)\n"
     ]
    },
    {
     "name": "stdout",
     "output_type": "stream",
     "text": [
      "10.0% complete.\n",
      "20.0% complete.\n",
      "30.0% complete.\n",
      "40.0% complete.\n",
      "50.0% complete.\n",
      "60.0% complete.\n",
      "70.0% complete.\n",
      "80.0% complete.\n",
      "90.0% complete.\n",
      "100.0% complete.\n"
     ]
    },
    {
     "name": "stderr",
     "output_type": "stream",
     "text": [
      "/home/bknight/anaconda3/lib/python3.7/site-packages/scipy/optimize/minpack.py:794: OptimizeWarning: Covariance of the parameters could not be estimated\n",
      "  category=OptimizeWarning)\n"
     ]
    },
    {
     "name": "stdout",
     "output_type": "stream",
     "text": [
      "10.0% complete.\n",
      "20.0% complete.\n",
      "30.0% complete.\n",
      "40.0% complete.\n",
      "50.0% complete.\n",
      "60.0% complete.\n",
      "70.0% complete.\n",
      "80.0% complete.\n",
      "90.0% complete.\n",
      "100.0% complete.\n"
     ]
    },
    {
     "name": "stderr",
     "output_type": "stream",
     "text": [
      "/home/bknight/anaconda3/lib/python3.7/site-packages/scipy/optimize/minpack.py:794: OptimizeWarning: Covariance of the parameters could not be estimated\n",
      "  category=OptimizeWarning)\n"
     ]
    },
    {
     "name": "stdout",
     "output_type": "stream",
     "text": [
      "10.0% complete.\n",
      "20.0% complete.\n",
      "30.0% complete.\n",
      "40.0% complete.\n",
      "50.0% complete.\n",
      "60.0% complete.\n",
      "70.0% complete.\n",
      "80.0% complete.\n",
      "90.0% complete.\n",
      "100.0% complete.\n"
     ]
    },
    {
     "name": "stderr",
     "output_type": "stream",
     "text": [
      "/home/bknight/anaconda3/lib/python3.7/site-packages/scipy/optimize/minpack.py:794: OptimizeWarning: Covariance of the parameters could not be estimated\n",
      "  category=OptimizeWarning)\n"
     ]
    },
    {
     "name": "stdout",
     "output_type": "stream",
     "text": [
      "10.0% complete.\n",
      "20.0% complete.\n",
      "30.0% complete.\n",
      "40.0% complete.\n",
      "50.0% complete.\n",
      "60.0% complete.\n",
      "70.0% complete.\n",
      "80.0% complete.\n",
      "90.0% complete.\n",
      "100.0% complete.\n"
     ]
    },
    {
     "name": "stderr",
     "output_type": "stream",
     "text": [
      "/home/bknight/anaconda3/lib/python3.7/site-packages/scipy/optimize/minpack.py:794: OptimizeWarning: Covariance of the parameters could not be estimated\n",
      "  category=OptimizeWarning)\n"
     ]
    },
    {
     "name": "stdout",
     "output_type": "stream",
     "text": [
      "10.0% complete.\n",
      "20.0% complete.\n",
      "30.0% complete.\n",
      "40.0% complete.\n",
      "50.0% complete.\n",
      "60.0% complete.\n",
      "70.0% complete.\n",
      "80.0% complete.\n",
      "90.0% complete.\n",
      "100.0% complete.\n"
     ]
    },
    {
     "name": "stderr",
     "output_type": "stream",
     "text": [
      "/home/bknight/anaconda3/lib/python3.7/site-packages/scipy/optimize/minpack.py:794: OptimizeWarning: Covariance of the parameters could not be estimated\n",
      "  category=OptimizeWarning)\n"
     ]
    },
    {
     "name": "stdout",
     "output_type": "stream",
     "text": [
      "10.0% complete.\n",
      "20.0% complete.\n",
      "30.0% complete.\n",
      "40.0% complete.\n",
      "50.0% complete.\n",
      "60.0% complete.\n",
      "70.0% complete.\n",
      "80.0% complete.\n",
      "90.0% complete.\n",
      "100.0% complete.\n"
     ]
    },
    {
     "name": "stderr",
     "output_type": "stream",
     "text": [
      "/home/bknight/anaconda3/lib/python3.7/site-packages/scipy/optimize/minpack.py:794: OptimizeWarning: Covariance of the parameters could not be estimated\n",
      "  category=OptimizeWarning)\n"
     ]
    },
    {
     "name": "stdout",
     "output_type": "stream",
     "text": [
      "10.0% complete.\n",
      "20.0% complete.\n",
      "30.0% complete.\n",
      "40.0% complete.\n",
      "50.0% complete.\n",
      "60.0% complete.\n",
      "70.0% complete.\n",
      "80.0% complete.\n",
      "90.0% complete.\n",
      "100.0% complete.\n"
     ]
    },
    {
     "name": "stderr",
     "output_type": "stream",
     "text": [
      "/home/bknight/anaconda3/lib/python3.7/site-packages/scipy/optimize/minpack.py:794: OptimizeWarning: Covariance of the parameters could not be estimated\n",
      "  category=OptimizeWarning)\n"
     ]
    },
    {
     "name": "stdout",
     "output_type": "stream",
     "text": [
      "10.0% complete.\n",
      "20.0% complete.\n",
      "30.0% complete.\n",
      "40.0% complete.\n",
      "50.0% complete.\n",
      "60.0% complete.\n",
      "70.0% complete.\n",
      "80.0% complete.\n",
      "90.0% complete.\n",
      "100.0% complete.\n"
     ]
    },
    {
     "name": "stderr",
     "output_type": "stream",
     "text": [
      "/home/bknight/anaconda3/lib/python3.7/site-packages/scipy/optimize/minpack.py:794: OptimizeWarning: Covariance of the parameters could not be estimated\n",
      "  category=OptimizeWarning)\n"
     ]
    },
    {
     "name": "stdout",
     "output_type": "stream",
     "text": [
      "10.0% complete.\n",
      "20.0% complete.\n",
      "30.0% complete.\n",
      "40.0% complete.\n",
      "50.0% complete.\n",
      "60.0% complete.\n",
      "70.0% complete.\n",
      "80.0% complete.\n",
      "90.0% complete.\n",
      "100.0% complete.\n"
     ]
    },
    {
     "name": "stderr",
     "output_type": "stream",
     "text": [
      "/home/bknight/anaconda3/lib/python3.7/site-packages/scipy/optimize/minpack.py:794: OptimizeWarning: Covariance of the parameters could not be estimated\n",
      "  category=OptimizeWarning)\n"
     ]
    },
    {
     "name": "stdout",
     "output_type": "stream",
     "text": [
      "10.0% complete.\n",
      "20.0% complete.\n",
      "30.0% complete.\n",
      "40.0% complete.\n",
      "50.0% complete.\n",
      "60.0% complete.\n",
      "70.0% complete.\n",
      "80.0% complete.\n",
      "90.0% complete.\n",
      "100.0% complete.\n"
     ]
    },
    {
     "name": "stderr",
     "output_type": "stream",
     "text": [
      "/home/bknight/anaconda3/lib/python3.7/site-packages/scipy/optimize/minpack.py:794: OptimizeWarning: Covariance of the parameters could not be estimated\n",
      "  category=OptimizeWarning)\n"
     ]
    },
    {
     "name": "stdout",
     "output_type": "stream",
     "text": [
      "10.0% complete.\n",
      "20.0% complete.\n",
      "30.0% complete.\n",
      "40.0% complete.\n",
      "50.0% complete.\n",
      "60.0% complete.\n",
      "70.0% complete.\n",
      "80.0% complete.\n",
      "90.0% complete.\n",
      "100.0% complete.\n"
     ]
    },
    {
     "name": "stderr",
     "output_type": "stream",
     "text": [
      "/home/bknight/anaconda3/lib/python3.7/site-packages/scipy/optimize/minpack.py:794: OptimizeWarning: Covariance of the parameters could not be estimated\n",
      "  category=OptimizeWarning)\n"
     ]
    },
    {
     "name": "stdout",
     "output_type": "stream",
     "text": [
      "10.0% complete.\n",
      "20.0% complete.\n",
      "30.0% complete.\n",
      "40.0% complete.\n",
      "50.0% complete.\n",
      "60.0% complete.\n",
      "70.0% complete.\n",
      "80.0% complete.\n",
      "90.0% complete.\n",
      "100.0% complete.\n"
     ]
    },
    {
     "name": "stderr",
     "output_type": "stream",
     "text": [
      "/home/bknight/anaconda3/lib/python3.7/site-packages/scipy/optimize/minpack.py:794: OptimizeWarning: Covariance of the parameters could not be estimated\n",
      "  category=OptimizeWarning)\n"
     ]
    },
    {
     "name": "stdout",
     "output_type": "stream",
     "text": [
      "10.0% complete.\n",
      "20.0% complete.\n",
      "30.0% complete.\n",
      "40.0% complete.\n",
      "50.0% complete.\n",
      "60.0% complete.\n",
      "70.0% complete.\n",
      "80.0% complete.\n",
      "90.0% complete.\n",
      "100.0% complete.\n"
     ]
    },
    {
     "name": "stderr",
     "output_type": "stream",
     "text": [
      "/home/bknight/anaconda3/lib/python3.7/site-packages/scipy/optimize/minpack.py:794: OptimizeWarning: Covariance of the parameters could not be estimated\n",
      "  category=OptimizeWarning)\n"
     ]
    },
    {
     "name": "stdout",
     "output_type": "stream",
     "text": [
      "10.0% complete.\n",
      "20.0% complete.\n",
      "30.0% complete.\n",
      "40.0% complete.\n",
      "50.0% complete.\n",
      "60.0% complete.\n",
      "70.0% complete.\n",
      "80.0% complete.\n",
      "90.0% complete.\n",
      "100.0% complete.\n"
     ]
    },
    {
     "name": "stderr",
     "output_type": "stream",
     "text": [
      "/home/bknight/anaconda3/lib/python3.7/site-packages/scipy/optimize/minpack.py:794: OptimizeWarning: Covariance of the parameters could not be estimated\n",
      "  category=OptimizeWarning)\n"
     ]
    },
    {
     "name": "stdout",
     "output_type": "stream",
     "text": [
      "10.0% complete.\n",
      "20.0% complete.\n",
      "30.0% complete.\n",
      "40.0% complete.\n",
      "50.0% complete.\n",
      "60.0% complete.\n",
      "70.0% complete.\n",
      "80.0% complete.\n",
      "90.0% complete.\n",
      "100.0% complete.\n"
     ]
    },
    {
     "name": "stderr",
     "output_type": "stream",
     "text": [
      "/home/bknight/anaconda3/lib/python3.7/site-packages/scipy/optimize/minpack.py:794: OptimizeWarning: Covariance of the parameters could not be estimated\n",
      "  category=OptimizeWarning)\n"
     ]
    },
    {
     "name": "stdout",
     "output_type": "stream",
     "text": [
      "10.0% complete.\n",
      "20.0% complete.\n",
      "30.0% complete.\n",
      "40.0% complete.\n",
      "50.0% complete.\n",
      "60.0% complete.\n",
      "70.0% complete.\n",
      "80.0% complete.\n",
      "90.0% complete.\n",
      "100.0% complete.\n"
     ]
    },
    {
     "name": "stderr",
     "output_type": "stream",
     "text": [
      "/home/bknight/anaconda3/lib/python3.7/site-packages/scipy/optimize/minpack.py:794: OptimizeWarning: Covariance of the parameters could not be estimated\n",
      "  category=OptimizeWarning)\n"
     ]
    },
    {
     "name": "stdout",
     "output_type": "stream",
     "text": [
      "10.0% complete.\n",
      "20.0% complete.\n",
      "30.0% complete.\n",
      "40.0% complete.\n",
      "50.0% complete.\n",
      "60.0% complete.\n",
      "70.0% complete.\n",
      "80.0% complete.\n",
      "90.0% complete.\n",
      "100.0% complete.\n"
     ]
    },
    {
     "name": "stderr",
     "output_type": "stream",
     "text": [
      "/home/bknight/anaconda3/lib/python3.7/site-packages/scipy/optimize/minpack.py:794: OptimizeWarning: Covariance of the parameters could not be estimated\n",
      "  category=OptimizeWarning)\n"
     ]
    },
    {
     "name": "stdout",
     "output_type": "stream",
     "text": [
      "10.0% complete.\n",
      "20.0% complete.\n",
      "30.0% complete.\n",
      "40.0% complete.\n",
      "50.0% complete.\n",
      "60.0% complete.\n",
      "70.0% complete.\n",
      "80.0% complete.\n",
      "90.0% complete.\n",
      "100.0% complete.\n"
     ]
    },
    {
     "name": "stderr",
     "output_type": "stream",
     "text": [
      "/home/bknight/anaconda3/lib/python3.7/site-packages/scipy/optimize/minpack.py:794: OptimizeWarning: Covariance of the parameters could not be estimated\n",
      "  category=OptimizeWarning)\n"
     ]
    },
    {
     "name": "stdout",
     "output_type": "stream",
     "text": [
      "10.0% complete.\n",
      "20.0% complete.\n",
      "30.0% complete.\n",
      "40.0% complete.\n",
      "50.0% complete.\n",
      "60.0% complete.\n",
      "70.0% complete.\n",
      "80.0% complete.\n",
      "90.0% complete.\n",
      "100.0% complete.\n"
     ]
    },
    {
     "name": "stderr",
     "output_type": "stream",
     "text": [
      "/home/bknight/anaconda3/lib/python3.7/site-packages/scipy/optimize/minpack.py:794: OptimizeWarning: Covariance of the parameters could not be estimated\n",
      "  category=OptimizeWarning)\n"
     ]
    },
    {
     "name": "stdout",
     "output_type": "stream",
     "text": [
      "10.0% complete.\n",
      "20.0% complete.\n",
      "30.0% complete.\n",
      "40.0% complete.\n",
      "50.0% complete.\n",
      "60.0% complete.\n",
      "70.0% complete.\n",
      "80.0% complete.\n",
      "90.0% complete.\n",
      "100.0% complete.\n"
     ]
    },
    {
     "name": "stderr",
     "output_type": "stream",
     "text": [
      "/home/bknight/anaconda3/lib/python3.7/site-packages/scipy/optimize/minpack.py:794: OptimizeWarning: Covariance of the parameters could not be estimated\n",
      "  category=OptimizeWarning)\n"
     ]
    },
    {
     "name": "stdout",
     "output_type": "stream",
     "text": [
      "10.0% complete.\n",
      "20.0% complete.\n",
      "30.0% complete.\n",
      "40.0% complete.\n",
      "50.0% complete.\n",
      "60.0% complete.\n",
      "70.0% complete.\n",
      "80.0% complete.\n",
      "90.0% complete.\n",
      "100.0% complete.\n"
     ]
    },
    {
     "name": "stderr",
     "output_type": "stream",
     "text": [
      "/home/bknight/anaconda3/lib/python3.7/site-packages/scipy/optimize/minpack.py:794: OptimizeWarning: Covariance of the parameters could not be estimated\n",
      "  category=OptimizeWarning)\n"
     ]
    },
    {
     "name": "stdout",
     "output_type": "stream",
     "text": [
      "10.0% complete.\n",
      "20.0% complete.\n",
      "30.0% complete.\n",
      "40.0% complete.\n",
      "50.0% complete.\n",
      "60.0% complete.\n",
      "70.0% complete.\n",
      "80.0% complete.\n",
      "90.0% complete.\n",
      "100.0% complete.\n"
     ]
    },
    {
     "name": "stderr",
     "output_type": "stream",
     "text": [
      "/home/bknight/anaconda3/lib/python3.7/site-packages/scipy/optimize/minpack.py:794: OptimizeWarning: Covariance of the parameters could not be estimated\n",
      "  category=OptimizeWarning)\n"
     ]
    },
    {
     "name": "stdout",
     "output_type": "stream",
     "text": [
      "10.0% complete.\n",
      "20.0% complete.\n",
      "30.0% complete.\n",
      "40.0% complete.\n",
      "50.0% complete.\n",
      "60.0% complete.\n",
      "70.0% complete.\n",
      "80.0% complete.\n",
      "90.0% complete.\n",
      "100.0% complete.\n"
     ]
    },
    {
     "name": "stderr",
     "output_type": "stream",
     "text": [
      "/home/bknight/anaconda3/lib/python3.7/site-packages/scipy/optimize/minpack.py:794: OptimizeWarning: Covariance of the parameters could not be estimated\n",
      "  category=OptimizeWarning)\n"
     ]
    },
    {
     "name": "stdout",
     "output_type": "stream",
     "text": [
      "10.0% complete.\n",
      "20.0% complete.\n",
      "30.0% complete.\n",
      "40.0% complete.\n",
      "50.0% complete.\n",
      "60.0% complete.\n",
      "70.0% complete.\n",
      "80.0% complete.\n",
      "90.0% complete.\n",
      "100.0% complete.\n"
     ]
    },
    {
     "name": "stderr",
     "output_type": "stream",
     "text": [
      "/home/bknight/anaconda3/lib/python3.7/site-packages/scipy/optimize/minpack.py:794: OptimizeWarning: Covariance of the parameters could not be estimated\n",
      "  category=OptimizeWarning)\n"
     ]
    },
    {
     "name": "stdout",
     "output_type": "stream",
     "text": [
      "10.0% complete.\n",
      "20.0% complete.\n",
      "30.0% complete.\n",
      "40.0% complete.\n",
      "50.0% complete.\n",
      "60.0% complete.\n",
      "70.0% complete.\n",
      "80.0% complete.\n",
      "90.0% complete.\n",
      "100.0% complete.\n"
     ]
    },
    {
     "name": "stderr",
     "output_type": "stream",
     "text": [
      "/home/bknight/anaconda3/lib/python3.7/site-packages/scipy/optimize/minpack.py:794: OptimizeWarning: Covariance of the parameters could not be estimated\n",
      "  category=OptimizeWarning)\n"
     ]
    },
    {
     "name": "stdout",
     "output_type": "stream",
     "text": [
      "10.0% complete.\n",
      "20.0% complete.\n",
      "30.0% complete.\n",
      "40.0% complete.\n",
      "50.0% complete.\n",
      "60.0% complete.\n",
      "70.0% complete.\n",
      "80.0% complete.\n",
      "90.0% complete.\n",
      "100.0% complete.\n"
     ]
    },
    {
     "name": "stderr",
     "output_type": "stream",
     "text": [
      "/home/bknight/anaconda3/lib/python3.7/site-packages/scipy/optimize/minpack.py:794: OptimizeWarning: Covariance of the parameters could not be estimated\n",
      "  category=OptimizeWarning)\n"
     ]
    },
    {
     "name": "stdout",
     "output_type": "stream",
     "text": [
      "10.0% complete.\n",
      "20.0% complete.\n",
      "30.0% complete.\n",
      "40.0% complete.\n",
      "50.0% complete.\n",
      "60.0% complete.\n",
      "70.0% complete.\n",
      "80.0% complete.\n",
      "90.0% complete.\n",
      "100.0% complete.\n"
     ]
    },
    {
     "name": "stderr",
     "output_type": "stream",
     "text": [
      "/home/bknight/anaconda3/lib/python3.7/site-packages/scipy/optimize/minpack.py:794: OptimizeWarning: Covariance of the parameters could not be estimated\n",
      "  category=OptimizeWarning)\n"
     ]
    },
    {
     "name": "stdout",
     "output_type": "stream",
     "text": [
      "10.0% complete.\n",
      "20.0% complete.\n",
      "30.0% complete.\n",
      "40.0% complete.\n",
      "50.0% complete.\n",
      "60.0% complete.\n",
      "70.0% complete.\n",
      "80.0% complete.\n",
      "90.0% complete.\n",
      "100.0% complete.\n"
     ]
    },
    {
     "name": "stderr",
     "output_type": "stream",
     "text": [
      "/home/bknight/anaconda3/lib/python3.7/site-packages/scipy/optimize/minpack.py:794: OptimizeWarning: Covariance of the parameters could not be estimated\n",
      "  category=OptimizeWarning)\n"
     ]
    },
    {
     "name": "stdout",
     "output_type": "stream",
     "text": [
      "10.0% complete.\n",
      "20.0% complete.\n",
      "30.0% complete.\n",
      "40.0% complete.\n",
      "50.0% complete.\n",
      "60.0% complete.\n",
      "70.0% complete.\n",
      "80.0% complete.\n",
      "90.0% complete.\n",
      "100.0% complete.\n"
     ]
    },
    {
     "name": "stderr",
     "output_type": "stream",
     "text": [
      "/home/bknight/anaconda3/lib/python3.7/site-packages/scipy/optimize/minpack.py:794: OptimizeWarning: Covariance of the parameters could not be estimated\n",
      "  category=OptimizeWarning)\n"
     ]
    },
    {
     "name": "stdout",
     "output_type": "stream",
     "text": [
      "10.0% complete.\n",
      "20.0% complete.\n",
      "30.0% complete.\n",
      "40.0% complete.\n",
      "50.0% complete.\n",
      "60.0% complete.\n",
      "70.0% complete.\n",
      "80.0% complete.\n",
      "90.0% complete.\n",
      "100.0% complete.\n"
     ]
    },
    {
     "name": "stderr",
     "output_type": "stream",
     "text": [
      "/home/bknight/anaconda3/lib/python3.7/site-packages/scipy/optimize/minpack.py:794: OptimizeWarning: Covariance of the parameters could not be estimated\n",
      "  category=OptimizeWarning)\n"
     ]
    },
    {
     "name": "stdout",
     "output_type": "stream",
     "text": [
      "10.0% complete.\n",
      "20.0% complete.\n",
      "30.0% complete.\n",
      "40.0% complete.\n",
      "50.0% complete.\n",
      "60.0% complete.\n",
      "70.0% complete.\n",
      "80.0% complete.\n",
      "90.0% complete.\n",
      "100.0% complete.\n"
     ]
    },
    {
     "name": "stderr",
     "output_type": "stream",
     "text": [
      "/home/bknight/anaconda3/lib/python3.7/site-packages/scipy/optimize/minpack.py:794: OptimizeWarning: Covariance of the parameters could not be estimated\n",
      "  category=OptimizeWarning)\n"
     ]
    },
    {
     "name": "stdout",
     "output_type": "stream",
     "text": [
      "10.0% complete.\n",
      "20.0% complete.\n",
      "30.0% complete.\n",
      "40.0% complete.\n",
      "50.0% complete.\n",
      "60.0% complete.\n",
      "70.0% complete.\n",
      "80.0% complete.\n",
      "90.0% complete.\n",
      "100.0% complete.\n"
     ]
    },
    {
     "name": "stderr",
     "output_type": "stream",
     "text": [
      "/home/bknight/anaconda3/lib/python3.7/site-packages/scipy/optimize/minpack.py:794: OptimizeWarning: Covariance of the parameters could not be estimated\n",
      "  category=OptimizeWarning)\n"
     ]
    },
    {
     "name": "stdout",
     "output_type": "stream",
     "text": [
      "10.0% complete.\n",
      "20.0% complete.\n",
      "30.0% complete.\n",
      "40.0% complete.\n",
      "50.0% complete.\n",
      "60.0% complete.\n",
      "70.0% complete.\n",
      "80.0% complete.\n",
      "90.0% complete.\n",
      "100.0% complete.\n"
     ]
    },
    {
     "name": "stderr",
     "output_type": "stream",
     "text": [
      "/home/bknight/anaconda3/lib/python3.7/site-packages/scipy/optimize/minpack.py:794: OptimizeWarning: Covariance of the parameters could not be estimated\n",
      "  category=OptimizeWarning)\n"
     ]
    },
    {
     "name": "stdout",
     "output_type": "stream",
     "text": [
      "10.0% complete.\n",
      "20.0% complete.\n",
      "30.0% complete.\n",
      "40.0% complete.\n",
      "50.0% complete.\n",
      "60.0% complete.\n",
      "70.0% complete.\n",
      "80.0% complete.\n",
      "90.0% complete.\n",
      "100.0% complete.\n"
     ]
    },
    {
     "name": "stderr",
     "output_type": "stream",
     "text": [
      "/home/bknight/anaconda3/lib/python3.7/site-packages/scipy/optimize/minpack.py:794: OptimizeWarning: Covariance of the parameters could not be estimated\n",
      "  category=OptimizeWarning)\n"
     ]
    },
    {
     "name": "stdout",
     "output_type": "stream",
     "text": [
      "10.0% complete.\n",
      "20.0% complete.\n",
      "30.0% complete.\n",
      "40.0% complete.\n",
      "50.0% complete.\n",
      "60.0% complete.\n",
      "70.0% complete.\n",
      "80.0% complete.\n",
      "90.0% complete.\n",
      "100.0% complete.\n"
     ]
    },
    {
     "name": "stderr",
     "output_type": "stream",
     "text": [
      "/home/bknight/anaconda3/lib/python3.7/site-packages/scipy/optimize/minpack.py:794: OptimizeWarning: Covariance of the parameters could not be estimated\n",
      "  category=OptimizeWarning)\n"
     ]
    },
    {
     "name": "stdout",
     "output_type": "stream",
     "text": [
      "10.0% complete.\n",
      "20.0% complete.\n",
      "30.0% complete.\n",
      "40.0% complete.\n",
      "50.0% complete.\n",
      "60.0% complete.\n",
      "70.0% complete.\n",
      "80.0% complete.\n",
      "90.0% complete.\n",
      "100.0% complete.\n"
     ]
    },
    {
     "name": "stderr",
     "output_type": "stream",
     "text": [
      "/home/bknight/anaconda3/lib/python3.7/site-packages/scipy/optimize/minpack.py:794: OptimizeWarning: Covariance of the parameters could not be estimated\n",
      "  category=OptimizeWarning)\n"
     ]
    },
    {
     "name": "stdout",
     "output_type": "stream",
     "text": [
      "10.0% complete.\n",
      "20.0% complete.\n",
      "30.0% complete.\n",
      "40.0% complete.\n",
      "50.0% complete.\n",
      "60.0% complete.\n",
      "70.0% complete.\n",
      "80.0% complete.\n",
      "90.0% complete.\n",
      "100.0% complete.\n"
     ]
    },
    {
     "name": "stderr",
     "output_type": "stream",
     "text": [
      "/home/bknight/anaconda3/lib/python3.7/site-packages/scipy/optimize/minpack.py:794: OptimizeWarning: Covariance of the parameters could not be estimated\n",
      "  category=OptimizeWarning)\n"
     ]
    },
    {
     "name": "stdout",
     "output_type": "stream",
     "text": [
      "10.0% complete.\n",
      "20.0% complete.\n",
      "30.0% complete.\n",
      "40.0% complete.\n",
      "50.0% complete.\n",
      "60.0% complete.\n",
      "70.0% complete.\n",
      "80.0% complete.\n",
      "90.0% complete.\n",
      "100.0% complete.\n"
     ]
    },
    {
     "name": "stderr",
     "output_type": "stream",
     "text": [
      "/home/bknight/anaconda3/lib/python3.7/site-packages/scipy/optimize/minpack.py:794: OptimizeWarning: Covariance of the parameters could not be estimated\n",
      "  category=OptimizeWarning)\n"
     ]
    },
    {
     "name": "stdout",
     "output_type": "stream",
     "text": [
      "10.0% complete.\n",
      "20.0% complete.\n",
      "30.0% complete.\n",
      "40.0% complete.\n",
      "50.0% complete.\n",
      "60.0% complete.\n",
      "70.0% complete.\n",
      "80.0% complete.\n",
      "90.0% complete.\n",
      "100.0% complete.\n"
     ]
    },
    {
     "name": "stderr",
     "output_type": "stream",
     "text": [
      "/home/bknight/anaconda3/lib/python3.7/site-packages/scipy/optimize/minpack.py:794: OptimizeWarning: Covariance of the parameters could not be estimated\n",
      "  category=OptimizeWarning)\n"
     ]
    },
    {
     "name": "stdout",
     "output_type": "stream",
     "text": [
      "10.0% complete.\n",
      "20.0% complete.\n",
      "30.0% complete.\n",
      "40.0% complete.\n",
      "50.0% complete.\n",
      "60.0% complete.\n",
      "70.0% complete.\n",
      "80.0% complete.\n",
      "90.0% complete.\n",
      "100.0% complete.\n"
     ]
    },
    {
     "name": "stderr",
     "output_type": "stream",
     "text": [
      "/home/bknight/anaconda3/lib/python3.7/site-packages/scipy/optimize/minpack.py:794: OptimizeWarning: Covariance of the parameters could not be estimated\n",
      "  category=OptimizeWarning)\n"
     ]
    },
    {
     "name": "stdout",
     "output_type": "stream",
     "text": [
      "10.0% complete.\n",
      "20.0% complete.\n",
      "30.0% complete.\n",
      "40.0% complete.\n",
      "50.0% complete.\n",
      "60.0% complete.\n",
      "70.0% complete.\n",
      "80.0% complete.\n",
      "90.0% complete.\n",
      "100.0% complete.\n"
     ]
    },
    {
     "name": "stderr",
     "output_type": "stream",
     "text": [
      "/home/bknight/anaconda3/lib/python3.7/site-packages/scipy/optimize/minpack.py:794: OptimizeWarning: Covariance of the parameters could not be estimated\n",
      "  category=OptimizeWarning)\n"
     ]
    },
    {
     "name": "stdout",
     "output_type": "stream",
     "text": [
      "10.0% complete.\n",
      "20.0% complete.\n",
      "30.0% complete.\n",
      "40.0% complete.\n",
      "50.0% complete.\n",
      "60.0% complete.\n",
      "70.0% complete.\n",
      "80.0% complete.\n",
      "90.0% complete.\n",
      "100.0% complete.\n"
     ]
    },
    {
     "name": "stderr",
     "output_type": "stream",
     "text": [
      "/home/bknight/anaconda3/lib/python3.7/site-packages/scipy/optimize/minpack.py:794: OptimizeWarning: Covariance of the parameters could not be estimated\n",
      "  category=OptimizeWarning)\n"
     ]
    },
    {
     "name": "stdout",
     "output_type": "stream",
     "text": [
      "10.0% complete.\n",
      "20.0% complete.\n",
      "30.0% complete.\n",
      "40.0% complete.\n",
      "50.0% complete.\n",
      "60.0% complete.\n",
      "70.0% complete.\n",
      "80.0% complete.\n",
      "90.0% complete.\n",
      "100.0% complete.\n"
     ]
    },
    {
     "name": "stderr",
     "output_type": "stream",
     "text": [
      "/home/bknight/anaconda3/lib/python3.7/site-packages/scipy/optimize/minpack.py:794: OptimizeWarning: Covariance of the parameters could not be estimated\n",
      "  category=OptimizeWarning)\n"
     ]
    },
    {
     "name": "stdout",
     "output_type": "stream",
     "text": [
      "10.0% complete.\n",
      "20.0% complete.\n",
      "30.0% complete.\n",
      "40.0% complete.\n",
      "50.0% complete.\n",
      "60.0% complete.\n",
      "70.0% complete.\n",
      "80.0% complete.\n",
      "90.0% complete.\n",
      "100.0% complete.\n"
     ]
    },
    {
     "name": "stderr",
     "output_type": "stream",
     "text": [
      "/home/bknight/anaconda3/lib/python3.7/site-packages/scipy/optimize/minpack.py:794: OptimizeWarning: Covariance of the parameters could not be estimated\n",
      "  category=OptimizeWarning)\n"
     ]
    },
    {
     "name": "stdout",
     "output_type": "stream",
     "text": [
      "10.0% complete.\n",
      "20.0% complete.\n",
      "30.0% complete.\n",
      "40.0% complete.\n",
      "50.0% complete.\n",
      "60.0% complete.\n",
      "70.0% complete.\n",
      "80.0% complete.\n",
      "90.0% complete.\n",
      "100.0% complete.\n"
     ]
    },
    {
     "name": "stderr",
     "output_type": "stream",
     "text": [
      "/home/bknight/anaconda3/lib/python3.7/site-packages/scipy/optimize/minpack.py:794: OptimizeWarning: Covariance of the parameters could not be estimated\n",
      "  category=OptimizeWarning)\n"
     ]
    },
    {
     "name": "stdout",
     "output_type": "stream",
     "text": [
      "10.0% complete.\n",
      "20.0% complete.\n",
      "30.0% complete.\n",
      "40.0% complete.\n",
      "50.0% complete.\n",
      "60.0% complete.\n",
      "70.0% complete.\n",
      "80.0% complete.\n",
      "90.0% complete.\n",
      "100.0% complete.\n"
     ]
    },
    {
     "name": "stderr",
     "output_type": "stream",
     "text": [
      "/home/bknight/anaconda3/lib/python3.7/site-packages/scipy/optimize/minpack.py:794: OptimizeWarning: Covariance of the parameters could not be estimated\n",
      "  category=OptimizeWarning)\n"
     ]
    },
    {
     "name": "stdout",
     "output_type": "stream",
     "text": [
      "10.0% complete.\n",
      "20.0% complete.\n",
      "30.0% complete.\n",
      "40.0% complete.\n",
      "50.0% complete.\n",
      "60.0% complete.\n",
      "70.0% complete.\n",
      "80.0% complete.\n",
      "90.0% complete.\n",
      "100.0% complete.\n"
     ]
    },
    {
     "name": "stderr",
     "output_type": "stream",
     "text": [
      "/home/bknight/anaconda3/lib/python3.7/site-packages/scipy/optimize/minpack.py:794: OptimizeWarning: Covariance of the parameters could not be estimated\n",
      "  category=OptimizeWarning)\n"
     ]
    },
    {
     "name": "stdout",
     "output_type": "stream",
     "text": [
      "10.0% complete.\n",
      "20.0% complete.\n",
      "30.0% complete.\n",
      "40.0% complete.\n",
      "50.0% complete.\n",
      "60.0% complete.\n",
      "70.0% complete.\n",
      "80.0% complete.\n",
      "90.0% complete.\n",
      "100.0% complete.\n"
     ]
    },
    {
     "name": "stderr",
     "output_type": "stream",
     "text": [
      "/home/bknight/anaconda3/lib/python3.7/site-packages/scipy/optimize/minpack.py:794: OptimizeWarning: Covariance of the parameters could not be estimated\n",
      "  category=OptimizeWarning)\n"
     ]
    },
    {
     "name": "stdout",
     "output_type": "stream",
     "text": [
      "10.0% complete.\n",
      "20.0% complete.\n",
      "30.0% complete.\n",
      "40.0% complete.\n",
      "50.0% complete.\n",
      "60.0% complete.\n",
      "70.0% complete.\n",
      "80.0% complete.\n",
      "90.0% complete.\n",
      "100.0% complete.\n"
     ]
    },
    {
     "name": "stderr",
     "output_type": "stream",
     "text": [
      "/home/bknight/anaconda3/lib/python3.7/site-packages/scipy/optimize/minpack.py:794: OptimizeWarning: Covariance of the parameters could not be estimated\n",
      "  category=OptimizeWarning)\n"
     ]
    },
    {
     "name": "stdout",
     "output_type": "stream",
     "text": [
      "10.0% complete.\n",
      "20.0% complete.\n",
      "30.0% complete.\n",
      "40.0% complete.\n",
      "50.0% complete.\n",
      "60.0% complete.\n",
      "70.0% complete.\n",
      "80.0% complete.\n",
      "90.0% complete.\n",
      "100.0% complete.\n"
     ]
    },
    {
     "name": "stderr",
     "output_type": "stream",
     "text": [
      "/home/bknight/anaconda3/lib/python3.7/site-packages/scipy/optimize/minpack.py:794: OptimizeWarning: Covariance of the parameters could not be estimated\n",
      "  category=OptimizeWarning)\n"
     ]
    },
    {
     "name": "stdout",
     "output_type": "stream",
     "text": [
      "10.0% complete.\n",
      "20.0% complete.\n",
      "30.0% complete.\n",
      "40.0% complete.\n",
      "50.0% complete.\n",
      "60.0% complete.\n",
      "70.0% complete.\n",
      "80.0% complete.\n",
      "90.0% complete.\n",
      "100.0% complete.\n"
     ]
    },
    {
     "name": "stderr",
     "output_type": "stream",
     "text": [
      "/home/bknight/anaconda3/lib/python3.7/site-packages/scipy/optimize/minpack.py:794: OptimizeWarning: Covariance of the parameters could not be estimated\n",
      "  category=OptimizeWarning)\n"
     ]
    },
    {
     "name": "stdout",
     "output_type": "stream",
     "text": [
      "10.0% complete.\n",
      "20.0% complete.\n",
      "30.0% complete.\n",
      "40.0% complete.\n",
      "50.0% complete.\n",
      "60.0% complete.\n",
      "70.0% complete.\n",
      "80.0% complete.\n",
      "90.0% complete.\n",
      "100.0% complete.\n"
     ]
    },
    {
     "name": "stderr",
     "output_type": "stream",
     "text": [
      "/home/bknight/anaconda3/lib/python3.7/site-packages/scipy/optimize/minpack.py:794: OptimizeWarning: Covariance of the parameters could not be estimated\n",
      "  category=OptimizeWarning)\n"
     ]
    },
    {
     "name": "stdout",
     "output_type": "stream",
     "text": [
      "10.0% complete.\n",
      "20.0% complete.\n",
      "30.0% complete.\n",
      "40.0% complete.\n",
      "50.0% complete.\n",
      "60.0% complete.\n",
      "70.0% complete.\n",
      "80.0% complete.\n",
      "90.0% complete.\n",
      "100.0% complete.\n"
     ]
    },
    {
     "name": "stderr",
     "output_type": "stream",
     "text": [
      "/home/bknight/anaconda3/lib/python3.7/site-packages/scipy/optimize/minpack.py:794: OptimizeWarning: Covariance of the parameters could not be estimated\n",
      "  category=OptimizeWarning)\n"
     ]
    },
    {
     "name": "stdout",
     "output_type": "stream",
     "text": [
      "10.0% complete.\n",
      "20.0% complete.\n",
      "30.0% complete.\n",
      "40.0% complete.\n",
      "50.0% complete.\n",
      "60.0% complete.\n",
      "70.0% complete.\n",
      "80.0% complete.\n",
      "90.0% complete.\n",
      "100.0% complete.\n"
     ]
    },
    {
     "name": "stderr",
     "output_type": "stream",
     "text": [
      "/home/bknight/anaconda3/lib/python3.7/site-packages/scipy/optimize/minpack.py:794: OptimizeWarning: Covariance of the parameters could not be estimated\n",
      "  category=OptimizeWarning)\n"
     ]
    },
    {
     "name": "stdout",
     "output_type": "stream",
     "text": [
      "10.0% complete.\n",
      "20.0% complete.\n",
      "30.0% complete.\n",
      "40.0% complete.\n",
      "50.0% complete.\n",
      "60.0% complete.\n",
      "70.0% complete.\n",
      "80.0% complete.\n",
      "90.0% complete.\n",
      "100.0% complete.\n"
     ]
    },
    {
     "name": "stderr",
     "output_type": "stream",
     "text": [
      "/home/bknight/anaconda3/lib/python3.7/site-packages/scipy/optimize/minpack.py:794: OptimizeWarning: Covariance of the parameters could not be estimated\n",
      "  category=OptimizeWarning)\n"
     ]
    },
    {
     "name": "stdout",
     "output_type": "stream",
     "text": [
      "10.0% complete.\n",
      "20.0% complete.\n",
      "30.0% complete.\n",
      "40.0% complete.\n",
      "50.0% complete.\n",
      "60.0% complete.\n",
      "70.0% complete.\n",
      "80.0% complete.\n",
      "90.0% complete.\n",
      "100.0% complete.\n"
     ]
    },
    {
     "name": "stderr",
     "output_type": "stream",
     "text": [
      "/home/bknight/anaconda3/lib/python3.7/site-packages/scipy/optimize/minpack.py:794: OptimizeWarning: Covariance of the parameters could not be estimated\n",
      "  category=OptimizeWarning)\n"
     ]
    },
    {
     "name": "stdout",
     "output_type": "stream",
     "text": [
      "10.0% complete.\n",
      "20.0% complete.\n",
      "30.0% complete.\n",
      "40.0% complete.\n",
      "50.0% complete.\n",
      "60.0% complete.\n",
      "70.0% complete.\n",
      "80.0% complete.\n",
      "90.0% complete.\n",
      "100.0% complete.\n"
     ]
    },
    {
     "name": "stderr",
     "output_type": "stream",
     "text": [
      "/home/bknight/anaconda3/lib/python3.7/site-packages/scipy/optimize/minpack.py:794: OptimizeWarning: Covariance of the parameters could not be estimated\n",
      "  category=OptimizeWarning)\n"
     ]
    },
    {
     "name": "stdout",
     "output_type": "stream",
     "text": [
      "10.0% complete.\n",
      "20.0% complete.\n",
      "30.0% complete.\n",
      "40.0% complete.\n",
      "50.0% complete.\n",
      "60.0% complete.\n",
      "70.0% complete.\n",
      "80.0% complete.\n",
      "90.0% complete.\n",
      "100.0% complete.\n"
     ]
    },
    {
     "name": "stderr",
     "output_type": "stream",
     "text": [
      "/home/bknight/anaconda3/lib/python3.7/site-packages/scipy/optimize/minpack.py:794: OptimizeWarning: Covariance of the parameters could not be estimated\n",
      "  category=OptimizeWarning)\n"
     ]
    },
    {
     "name": "stdout",
     "output_type": "stream",
     "text": [
      "10.0% complete.\n",
      "20.0% complete.\n",
      "30.0% complete.\n",
      "40.0% complete.\n",
      "50.0% complete.\n",
      "60.0% complete.\n",
      "70.0% complete.\n",
      "80.0% complete.\n",
      "90.0% complete.\n",
      "100.0% complete.\n"
     ]
    },
    {
     "name": "stderr",
     "output_type": "stream",
     "text": [
      "/home/bknight/anaconda3/lib/python3.7/site-packages/scipy/optimize/minpack.py:794: OptimizeWarning: Covariance of the parameters could not be estimated\n",
      "  category=OptimizeWarning)\n"
     ]
    },
    {
     "name": "stdout",
     "output_type": "stream",
     "text": [
      "10.0% complete.\n",
      "20.0% complete.\n",
      "30.0% complete.\n",
      "40.0% complete.\n",
      "50.0% complete.\n",
      "60.0% complete.\n",
      "70.0% complete.\n",
      "80.0% complete.\n",
      "90.0% complete.\n",
      "100.0% complete.\n"
     ]
    },
    {
     "name": "stderr",
     "output_type": "stream",
     "text": [
      "/home/bknight/anaconda3/lib/python3.7/site-packages/scipy/optimize/minpack.py:794: OptimizeWarning: Covariance of the parameters could not be estimated\n",
      "  category=OptimizeWarning)\n"
     ]
    },
    {
     "name": "stdout",
     "output_type": "stream",
     "text": [
      "10.0% complete.\n",
      "20.0% complete.\n",
      "30.0% complete.\n",
      "40.0% complete.\n",
      "50.0% complete.\n",
      "60.0% complete.\n",
      "70.0% complete.\n",
      "80.0% complete.\n",
      "90.0% complete.\n",
      "100.0% complete.\n"
     ]
    },
    {
     "name": "stderr",
     "output_type": "stream",
     "text": [
      "/home/bknight/anaconda3/lib/python3.7/site-packages/scipy/optimize/minpack.py:794: OptimizeWarning: Covariance of the parameters could not be estimated\n",
      "  category=OptimizeWarning)\n"
     ]
    },
    {
     "name": "stdout",
     "output_type": "stream",
     "text": [
      "10.0% complete.\n",
      "20.0% complete.\n",
      "30.0% complete.\n",
      "40.0% complete.\n",
      "50.0% complete.\n",
      "60.0% complete.\n",
      "70.0% complete.\n",
      "80.0% complete.\n",
      "90.0% complete.\n",
      "100.0% complete.\n"
     ]
    },
    {
     "name": "stderr",
     "output_type": "stream",
     "text": [
      "/home/bknight/anaconda3/lib/python3.7/site-packages/scipy/optimize/minpack.py:794: OptimizeWarning: Covariance of the parameters could not be estimated\n",
      "  category=OptimizeWarning)\n"
     ]
    },
    {
     "name": "stdout",
     "output_type": "stream",
     "text": [
      "10.0% complete.\n",
      "20.0% complete.\n",
      "30.0% complete.\n",
      "40.0% complete.\n",
      "50.0% complete.\n",
      "60.0% complete.\n",
      "70.0% complete.\n",
      "80.0% complete.\n",
      "90.0% complete.\n",
      "100.0% complete.\n"
     ]
    },
    {
     "name": "stderr",
     "output_type": "stream",
     "text": [
      "/home/bknight/anaconda3/lib/python3.7/site-packages/scipy/optimize/minpack.py:794: OptimizeWarning: Covariance of the parameters could not be estimated\n",
      "  category=OptimizeWarning)\n"
     ]
    },
    {
     "name": "stdout",
     "output_type": "stream",
     "text": [
      "10.0% complete.\n",
      "20.0% complete.\n",
      "30.0% complete.\n",
      "40.0% complete.\n",
      "50.0% complete.\n",
      "60.0% complete.\n",
      "70.0% complete.\n",
      "80.0% complete.\n",
      "90.0% complete.\n",
      "100.0% complete.\n"
     ]
    },
    {
     "name": "stderr",
     "output_type": "stream",
     "text": [
      "/home/bknight/anaconda3/lib/python3.7/site-packages/scipy/optimize/minpack.py:794: OptimizeWarning: Covariance of the parameters could not be estimated\n",
      "  category=OptimizeWarning)\n"
     ]
    },
    {
     "name": "stdout",
     "output_type": "stream",
     "text": [
      "10.0% complete.\n",
      "20.0% complete.\n",
      "30.0% complete.\n",
      "40.0% complete.\n",
      "50.0% complete.\n",
      "60.0% complete.\n",
      "70.0% complete.\n",
      "80.0% complete.\n",
      "90.0% complete.\n",
      "100.0% complete.\n"
     ]
    },
    {
     "name": "stderr",
     "output_type": "stream",
     "text": [
      "/home/bknight/anaconda3/lib/python3.7/site-packages/scipy/optimize/minpack.py:794: OptimizeWarning: Covariance of the parameters could not be estimated\n",
      "  category=OptimizeWarning)\n"
     ]
    },
    {
     "name": "stdout",
     "output_type": "stream",
     "text": [
      "10.0% complete.\n",
      "20.0% complete.\n",
      "30.0% complete.\n",
      "40.0% complete.\n",
      "50.0% complete.\n",
      "60.0% complete.\n",
      "70.0% complete.\n",
      "80.0% complete.\n",
      "90.0% complete.\n",
      "100.0% complete.\n"
     ]
    },
    {
     "name": "stderr",
     "output_type": "stream",
     "text": [
      "/home/bknight/anaconda3/lib/python3.7/site-packages/scipy/optimize/minpack.py:794: OptimizeWarning: Covariance of the parameters could not be estimated\n",
      "  category=OptimizeWarning)\n"
     ]
    },
    {
     "name": "stdout",
     "output_type": "stream",
     "text": [
      "10.0% complete.\n",
      "20.0% complete.\n",
      "30.0% complete.\n",
      "40.0% complete.\n",
      "50.0% complete.\n",
      "60.0% complete.\n",
      "70.0% complete.\n",
      "80.0% complete.\n",
      "90.0% complete.\n",
      "100.0% complete.\n"
     ]
    },
    {
     "name": "stderr",
     "output_type": "stream",
     "text": [
      "/home/bknight/anaconda3/lib/python3.7/site-packages/scipy/optimize/minpack.py:794: OptimizeWarning: Covariance of the parameters could not be estimated\n",
      "  category=OptimizeWarning)\n"
     ]
    },
    {
     "name": "stdout",
     "output_type": "stream",
     "text": [
      "10.0% complete.\n",
      "20.0% complete.\n",
      "30.0% complete.\n",
      "40.0% complete.\n",
      "50.0% complete.\n",
      "60.0% complete.\n",
      "70.0% complete.\n",
      "80.0% complete.\n",
      "90.0% complete.\n",
      "100.0% complete.\n"
     ]
    },
    {
     "name": "stderr",
     "output_type": "stream",
     "text": [
      "/home/bknight/anaconda3/lib/python3.7/site-packages/scipy/optimize/minpack.py:794: OptimizeWarning: Covariance of the parameters could not be estimated\n",
      "  category=OptimizeWarning)\n"
     ]
    },
    {
     "name": "stdout",
     "output_type": "stream",
     "text": [
      "10.0% complete.\n",
      "20.0% complete.\n",
      "30.0% complete.\n",
      "40.0% complete.\n",
      "50.0% complete.\n",
      "60.0% complete.\n",
      "70.0% complete.\n",
      "80.0% complete.\n",
      "90.0% complete.\n",
      "100.0% complete.\n"
     ]
    },
    {
     "name": "stderr",
     "output_type": "stream",
     "text": [
      "/home/bknight/anaconda3/lib/python3.7/site-packages/scipy/optimize/minpack.py:794: OptimizeWarning: Covariance of the parameters could not be estimated\n",
      "  category=OptimizeWarning)\n"
     ]
    },
    {
     "name": "stdout",
     "output_type": "stream",
     "text": [
      "10.0% complete.\n",
      "20.0% complete.\n",
      "30.0% complete.\n",
      "40.0% complete.\n",
      "50.0% complete.\n",
      "60.0% complete.\n",
      "70.0% complete.\n",
      "80.0% complete.\n",
      "90.0% complete.\n",
      "100.0% complete.\n"
     ]
    },
    {
     "name": "stderr",
     "output_type": "stream",
     "text": [
      "/home/bknight/anaconda3/lib/python3.7/site-packages/scipy/optimize/minpack.py:794: OptimizeWarning: Covariance of the parameters could not be estimated\n",
      "  category=OptimizeWarning)\n"
     ]
    },
    {
     "name": "stdout",
     "output_type": "stream",
     "text": [
      "10.0% complete.\n",
      "20.0% complete.\n",
      "30.0% complete.\n",
      "40.0% complete.\n",
      "50.0% complete.\n",
      "60.0% complete.\n",
      "70.0% complete.\n",
      "80.0% complete.\n",
      "90.0% complete.\n",
      "100.0% complete.\n"
     ]
    },
    {
     "name": "stderr",
     "output_type": "stream",
     "text": [
      "/home/bknight/anaconda3/lib/python3.7/site-packages/scipy/optimize/minpack.py:794: OptimizeWarning: Covariance of the parameters could not be estimated\n",
      "  category=OptimizeWarning)\n"
     ]
    },
    {
     "name": "stdout",
     "output_type": "stream",
     "text": [
      "10.0% complete.\n",
      "20.0% complete.\n",
      "30.0% complete.\n",
      "40.0% complete.\n",
      "50.0% complete.\n",
      "60.0% complete.\n",
      "70.0% complete.\n",
      "80.0% complete.\n",
      "90.0% complete.\n",
      "100.0% complete.\n"
     ]
    },
    {
     "name": "stderr",
     "output_type": "stream",
     "text": [
      "/home/bknight/anaconda3/lib/python3.7/site-packages/scipy/optimize/minpack.py:794: OptimizeWarning: Covariance of the parameters could not be estimated\n",
      "  category=OptimizeWarning)\n"
     ]
    },
    {
     "name": "stdout",
     "output_type": "stream",
     "text": [
      "10.0% complete.\n",
      "20.0% complete.\n",
      "30.0% complete.\n",
      "40.0% complete.\n",
      "50.0% complete.\n",
      "60.0% complete.\n",
      "70.0% complete.\n",
      "80.0% complete.\n",
      "90.0% complete.\n",
      "100.0% complete.\n"
     ]
    },
    {
     "name": "stderr",
     "output_type": "stream",
     "text": [
      "/home/bknight/anaconda3/lib/python3.7/site-packages/scipy/optimize/minpack.py:794: OptimizeWarning: Covariance of the parameters could not be estimated\n",
      "  category=OptimizeWarning)\n"
     ]
    },
    {
     "name": "stdout",
     "output_type": "stream",
     "text": [
      "10.0% complete.\n",
      "20.0% complete.\n",
      "30.0% complete.\n",
      "40.0% complete.\n",
      "50.0% complete.\n",
      "60.0% complete.\n",
      "70.0% complete.\n",
      "80.0% complete.\n",
      "90.0% complete.\n",
      "100.0% complete.\n"
     ]
    },
    {
     "name": "stderr",
     "output_type": "stream",
     "text": [
      "/home/bknight/anaconda3/lib/python3.7/site-packages/scipy/optimize/minpack.py:794: OptimizeWarning: Covariance of the parameters could not be estimated\n",
      "  category=OptimizeWarning)\n"
     ]
    },
    {
     "name": "stdout",
     "output_type": "stream",
     "text": [
      "10.0% complete.\n",
      "20.0% complete.\n",
      "30.0% complete.\n",
      "40.0% complete.\n",
      "50.0% complete.\n",
      "60.0% complete.\n",
      "70.0% complete.\n",
      "80.0% complete.\n",
      "90.0% complete.\n",
      "100.0% complete.\n"
     ]
    },
    {
     "name": "stderr",
     "output_type": "stream",
     "text": [
      "/home/bknight/anaconda3/lib/python3.7/site-packages/scipy/optimize/minpack.py:794: OptimizeWarning: Covariance of the parameters could not be estimated\n",
      "  category=OptimizeWarning)\n"
     ]
    },
    {
     "name": "stdout",
     "output_type": "stream",
     "text": [
      "10.0% complete.\n",
      "20.0% complete.\n",
      "30.0% complete.\n",
      "40.0% complete.\n",
      "50.0% complete.\n",
      "60.0% complete.\n",
      "70.0% complete.\n",
      "80.0% complete.\n",
      "90.0% complete.\n",
      "100.0% complete.\n"
     ]
    },
    {
     "name": "stderr",
     "output_type": "stream",
     "text": [
      "/home/bknight/anaconda3/lib/python3.7/site-packages/scipy/optimize/minpack.py:794: OptimizeWarning: Covariance of the parameters could not be estimated\n",
      "  category=OptimizeWarning)\n"
     ]
    },
    {
     "name": "stdout",
     "output_type": "stream",
     "text": [
      "10.0% complete.\n",
      "20.0% complete.\n",
      "30.0% complete.\n",
      "40.0% complete.\n",
      "50.0% complete.\n",
      "60.0% complete.\n",
      "70.0% complete.\n",
      "80.0% complete.\n",
      "90.0% complete.\n",
      "100.0% complete.\n"
     ]
    },
    {
     "name": "stderr",
     "output_type": "stream",
     "text": [
      "/home/bknight/anaconda3/lib/python3.7/site-packages/scipy/optimize/minpack.py:794: OptimizeWarning: Covariance of the parameters could not be estimated\n",
      "  category=OptimizeWarning)\n"
     ]
    },
    {
     "name": "stdout",
     "output_type": "stream",
     "text": [
      "10.0% complete.\n",
      "20.0% complete.\n",
      "30.0% complete.\n",
      "40.0% complete.\n",
      "50.0% complete.\n",
      "60.0% complete.\n",
      "70.0% complete.\n",
      "80.0% complete.\n",
      "90.0% complete.\n",
      "100.0% complete.\n"
     ]
    },
    {
     "name": "stderr",
     "output_type": "stream",
     "text": [
      "/home/bknight/anaconda3/lib/python3.7/site-packages/scipy/optimize/minpack.py:794: OptimizeWarning: Covariance of the parameters could not be estimated\n",
      "  category=OptimizeWarning)\n"
     ]
    },
    {
     "name": "stdout",
     "output_type": "stream",
     "text": [
      "10.0% complete.\n",
      "20.0% complete.\n",
      "30.0% complete.\n",
      "40.0% complete.\n",
      "50.0% complete.\n",
      "60.0% complete.\n",
      "70.0% complete.\n",
      "80.0% complete.\n",
      "90.0% complete.\n",
      "100.0% complete.\n"
     ]
    },
    {
     "name": "stderr",
     "output_type": "stream",
     "text": [
      "/home/bknight/anaconda3/lib/python3.7/site-packages/scipy/optimize/minpack.py:794: OptimizeWarning: Covariance of the parameters could not be estimated\n",
      "  category=OptimizeWarning)\n"
     ]
    },
    {
     "name": "stdout",
     "output_type": "stream",
     "text": [
      "10.0% complete.\n",
      "20.0% complete.\n",
      "30.0% complete.\n",
      "40.0% complete.\n",
      "50.0% complete.\n",
      "60.0% complete.\n",
      "70.0% complete.\n",
      "80.0% complete.\n",
      "90.0% complete.\n",
      "100.0% complete.\n"
     ]
    },
    {
     "name": "stderr",
     "output_type": "stream",
     "text": [
      "/home/bknight/anaconda3/lib/python3.7/site-packages/scipy/optimize/minpack.py:794: OptimizeWarning: Covariance of the parameters could not be estimated\n",
      "  category=OptimizeWarning)\n"
     ]
    },
    {
     "name": "stdout",
     "output_type": "stream",
     "text": [
      "10.0% complete.\n",
      "20.0% complete.\n",
      "30.0% complete.\n",
      "40.0% complete.\n",
      "50.0% complete.\n",
      "60.0% complete.\n",
      "70.0% complete.\n",
      "80.0% complete.\n",
      "90.0% complete.\n",
      "100.0% complete.\n"
     ]
    },
    {
     "name": "stderr",
     "output_type": "stream",
     "text": [
      "/home/bknight/anaconda3/lib/python3.7/site-packages/scipy/optimize/minpack.py:794: OptimizeWarning: Covariance of the parameters could not be estimated\n",
      "  category=OptimizeWarning)\n"
     ]
    },
    {
     "name": "stdout",
     "output_type": "stream",
     "text": [
      "10.0% complete.\n",
      "20.0% complete.\n",
      "30.0% complete.\n",
      "40.0% complete.\n",
      "50.0% complete.\n",
      "60.0% complete.\n",
      "70.0% complete.\n",
      "80.0% complete.\n",
      "90.0% complete.\n",
      "100.0% complete.\n"
     ]
    },
    {
     "name": "stderr",
     "output_type": "stream",
     "text": [
      "/home/bknight/anaconda3/lib/python3.7/site-packages/scipy/optimize/minpack.py:794: OptimizeWarning: Covariance of the parameters could not be estimated\n",
      "  category=OptimizeWarning)\n"
     ]
    },
    {
     "name": "stdout",
     "output_type": "stream",
     "text": [
      "10.0% complete.\n",
      "20.0% complete.\n",
      "30.0% complete.\n",
      "40.0% complete.\n",
      "50.0% complete.\n",
      "60.0% complete.\n",
      "70.0% complete.\n",
      "80.0% complete.\n",
      "90.0% complete.\n",
      "100.0% complete.\n"
     ]
    },
    {
     "name": "stderr",
     "output_type": "stream",
     "text": [
      "/home/bknight/anaconda3/lib/python3.7/site-packages/scipy/optimize/minpack.py:794: OptimizeWarning: Covariance of the parameters could not be estimated\n",
      "  category=OptimizeWarning)\n"
     ]
    },
    {
     "name": "stdout",
     "output_type": "stream",
     "text": [
      "10.0% complete.\n",
      "20.0% complete.\n",
      "30.0% complete.\n",
      "40.0% complete.\n",
      "50.0% complete.\n",
      "60.0% complete.\n",
      "70.0% complete.\n",
      "80.0% complete.\n",
      "90.0% complete.\n",
      "100.0% complete.\n"
     ]
    },
    {
     "name": "stderr",
     "output_type": "stream",
     "text": [
      "/home/bknight/anaconda3/lib/python3.7/site-packages/scipy/optimize/minpack.py:794: OptimizeWarning: Covariance of the parameters could not be estimated\n",
      "  category=OptimizeWarning)\n"
     ]
    },
    {
     "name": "stdout",
     "output_type": "stream",
     "text": [
      "10.0% complete.\n",
      "20.0% complete.\n",
      "30.0% complete.\n",
      "40.0% complete.\n",
      "50.0% complete.\n",
      "60.0% complete.\n",
      "70.0% complete.\n",
      "80.0% complete.\n",
      "90.0% complete.\n",
      "100.0% complete.\n"
     ]
    },
    {
     "name": "stderr",
     "output_type": "stream",
     "text": [
      "/home/bknight/anaconda3/lib/python3.7/site-packages/scipy/optimize/minpack.py:794: OptimizeWarning: Covariance of the parameters could not be estimated\n",
      "  category=OptimizeWarning)\n"
     ]
    },
    {
     "name": "stdout",
     "output_type": "stream",
     "text": [
      "10.0% complete.\n",
      "20.0% complete.\n",
      "30.0% complete.\n",
      "40.0% complete.\n",
      "50.0% complete.\n",
      "60.0% complete.\n",
      "70.0% complete.\n",
      "80.0% complete.\n",
      "90.0% complete.\n",
      "100.0% complete.\n"
     ]
    },
    {
     "name": "stderr",
     "output_type": "stream",
     "text": [
      "/home/bknight/anaconda3/lib/python3.7/site-packages/scipy/optimize/minpack.py:794: OptimizeWarning: Covariance of the parameters could not be estimated\n",
      "  category=OptimizeWarning)\n"
     ]
    },
    {
     "name": "stdout",
     "output_type": "stream",
     "text": [
      "10.0% complete.\n",
      "20.0% complete.\n",
      "30.0% complete.\n",
      "40.0% complete.\n",
      "50.0% complete.\n",
      "60.0% complete.\n",
      "70.0% complete.\n",
      "80.0% complete.\n",
      "90.0% complete.\n",
      "100.0% complete.\n"
     ]
    },
    {
     "name": "stderr",
     "output_type": "stream",
     "text": [
      "/home/bknight/anaconda3/lib/python3.7/site-packages/scipy/optimize/minpack.py:794: OptimizeWarning: Covariance of the parameters could not be estimated\n",
      "  category=OptimizeWarning)\n"
     ]
    },
    {
     "name": "stdout",
     "output_type": "stream",
     "text": [
      "10.0% complete.\n",
      "20.0% complete.\n",
      "30.0% complete.\n",
      "40.0% complete.\n",
      "50.0% complete.\n",
      "60.0% complete.\n",
      "70.0% complete.\n",
      "80.0% complete.\n",
      "90.0% complete.\n",
      "100.0% complete.\n"
     ]
    },
    {
     "name": "stderr",
     "output_type": "stream",
     "text": [
      "/home/bknight/anaconda3/lib/python3.7/site-packages/scipy/optimize/minpack.py:794: OptimizeWarning: Covariance of the parameters could not be estimated\n",
      "  category=OptimizeWarning)\n"
     ]
    },
    {
     "name": "stdout",
     "output_type": "stream",
     "text": [
      "10.0% complete.\n",
      "20.0% complete.\n",
      "30.0% complete.\n",
      "40.0% complete.\n",
      "50.0% complete.\n",
      "60.0% complete.\n",
      "70.0% complete.\n",
      "80.0% complete.\n",
      "90.0% complete.\n",
      "100.0% complete.\n"
     ]
    },
    {
     "name": "stderr",
     "output_type": "stream",
     "text": [
      "/home/bknight/anaconda3/lib/python3.7/site-packages/scipy/optimize/minpack.py:794: OptimizeWarning: Covariance of the parameters could not be estimated\n",
      "  category=OptimizeWarning)\n"
     ]
    },
    {
     "name": "stdout",
     "output_type": "stream",
     "text": [
      "10.0% complete.\n",
      "20.0% complete.\n",
      "30.0% complete.\n",
      "40.0% complete.\n",
      "50.0% complete.\n",
      "60.0% complete.\n",
      "70.0% complete.\n",
      "80.0% complete.\n",
      "90.0% complete.\n",
      "100.0% complete.\n"
     ]
    },
    {
     "name": "stderr",
     "output_type": "stream",
     "text": [
      "/home/bknight/anaconda3/lib/python3.7/site-packages/scipy/optimize/minpack.py:794: OptimizeWarning: Covariance of the parameters could not be estimated\n",
      "  category=OptimizeWarning)\n"
     ]
    },
    {
     "name": "stdout",
     "output_type": "stream",
     "text": [
      "10.0% complete.\n",
      "20.0% complete.\n",
      "30.0% complete.\n",
      "40.0% complete.\n",
      "50.0% complete.\n",
      "60.0% complete.\n",
      "70.0% complete.\n",
      "80.0% complete.\n",
      "90.0% complete.\n",
      "100.0% complete.\n"
     ]
    },
    {
     "name": "stderr",
     "output_type": "stream",
     "text": [
      "/home/bknight/anaconda3/lib/python3.7/site-packages/scipy/optimize/minpack.py:794: OptimizeWarning: Covariance of the parameters could not be estimated\n",
      "  category=OptimizeWarning)\n"
     ]
    },
    {
     "name": "stdout",
     "output_type": "stream",
     "text": [
      "10.0% complete.\n",
      "20.0% complete.\n",
      "30.0% complete.\n",
      "40.0% complete.\n",
      "50.0% complete.\n",
      "60.0% complete.\n",
      "70.0% complete.\n",
      "80.0% complete.\n",
      "90.0% complete.\n",
      "100.0% complete.\n"
     ]
    },
    {
     "name": "stderr",
     "output_type": "stream",
     "text": [
      "/home/bknight/anaconda3/lib/python3.7/site-packages/scipy/optimize/minpack.py:794: OptimizeWarning: Covariance of the parameters could not be estimated\n",
      "  category=OptimizeWarning)\n"
     ]
    },
    {
     "name": "stdout",
     "output_type": "stream",
     "text": [
      "10.0% complete.\n",
      "20.0% complete.\n",
      "30.0% complete.\n",
      "40.0% complete.\n",
      "50.0% complete.\n",
      "60.0% complete.\n",
      "70.0% complete.\n",
      "80.0% complete.\n",
      "90.0% complete.\n",
      "100.0% complete.\n"
     ]
    },
    {
     "name": "stderr",
     "output_type": "stream",
     "text": [
      "/home/bknight/anaconda3/lib/python3.7/site-packages/scipy/optimize/minpack.py:794: OptimizeWarning: Covariance of the parameters could not be estimated\n",
      "  category=OptimizeWarning)\n"
     ]
    },
    {
     "name": "stdout",
     "output_type": "stream",
     "text": [
      "10.0% complete.\n",
      "20.0% complete.\n",
      "30.0% complete.\n",
      "40.0% complete.\n",
      "50.0% complete.\n",
      "60.0% complete.\n",
      "70.0% complete.\n",
      "80.0% complete.\n",
      "90.0% complete.\n",
      "100.0% complete.\n"
     ]
    },
    {
     "name": "stderr",
     "output_type": "stream",
     "text": [
      "/home/bknight/anaconda3/lib/python3.7/site-packages/scipy/optimize/minpack.py:794: OptimizeWarning: Covariance of the parameters could not be estimated\n",
      "  category=OptimizeWarning)\n"
     ]
    },
    {
     "name": "stdout",
     "output_type": "stream",
     "text": [
      "10.0% complete.\n",
      "20.0% complete.\n",
      "30.0% complete.\n",
      "40.0% complete.\n",
      "50.0% complete.\n",
      "60.0% complete.\n",
      "70.0% complete.\n",
      "80.0% complete.\n",
      "90.0% complete.\n",
      "100.0% complete.\n"
     ]
    },
    {
     "name": "stderr",
     "output_type": "stream",
     "text": [
      "/home/bknight/anaconda3/lib/python3.7/site-packages/scipy/optimize/minpack.py:794: OptimizeWarning: Covariance of the parameters could not be estimated\n",
      "  category=OptimizeWarning)\n"
     ]
    },
    {
     "name": "stdout",
     "output_type": "stream",
     "text": [
      "10.0% complete.\n",
      "20.0% complete.\n",
      "30.0% complete.\n",
      "40.0% complete.\n",
      "50.0% complete.\n",
      "60.0% complete.\n",
      "70.0% complete.\n",
      "80.0% complete.\n",
      "90.0% complete.\n",
      "100.0% complete.\n"
     ]
    },
    {
     "name": "stderr",
     "output_type": "stream",
     "text": [
      "/home/bknight/anaconda3/lib/python3.7/site-packages/scipy/optimize/minpack.py:794: OptimizeWarning: Covariance of the parameters could not be estimated\n",
      "  category=OptimizeWarning)\n"
     ]
    },
    {
     "name": "stdout",
     "output_type": "stream",
     "text": [
      "10.0% complete.\n",
      "20.0% complete.\n",
      "30.0% complete.\n",
      "40.0% complete.\n",
      "50.0% complete.\n",
      "60.0% complete.\n",
      "70.0% complete.\n",
      "80.0% complete.\n",
      "90.0% complete.\n",
      "100.0% complete.\n"
     ]
    },
    {
     "name": "stderr",
     "output_type": "stream",
     "text": [
      "/home/bknight/anaconda3/lib/python3.7/site-packages/scipy/optimize/minpack.py:794: OptimizeWarning: Covariance of the parameters could not be estimated\n",
      "  category=OptimizeWarning)\n"
     ]
    },
    {
     "name": "stdout",
     "output_type": "stream",
     "text": [
      "10.0% complete.\n",
      "20.0% complete.\n",
      "30.0% complete.\n",
      "40.0% complete.\n",
      "50.0% complete.\n",
      "60.0% complete.\n",
      "70.0% complete.\n",
      "80.0% complete.\n",
      "90.0% complete.\n",
      "100.0% complete.\n",
      "Framework 3 completed.\n",
      "10.0% complete.\n",
      "20.0% complete.\n",
      "30.0% complete.\n",
      "40.0% complete.\n",
      "50.0% complete.\n",
      "60.0% complete.\n",
      "70.0% complete.\n",
      "80.0% complete.\n",
      "90.0% complete.\n",
      "100.0% complete.\n",
      "10.0% complete.\n",
      "20.0% complete.\n",
      "30.0% complete.\n",
      "40.0% complete.\n",
      "50.0% complete.\n",
      "60.0% complete.\n",
      "70.0% complete.\n",
      "80.0% complete.\n",
      "90.0% complete.\n",
      "100.0% complete.\n",
      "10.0% complete.\n",
      "20.0% complete.\n",
      "30.0% complete.\n",
      "40.0% complete.\n",
      "50.0% complete.\n",
      "60.0% complete.\n",
      "70.0% complete.\n",
      "80.0% complete.\n",
      "90.0% complete.\n",
      "100.0% complete.\n",
      "10.0% complete.\n",
      "20.0% complete.\n",
      "30.0% complete.\n",
      "40.0% complete.\n",
      "50.0% complete.\n",
      "60.0% complete.\n",
      "70.0% complete.\n",
      "80.0% complete.\n",
      "90.0% complete.\n",
      "100.0% complete.\n",
      "10.0% complete.\n",
      "20.0% complete.\n",
      "30.0% complete.\n",
      "40.0% complete.\n",
      "50.0% complete.\n",
      "60.0% complete.\n",
      "70.0% complete.\n",
      "80.0% complete.\n",
      "90.0% complete.\n",
      "100.0% complete.\n",
      "10.0% complete.\n",
      "20.0% complete.\n",
      "30.0% complete.\n",
      "40.0% complete.\n",
      "50.0% complete.\n",
      "60.0% complete.\n",
      "70.0% complete.\n",
      "80.0% complete.\n",
      "90.0% complete.\n",
      "100.0% complete.\n",
      "10.0% complete.\n",
      "20.0% complete.\n",
      "30.0% complete.\n",
      "40.0% complete.\n",
      "50.0% complete.\n",
      "60.0% complete.\n",
      "70.0% complete.\n",
      "80.0% complete.\n",
      "90.0% complete.\n",
      "100.0% complete.\n",
      "10.0% complete.\n",
      "20.0% complete.\n",
      "30.0% complete.\n",
      "40.0% complete.\n",
      "50.0% complete.\n",
      "60.0% complete.\n",
      "70.0% complete.\n",
      "80.0% complete.\n",
      "90.0% complete.\n",
      "100.0% complete.\n",
      "10.0% complete.\n",
      "20.0% complete.\n",
      "30.0% complete.\n",
      "40.0% complete.\n",
      "50.0% complete.\n",
      "60.0% complete.\n",
      "70.0% complete.\n",
      "80.0% complete.\n",
      "90.0% complete.\n",
      "100.0% complete.\n",
      "10.0% complete.\n",
      "20.0% complete.\n",
      "30.0% complete.\n",
      "40.0% complete.\n",
      "50.0% complete.\n",
      "60.0% complete.\n",
      "70.0% complete.\n",
      "80.0% complete.\n",
      "90.0% complete.\n",
      "100.0% complete.\n",
      "10.0% complete.\n",
      "20.0% complete.\n",
      "30.0% complete.\n",
      "40.0% complete.\n",
      "50.0% complete.\n",
      "60.0% complete.\n",
      "70.0% complete.\n",
      "80.0% complete.\n",
      "90.0% complete.\n",
      "100.0% complete.\n",
      "10.0% complete.\n",
      "20.0% complete.\n",
      "30.0% complete.\n",
      "40.0% complete.\n",
      "50.0% complete.\n",
      "60.0% complete.\n",
      "70.0% complete.\n",
      "80.0% complete.\n",
      "90.0% complete.\n",
      "100.0% complete.\n",
      "10.0% complete.\n",
      "20.0% complete.\n",
      "30.0% complete.\n",
      "40.0% complete.\n",
      "50.0% complete.\n",
      "60.0% complete.\n",
      "70.0% complete.\n",
      "80.0% complete.\n",
      "90.0% complete.\n",
      "100.0% complete.\n",
      "10.0% complete.\n",
      "20.0% complete.\n",
      "30.0% complete.\n",
      "40.0% complete.\n",
      "50.0% complete.\n",
      "60.0% complete.\n",
      "70.0% complete.\n",
      "80.0% complete.\n",
      "90.0% complete.\n",
      "100.0% complete.\n"
     ]
    },
    {
     "name": "stderr",
     "output_type": "stream",
     "text": [
      "/home/bknight/anaconda3/lib/python3.7/site-packages/scipy/optimize/minpack.py:794: OptimizeWarning: Covariance of the parameters could not be estimated\n",
      "  category=OptimizeWarning)\n"
     ]
    },
    {
     "name": "stdout",
     "output_type": "stream",
     "text": [
      "10.0% complete.\n",
      "20.0% complete.\n",
      "30.0% complete.\n",
      "40.0% complete.\n",
      "50.0% complete.\n",
      "60.0% complete.\n",
      "70.0% complete.\n",
      "80.0% complete.\n",
      "90.0% complete.\n",
      "100.0% complete.\n",
      "10.0% complete.\n",
      "20.0% complete.\n",
      "30.0% complete.\n",
      "40.0% complete.\n",
      "50.0% complete.\n",
      "60.0% complete.\n",
      "70.0% complete.\n",
      "80.0% complete.\n",
      "90.0% complete.\n",
      "100.0% complete.\n",
      "10.0% complete.\n",
      "20.0% complete.\n",
      "30.0% complete.\n",
      "40.0% complete.\n",
      "50.0% complete.\n",
      "60.0% complete.\n",
      "70.0% complete.\n",
      "80.0% complete.\n",
      "90.0% complete.\n",
      "100.0% complete.\n",
      "10.0% complete.\n",
      "20.0% complete.\n",
      "30.0% complete.\n",
      "40.0% complete.\n",
      "50.0% complete.\n",
      "60.0% complete.\n",
      "70.0% complete.\n",
      "80.0% complete.\n",
      "90.0% complete.\n",
      "100.0% complete.\n",
      "10.0% complete.\n",
      "20.0% complete.\n",
      "30.0% complete.\n",
      "40.0% complete.\n",
      "50.0% complete.\n",
      "60.0% complete.\n",
      "70.0% complete.\n",
      "80.0% complete.\n",
      "90.0% complete.\n",
      "100.0% complete.\n",
      "10.0% complete.\n",
      "20.0% complete.\n",
      "30.0% complete.\n",
      "40.0% complete.\n",
      "50.0% complete.\n",
      "60.0% complete.\n",
      "70.0% complete.\n",
      "80.0% complete.\n",
      "90.0% complete.\n",
      "100.0% complete.\n",
      "10.0% complete.\n",
      "20.0% complete.\n",
      "30.0% complete.\n",
      "40.0% complete.\n",
      "50.0% complete.\n",
      "60.0% complete.\n",
      "70.0% complete.\n",
      "80.0% complete.\n",
      "90.0% complete.\n",
      "100.0% complete.\n",
      "10.0% complete.\n",
      "20.0% complete.\n",
      "30.0% complete.\n",
      "40.0% complete.\n",
      "50.0% complete.\n",
      "60.0% complete.\n",
      "70.0% complete.\n",
      "80.0% complete.\n",
      "90.0% complete.\n",
      "100.0% complete.\n",
      "10.0% complete.\n",
      "20.0% complete.\n",
      "30.0% complete.\n",
      "40.0% complete.\n",
      "50.0% complete.\n",
      "60.0% complete.\n",
      "70.0% complete.\n",
      "80.0% complete.\n",
      "90.0% complete.\n",
      "100.0% complete.\n",
      "10.0% complete.\n",
      "20.0% complete.\n",
      "30.0% complete.\n",
      "40.0% complete.\n",
      "50.0% complete.\n",
      "60.0% complete.\n",
      "70.0% complete.\n",
      "80.0% complete.\n",
      "90.0% complete.\n",
      "100.0% complete.\n",
      "10.0% complete.\n",
      "20.0% complete.\n",
      "30.0% complete.\n",
      "40.0% complete.\n",
      "50.0% complete.\n",
      "60.0% complete.\n",
      "70.0% complete.\n",
      "80.0% complete.\n",
      "90.0% complete.\n",
      "100.0% complete.\n",
      "10.0% complete.\n",
      "20.0% complete.\n",
      "30.0% complete.\n",
      "40.0% complete.\n",
      "50.0% complete.\n",
      "60.0% complete.\n",
      "70.0% complete.\n",
      "80.0% complete.\n",
      "90.0% complete.\n",
      "100.0% complete.\n",
      "10.0% complete.\n",
      "20.0% complete.\n",
      "30.0% complete.\n",
      "40.0% complete.\n",
      "50.0% complete.\n",
      "60.0% complete.\n",
      "70.0% complete.\n",
      "80.0% complete.\n",
      "90.0% complete.\n",
      "100.0% complete.\n",
      "10.0% complete.\n",
      "20.0% complete.\n",
      "30.0% complete.\n",
      "40.0% complete.\n",
      "50.0% complete.\n",
      "60.0% complete.\n",
      "70.0% complete.\n",
      "80.0% complete.\n",
      "90.0% complete.\n",
      "100.0% complete.\n"
     ]
    },
    {
     "name": "stderr",
     "output_type": "stream",
     "text": [
      "/home/bknight/anaconda3/lib/python3.7/site-packages/scipy/optimize/minpack.py:794: OptimizeWarning: Covariance of the parameters could not be estimated\n",
      "  category=OptimizeWarning)\n"
     ]
    },
    {
     "name": "stdout",
     "output_type": "stream",
     "text": [
      "10.0% complete.\n",
      "20.0% complete.\n",
      "30.0% complete.\n",
      "40.0% complete.\n",
      "50.0% complete.\n",
      "60.0% complete.\n",
      "70.0% complete.\n",
      "80.0% complete.\n",
      "90.0% complete.\n",
      "100.0% complete.\n",
      "10.0% complete.\n",
      "20.0% complete.\n",
      "30.0% complete.\n",
      "40.0% complete.\n",
      "50.0% complete.\n",
      "60.0% complete.\n",
      "70.0% complete.\n",
      "80.0% complete.\n",
      "90.0% complete.\n",
      "100.0% complete.\n",
      "10.0% complete.\n",
      "20.0% complete.\n",
      "30.0% complete.\n",
      "40.0% complete.\n",
      "50.0% complete.\n",
      "60.0% complete.\n",
      "70.0% complete.\n",
      "80.0% complete.\n",
      "90.0% complete.\n",
      "100.0% complete.\n",
      "10.0% complete.\n",
      "20.0% complete.\n",
      "30.0% complete.\n",
      "40.0% complete.\n",
      "50.0% complete.\n",
      "60.0% complete.\n",
      "70.0% complete.\n",
      "80.0% complete.\n",
      "90.0% complete.\n",
      "100.0% complete.\n",
      "10.0% complete.\n",
      "20.0% complete.\n",
      "30.0% complete.\n",
      "40.0% complete.\n",
      "50.0% complete.\n",
      "60.0% complete.\n",
      "70.0% complete.\n",
      "80.0% complete.\n",
      "90.0% complete.\n",
      "100.0% complete.\n",
      "10.0% complete.\n",
      "20.0% complete.\n",
      "30.0% complete.\n",
      "40.0% complete.\n",
      "50.0% complete.\n",
      "60.0% complete.\n",
      "70.0% complete.\n",
      "80.0% complete.\n",
      "90.0% complete.\n",
      "100.0% complete.\n",
      "10.0% complete.\n",
      "20.0% complete.\n",
      "30.0% complete.\n",
      "40.0% complete.\n",
      "50.0% complete.\n",
      "60.0% complete.\n",
      "70.0% complete.\n",
      "80.0% complete.\n",
      "90.0% complete.\n",
      "100.0% complete.\n",
      "10.0% complete.\n",
      "20.0% complete.\n",
      "30.0% complete.\n",
      "40.0% complete.\n",
      "50.0% complete.\n",
      "60.0% complete.\n",
      "70.0% complete.\n",
      "80.0% complete.\n",
      "90.0% complete.\n",
      "100.0% complete.\n",
      "10.0% complete.\n",
      "20.0% complete.\n",
      "30.0% complete.\n",
      "40.0% complete.\n",
      "50.0% complete.\n",
      "60.0% complete.\n",
      "70.0% complete.\n",
      "80.0% complete.\n",
      "90.0% complete.\n",
      "100.0% complete.\n"
     ]
    },
    {
     "name": "stderr",
     "output_type": "stream",
     "text": [
      "/home/bknight/anaconda3/lib/python3.7/site-packages/scipy/optimize/minpack.py:794: OptimizeWarning: Covariance of the parameters could not be estimated\n",
      "  category=OptimizeWarning)\n"
     ]
    },
    {
     "name": "stdout",
     "output_type": "stream",
     "text": [
      "10.0% complete.\n",
      "20.0% complete.\n",
      "30.0% complete.\n",
      "40.0% complete.\n",
      "50.0% complete.\n",
      "60.0% complete.\n",
      "70.0% complete.\n",
      "80.0% complete.\n",
      "90.0% complete.\n",
      "100.0% complete.\n",
      "10.0% complete.\n",
      "20.0% complete.\n",
      "30.0% complete.\n",
      "40.0% complete.\n",
      "50.0% complete.\n",
      "60.0% complete.\n",
      "70.0% complete.\n",
      "80.0% complete.\n",
      "90.0% complete.\n",
      "100.0% complete.\n",
      "10.0% complete.\n",
      "20.0% complete.\n",
      "30.0% complete.\n",
      "40.0% complete.\n",
      "50.0% complete.\n",
      "60.0% complete.\n",
      "70.0% complete.\n",
      "80.0% complete.\n",
      "90.0% complete.\n",
      "100.0% complete.\n",
      "10.0% complete.\n",
      "20.0% complete.\n",
      "30.0% complete.\n",
      "40.0% complete.\n",
      "50.0% complete.\n",
      "60.0% complete.\n",
      "70.0% complete.\n",
      "80.0% complete.\n",
      "90.0% complete.\n",
      "100.0% complete.\n",
      "10.0% complete.\n",
      "20.0% complete.\n",
      "30.0% complete.\n",
      "40.0% complete.\n",
      "50.0% complete.\n",
      "60.0% complete.\n",
      "70.0% complete.\n",
      "80.0% complete.\n",
      "90.0% complete.\n",
      "100.0% complete.\n",
      "10.0% complete.\n",
      "20.0% complete.\n",
      "30.0% complete.\n",
      "40.0% complete.\n",
      "50.0% complete.\n",
      "60.0% complete.\n",
      "70.0% complete.\n",
      "80.0% complete.\n",
      "90.0% complete.\n",
      "100.0% complete.\n",
      "10.0% complete.\n",
      "20.0% complete.\n",
      "30.0% complete.\n",
      "40.0% complete.\n",
      "50.0% complete.\n",
      "60.0% complete.\n",
      "70.0% complete.\n",
      "80.0% complete.\n",
      "90.0% complete.\n",
      "100.0% complete.\n",
      "10.0% complete.\n",
      "20.0% complete.\n",
      "30.0% complete.\n",
      "40.0% complete.\n",
      "50.0% complete.\n",
      "60.0% complete.\n",
      "70.0% complete.\n",
      "80.0% complete.\n",
      "90.0% complete.\n",
      "100.0% complete.\n",
      "10.0% complete.\n",
      "20.0% complete.\n",
      "30.0% complete.\n",
      "40.0% complete.\n",
      "50.0% complete.\n",
      "60.0% complete.\n",
      "70.0% complete.\n",
      "80.0% complete.\n",
      "90.0% complete.\n",
      "100.0% complete.\n",
      "10.0% complete.\n",
      "20.0% complete.\n",
      "30.0% complete.\n",
      "40.0% complete.\n",
      "50.0% complete.\n",
      "60.0% complete.\n",
      "70.0% complete.\n",
      "80.0% complete.\n",
      "90.0% complete.\n",
      "100.0% complete.\n",
      "10.0% complete.\n",
      "20.0% complete.\n",
      "30.0% complete.\n",
      "40.0% complete.\n",
      "50.0% complete.\n",
      "60.0% complete.\n",
      "70.0% complete.\n",
      "80.0% complete.\n",
      "90.0% complete.\n",
      "100.0% complete.\n",
      "10.0% complete.\n",
      "20.0% complete.\n",
      "30.0% complete.\n",
      "40.0% complete.\n",
      "50.0% complete.\n",
      "60.0% complete.\n",
      "70.0% complete.\n",
      "80.0% complete.\n",
      "90.0% complete.\n",
      "100.0% complete.\n",
      "10.0% complete.\n",
      "20.0% complete.\n",
      "30.0% complete.\n",
      "40.0% complete.\n",
      "50.0% complete.\n",
      "60.0% complete.\n",
      "70.0% complete.\n",
      "80.0% complete.\n",
      "90.0% complete.\n",
      "100.0% complete.\n",
      "10.0% complete.\n",
      "20.0% complete.\n",
      "30.0% complete.\n",
      "40.0% complete.\n",
      "50.0% complete.\n",
      "60.0% complete.\n",
      "70.0% complete.\n",
      "80.0% complete.\n",
      "90.0% complete.\n",
      "100.0% complete.\n",
      "10.0% complete.\n",
      "20.0% complete.\n",
      "30.0% complete.\n",
      "40.0% complete.\n",
      "50.0% complete.\n",
      "60.0% complete.\n",
      "70.0% complete.\n",
      "80.0% complete.\n",
      "90.0% complete.\n",
      "100.0% complete.\n",
      "10.0% complete.\n",
      "20.0% complete.\n",
      "30.0% complete.\n",
      "40.0% complete.\n",
      "50.0% complete.\n",
      "60.0% complete.\n",
      "70.0% complete.\n",
      "80.0% complete.\n",
      "90.0% complete.\n",
      "100.0% complete.\n",
      "10.0% complete.\n",
      "20.0% complete.\n",
      "30.0% complete.\n",
      "40.0% complete.\n",
      "50.0% complete.\n",
      "60.0% complete.\n",
      "70.0% complete.\n",
      "80.0% complete.\n",
      "90.0% complete.\n",
      "100.0% complete.\n",
      "10.0% complete.\n",
      "20.0% complete.\n",
      "30.0% complete.\n",
      "40.0% complete.\n",
      "50.0% complete.\n",
      "60.0% complete.\n",
      "70.0% complete.\n",
      "80.0% complete.\n",
      "90.0% complete.\n",
      "100.0% complete.\n",
      "10.0% complete.\n",
      "20.0% complete.\n",
      "30.0% complete.\n",
      "40.0% complete.\n",
      "50.0% complete.\n",
      "60.0% complete.\n",
      "70.0% complete.\n",
      "80.0% complete.\n",
      "90.0% complete.\n",
      "100.0% complete.\n",
      "10.0% complete.\n",
      "20.0% complete.\n",
      "30.0% complete.\n",
      "40.0% complete.\n",
      "50.0% complete.\n",
      "60.0% complete.\n",
      "70.0% complete.\n",
      "80.0% complete.\n",
      "90.0% complete.\n",
      "100.0% complete.\n",
      "10.0% complete.\n",
      "20.0% complete.\n",
      "30.0% complete.\n",
      "40.0% complete.\n",
      "50.0% complete.\n",
      "60.0% complete.\n",
      "70.0% complete.\n",
      "80.0% complete.\n",
      "90.0% complete.\n",
      "100.0% complete.\n",
      "10.0% complete.\n",
      "20.0% complete.\n",
      "30.0% complete.\n",
      "40.0% complete.\n",
      "50.0% complete.\n",
      "60.0% complete.\n",
      "70.0% complete.\n",
      "80.0% complete.\n",
      "90.0% complete.\n",
      "100.0% complete.\n",
      "10.0% complete.\n",
      "20.0% complete.\n",
      "30.0% complete.\n",
      "40.0% complete.\n",
      "50.0% complete.\n",
      "60.0% complete.\n",
      "70.0% complete.\n",
      "80.0% complete.\n",
      "90.0% complete.\n",
      "100.0% complete.\n",
      "10.0% complete.\n",
      "20.0% complete.\n",
      "30.0% complete.\n",
      "40.0% complete.\n",
      "50.0% complete.\n",
      "60.0% complete.\n",
      "70.0% complete.\n",
      "80.0% complete.\n",
      "90.0% complete.\n",
      "100.0% complete.\n",
      "10.0% complete.\n",
      "20.0% complete.\n",
      "30.0% complete.\n",
      "40.0% complete.\n",
      "50.0% complete.\n",
      "60.0% complete.\n",
      "70.0% complete.\n",
      "80.0% complete.\n",
      "90.0% complete.\n",
      "100.0% complete.\n",
      "10.0% complete.\n",
      "20.0% complete.\n",
      "30.0% complete.\n",
      "40.0% complete.\n",
      "50.0% complete.\n",
      "60.0% complete.\n",
      "70.0% complete.\n",
      "80.0% complete.\n",
      "90.0% complete.\n",
      "100.0% complete.\n",
      "10.0% complete.\n",
      "20.0% complete.\n",
      "30.0% complete.\n",
      "40.0% complete.\n",
      "50.0% complete.\n",
      "60.0% complete.\n",
      "70.0% complete.\n",
      "80.0% complete.\n",
      "90.0% complete.\n",
      "100.0% complete.\n",
      "10.0% complete.\n",
      "20.0% complete.\n",
      "30.0% complete.\n",
      "40.0% complete.\n",
      "50.0% complete.\n",
      "60.0% complete.\n",
      "70.0% complete.\n",
      "80.0% complete.\n",
      "90.0% complete.\n",
      "100.0% complete.\n",
      "10.0% complete.\n",
      "20.0% complete.\n",
      "30.0% complete.\n",
      "40.0% complete.\n",
      "50.0% complete.\n",
      "60.0% complete.\n",
      "70.0% complete.\n",
      "80.0% complete.\n",
      "90.0% complete.\n",
      "100.0% complete.\n",
      "10.0% complete.\n",
      "20.0% complete.\n",
      "30.0% complete.\n",
      "40.0% complete.\n",
      "50.0% complete.\n",
      "60.0% complete.\n",
      "70.0% complete.\n",
      "80.0% complete.\n",
      "90.0% complete.\n",
      "100.0% complete.\n",
      "10.0% complete.\n",
      "20.0% complete.\n",
      "30.0% complete.\n",
      "40.0% complete.\n",
      "50.0% complete.\n",
      "60.0% complete.\n",
      "70.0% complete.\n",
      "80.0% complete.\n",
      "90.0% complete.\n",
      "100.0% complete.\n",
      "10.0% complete.\n",
      "20.0% complete.\n",
      "30.0% complete.\n",
      "40.0% complete.\n",
      "50.0% complete.\n",
      "60.0% complete.\n",
      "70.0% complete.\n",
      "80.0% complete.\n",
      "90.0% complete.\n",
      "100.0% complete.\n",
      "10.0% complete.\n",
      "20.0% complete.\n",
      "30.0% complete.\n",
      "40.0% complete.\n",
      "50.0% complete.\n",
      "60.0% complete.\n",
      "70.0% complete.\n",
      "80.0% complete.\n",
      "90.0% complete.\n",
      "100.0% complete.\n",
      "10.0% complete.\n",
      "20.0% complete.\n",
      "30.0% complete.\n",
      "40.0% complete.\n",
      "50.0% complete.\n",
      "60.0% complete.\n",
      "70.0% complete.\n",
      "80.0% complete.\n",
      "90.0% complete.\n",
      "100.0% complete.\n",
      "10.0% complete.\n",
      "20.0% complete.\n",
      "30.0% complete.\n",
      "40.0% complete.\n",
      "50.0% complete.\n",
      "60.0% complete.\n",
      "70.0% complete.\n",
      "80.0% complete.\n",
      "90.0% complete.\n",
      "100.0% complete.\n",
      "10.0% complete.\n",
      "20.0% complete.\n",
      "30.0% complete.\n",
      "40.0% complete.\n",
      "50.0% complete.\n",
      "60.0% complete.\n",
      "70.0% complete.\n",
      "80.0% complete.\n",
      "90.0% complete.\n",
      "100.0% complete.\n",
      "10.0% complete.\n",
      "20.0% complete.\n",
      "30.0% complete.\n",
      "40.0% complete.\n",
      "50.0% complete.\n",
      "60.0% complete.\n",
      "70.0% complete.\n",
      "80.0% complete.\n",
      "90.0% complete.\n",
      "100.0% complete.\n",
      "10.0% complete.\n",
      "20.0% complete.\n",
      "30.0% complete.\n",
      "40.0% complete.\n",
      "50.0% complete.\n",
      "60.0% complete.\n",
      "70.0% complete.\n",
      "80.0% complete.\n",
      "90.0% complete.\n",
      "100.0% complete.\n",
      "10.0% complete.\n",
      "20.0% complete.\n",
      "30.0% complete.\n",
      "40.0% complete.\n",
      "50.0% complete.\n",
      "60.0% complete.\n",
      "70.0% complete.\n",
      "80.0% complete.\n",
      "90.0% complete.\n",
      "100.0% complete.\n",
      "10.0% complete.\n",
      "20.0% complete.\n",
      "30.0% complete.\n",
      "40.0% complete.\n",
      "50.0% complete.\n",
      "60.0% complete.\n",
      "70.0% complete.\n",
      "80.0% complete.\n",
      "90.0% complete.\n",
      "100.0% complete.\n",
      "10.0% complete.\n",
      "20.0% complete.\n",
      "30.0% complete.\n",
      "40.0% complete.\n",
      "50.0% complete.\n",
      "60.0% complete.\n",
      "70.0% complete.\n",
      "80.0% complete.\n",
      "90.0% complete.\n",
      "100.0% complete.\n",
      "10.0% complete.\n",
      "20.0% complete.\n",
      "30.0% complete.\n",
      "40.0% complete.\n",
      "50.0% complete.\n",
      "60.0% complete.\n",
      "70.0% complete.\n",
      "80.0% complete.\n",
      "90.0% complete.\n",
      "100.0% complete.\n",
      "10.0% complete.\n",
      "20.0% complete.\n",
      "30.0% complete.\n",
      "40.0% complete.\n",
      "50.0% complete.\n",
      "60.0% complete.\n",
      "70.0% complete.\n",
      "80.0% complete.\n",
      "90.0% complete.\n",
      "100.0% complete.\n",
      "10.0% complete.\n",
      "20.0% complete.\n",
      "30.0% complete.\n",
      "40.0% complete.\n",
      "50.0% complete.\n",
      "60.0% complete.\n",
      "70.0% complete.\n",
      "80.0% complete.\n",
      "90.0% complete.\n",
      "100.0% complete.\n",
      "10.0% complete.\n",
      "20.0% complete.\n",
      "30.0% complete.\n",
      "40.0% complete.\n",
      "50.0% complete.\n",
      "60.0% complete.\n",
      "70.0% complete.\n",
      "80.0% complete.\n",
      "90.0% complete.\n",
      "100.0% complete.\n",
      "10.0% complete.\n",
      "20.0% complete.\n",
      "30.0% complete.\n",
      "40.0% complete.\n",
      "50.0% complete.\n",
      "60.0% complete.\n",
      "70.0% complete.\n",
      "80.0% complete.\n",
      "90.0% complete.\n",
      "100.0% complete.\n",
      "10.0% complete.\n",
      "20.0% complete.\n",
      "30.0% complete.\n",
      "40.0% complete.\n",
      "50.0% complete.\n",
      "60.0% complete.\n",
      "70.0% complete.\n",
      "80.0% complete.\n",
      "90.0% complete.\n",
      "100.0% complete.\n",
      "10.0% complete.\n",
      "20.0% complete.\n",
      "30.0% complete.\n",
      "40.0% complete.\n",
      "50.0% complete.\n",
      "60.0% complete.\n",
      "70.0% complete.\n",
      "80.0% complete.\n",
      "90.0% complete.\n",
      "100.0% complete.\n",
      "10.0% complete.\n",
      "20.0% complete.\n",
      "30.0% complete.\n",
      "40.0% complete.\n",
      "50.0% complete.\n",
      "60.0% complete.\n",
      "70.0% complete.\n",
      "80.0% complete.\n",
      "90.0% complete.\n",
      "100.0% complete.\n",
      "10.0% complete.\n",
      "20.0% complete.\n",
      "30.0% complete.\n",
      "40.0% complete.\n",
      "50.0% complete.\n",
      "60.0% complete.\n",
      "70.0% complete.\n",
      "80.0% complete.\n",
      "90.0% complete.\n",
      "100.0% complete.\n",
      "10.0% complete.\n",
      "20.0% complete.\n",
      "30.0% complete.\n",
      "40.0% complete.\n",
      "50.0% complete.\n",
      "60.0% complete.\n",
      "70.0% complete.\n",
      "80.0% complete.\n",
      "90.0% complete.\n"
     ]
    },
    {
     "name": "stdout",
     "output_type": "stream",
     "text": [
      "100.0% complete.\n",
      "10.0% complete.\n",
      "20.0% complete.\n",
      "30.0% complete.\n",
      "40.0% complete.\n",
      "50.0% complete.\n",
      "60.0% complete.\n",
      "70.0% complete.\n",
      "80.0% complete.\n",
      "90.0% complete.\n",
      "100.0% complete.\n",
      "10.0% complete.\n",
      "20.0% complete.\n",
      "30.0% complete.\n",
      "40.0% complete.\n",
      "50.0% complete.\n",
      "60.0% complete.\n",
      "70.0% complete.\n",
      "80.0% complete.\n",
      "90.0% complete.\n",
      "100.0% complete.\n",
      "10.0% complete.\n",
      "20.0% complete.\n",
      "30.0% complete.\n",
      "40.0% complete.\n",
      "50.0% complete.\n",
      "60.0% complete.\n",
      "70.0% complete.\n",
      "80.0% complete.\n",
      "90.0% complete.\n",
      "100.0% complete.\n",
      "10.0% complete.\n",
      "20.0% complete.\n",
      "30.0% complete.\n",
      "40.0% complete.\n",
      "50.0% complete.\n",
      "60.0% complete.\n",
      "70.0% complete.\n",
      "80.0% complete.\n",
      "90.0% complete.\n",
      "100.0% complete.\n",
      "10.0% complete.\n",
      "20.0% complete.\n",
      "30.0% complete.\n",
      "40.0% complete.\n",
      "50.0% complete.\n",
      "60.0% complete.\n",
      "70.0% complete.\n",
      "80.0% complete.\n",
      "90.0% complete.\n",
      "100.0% complete.\n",
      "10.0% complete.\n",
      "20.0% complete.\n",
      "30.0% complete.\n",
      "40.0% complete.\n",
      "50.0% complete.\n",
      "60.0% complete.\n",
      "70.0% complete.\n",
      "80.0% complete.\n",
      "90.0% complete.\n",
      "100.0% complete.\n",
      "10.0% complete.\n",
      "20.0% complete.\n",
      "30.0% complete.\n",
      "40.0% complete.\n",
      "50.0% complete.\n",
      "60.0% complete.\n",
      "70.0% complete.\n",
      "80.0% complete.\n",
      "90.0% complete.\n",
      "100.0% complete.\n",
      "10.0% complete.\n",
      "20.0% complete.\n",
      "30.0% complete.\n",
      "40.0% complete.\n",
      "50.0% complete.\n",
      "60.0% complete.\n",
      "70.0% complete.\n",
      "80.0% complete.\n",
      "90.0% complete.\n",
      "100.0% complete.\n",
      "10.0% complete.\n",
      "20.0% complete.\n",
      "30.0% complete.\n",
      "40.0% complete.\n",
      "50.0% complete.\n",
      "60.0% complete.\n",
      "70.0% complete.\n",
      "80.0% complete.\n",
      "90.0% complete.\n",
      "100.0% complete.\n",
      "10.0% complete.\n",
      "20.0% complete.\n",
      "30.0% complete.\n",
      "40.0% complete.\n",
      "50.0% complete.\n",
      "60.0% complete.\n",
      "70.0% complete.\n",
      "80.0% complete.\n",
      "90.0% complete.\n",
      "100.0% complete.\n",
      "10.0% complete.\n",
      "20.0% complete.\n",
      "30.0% complete.\n",
      "40.0% complete.\n",
      "50.0% complete.\n",
      "60.0% complete.\n",
      "70.0% complete.\n",
      "80.0% complete.\n",
      "90.0% complete.\n",
      "100.0% complete.\n",
      "10.0% complete.\n",
      "20.0% complete.\n",
      "30.0% complete.\n",
      "40.0% complete.\n",
      "50.0% complete.\n",
      "60.0% complete.\n",
      "70.0% complete.\n",
      "80.0% complete.\n",
      "90.0% complete.\n",
      "100.0% complete.\n",
      "Framework 4 completed.\n",
      "10.0% complete.\n",
      "20.0% complete.\n",
      "30.0% complete.\n",
      "40.0% complete.\n",
      "50.0% complete.\n",
      "60.0% complete.\n",
      "70.0% complete.\n",
      "80.0% complete.\n",
      "90.0% complete.\n",
      "100.0% complete.\n",
      "10.0% complete.\n",
      "20.0% complete.\n",
      "30.0% complete.\n",
      "40.0% complete.\n",
      "50.0% complete.\n",
      "60.0% complete.\n",
      "70.0% complete.\n",
      "80.0% complete.\n",
      "90.0% complete.\n",
      "100.0% complete.\n",
      "10.0% complete.\n",
      "20.0% complete.\n",
      "30.0% complete.\n",
      "40.0% complete.\n",
      "50.0% complete.\n",
      "60.0% complete.\n",
      "70.0% complete.\n",
      "80.0% complete.\n",
      "90.0% complete.\n",
      "100.0% complete.\n",
      "10.0% complete.\n",
      "20.0% complete.\n",
      "30.0% complete.\n",
      "40.0% complete.\n",
      "50.0% complete.\n",
      "60.0% complete.\n",
      "70.0% complete.\n",
      "80.0% complete.\n",
      "90.0% complete.\n",
      "100.0% complete.\n",
      "10.0% complete.\n",
      "20.0% complete.\n",
      "30.0% complete.\n",
      "40.0% complete.\n",
      "50.0% complete.\n",
      "60.0% complete.\n",
      "70.0% complete.\n",
      "80.0% complete.\n",
      "90.0% complete.\n",
      "100.0% complete.\n",
      "10.0% complete.\n",
      "20.0% complete.\n",
      "30.0% complete.\n",
      "40.0% complete.\n",
      "50.0% complete.\n",
      "60.0% complete.\n",
      "70.0% complete.\n",
      "80.0% complete.\n",
      "90.0% complete.\n",
      "100.0% complete.\n",
      "10.0% complete.\n",
      "20.0% complete.\n",
      "30.0% complete.\n",
      "40.0% complete.\n",
      "50.0% complete.\n",
      "60.0% complete.\n",
      "70.0% complete.\n",
      "80.0% complete.\n",
      "90.0% complete.\n",
      "100.0% complete.\n",
      "10.0% complete.\n",
      "20.0% complete.\n",
      "30.0% complete.\n",
      "40.0% complete.\n",
      "50.0% complete.\n",
      "60.0% complete.\n",
      "70.0% complete.\n",
      "80.0% complete.\n",
      "90.0% complete.\n",
      "100.0% complete.\n",
      "10.0% complete.\n",
      "20.0% complete.\n",
      "30.0% complete.\n",
      "40.0% complete.\n",
      "50.0% complete.\n",
      "60.0% complete.\n",
      "70.0% complete.\n",
      "80.0% complete.\n",
      "90.0% complete.\n",
      "100.0% complete.\n",
      "10.0% complete.\n",
      "20.0% complete.\n",
      "30.0% complete.\n",
      "40.0% complete.\n",
      "50.0% complete.\n",
      "60.0% complete.\n",
      "70.0% complete.\n",
      "80.0% complete.\n",
      "90.0% complete.\n",
      "100.0% complete.\n",
      "10.0% complete.\n",
      "20.0% complete.\n",
      "30.0% complete.\n",
      "40.0% complete.\n",
      "50.0% complete.\n",
      "60.0% complete.\n",
      "70.0% complete.\n",
      "80.0% complete.\n",
      "90.0% complete.\n",
      "100.0% complete.\n",
      "10.0% complete.\n",
      "20.0% complete.\n",
      "30.0% complete.\n",
      "40.0% complete.\n",
      "50.0% complete.\n",
      "60.0% complete.\n",
      "70.0% complete.\n",
      "80.0% complete.\n",
      "90.0% complete.\n",
      "100.0% complete.\n",
      "10.0% complete.\n",
      "20.0% complete.\n",
      "30.0% complete.\n",
      "40.0% complete.\n",
      "50.0% complete.\n",
      "60.0% complete.\n",
      "70.0% complete.\n",
      "80.0% complete.\n",
      "90.0% complete.\n",
      "100.0% complete.\n",
      "10.0% complete.\n",
      "20.0% complete.\n",
      "30.0% complete.\n",
      "40.0% complete.\n",
      "50.0% complete.\n",
      "60.0% complete.\n",
      "70.0% complete.\n",
      "80.0% complete.\n",
      "90.0% complete.\n",
      "100.0% complete.\n",
      "10.0% complete.\n",
      "20.0% complete.\n",
      "30.0% complete.\n",
      "40.0% complete.\n",
      "50.0% complete.\n",
      "60.0% complete.\n",
      "70.0% complete.\n",
      "80.0% complete.\n",
      "90.0% complete.\n",
      "100.0% complete.\n",
      "10.0% complete.\n",
      "20.0% complete.\n",
      "30.0% complete.\n",
      "40.0% complete.\n",
      "50.0% complete.\n",
      "60.0% complete.\n",
      "70.0% complete.\n",
      "80.0% complete.\n",
      "90.0% complete.\n",
      "100.0% complete.\n",
      "10.0% complete.\n",
      "20.0% complete.\n",
      "30.0% complete.\n",
      "40.0% complete.\n",
      "50.0% complete.\n",
      "60.0% complete.\n",
      "70.0% complete.\n",
      "80.0% complete.\n",
      "90.0% complete.\n",
      "100.0% complete.\n",
      "10.0% complete.\n",
      "20.0% complete.\n",
      "30.0% complete.\n",
      "40.0% complete.\n",
      "50.0% complete.\n",
      "60.0% complete.\n",
      "70.0% complete.\n",
      "80.0% complete.\n",
      "90.0% complete.\n",
      "100.0% complete.\n",
      "10.0% complete.\n",
      "20.0% complete.\n",
      "30.0% complete.\n",
      "40.0% complete.\n",
      "50.0% complete.\n",
      "60.0% complete.\n",
      "70.0% complete.\n",
      "80.0% complete.\n",
      "90.0% complete.\n",
      "100.0% complete.\n",
      "10.0% complete.\n",
      "20.0% complete.\n",
      "30.0% complete.\n",
      "40.0% complete.\n",
      "50.0% complete.\n",
      "60.0% complete.\n",
      "70.0% complete.\n",
      "80.0% complete.\n",
      "90.0% complete.\n",
      "100.0% complete.\n",
      "10.0% complete.\n",
      "20.0% complete.\n",
      "30.0% complete.\n",
      "40.0% complete.\n",
      "50.0% complete.\n",
      "60.0% complete.\n",
      "70.0% complete.\n",
      "80.0% complete.\n",
      "90.0% complete.\n",
      "100.0% complete.\n",
      "10.0% complete.\n",
      "20.0% complete.\n",
      "30.0% complete.\n",
      "40.0% complete.\n",
      "50.0% complete.\n",
      "60.0% complete.\n",
      "70.0% complete.\n",
      "80.0% complete.\n",
      "90.0% complete.\n",
      "100.0% complete.\n",
      "10.0% complete.\n",
      "20.0% complete.\n",
      "30.0% complete.\n",
      "40.0% complete.\n",
      "50.0% complete.\n",
      "60.0% complete.\n",
      "70.0% complete.\n",
      "80.0% complete.\n",
      "90.0% complete.\n",
      "100.0% complete.\n",
      "10.0% complete.\n",
      "20.0% complete.\n",
      "30.0% complete.\n",
      "40.0% complete.\n",
      "50.0% complete.\n",
      "60.0% complete.\n",
      "70.0% complete.\n",
      "80.0% complete.\n",
      "90.0% complete.\n",
      "100.0% complete.\n",
      "10.0% complete.\n",
      "20.0% complete.\n",
      "30.0% complete.\n",
      "40.0% complete.\n",
      "50.0% complete.\n",
      "60.0% complete.\n",
      "70.0% complete.\n",
      "80.0% complete.\n",
      "90.0% complete.\n",
      "100.0% complete.\n",
      "10.0% complete.\n",
      "20.0% complete.\n",
      "30.0% complete.\n",
      "40.0% complete.\n",
      "50.0% complete.\n",
      "60.0% complete.\n",
      "70.0% complete.\n",
      "80.0% complete.\n",
      "90.0% complete.\n",
      "100.0% complete.\n",
      "10.0% complete.\n",
      "20.0% complete.\n",
      "30.0% complete.\n",
      "40.0% complete.\n",
      "50.0% complete.\n",
      "60.0% complete.\n",
      "70.0% complete.\n",
      "80.0% complete.\n",
      "90.0% complete.\n",
      "100.0% complete.\n",
      "10.0% complete.\n",
      "20.0% complete.\n",
      "30.0% complete.\n",
      "40.0% complete.\n",
      "50.0% complete.\n",
      "60.0% complete.\n",
      "70.0% complete.\n",
      "80.0% complete.\n",
      "90.0% complete.\n",
      "100.0% complete.\n",
      "10.0% complete.\n",
      "20.0% complete.\n",
      "30.0% complete.\n",
      "40.0% complete.\n",
      "50.0% complete.\n",
      "60.0% complete.\n",
      "70.0% complete.\n",
      "80.0% complete.\n",
      "90.0% complete.\n",
      "100.0% complete.\n",
      "10.0% complete.\n",
      "20.0% complete.\n",
      "30.0% complete.\n",
      "40.0% complete.\n",
      "50.0% complete.\n",
      "60.0% complete.\n",
      "70.0% complete.\n",
      "80.0% complete.\n",
      "90.0% complete.\n",
      "100.0% complete.\n",
      "10.0% complete.\n",
      "20.0% complete.\n",
      "30.0% complete.\n",
      "40.0% complete.\n",
      "50.0% complete.\n",
      "60.0% complete.\n",
      "70.0% complete.\n",
      "80.0% complete.\n",
      "90.0% complete.\n",
      "100.0% complete.\n",
      "10.0% complete.\n",
      "20.0% complete.\n",
      "30.0% complete.\n",
      "40.0% complete.\n",
      "50.0% complete.\n",
      "60.0% complete.\n",
      "70.0% complete.\n",
      "80.0% complete.\n",
      "90.0% complete.\n",
      "100.0% complete.\n",
      "10.0% complete.\n",
      "20.0% complete.\n",
      "30.0% complete.\n",
      "40.0% complete.\n",
      "50.0% complete.\n",
      "60.0% complete.\n",
      "70.0% complete.\n",
      "80.0% complete.\n",
      "90.0% complete.\n",
      "100.0% complete.\n",
      "10.0% complete.\n",
      "20.0% complete.\n",
      "30.0% complete.\n",
      "40.0% complete.\n",
      "50.0% complete.\n",
      "60.0% complete.\n",
      "70.0% complete.\n",
      "80.0% complete.\n",
      "90.0% complete.\n",
      "100.0% complete.\n",
      "10.0% complete.\n",
      "20.0% complete.\n",
      "30.0% complete.\n",
      "40.0% complete.\n",
      "50.0% complete.\n",
      "60.0% complete.\n",
      "70.0% complete.\n",
      "80.0% complete.\n",
      "90.0% complete.\n",
      "100.0% complete.\n",
      "10.0% complete.\n",
      "20.0% complete.\n",
      "30.0% complete.\n",
      "40.0% complete.\n",
      "50.0% complete.\n",
      "60.0% complete.\n",
      "70.0% complete.\n",
      "80.0% complete.\n",
      "90.0% complete.\n",
      "100.0% complete.\n",
      "10.0% complete.\n",
      "20.0% complete.\n",
      "30.0% complete.\n",
      "40.0% complete.\n",
      "50.0% complete.\n",
      "60.0% complete.\n",
      "70.0% complete.\n",
      "80.0% complete.\n",
      "90.0% complete.\n",
      "100.0% complete.\n",
      "10.0% complete.\n",
      "20.0% complete.\n",
      "30.0% complete.\n",
      "40.0% complete.\n",
      "50.0% complete.\n",
      "60.0% complete.\n",
      "70.0% complete.\n",
      "80.0% complete.\n",
      "90.0% complete.\n",
      "100.0% complete.\n",
      "10.0% complete.\n",
      "20.0% complete.\n",
      "30.0% complete.\n",
      "40.0% complete.\n",
      "50.0% complete.\n",
      "60.0% complete.\n",
      "70.0% complete.\n"
     ]
    },
    {
     "name": "stdout",
     "output_type": "stream",
     "text": [
      "80.0% complete.\n",
      "90.0% complete.\n",
      "100.0% complete.\n",
      "10.0% complete.\n",
      "20.0% complete.\n",
      "30.0% complete.\n",
      "40.0% complete.\n",
      "50.0% complete.\n",
      "60.0% complete.\n",
      "70.0% complete.\n",
      "80.0% complete.\n",
      "90.0% complete.\n",
      "100.0% complete.\n",
      "10.0% complete.\n",
      "20.0% complete.\n",
      "30.0% complete.\n",
      "40.0% complete.\n",
      "50.0% complete.\n",
      "60.0% complete.\n",
      "70.0% complete.\n",
      "80.0% complete.\n",
      "90.0% complete.\n",
      "100.0% complete.\n",
      "10.0% complete.\n",
      "20.0% complete.\n",
      "30.0% complete.\n",
      "40.0% complete.\n",
      "50.0% complete.\n",
      "60.0% complete.\n",
      "70.0% complete.\n",
      "80.0% complete.\n",
      "90.0% complete.\n",
      "100.0% complete.\n",
      "10.0% complete.\n",
      "20.0% complete.\n",
      "30.0% complete.\n",
      "40.0% complete.\n",
      "50.0% complete.\n",
      "60.0% complete.\n",
      "70.0% complete.\n",
      "80.0% complete.\n",
      "90.0% complete.\n",
      "100.0% complete.\n",
      "10.0% complete.\n",
      "20.0% complete.\n",
      "30.0% complete.\n",
      "40.0% complete.\n",
      "50.0% complete.\n",
      "60.0% complete.\n",
      "70.0% complete.\n",
      "80.0% complete.\n",
      "90.0% complete.\n",
      "100.0% complete.\n",
      "10.0% complete.\n",
      "20.0% complete.\n",
      "30.0% complete.\n",
      "40.0% complete.\n",
      "50.0% complete.\n",
      "60.0% complete.\n",
      "70.0% complete.\n",
      "80.0% complete.\n",
      "90.0% complete.\n",
      "100.0% complete.\n",
      "10.0% complete.\n",
      "20.0% complete.\n",
      "30.0% complete.\n",
      "40.0% complete.\n",
      "50.0% complete.\n",
      "60.0% complete.\n",
      "70.0% complete.\n",
      "80.0% complete.\n",
      "90.0% complete.\n",
      "100.0% complete.\n",
      "10.0% complete.\n",
      "20.0% complete.\n",
      "30.0% complete.\n",
      "40.0% complete.\n",
      "50.0% complete.\n",
      "60.0% complete.\n",
      "70.0% complete.\n",
      "80.0% complete.\n",
      "90.0% complete.\n",
      "100.0% complete.\n",
      "10.0% complete.\n",
      "20.0% complete.\n",
      "30.0% complete.\n",
      "40.0% complete.\n",
      "50.0% complete.\n",
      "60.0% complete.\n",
      "70.0% complete.\n",
      "80.0% complete.\n",
      "90.0% complete.\n",
      "100.0% complete.\n",
      "10.0% complete.\n",
      "20.0% complete.\n",
      "30.0% complete.\n",
      "40.0% complete.\n",
      "50.0% complete.\n",
      "60.0% complete.\n",
      "70.0% complete.\n",
      "80.0% complete.\n",
      "90.0% complete.\n",
      "100.0% complete.\n",
      "10.0% complete.\n",
      "20.0% complete.\n",
      "30.0% complete.\n",
      "40.0% complete.\n",
      "50.0% complete.\n",
      "60.0% complete.\n",
      "70.0% complete.\n",
      "80.0% complete.\n",
      "90.0% complete.\n",
      "100.0% complete.\n",
      "10.0% complete.\n",
      "20.0% complete.\n",
      "30.0% complete.\n",
      "40.0% complete.\n",
      "50.0% complete.\n",
      "60.0% complete.\n",
      "70.0% complete.\n",
      "80.0% complete.\n",
      "90.0% complete.\n",
      "100.0% complete.\n",
      "10.0% complete.\n",
      "20.0% complete.\n",
      "30.0% complete.\n",
      "40.0% complete.\n",
      "50.0% complete.\n",
      "60.0% complete.\n",
      "70.0% complete.\n",
      "80.0% complete.\n",
      "90.0% complete.\n",
      "100.0% complete.\n",
      "10.0% complete.\n",
      "20.0% complete.\n",
      "30.0% complete.\n",
      "40.0% complete.\n",
      "50.0% complete.\n",
      "60.0% complete.\n",
      "70.0% complete.\n",
      "80.0% complete.\n",
      "90.0% complete.\n",
      "100.0% complete.\n",
      "10.0% complete.\n",
      "20.0% complete.\n",
      "30.0% complete.\n",
      "40.0% complete.\n",
      "50.0% complete.\n",
      "60.0% complete.\n",
      "70.0% complete.\n",
      "80.0% complete.\n",
      "90.0% complete.\n",
      "100.0% complete.\n",
      "10.0% complete.\n",
      "20.0% complete.\n",
      "30.0% complete.\n",
      "40.0% complete.\n",
      "50.0% complete.\n",
      "60.0% complete.\n",
      "70.0% complete.\n",
      "80.0% complete.\n",
      "90.0% complete.\n",
      "100.0% complete.\n",
      "10.0% complete.\n",
      "20.0% complete.\n",
      "30.0% complete.\n",
      "40.0% complete.\n",
      "50.0% complete.\n",
      "60.0% complete.\n",
      "70.0% complete.\n",
      "80.0% complete.\n",
      "90.0% complete.\n",
      "100.0% complete.\n",
      "10.0% complete.\n",
      "20.0% complete.\n",
      "30.0% complete.\n",
      "40.0% complete.\n",
      "50.0% complete.\n",
      "60.0% complete.\n",
      "70.0% complete.\n",
      "80.0% complete.\n",
      "90.0% complete.\n",
      "100.0% complete.\n",
      "10.0% complete.\n",
      "20.0% complete.\n",
      "30.0% complete.\n",
      "40.0% complete.\n",
      "50.0% complete.\n",
      "60.0% complete.\n",
      "70.0% complete.\n",
      "80.0% complete.\n",
      "90.0% complete.\n",
      "100.0% complete.\n",
      "10.0% complete.\n",
      "20.0% complete.\n",
      "30.0% complete.\n",
      "40.0% complete.\n",
      "50.0% complete.\n",
      "60.0% complete.\n",
      "70.0% complete.\n",
      "80.0% complete.\n",
      "90.0% complete.\n",
      "100.0% complete.\n",
      "10.0% complete.\n",
      "20.0% complete.\n",
      "30.0% complete.\n",
      "40.0% complete.\n",
      "50.0% complete.\n",
      "60.0% complete.\n",
      "70.0% complete.\n",
      "80.0% complete.\n",
      "90.0% complete.\n",
      "100.0% complete.\n",
      "10.0% complete.\n",
      "20.0% complete.\n",
      "30.0% complete.\n",
      "40.0% complete.\n",
      "50.0% complete.\n",
      "60.0% complete.\n",
      "70.0% complete.\n",
      "80.0% complete.\n",
      "90.0% complete.\n",
      "100.0% complete.\n",
      "10.0% complete.\n",
      "20.0% complete.\n",
      "30.0% complete.\n",
      "40.0% complete.\n",
      "50.0% complete.\n",
      "60.0% complete.\n",
      "70.0% complete.\n",
      "80.0% complete.\n",
      "90.0% complete.\n",
      "100.0% complete.\n",
      "10.0% complete.\n",
      "20.0% complete.\n",
      "30.0% complete.\n",
      "40.0% complete.\n",
      "50.0% complete.\n",
      "60.0% complete.\n",
      "70.0% complete.\n",
      "80.0% complete.\n",
      "90.0% complete.\n",
      "100.0% complete.\n",
      "10.0% complete.\n",
      "20.0% complete.\n",
      "30.0% complete.\n",
      "40.0% complete.\n",
      "50.0% complete.\n",
      "60.0% complete.\n",
      "70.0% complete.\n",
      "80.0% complete.\n",
      "90.0% complete.\n",
      "100.0% complete.\n",
      "10.0% complete.\n",
      "20.0% complete.\n",
      "30.0% complete.\n",
      "40.0% complete.\n",
      "50.0% complete.\n",
      "60.0% complete.\n",
      "70.0% complete.\n",
      "80.0% complete.\n",
      "90.0% complete.\n",
      "100.0% complete.\n",
      "10.0% complete.\n",
      "20.0% complete.\n",
      "30.0% complete.\n",
      "40.0% complete.\n",
      "50.0% complete.\n",
      "60.0% complete.\n",
      "70.0% complete.\n",
      "80.0% complete.\n",
      "90.0% complete.\n",
      "100.0% complete.\n",
      "10.0% complete.\n",
      "20.0% complete.\n",
      "30.0% complete.\n",
      "40.0% complete.\n",
      "50.0% complete.\n",
      "60.0% complete.\n",
      "70.0% complete.\n",
      "80.0% complete.\n",
      "90.0% complete.\n",
      "100.0% complete.\n",
      "10.0% complete.\n",
      "20.0% complete.\n",
      "30.0% complete.\n",
      "40.0% complete.\n",
      "50.0% complete.\n",
      "60.0% complete.\n",
      "70.0% complete.\n",
      "80.0% complete.\n",
      "90.0% complete.\n",
      "100.0% complete.\n",
      "10.0% complete.\n",
      "20.0% complete.\n",
      "30.0% complete.\n",
      "40.0% complete.\n",
      "50.0% complete.\n",
      "60.0% complete.\n",
      "70.0% complete.\n",
      "80.0% complete.\n",
      "90.0% complete.\n",
      "100.0% complete.\n",
      "10.0% complete.\n",
      "20.0% complete.\n",
      "30.0% complete.\n",
      "40.0% complete.\n",
      "50.0% complete.\n",
      "60.0% complete.\n",
      "70.0% complete.\n",
      "80.0% complete.\n",
      "90.0% complete.\n",
      "100.0% complete.\n",
      "10.0% complete.\n",
      "20.0% complete.\n",
      "30.0% complete.\n",
      "40.0% complete.\n",
      "50.0% complete.\n",
      "60.0% complete.\n",
      "70.0% complete.\n",
      "80.0% complete.\n",
      "90.0% complete.\n",
      "100.0% complete.\n",
      "10.0% complete.\n",
      "20.0% complete.\n",
      "30.0% complete.\n",
      "40.0% complete.\n",
      "50.0% complete.\n",
      "60.0% complete.\n",
      "70.0% complete.\n",
      "80.0% complete.\n",
      "90.0% complete.\n",
      "100.0% complete.\n",
      "10.0% complete.\n",
      "20.0% complete.\n",
      "30.0% complete.\n",
      "40.0% complete.\n",
      "50.0% complete.\n",
      "60.0% complete.\n",
      "70.0% complete.\n",
      "80.0% complete.\n",
      "90.0% complete.\n",
      "100.0% complete.\n",
      "10.0% complete.\n",
      "20.0% complete.\n",
      "30.0% complete.\n",
      "40.0% complete.\n",
      "50.0% complete.\n",
      "60.0% complete.\n",
      "70.0% complete.\n",
      "80.0% complete.\n",
      "90.0% complete.\n",
      "100.0% complete.\n",
      "10.0% complete.\n",
      "20.0% complete.\n",
      "30.0% complete.\n",
      "40.0% complete.\n",
      "50.0% complete.\n",
      "60.0% complete.\n",
      "70.0% complete.\n",
      "80.0% complete.\n",
      "90.0% complete.\n",
      "100.0% complete.\n",
      "10.0% complete.\n",
      "20.0% complete.\n",
      "30.0% complete.\n",
      "40.0% complete.\n",
      "50.0% complete.\n",
      "60.0% complete.\n",
      "70.0% complete.\n",
      "80.0% complete.\n",
      "90.0% complete.\n",
      "100.0% complete.\n",
      "10.0% complete.\n",
      "20.0% complete.\n",
      "30.0% complete.\n",
      "40.0% complete.\n",
      "50.0% complete.\n",
      "60.0% complete.\n",
      "70.0% complete.\n",
      "80.0% complete.\n",
      "90.0% complete.\n",
      "100.0% complete.\n",
      "10.0% complete.\n",
      "20.0% complete.\n",
      "30.0% complete.\n",
      "40.0% complete.\n",
      "50.0% complete.\n",
      "60.0% complete.\n",
      "70.0% complete.\n",
      "80.0% complete.\n",
      "90.0% complete.\n",
      "100.0% complete.\n",
      "10.0% complete.\n",
      "20.0% complete.\n",
      "30.0% complete.\n",
      "40.0% complete.\n",
      "50.0% complete.\n",
      "60.0% complete.\n",
      "70.0% complete.\n",
      "80.0% complete.\n",
      "90.0% complete.\n",
      "100.0% complete.\n",
      "10.0% complete.\n",
      "20.0% complete.\n",
      "30.0% complete.\n",
      "40.0% complete.\n",
      "50.0% complete.\n",
      "60.0% complete.\n",
      "70.0% complete.\n",
      "80.0% complete.\n",
      "90.0% complete.\n",
      "100.0% complete.\n",
      "10.0% complete.\n",
      "20.0% complete.\n",
      "30.0% complete.\n",
      "40.0% complete.\n",
      "50.0% complete.\n",
      "60.0% complete.\n",
      "70.0% complete.\n",
      "80.0% complete.\n",
      "90.0% complete.\n",
      "100.0% complete.\n",
      "10.0% complete.\n",
      "20.0% complete.\n",
      "30.0% complete.\n",
      "40.0% complete.\n",
      "50.0% complete.\n",
      "60.0% complete.\n",
      "70.0% complete.\n",
      "80.0% complete.\n",
      "90.0% complete.\n",
      "100.0% complete.\n",
      "10.0% complete.\n",
      "20.0% complete.\n",
      "30.0% complete.\n",
      "40.0% complete.\n",
      "50.0% complete.\n",
      "60.0% complete.\n",
      "70.0% complete.\n",
      "80.0% complete.\n",
      "90.0% complete.\n",
      "100.0% complete.\n",
      "10.0% complete.\n",
      "20.0% complete.\n",
      "30.0% complete.\n",
      "40.0% complete.\n",
      "50.0% complete.\n",
      "60.0% complete.\n",
      "70.0% complete.\n",
      "80.0% complete.\n",
      "90.0% complete.\n",
      "100.0% complete.\n",
      "10.0% complete.\n",
      "20.0% complete.\n",
      "30.0% complete.\n",
      "40.0% complete.\n",
      "50.0% complete.\n",
      "60.0% complete.\n",
      "70.0% complete.\n",
      "80.0% complete.\n",
      "90.0% complete.\n",
      "100.0% complete.\n",
      "10.0% complete.\n",
      "20.0% complete.\n",
      "30.0% complete.\n",
      "40.0% complete.\n",
      "50.0% complete.\n",
      "60.0% complete.\n",
      "70.0% complete.\n",
      "80.0% complete.\n",
      "90.0% complete.\n",
      "100.0% complete.\n",
      "10.0% complete.\n",
      "20.0% complete.\n",
      "30.0% complete.\n",
      "40.0% complete.\n",
      "50.0% complete.\n",
      "60.0% complete.\n",
      "70.0% complete.\n",
      "80.0% complete.\n",
      "90.0% complete.\n",
      "100.0% complete.\n",
      "10.0% complete.\n",
      "20.0% complete.\n",
      "30.0% complete.\n",
      "40.0% complete.\n",
      "50.0% complete.\n",
      "60.0% complete.\n",
      "70.0% complete.\n",
      "80.0% complete.\n",
      "90.0% complete.\n",
      "100.0% complete.\n",
      "10.0% complete.\n",
      "20.0% complete.\n",
      "30.0% complete.\n",
      "40.0% complete.\n",
      "50.0% complete.\n",
      "60.0% complete.\n",
      "70.0% complete.\n",
      "80.0% complete.\n",
      "90.0% complete.\n",
      "100.0% complete.\n",
      "10.0% complete.\n",
      "20.0% complete.\n",
      "30.0% complete.\n",
      "40.0% complete.\n",
      "50.0% complete.\n",
      "60.0% complete.\n"
     ]
    },
    {
     "name": "stdout",
     "output_type": "stream",
     "text": [
      "70.0% complete.\n",
      "80.0% complete.\n",
      "90.0% complete.\n",
      "100.0% complete.\n",
      "10.0% complete.\n",
      "20.0% complete.\n",
      "30.0% complete.\n",
      "40.0% complete.\n",
      "50.0% complete.\n",
      "60.0% complete.\n",
      "70.0% complete.\n",
      "80.0% complete.\n",
      "90.0% complete.\n",
      "100.0% complete.\n",
      "10.0% complete.\n",
      "20.0% complete.\n",
      "30.0% complete.\n",
      "40.0% complete.\n",
      "50.0% complete.\n",
      "60.0% complete.\n",
      "70.0% complete.\n",
      "80.0% complete.\n",
      "90.0% complete.\n",
      "100.0% complete.\n",
      "10.0% complete.\n",
      "20.0% complete.\n",
      "30.0% complete.\n",
      "40.0% complete.\n",
      "50.0% complete.\n",
      "60.0% complete.\n",
      "70.0% complete.\n",
      "80.0% complete.\n",
      "90.0% complete.\n",
      "100.0% complete.\n",
      "10.0% complete.\n",
      "20.0% complete.\n",
      "30.0% complete.\n",
      "40.0% complete.\n",
      "50.0% complete.\n",
      "60.0% complete.\n",
      "70.0% complete.\n",
      "80.0% complete.\n",
      "90.0% complete.\n",
      "100.0% complete.\n",
      "10.0% complete.\n",
      "20.0% complete.\n",
      "30.0% complete.\n",
      "40.0% complete.\n",
      "50.0% complete.\n",
      "60.0% complete.\n",
      "70.0% complete.\n",
      "80.0% complete.\n",
      "90.0% complete.\n",
      "100.0% complete.\n",
      "10.0% complete.\n",
      "20.0% complete.\n",
      "30.0% complete.\n",
      "40.0% complete.\n",
      "50.0% complete.\n",
      "60.0% complete.\n",
      "70.0% complete.\n",
      "80.0% complete.\n",
      "90.0% complete.\n",
      "100.0% complete.\n",
      "10.0% complete.\n",
      "20.0% complete.\n",
      "30.0% complete.\n",
      "40.0% complete.\n",
      "50.0% complete.\n",
      "60.0% complete.\n",
      "70.0% complete.\n",
      "80.0% complete.\n",
      "90.0% complete.\n",
      "100.0% complete.\n",
      "10.0% complete.\n",
      "20.0% complete.\n",
      "30.0% complete.\n",
      "40.0% complete.\n",
      "50.0% complete.\n",
      "60.0% complete.\n",
      "70.0% complete.\n",
      "80.0% complete.\n",
      "90.0% complete.\n",
      "100.0% complete.\n",
      "10.0% complete.\n",
      "20.0% complete.\n",
      "30.0% complete.\n",
      "40.0% complete.\n",
      "50.0% complete.\n",
      "60.0% complete.\n",
      "70.0% complete.\n",
      "80.0% complete.\n",
      "90.0% complete.\n",
      "100.0% complete.\n",
      "10.0% complete.\n",
      "20.0% complete.\n",
      "30.0% complete.\n",
      "40.0% complete.\n",
      "50.0% complete.\n",
      "60.0% complete.\n",
      "70.0% complete.\n",
      "80.0% complete.\n",
      "90.0% complete.\n",
      "100.0% complete.\n",
      "Framework 5 completed.\n"
     ]
    },
    {
     "name": "stderr",
     "output_type": "stream",
     "text": [
      "/home/bknight/anaconda3/lib/python3.7/site-packages/scipy/optimize/minpack.py:794: OptimizeWarning: Covariance of the parameters could not be estimated\n",
      "  category=OptimizeWarning)\n"
     ]
    },
    {
     "name": "stdout",
     "output_type": "stream",
     "text": [
      "10.0% complete.\n",
      "20.0% complete.\n",
      "30.0% complete.\n",
      "40.0% complete.\n",
      "50.0% complete.\n",
      "60.0% complete.\n",
      "70.0% complete.\n",
      "80.0% complete.\n",
      "90.0% complete.\n",
      "100.0% complete.\n"
     ]
    },
    {
     "name": "stderr",
     "output_type": "stream",
     "text": [
      "/home/bknight/anaconda3/lib/python3.7/site-packages/scipy/optimize/minpack.py:794: OptimizeWarning: Covariance of the parameters could not be estimated\n",
      "  category=OptimizeWarning)\n"
     ]
    },
    {
     "name": "stdout",
     "output_type": "stream",
     "text": [
      "10.0% complete.\n",
      "20.0% complete.\n",
      "30.0% complete.\n",
      "40.0% complete.\n",
      "50.0% complete.\n",
      "60.0% complete.\n",
      "70.0% complete.\n",
      "80.0% complete.\n",
      "90.0% complete.\n",
      "100.0% complete.\n"
     ]
    },
    {
     "name": "stderr",
     "output_type": "stream",
     "text": [
      "/home/bknight/anaconda3/lib/python3.7/site-packages/scipy/optimize/minpack.py:794: OptimizeWarning: Covariance of the parameters could not be estimated\n",
      "  category=OptimizeWarning)\n"
     ]
    },
    {
     "name": "stdout",
     "output_type": "stream",
     "text": [
      "10.0% complete.\n",
      "20.0% complete.\n",
      "30.0% complete.\n",
      "40.0% complete.\n",
      "50.0% complete.\n",
      "60.0% complete.\n",
      "70.0% complete.\n",
      "80.0% complete.\n",
      "90.0% complete.\n",
      "100.0% complete.\n"
     ]
    },
    {
     "name": "stderr",
     "output_type": "stream",
     "text": [
      "/home/bknight/anaconda3/lib/python3.7/site-packages/scipy/optimize/minpack.py:794: OptimizeWarning: Covariance of the parameters could not be estimated\n",
      "  category=OptimizeWarning)\n"
     ]
    },
    {
     "name": "stdout",
     "output_type": "stream",
     "text": [
      "10.0% complete.\n",
      "20.0% complete.\n",
      "30.0% complete.\n",
      "40.0% complete.\n",
      "50.0% complete.\n",
      "60.0% complete.\n",
      "70.0% complete.\n",
      "80.0% complete.\n",
      "90.0% complete.\n",
      "100.0% complete.\n"
     ]
    },
    {
     "name": "stderr",
     "output_type": "stream",
     "text": [
      "/home/bknight/anaconda3/lib/python3.7/site-packages/scipy/optimize/minpack.py:794: OptimizeWarning: Covariance of the parameters could not be estimated\n",
      "  category=OptimizeWarning)\n"
     ]
    },
    {
     "name": "stdout",
     "output_type": "stream",
     "text": [
      "10.0% complete.\n",
      "20.0% complete.\n",
      "30.0% complete.\n",
      "40.0% complete.\n",
      "50.0% complete.\n",
      "60.0% complete.\n",
      "70.0% complete.\n",
      "80.0% complete.\n",
      "90.0% complete.\n",
      "100.0% complete.\n"
     ]
    },
    {
     "name": "stderr",
     "output_type": "stream",
     "text": [
      "/home/bknight/anaconda3/lib/python3.7/site-packages/scipy/optimize/minpack.py:794: OptimizeWarning: Covariance of the parameters could not be estimated\n",
      "  category=OptimizeWarning)\n"
     ]
    },
    {
     "name": "stdout",
     "output_type": "stream",
     "text": [
      "10.0% complete.\n",
      "20.0% complete.\n",
      "30.0% complete.\n",
      "40.0% complete.\n",
      "50.0% complete.\n",
      "60.0% complete.\n",
      "70.0% complete.\n",
      "80.0% complete.\n",
      "90.0% complete.\n",
      "100.0% complete.\n"
     ]
    },
    {
     "name": "stderr",
     "output_type": "stream",
     "text": [
      "/home/bknight/anaconda3/lib/python3.7/site-packages/scipy/optimize/minpack.py:794: OptimizeWarning: Covariance of the parameters could not be estimated\n",
      "  category=OptimizeWarning)\n"
     ]
    },
    {
     "name": "stdout",
     "output_type": "stream",
     "text": [
      "10.0% complete.\n",
      "20.0% complete.\n",
      "30.0% complete.\n",
      "40.0% complete.\n",
      "50.0% complete.\n",
      "60.0% complete.\n",
      "70.0% complete.\n",
      "80.0% complete.\n",
      "90.0% complete.\n",
      "100.0% complete.\n"
     ]
    },
    {
     "name": "stderr",
     "output_type": "stream",
     "text": [
      "/home/bknight/anaconda3/lib/python3.7/site-packages/scipy/optimize/minpack.py:794: OptimizeWarning: Covariance of the parameters could not be estimated\n",
      "  category=OptimizeWarning)\n"
     ]
    },
    {
     "name": "stdout",
     "output_type": "stream",
     "text": [
      "10.0% complete.\n",
      "20.0% complete.\n",
      "30.0% complete.\n",
      "40.0% complete.\n",
      "50.0% complete.\n",
      "60.0% complete.\n",
      "70.0% complete.\n",
      "80.0% complete.\n",
      "90.0% complete.\n",
      "100.0% complete.\n"
     ]
    },
    {
     "name": "stderr",
     "output_type": "stream",
     "text": [
      "/home/bknight/anaconda3/lib/python3.7/site-packages/scipy/optimize/minpack.py:794: OptimizeWarning: Covariance of the parameters could not be estimated\n",
      "  category=OptimizeWarning)\n"
     ]
    },
    {
     "name": "stdout",
     "output_type": "stream",
     "text": [
      "10.0% complete.\n",
      "20.0% complete.\n",
      "30.0% complete.\n",
      "40.0% complete.\n",
      "50.0% complete.\n",
      "60.0% complete.\n",
      "70.0% complete.\n",
      "80.0% complete.\n",
      "90.0% complete.\n",
      "100.0% complete.\n"
     ]
    },
    {
     "name": "stderr",
     "output_type": "stream",
     "text": [
      "/home/bknight/anaconda3/lib/python3.7/site-packages/scipy/optimize/minpack.py:794: OptimizeWarning: Covariance of the parameters could not be estimated\n",
      "  category=OptimizeWarning)\n"
     ]
    },
    {
     "name": "stdout",
     "output_type": "stream",
     "text": [
      "10.0% complete.\n",
      "20.0% complete.\n",
      "30.0% complete.\n",
      "40.0% complete.\n",
      "50.0% complete.\n",
      "60.0% complete.\n",
      "70.0% complete.\n",
      "80.0% complete.\n",
      "90.0% complete.\n",
      "100.0% complete.\n"
     ]
    },
    {
     "name": "stderr",
     "output_type": "stream",
     "text": [
      "/home/bknight/anaconda3/lib/python3.7/site-packages/scipy/optimize/minpack.py:794: OptimizeWarning: Covariance of the parameters could not be estimated\n",
      "  category=OptimizeWarning)\n"
     ]
    },
    {
     "name": "stdout",
     "output_type": "stream",
     "text": [
      "10.0% complete.\n",
      "20.0% complete.\n",
      "30.0% complete.\n",
      "40.0% complete.\n",
      "50.0% complete.\n",
      "60.0% complete.\n",
      "70.0% complete.\n",
      "80.0% complete.\n",
      "90.0% complete.\n",
      "100.0% complete.\n"
     ]
    },
    {
     "name": "stderr",
     "output_type": "stream",
     "text": [
      "/home/bknight/anaconda3/lib/python3.7/site-packages/scipy/optimize/minpack.py:794: OptimizeWarning: Covariance of the parameters could not be estimated\n",
      "  category=OptimizeWarning)\n"
     ]
    },
    {
     "name": "stdout",
     "output_type": "stream",
     "text": [
      "10.0% complete.\n",
      "20.0% complete.\n",
      "30.0% complete.\n",
      "40.0% complete.\n",
      "50.0% complete.\n",
      "60.0% complete.\n",
      "70.0% complete.\n",
      "80.0% complete.\n",
      "90.0% complete.\n",
      "100.0% complete.\n"
     ]
    },
    {
     "name": "stderr",
     "output_type": "stream",
     "text": [
      "/home/bknight/anaconda3/lib/python3.7/site-packages/scipy/optimize/minpack.py:794: OptimizeWarning: Covariance of the parameters could not be estimated\n",
      "  category=OptimizeWarning)\n"
     ]
    },
    {
     "name": "stdout",
     "output_type": "stream",
     "text": [
      "10.0% complete.\n",
      "20.0% complete.\n",
      "30.0% complete.\n",
      "40.0% complete.\n",
      "50.0% complete.\n",
      "60.0% complete.\n",
      "70.0% complete.\n",
      "80.0% complete.\n",
      "90.0% complete.\n",
      "100.0% complete.\n"
     ]
    },
    {
     "name": "stderr",
     "output_type": "stream",
     "text": [
      "/home/bknight/anaconda3/lib/python3.7/site-packages/scipy/optimize/minpack.py:794: OptimizeWarning: Covariance of the parameters could not be estimated\n",
      "  category=OptimizeWarning)\n"
     ]
    },
    {
     "name": "stdout",
     "output_type": "stream",
     "text": [
      "10.0% complete.\n",
      "20.0% complete.\n",
      "30.0% complete.\n",
      "40.0% complete.\n",
      "50.0% complete.\n",
      "60.0% complete.\n",
      "70.0% complete.\n",
      "80.0% complete.\n",
      "90.0% complete.\n",
      "100.0% complete.\n"
     ]
    },
    {
     "name": "stderr",
     "output_type": "stream",
     "text": [
      "/home/bknight/anaconda3/lib/python3.7/site-packages/scipy/optimize/minpack.py:794: OptimizeWarning: Covariance of the parameters could not be estimated\n",
      "  category=OptimizeWarning)\n"
     ]
    },
    {
     "name": "stdout",
     "output_type": "stream",
     "text": [
      "10.0% complete.\n",
      "20.0% complete.\n",
      "30.0% complete.\n",
      "40.0% complete.\n",
      "50.0% complete.\n",
      "60.0% complete.\n",
      "70.0% complete.\n",
      "80.0% complete.\n",
      "90.0% complete.\n",
      "100.0% complete.\n"
     ]
    },
    {
     "name": "stderr",
     "output_type": "stream",
     "text": [
      "/home/bknight/anaconda3/lib/python3.7/site-packages/scipy/optimize/minpack.py:794: OptimizeWarning: Covariance of the parameters could not be estimated\n",
      "  category=OptimizeWarning)\n"
     ]
    },
    {
     "name": "stdout",
     "output_type": "stream",
     "text": [
      "10.0% complete.\n",
      "20.0% complete.\n",
      "30.0% complete.\n",
      "40.0% complete.\n",
      "50.0% complete.\n",
      "60.0% complete.\n",
      "70.0% complete.\n",
      "80.0% complete.\n",
      "90.0% complete.\n",
      "100.0% complete.\n"
     ]
    },
    {
     "name": "stderr",
     "output_type": "stream",
     "text": [
      "/home/bknight/anaconda3/lib/python3.7/site-packages/scipy/optimize/minpack.py:794: OptimizeWarning: Covariance of the parameters could not be estimated\n",
      "  category=OptimizeWarning)\n"
     ]
    },
    {
     "name": "stdout",
     "output_type": "stream",
     "text": [
      "10.0% complete.\n",
      "20.0% complete.\n",
      "30.0% complete.\n",
      "40.0% complete.\n",
      "50.0% complete.\n",
      "60.0% complete.\n",
      "70.0% complete.\n",
      "80.0% complete.\n",
      "90.0% complete.\n",
      "100.0% complete.\n"
     ]
    },
    {
     "name": "stderr",
     "output_type": "stream",
     "text": [
      "/home/bknight/anaconda3/lib/python3.7/site-packages/scipy/optimize/minpack.py:794: OptimizeWarning: Covariance of the parameters could not be estimated\n",
      "  category=OptimizeWarning)\n"
     ]
    },
    {
     "name": "stdout",
     "output_type": "stream",
     "text": [
      "10.0% complete.\n",
      "20.0% complete.\n",
      "30.0% complete.\n",
      "40.0% complete.\n",
      "50.0% complete.\n",
      "60.0% complete.\n",
      "70.0% complete.\n",
      "80.0% complete.\n",
      "90.0% complete.\n",
      "100.0% complete.\n"
     ]
    },
    {
     "name": "stderr",
     "output_type": "stream",
     "text": [
      "/home/bknight/anaconda3/lib/python3.7/site-packages/scipy/optimize/minpack.py:794: OptimizeWarning: Covariance of the parameters could not be estimated\n",
      "  category=OptimizeWarning)\n"
     ]
    },
    {
     "name": "stdout",
     "output_type": "stream",
     "text": [
      "10.0% complete.\n",
      "20.0% complete.\n",
      "30.0% complete.\n",
      "40.0% complete.\n",
      "50.0% complete.\n",
      "60.0% complete.\n",
      "70.0% complete.\n",
      "80.0% complete.\n",
      "90.0% complete.\n",
      "100.0% complete.\n"
     ]
    },
    {
     "name": "stderr",
     "output_type": "stream",
     "text": [
      "/home/bknight/anaconda3/lib/python3.7/site-packages/scipy/optimize/minpack.py:794: OptimizeWarning: Covariance of the parameters could not be estimated\n",
      "  category=OptimizeWarning)\n"
     ]
    },
    {
     "name": "stdout",
     "output_type": "stream",
     "text": [
      "10.0% complete.\n",
      "20.0% complete.\n",
      "30.0% complete.\n",
      "40.0% complete.\n",
      "50.0% complete.\n",
      "60.0% complete.\n",
      "70.0% complete.\n",
      "80.0% complete.\n",
      "90.0% complete.\n",
      "100.0% complete.\n"
     ]
    },
    {
     "name": "stderr",
     "output_type": "stream",
     "text": [
      "/home/bknight/anaconda3/lib/python3.7/site-packages/scipy/optimize/minpack.py:794: OptimizeWarning: Covariance of the parameters could not be estimated\n",
      "  category=OptimizeWarning)\n"
     ]
    },
    {
     "name": "stdout",
     "output_type": "stream",
     "text": [
      "10.0% complete.\n",
      "20.0% complete.\n",
      "30.0% complete.\n",
      "40.0% complete.\n",
      "50.0% complete.\n",
      "60.0% complete.\n",
      "70.0% complete.\n",
      "80.0% complete.\n",
      "90.0% complete.\n",
      "100.0% complete.\n"
     ]
    },
    {
     "name": "stderr",
     "output_type": "stream",
     "text": [
      "/home/bknight/anaconda3/lib/python3.7/site-packages/scipy/optimize/minpack.py:794: OptimizeWarning: Covariance of the parameters could not be estimated\n",
      "  category=OptimizeWarning)\n"
     ]
    },
    {
     "name": "stdout",
     "output_type": "stream",
     "text": [
      "10.0% complete.\n",
      "20.0% complete.\n",
      "30.0% complete.\n",
      "40.0% complete.\n",
      "50.0% complete.\n",
      "60.0% complete.\n",
      "70.0% complete.\n",
      "80.0% complete.\n",
      "90.0% complete.\n",
      "100.0% complete.\n"
     ]
    },
    {
     "name": "stderr",
     "output_type": "stream",
     "text": [
      "/home/bknight/anaconda3/lib/python3.7/site-packages/scipy/optimize/minpack.py:794: OptimizeWarning: Covariance of the parameters could not be estimated\n",
      "  category=OptimizeWarning)\n"
     ]
    },
    {
     "name": "stdout",
     "output_type": "stream",
     "text": [
      "10.0% complete.\n",
      "20.0% complete.\n",
      "30.0% complete.\n",
      "40.0% complete.\n",
      "50.0% complete.\n",
      "60.0% complete.\n",
      "70.0% complete.\n",
      "80.0% complete.\n",
      "90.0% complete.\n",
      "100.0% complete.\n"
     ]
    },
    {
     "name": "stderr",
     "output_type": "stream",
     "text": [
      "/home/bknight/anaconda3/lib/python3.7/site-packages/scipy/optimize/minpack.py:794: OptimizeWarning: Covariance of the parameters could not be estimated\n",
      "  category=OptimizeWarning)\n"
     ]
    },
    {
     "name": "stdout",
     "output_type": "stream",
     "text": [
      "10.0% complete.\n",
      "20.0% complete.\n",
      "30.0% complete.\n",
      "40.0% complete.\n",
      "50.0% complete.\n",
      "60.0% complete.\n",
      "70.0% complete.\n",
      "80.0% complete.\n",
      "90.0% complete.\n",
      "100.0% complete.\n"
     ]
    },
    {
     "name": "stderr",
     "output_type": "stream",
     "text": [
      "/home/bknight/anaconda3/lib/python3.7/site-packages/scipy/optimize/minpack.py:794: OptimizeWarning: Covariance of the parameters could not be estimated\n",
      "  category=OptimizeWarning)\n"
     ]
    },
    {
     "name": "stdout",
     "output_type": "stream",
     "text": [
      "10.0% complete.\n",
      "20.0% complete.\n",
      "30.0% complete.\n",
      "40.0% complete.\n",
      "50.0% complete.\n",
      "60.0% complete.\n",
      "70.0% complete.\n",
      "80.0% complete.\n",
      "90.0% complete.\n",
      "100.0% complete.\n"
     ]
    },
    {
     "name": "stderr",
     "output_type": "stream",
     "text": [
      "/home/bknight/anaconda3/lib/python3.7/site-packages/scipy/optimize/minpack.py:794: OptimizeWarning: Covariance of the parameters could not be estimated\n",
      "  category=OptimizeWarning)\n"
     ]
    },
    {
     "name": "stdout",
     "output_type": "stream",
     "text": [
      "10.0% complete.\n",
      "20.0% complete.\n",
      "30.0% complete.\n",
      "40.0% complete.\n",
      "50.0% complete.\n",
      "60.0% complete.\n",
      "70.0% complete.\n",
      "80.0% complete.\n",
      "90.0% complete.\n",
      "100.0% complete.\n"
     ]
    },
    {
     "name": "stderr",
     "output_type": "stream",
     "text": [
      "/home/bknight/anaconda3/lib/python3.7/site-packages/scipy/optimize/minpack.py:794: OptimizeWarning: Covariance of the parameters could not be estimated\n",
      "  category=OptimizeWarning)\n"
     ]
    },
    {
     "name": "stdout",
     "output_type": "stream",
     "text": [
      "10.0% complete.\n",
      "20.0% complete.\n",
      "30.0% complete.\n",
      "40.0% complete.\n",
      "50.0% complete.\n",
      "60.0% complete.\n",
      "70.0% complete.\n",
      "80.0% complete.\n",
      "90.0% complete.\n",
      "100.0% complete.\n"
     ]
    },
    {
     "name": "stderr",
     "output_type": "stream",
     "text": [
      "/home/bknight/anaconda3/lib/python3.7/site-packages/scipy/optimize/minpack.py:794: OptimizeWarning: Covariance of the parameters could not be estimated\n",
      "  category=OptimizeWarning)\n"
     ]
    },
    {
     "name": "stdout",
     "output_type": "stream",
     "text": [
      "10.0% complete.\n",
      "20.0% complete.\n",
      "30.0% complete.\n",
      "40.0% complete.\n",
      "50.0% complete.\n",
      "60.0% complete.\n",
      "70.0% complete.\n",
      "80.0% complete.\n",
      "90.0% complete.\n",
      "100.0% complete.\n"
     ]
    },
    {
     "name": "stderr",
     "output_type": "stream",
     "text": [
      "/home/bknight/anaconda3/lib/python3.7/site-packages/scipy/optimize/minpack.py:794: OptimizeWarning: Covariance of the parameters could not be estimated\n",
      "  category=OptimizeWarning)\n"
     ]
    },
    {
     "name": "stdout",
     "output_type": "stream",
     "text": [
      "10.0% complete.\n",
      "20.0% complete.\n",
      "30.0% complete.\n",
      "40.0% complete.\n",
      "50.0% complete.\n",
      "60.0% complete.\n",
      "70.0% complete.\n",
      "80.0% complete.\n",
      "90.0% complete.\n",
      "100.0% complete.\n"
     ]
    },
    {
     "name": "stderr",
     "output_type": "stream",
     "text": [
      "/home/bknight/anaconda3/lib/python3.7/site-packages/scipy/optimize/minpack.py:794: OptimizeWarning: Covariance of the parameters could not be estimated\n",
      "  category=OptimizeWarning)\n"
     ]
    },
    {
     "name": "stdout",
     "output_type": "stream",
     "text": [
      "10.0% complete.\n",
      "20.0% complete.\n",
      "30.0% complete.\n",
      "40.0% complete.\n",
      "50.0% complete.\n",
      "60.0% complete.\n",
      "70.0% complete.\n",
      "80.0% complete.\n",
      "90.0% complete.\n",
      "100.0% complete.\n"
     ]
    },
    {
     "name": "stderr",
     "output_type": "stream",
     "text": [
      "/home/bknight/anaconda3/lib/python3.7/site-packages/scipy/optimize/minpack.py:794: OptimizeWarning: Covariance of the parameters could not be estimated\n",
      "  category=OptimizeWarning)\n"
     ]
    },
    {
     "name": "stdout",
     "output_type": "stream",
     "text": [
      "10.0% complete.\n",
      "20.0% complete.\n",
      "30.0% complete.\n",
      "40.0% complete.\n",
      "50.0% complete.\n",
      "60.0% complete.\n",
      "70.0% complete.\n",
      "80.0% complete.\n",
      "90.0% complete.\n",
      "100.0% complete.\n"
     ]
    },
    {
     "name": "stderr",
     "output_type": "stream",
     "text": [
      "/home/bknight/anaconda3/lib/python3.7/site-packages/scipy/optimize/minpack.py:794: OptimizeWarning: Covariance of the parameters could not be estimated\n",
      "  category=OptimizeWarning)\n"
     ]
    },
    {
     "name": "stdout",
     "output_type": "stream",
     "text": [
      "10.0% complete.\n",
      "20.0% complete.\n",
      "30.0% complete.\n",
      "40.0% complete.\n",
      "50.0% complete.\n",
      "60.0% complete.\n",
      "70.0% complete.\n",
      "80.0% complete.\n",
      "90.0% complete.\n",
      "100.0% complete.\n"
     ]
    },
    {
     "name": "stderr",
     "output_type": "stream",
     "text": [
      "/home/bknight/anaconda3/lib/python3.7/site-packages/scipy/optimize/minpack.py:794: OptimizeWarning: Covariance of the parameters could not be estimated\n",
      "  category=OptimizeWarning)\n"
     ]
    },
    {
     "name": "stdout",
     "output_type": "stream",
     "text": [
      "10.0% complete.\n",
      "20.0% complete.\n",
      "30.0% complete.\n",
      "40.0% complete.\n",
      "50.0% complete.\n",
      "60.0% complete.\n",
      "70.0% complete.\n",
      "80.0% complete.\n",
      "90.0% complete.\n",
      "100.0% complete.\n"
     ]
    },
    {
     "name": "stderr",
     "output_type": "stream",
     "text": [
      "/home/bknight/anaconda3/lib/python3.7/site-packages/scipy/optimize/minpack.py:794: OptimizeWarning: Covariance of the parameters could not be estimated\n",
      "  category=OptimizeWarning)\n"
     ]
    },
    {
     "name": "stdout",
     "output_type": "stream",
     "text": [
      "10.0% complete.\n",
      "20.0% complete.\n",
      "30.0% complete.\n",
      "40.0% complete.\n",
      "50.0% complete.\n",
      "60.0% complete.\n",
      "70.0% complete.\n",
      "80.0% complete.\n",
      "90.0% complete.\n",
      "100.0% complete.\n"
     ]
    },
    {
     "name": "stderr",
     "output_type": "stream",
     "text": [
      "/home/bknight/anaconda3/lib/python3.7/site-packages/scipy/optimize/minpack.py:794: OptimizeWarning: Covariance of the parameters could not be estimated\n",
      "  category=OptimizeWarning)\n"
     ]
    },
    {
     "name": "stdout",
     "output_type": "stream",
     "text": [
      "10.0% complete.\n",
      "20.0% complete.\n",
      "30.0% complete.\n",
      "40.0% complete.\n",
      "50.0% complete.\n",
      "60.0% complete.\n",
      "70.0% complete.\n",
      "80.0% complete.\n",
      "90.0% complete.\n",
      "100.0% complete.\n"
     ]
    },
    {
     "name": "stderr",
     "output_type": "stream",
     "text": [
      "/home/bknight/anaconda3/lib/python3.7/site-packages/scipy/optimize/minpack.py:794: OptimizeWarning: Covariance of the parameters could not be estimated\n",
      "  category=OptimizeWarning)\n"
     ]
    },
    {
     "name": "stdout",
     "output_type": "stream",
     "text": [
      "10.0% complete.\n",
      "20.0% complete.\n",
      "30.0% complete.\n",
      "40.0% complete.\n",
      "50.0% complete.\n",
      "60.0% complete.\n",
      "70.0% complete.\n",
      "80.0% complete.\n",
      "90.0% complete.\n",
      "100.0% complete.\n"
     ]
    },
    {
     "name": "stderr",
     "output_type": "stream",
     "text": [
      "/home/bknight/anaconda3/lib/python3.7/site-packages/scipy/optimize/minpack.py:794: OptimizeWarning: Covariance of the parameters could not be estimated\n",
      "  category=OptimizeWarning)\n"
     ]
    },
    {
     "name": "stdout",
     "output_type": "stream",
     "text": [
      "10.0% complete.\n",
      "20.0% complete.\n",
      "30.0% complete.\n",
      "40.0% complete.\n",
      "50.0% complete.\n",
      "60.0% complete.\n",
      "70.0% complete.\n",
      "80.0% complete.\n",
      "90.0% complete.\n",
      "100.0% complete.\n"
     ]
    },
    {
     "name": "stderr",
     "output_type": "stream",
     "text": [
      "/home/bknight/anaconda3/lib/python3.7/site-packages/scipy/optimize/minpack.py:794: OptimizeWarning: Covariance of the parameters could not be estimated\n",
      "  category=OptimizeWarning)\n"
     ]
    },
    {
     "name": "stdout",
     "output_type": "stream",
     "text": [
      "10.0% complete.\n",
      "20.0% complete.\n",
      "30.0% complete.\n",
      "40.0% complete.\n",
      "50.0% complete.\n",
      "60.0% complete.\n",
      "70.0% complete.\n",
      "80.0% complete.\n",
      "90.0% complete.\n",
      "100.0% complete.\n"
     ]
    },
    {
     "name": "stderr",
     "output_type": "stream",
     "text": [
      "/home/bknight/anaconda3/lib/python3.7/site-packages/scipy/optimize/minpack.py:794: OptimizeWarning: Covariance of the parameters could not be estimated\n",
      "  category=OptimizeWarning)\n"
     ]
    },
    {
     "name": "stdout",
     "output_type": "stream",
     "text": [
      "10.0% complete.\n",
      "20.0% complete.\n",
      "30.0% complete.\n",
      "40.0% complete.\n",
      "50.0% complete.\n",
      "60.0% complete.\n",
      "70.0% complete.\n",
      "80.0% complete.\n",
      "90.0% complete.\n",
      "100.0% complete.\n"
     ]
    },
    {
     "name": "stderr",
     "output_type": "stream",
     "text": [
      "/home/bknight/anaconda3/lib/python3.7/site-packages/scipy/optimize/minpack.py:794: OptimizeWarning: Covariance of the parameters could not be estimated\n",
      "  category=OptimizeWarning)\n"
     ]
    },
    {
     "name": "stdout",
     "output_type": "stream",
     "text": [
      "10.0% complete.\n",
      "20.0% complete.\n",
      "30.0% complete.\n",
      "40.0% complete.\n",
      "50.0% complete.\n",
      "60.0% complete.\n",
      "70.0% complete.\n",
      "80.0% complete.\n",
      "90.0% complete.\n",
      "100.0% complete.\n"
     ]
    },
    {
     "name": "stderr",
     "output_type": "stream",
     "text": [
      "/home/bknight/anaconda3/lib/python3.7/site-packages/scipy/optimize/minpack.py:794: OptimizeWarning: Covariance of the parameters could not be estimated\n",
      "  category=OptimizeWarning)\n"
     ]
    },
    {
     "name": "stdout",
     "output_type": "stream",
     "text": [
      "10.0% complete.\n",
      "20.0% complete.\n",
      "30.0% complete.\n",
      "40.0% complete.\n",
      "50.0% complete.\n",
      "60.0% complete.\n",
      "70.0% complete.\n",
      "80.0% complete.\n",
      "90.0% complete.\n",
      "100.0% complete.\n"
     ]
    },
    {
     "name": "stderr",
     "output_type": "stream",
     "text": [
      "/home/bknight/anaconda3/lib/python3.7/site-packages/scipy/optimize/minpack.py:794: OptimizeWarning: Covariance of the parameters could not be estimated\n",
      "  category=OptimizeWarning)\n"
     ]
    },
    {
     "name": "stdout",
     "output_type": "stream",
     "text": [
      "10.0% complete.\n",
      "20.0% complete.\n",
      "30.0% complete.\n",
      "40.0% complete.\n",
      "50.0% complete.\n",
      "60.0% complete.\n",
      "70.0% complete.\n",
      "80.0% complete.\n",
      "90.0% complete.\n",
      "100.0% complete.\n"
     ]
    },
    {
     "name": "stderr",
     "output_type": "stream",
     "text": [
      "/home/bknight/anaconda3/lib/python3.7/site-packages/scipy/optimize/minpack.py:794: OptimizeWarning: Covariance of the parameters could not be estimated\n",
      "  category=OptimizeWarning)\n"
     ]
    },
    {
     "name": "stdout",
     "output_type": "stream",
     "text": [
      "10.0% complete.\n",
      "20.0% complete.\n",
      "30.0% complete.\n",
      "40.0% complete.\n",
      "50.0% complete.\n",
      "60.0% complete.\n",
      "70.0% complete.\n",
      "80.0% complete.\n",
      "90.0% complete.\n",
      "100.0% complete.\n"
     ]
    },
    {
     "name": "stderr",
     "output_type": "stream",
     "text": [
      "/home/bknight/anaconda3/lib/python3.7/site-packages/scipy/optimize/minpack.py:794: OptimizeWarning: Covariance of the parameters could not be estimated\n",
      "  category=OptimizeWarning)\n"
     ]
    },
    {
     "name": "stdout",
     "output_type": "stream",
     "text": [
      "10.0% complete.\n",
      "20.0% complete.\n",
      "30.0% complete.\n",
      "40.0% complete.\n",
      "50.0% complete.\n",
      "60.0% complete.\n",
      "70.0% complete.\n",
      "80.0% complete.\n",
      "90.0% complete.\n",
      "100.0% complete.\n"
     ]
    },
    {
     "name": "stderr",
     "output_type": "stream",
     "text": [
      "/home/bknight/anaconda3/lib/python3.7/site-packages/scipy/optimize/minpack.py:794: OptimizeWarning: Covariance of the parameters could not be estimated\n",
      "  category=OptimizeWarning)\n"
     ]
    },
    {
     "name": "stdout",
     "output_type": "stream",
     "text": [
      "10.0% complete.\n",
      "20.0% complete.\n",
      "30.0% complete.\n",
      "40.0% complete.\n",
      "50.0% complete.\n",
      "60.0% complete.\n",
      "70.0% complete.\n",
      "80.0% complete.\n",
      "90.0% complete.\n",
      "100.0% complete.\n"
     ]
    },
    {
     "name": "stderr",
     "output_type": "stream",
     "text": [
      "/home/bknight/anaconda3/lib/python3.7/site-packages/scipy/optimize/minpack.py:794: OptimizeWarning: Covariance of the parameters could not be estimated\n",
      "  category=OptimizeWarning)\n"
     ]
    },
    {
     "name": "stdout",
     "output_type": "stream",
     "text": [
      "10.0% complete.\n",
      "20.0% complete.\n",
      "30.0% complete.\n",
      "40.0% complete.\n",
      "50.0% complete.\n",
      "60.0% complete.\n",
      "70.0% complete.\n",
      "80.0% complete.\n",
      "90.0% complete.\n",
      "100.0% complete.\n"
     ]
    },
    {
     "name": "stderr",
     "output_type": "stream",
     "text": [
      "/home/bknight/anaconda3/lib/python3.7/site-packages/scipy/optimize/minpack.py:794: OptimizeWarning: Covariance of the parameters could not be estimated\n",
      "  category=OptimizeWarning)\n"
     ]
    },
    {
     "name": "stdout",
     "output_type": "stream",
     "text": [
      "10.0% complete.\n",
      "20.0% complete.\n",
      "30.0% complete.\n",
      "40.0% complete.\n",
      "50.0% complete.\n",
      "60.0% complete.\n",
      "70.0% complete.\n",
      "80.0% complete.\n",
      "90.0% complete.\n",
      "100.0% complete.\n"
     ]
    },
    {
     "name": "stderr",
     "output_type": "stream",
     "text": [
      "/home/bknight/anaconda3/lib/python3.7/site-packages/scipy/optimize/minpack.py:794: OptimizeWarning: Covariance of the parameters could not be estimated\n",
      "  category=OptimizeWarning)\n"
     ]
    },
    {
     "name": "stdout",
     "output_type": "stream",
     "text": [
      "10.0% complete.\n",
      "20.0% complete.\n",
      "30.0% complete.\n",
      "40.0% complete.\n",
      "50.0% complete.\n",
      "60.0% complete.\n",
      "70.0% complete.\n",
      "80.0% complete.\n",
      "90.0% complete.\n",
      "100.0% complete.\n"
     ]
    },
    {
     "name": "stderr",
     "output_type": "stream",
     "text": [
      "/home/bknight/anaconda3/lib/python3.7/site-packages/scipy/optimize/minpack.py:794: OptimizeWarning: Covariance of the parameters could not be estimated\n",
      "  category=OptimizeWarning)\n"
     ]
    },
    {
     "name": "stdout",
     "output_type": "stream",
     "text": [
      "10.0% complete.\n",
      "20.0% complete.\n",
      "30.0% complete.\n",
      "40.0% complete.\n",
      "50.0% complete.\n",
      "60.0% complete.\n",
      "70.0% complete.\n",
      "80.0% complete.\n",
      "90.0% complete.\n",
      "100.0% complete.\n"
     ]
    },
    {
     "name": "stderr",
     "output_type": "stream",
     "text": [
      "/home/bknight/anaconda3/lib/python3.7/site-packages/scipy/optimize/minpack.py:794: OptimizeWarning: Covariance of the parameters could not be estimated\n",
      "  category=OptimizeWarning)\n"
     ]
    },
    {
     "name": "stdout",
     "output_type": "stream",
     "text": [
      "10.0% complete.\n",
      "20.0% complete.\n",
      "30.0% complete.\n",
      "40.0% complete.\n",
      "50.0% complete.\n",
      "60.0% complete.\n",
      "70.0% complete.\n",
      "80.0% complete.\n",
      "90.0% complete.\n",
      "100.0% complete.\n"
     ]
    },
    {
     "name": "stderr",
     "output_type": "stream",
     "text": [
      "/home/bknight/anaconda3/lib/python3.7/site-packages/scipy/optimize/minpack.py:794: OptimizeWarning: Covariance of the parameters could not be estimated\n",
      "  category=OptimizeWarning)\n"
     ]
    },
    {
     "name": "stdout",
     "output_type": "stream",
     "text": [
      "10.0% complete.\n",
      "20.0% complete.\n",
      "30.0% complete.\n",
      "40.0% complete.\n",
      "50.0% complete.\n",
      "60.0% complete.\n",
      "70.0% complete.\n",
      "80.0% complete.\n",
      "90.0% complete.\n",
      "100.0% complete.\n"
     ]
    },
    {
     "name": "stderr",
     "output_type": "stream",
     "text": [
      "/home/bknight/anaconda3/lib/python3.7/site-packages/scipy/optimize/minpack.py:794: OptimizeWarning: Covariance of the parameters could not be estimated\n",
      "  category=OptimizeWarning)\n"
     ]
    },
    {
     "name": "stdout",
     "output_type": "stream",
     "text": [
      "10.0% complete.\n",
      "20.0% complete.\n",
      "30.0% complete.\n",
      "40.0% complete.\n",
      "50.0% complete.\n",
      "60.0% complete.\n",
      "70.0% complete.\n",
      "80.0% complete.\n",
      "90.0% complete.\n",
      "100.0% complete.\n"
     ]
    },
    {
     "name": "stderr",
     "output_type": "stream",
     "text": [
      "/home/bknight/anaconda3/lib/python3.7/site-packages/scipy/optimize/minpack.py:794: OptimizeWarning: Covariance of the parameters could not be estimated\n",
      "  category=OptimizeWarning)\n"
     ]
    },
    {
     "name": "stdout",
     "output_type": "stream",
     "text": [
      "10.0% complete.\n",
      "20.0% complete.\n",
      "30.0% complete.\n",
      "40.0% complete.\n",
      "50.0% complete.\n",
      "60.0% complete.\n",
      "70.0% complete.\n",
      "80.0% complete.\n",
      "90.0% complete.\n",
      "100.0% complete.\n"
     ]
    },
    {
     "name": "stderr",
     "output_type": "stream",
     "text": [
      "/home/bknight/anaconda3/lib/python3.7/site-packages/scipy/optimize/minpack.py:794: OptimizeWarning: Covariance of the parameters could not be estimated\n",
      "  category=OptimizeWarning)\n"
     ]
    },
    {
     "name": "stdout",
     "output_type": "stream",
     "text": [
      "10.0% complete.\n",
      "20.0% complete.\n",
      "30.0% complete.\n",
      "40.0% complete.\n",
      "50.0% complete.\n",
      "60.0% complete.\n",
      "70.0% complete.\n",
      "80.0% complete.\n",
      "90.0% complete.\n",
      "100.0% complete.\n"
     ]
    },
    {
     "name": "stderr",
     "output_type": "stream",
     "text": [
      "/home/bknight/anaconda3/lib/python3.7/site-packages/scipy/optimize/minpack.py:794: OptimizeWarning: Covariance of the parameters could not be estimated\n",
      "  category=OptimizeWarning)\n"
     ]
    },
    {
     "name": "stdout",
     "output_type": "stream",
     "text": [
      "10.0% complete.\n",
      "20.0% complete.\n",
      "30.0% complete.\n",
      "40.0% complete.\n",
      "50.0% complete.\n",
      "60.0% complete.\n",
      "70.0% complete.\n",
      "80.0% complete.\n",
      "90.0% complete.\n",
      "100.0% complete.\n"
     ]
    },
    {
     "name": "stderr",
     "output_type": "stream",
     "text": [
      "/home/bknight/anaconda3/lib/python3.7/site-packages/scipy/optimize/minpack.py:794: OptimizeWarning: Covariance of the parameters could not be estimated\n",
      "  category=OptimizeWarning)\n"
     ]
    },
    {
     "name": "stdout",
     "output_type": "stream",
     "text": [
      "10.0% complete.\n",
      "20.0% complete.\n",
      "30.0% complete.\n",
      "40.0% complete.\n",
      "50.0% complete.\n",
      "60.0% complete.\n",
      "70.0% complete.\n",
      "80.0% complete.\n",
      "90.0% complete.\n",
      "100.0% complete.\n"
     ]
    },
    {
     "name": "stderr",
     "output_type": "stream",
     "text": [
      "/home/bknight/anaconda3/lib/python3.7/site-packages/scipy/optimize/minpack.py:794: OptimizeWarning: Covariance of the parameters could not be estimated\n",
      "  category=OptimizeWarning)\n"
     ]
    },
    {
     "name": "stdout",
     "output_type": "stream",
     "text": [
      "10.0% complete.\n",
      "20.0% complete.\n",
      "30.0% complete.\n",
      "40.0% complete.\n",
      "50.0% complete.\n",
      "60.0% complete.\n",
      "70.0% complete.\n",
      "80.0% complete.\n",
      "90.0% complete.\n",
      "100.0% complete.\n"
     ]
    },
    {
     "name": "stderr",
     "output_type": "stream",
     "text": [
      "/home/bknight/anaconda3/lib/python3.7/site-packages/scipy/optimize/minpack.py:794: OptimizeWarning: Covariance of the parameters could not be estimated\n",
      "  category=OptimizeWarning)\n"
     ]
    },
    {
     "name": "stdout",
     "output_type": "stream",
     "text": [
      "10.0% complete.\n",
      "20.0% complete.\n",
      "30.0% complete.\n",
      "40.0% complete.\n",
      "50.0% complete.\n",
      "60.0% complete.\n",
      "70.0% complete.\n",
      "80.0% complete.\n",
      "90.0% complete.\n",
      "100.0% complete.\n"
     ]
    },
    {
     "name": "stderr",
     "output_type": "stream",
     "text": [
      "/home/bknight/anaconda3/lib/python3.7/site-packages/scipy/optimize/minpack.py:794: OptimizeWarning: Covariance of the parameters could not be estimated\n",
      "  category=OptimizeWarning)\n"
     ]
    },
    {
     "name": "stdout",
     "output_type": "stream",
     "text": [
      "10.0% complete.\n",
      "20.0% complete.\n",
      "30.0% complete.\n",
      "40.0% complete.\n",
      "50.0% complete.\n",
      "60.0% complete.\n",
      "70.0% complete.\n",
      "80.0% complete.\n",
      "90.0% complete.\n",
      "100.0% complete.\n"
     ]
    },
    {
     "name": "stderr",
     "output_type": "stream",
     "text": [
      "/home/bknight/anaconda3/lib/python3.7/site-packages/scipy/optimize/minpack.py:794: OptimizeWarning: Covariance of the parameters could not be estimated\n",
      "  category=OptimizeWarning)\n"
     ]
    },
    {
     "name": "stdout",
     "output_type": "stream",
     "text": [
      "10.0% complete.\n",
      "20.0% complete.\n",
      "30.0% complete.\n",
      "40.0% complete.\n",
      "50.0% complete.\n",
      "60.0% complete.\n",
      "70.0% complete.\n",
      "80.0% complete.\n",
      "90.0% complete.\n",
      "100.0% complete.\n"
     ]
    },
    {
     "name": "stderr",
     "output_type": "stream",
     "text": [
      "/home/bknight/anaconda3/lib/python3.7/site-packages/scipy/optimize/minpack.py:794: OptimizeWarning: Covariance of the parameters could not be estimated\n",
      "  category=OptimizeWarning)\n"
     ]
    },
    {
     "name": "stdout",
     "output_type": "stream",
     "text": [
      "10.0% complete.\n",
      "20.0% complete.\n",
      "30.0% complete.\n",
      "40.0% complete.\n",
      "50.0% complete.\n",
      "60.0% complete.\n",
      "70.0% complete.\n",
      "80.0% complete.\n",
      "90.0% complete.\n",
      "100.0% complete.\n"
     ]
    },
    {
     "name": "stderr",
     "output_type": "stream",
     "text": [
      "/home/bknight/anaconda3/lib/python3.7/site-packages/scipy/optimize/minpack.py:794: OptimizeWarning: Covariance of the parameters could not be estimated\n",
      "  category=OptimizeWarning)\n"
     ]
    },
    {
     "name": "stdout",
     "output_type": "stream",
     "text": [
      "10.0% complete.\n",
      "20.0% complete.\n",
      "30.0% complete.\n",
      "40.0% complete.\n",
      "50.0% complete.\n",
      "60.0% complete.\n",
      "70.0% complete.\n",
      "80.0% complete.\n",
      "90.0% complete.\n",
      "100.0% complete.\n"
     ]
    },
    {
     "name": "stderr",
     "output_type": "stream",
     "text": [
      "/home/bknight/anaconda3/lib/python3.7/site-packages/scipy/optimize/minpack.py:794: OptimizeWarning: Covariance of the parameters could not be estimated\n",
      "  category=OptimizeWarning)\n"
     ]
    },
    {
     "name": "stdout",
     "output_type": "stream",
     "text": [
      "10.0% complete.\n",
      "20.0% complete.\n",
      "30.0% complete.\n",
      "40.0% complete.\n",
      "50.0% complete.\n",
      "60.0% complete.\n",
      "70.0% complete.\n",
      "80.0% complete.\n",
      "90.0% complete.\n",
      "100.0% complete.\n"
     ]
    },
    {
     "name": "stderr",
     "output_type": "stream",
     "text": [
      "/home/bknight/anaconda3/lib/python3.7/site-packages/scipy/optimize/minpack.py:794: OptimizeWarning: Covariance of the parameters could not be estimated\n",
      "  category=OptimizeWarning)\n"
     ]
    },
    {
     "name": "stdout",
     "output_type": "stream",
     "text": [
      "10.0% complete.\n",
      "20.0% complete.\n",
      "30.0% complete.\n",
      "40.0% complete.\n",
      "50.0% complete.\n",
      "60.0% complete.\n",
      "70.0% complete.\n",
      "80.0% complete.\n",
      "90.0% complete.\n",
      "100.0% complete.\n"
     ]
    },
    {
     "name": "stderr",
     "output_type": "stream",
     "text": [
      "/home/bknight/anaconda3/lib/python3.7/site-packages/scipy/optimize/minpack.py:794: OptimizeWarning: Covariance of the parameters could not be estimated\n",
      "  category=OptimizeWarning)\n"
     ]
    },
    {
     "name": "stdout",
     "output_type": "stream",
     "text": [
      "10.0% complete.\n",
      "20.0% complete.\n",
      "30.0% complete.\n",
      "40.0% complete.\n",
      "50.0% complete.\n",
      "60.0% complete.\n",
      "70.0% complete.\n",
      "80.0% complete.\n",
      "90.0% complete.\n",
      "100.0% complete.\n"
     ]
    },
    {
     "name": "stderr",
     "output_type": "stream",
     "text": [
      "/home/bknight/anaconda3/lib/python3.7/site-packages/scipy/optimize/minpack.py:794: OptimizeWarning: Covariance of the parameters could not be estimated\n",
      "  category=OptimizeWarning)\n"
     ]
    },
    {
     "name": "stdout",
     "output_type": "stream",
     "text": [
      "10.0% complete.\n",
      "20.0% complete.\n",
      "30.0% complete.\n",
      "40.0% complete.\n",
      "50.0% complete.\n",
      "60.0% complete.\n",
      "70.0% complete.\n",
      "80.0% complete.\n",
      "90.0% complete.\n",
      "100.0% complete.\n"
     ]
    },
    {
     "name": "stderr",
     "output_type": "stream",
     "text": [
      "/home/bknight/anaconda3/lib/python3.7/site-packages/scipy/optimize/minpack.py:794: OptimizeWarning: Covariance of the parameters could not be estimated\n",
      "  category=OptimizeWarning)\n"
     ]
    },
    {
     "name": "stdout",
     "output_type": "stream",
     "text": [
      "10.0% complete.\n",
      "20.0% complete.\n",
      "30.0% complete.\n",
      "40.0% complete.\n",
      "50.0% complete.\n",
      "60.0% complete.\n",
      "70.0% complete.\n",
      "80.0% complete.\n",
      "90.0% complete.\n",
      "100.0% complete.\n"
     ]
    },
    {
     "name": "stderr",
     "output_type": "stream",
     "text": [
      "/home/bknight/anaconda3/lib/python3.7/site-packages/scipy/optimize/minpack.py:794: OptimizeWarning: Covariance of the parameters could not be estimated\n",
      "  category=OptimizeWarning)\n"
     ]
    },
    {
     "name": "stdout",
     "output_type": "stream",
     "text": [
      "10.0% complete.\n",
      "20.0% complete.\n",
      "30.0% complete.\n",
      "40.0% complete.\n",
      "50.0% complete.\n",
      "60.0% complete.\n",
      "70.0% complete.\n",
      "80.0% complete.\n",
      "90.0% complete.\n",
      "100.0% complete.\n"
     ]
    },
    {
     "name": "stderr",
     "output_type": "stream",
     "text": [
      "/home/bknight/anaconda3/lib/python3.7/site-packages/scipy/optimize/minpack.py:794: OptimizeWarning: Covariance of the parameters could not be estimated\n",
      "  category=OptimizeWarning)\n"
     ]
    },
    {
     "name": "stdout",
     "output_type": "stream",
     "text": [
      "10.0% complete.\n",
      "20.0% complete.\n",
      "30.0% complete.\n",
      "40.0% complete.\n",
      "50.0% complete.\n",
      "60.0% complete.\n",
      "70.0% complete.\n",
      "80.0% complete.\n",
      "90.0% complete.\n",
      "100.0% complete.\n"
     ]
    },
    {
     "name": "stderr",
     "output_type": "stream",
     "text": [
      "/home/bknight/anaconda3/lib/python3.7/site-packages/scipy/optimize/minpack.py:794: OptimizeWarning: Covariance of the parameters could not be estimated\n",
      "  category=OptimizeWarning)\n"
     ]
    },
    {
     "name": "stdout",
     "output_type": "stream",
     "text": [
      "10.0% complete.\n",
      "20.0% complete.\n",
      "30.0% complete.\n",
      "40.0% complete.\n",
      "50.0% complete.\n",
      "60.0% complete.\n",
      "70.0% complete.\n",
      "80.0% complete.\n",
      "90.0% complete.\n",
      "100.0% complete.\n"
     ]
    },
    {
     "name": "stderr",
     "output_type": "stream",
     "text": [
      "/home/bknight/anaconda3/lib/python3.7/site-packages/scipy/optimize/minpack.py:794: OptimizeWarning: Covariance of the parameters could not be estimated\n",
      "  category=OptimizeWarning)\n"
     ]
    },
    {
     "name": "stdout",
     "output_type": "stream",
     "text": [
      "10.0% complete.\n",
      "20.0% complete.\n",
      "30.0% complete.\n",
      "40.0% complete.\n",
      "50.0% complete.\n",
      "60.0% complete.\n",
      "70.0% complete.\n",
      "80.0% complete.\n",
      "90.0% complete.\n",
      "100.0% complete.\n"
     ]
    },
    {
     "name": "stderr",
     "output_type": "stream",
     "text": [
      "/home/bknight/anaconda3/lib/python3.7/site-packages/scipy/optimize/minpack.py:794: OptimizeWarning: Covariance of the parameters could not be estimated\n",
      "  category=OptimizeWarning)\n"
     ]
    },
    {
     "name": "stdout",
     "output_type": "stream",
     "text": [
      "10.0% complete.\n",
      "20.0% complete.\n",
      "30.0% complete.\n",
      "40.0% complete.\n",
      "50.0% complete.\n",
      "60.0% complete.\n",
      "70.0% complete.\n",
      "80.0% complete.\n",
      "90.0% complete.\n",
      "100.0% complete.\n"
     ]
    },
    {
     "name": "stderr",
     "output_type": "stream",
     "text": [
      "/home/bknight/anaconda3/lib/python3.7/site-packages/scipy/optimize/minpack.py:794: OptimizeWarning: Covariance of the parameters could not be estimated\n",
      "  category=OptimizeWarning)\n"
     ]
    },
    {
     "name": "stdout",
     "output_type": "stream",
     "text": [
      "10.0% complete.\n",
      "20.0% complete.\n",
      "30.0% complete.\n",
      "40.0% complete.\n",
      "50.0% complete.\n",
      "60.0% complete.\n",
      "70.0% complete.\n",
      "80.0% complete.\n",
      "90.0% complete.\n",
      "100.0% complete.\n"
     ]
    },
    {
     "name": "stderr",
     "output_type": "stream",
     "text": [
      "/home/bknight/anaconda3/lib/python3.7/site-packages/scipy/optimize/minpack.py:794: OptimizeWarning: Covariance of the parameters could not be estimated\n",
      "  category=OptimizeWarning)\n"
     ]
    },
    {
     "name": "stdout",
     "output_type": "stream",
     "text": [
      "10.0% complete.\n",
      "20.0% complete.\n",
      "30.0% complete.\n",
      "40.0% complete.\n",
      "50.0% complete.\n",
      "60.0% complete.\n",
      "70.0% complete.\n",
      "80.0% complete.\n",
      "90.0% complete.\n",
      "100.0% complete.\n"
     ]
    },
    {
     "name": "stderr",
     "output_type": "stream",
     "text": [
      "/home/bknight/anaconda3/lib/python3.7/site-packages/scipy/optimize/minpack.py:794: OptimizeWarning: Covariance of the parameters could not be estimated\n",
      "  category=OptimizeWarning)\n"
     ]
    },
    {
     "name": "stdout",
     "output_type": "stream",
     "text": [
      "10.0% complete.\n",
      "20.0% complete.\n",
      "30.0% complete.\n",
      "40.0% complete.\n",
      "50.0% complete.\n",
      "60.0% complete.\n",
      "70.0% complete.\n",
      "80.0% complete.\n",
      "90.0% complete.\n",
      "100.0% complete.\n"
     ]
    },
    {
     "name": "stderr",
     "output_type": "stream",
     "text": [
      "/home/bknight/anaconda3/lib/python3.7/site-packages/scipy/optimize/minpack.py:794: OptimizeWarning: Covariance of the parameters could not be estimated\n",
      "  category=OptimizeWarning)\n"
     ]
    },
    {
     "name": "stdout",
     "output_type": "stream",
     "text": [
      "10.0% complete.\n",
      "20.0% complete.\n",
      "30.0% complete.\n",
      "40.0% complete.\n",
      "50.0% complete.\n",
      "60.0% complete.\n",
      "70.0% complete.\n",
      "80.0% complete.\n",
      "90.0% complete.\n",
      "100.0% complete.\n"
     ]
    },
    {
     "name": "stderr",
     "output_type": "stream",
     "text": [
      "/home/bknight/anaconda3/lib/python3.7/site-packages/scipy/optimize/minpack.py:794: OptimizeWarning: Covariance of the parameters could not be estimated\n",
      "  category=OptimizeWarning)\n"
     ]
    },
    {
     "name": "stdout",
     "output_type": "stream",
     "text": [
      "10.0% complete.\n",
      "20.0% complete.\n",
      "30.0% complete.\n",
      "40.0% complete.\n",
      "50.0% complete.\n",
      "60.0% complete.\n",
      "70.0% complete.\n",
      "80.0% complete.\n",
      "90.0% complete.\n",
      "100.0% complete.\n"
     ]
    },
    {
     "name": "stderr",
     "output_type": "stream",
     "text": [
      "/home/bknight/anaconda3/lib/python3.7/site-packages/scipy/optimize/minpack.py:794: OptimizeWarning: Covariance of the parameters could not be estimated\n",
      "  category=OptimizeWarning)\n"
     ]
    },
    {
     "name": "stdout",
     "output_type": "stream",
     "text": [
      "10.0% complete.\n",
      "20.0% complete.\n",
      "30.0% complete.\n",
      "40.0% complete.\n",
      "50.0% complete.\n",
      "60.0% complete.\n",
      "70.0% complete.\n",
      "80.0% complete.\n",
      "90.0% complete.\n",
      "100.0% complete.\n"
     ]
    },
    {
     "name": "stderr",
     "output_type": "stream",
     "text": [
      "/home/bknight/anaconda3/lib/python3.7/site-packages/scipy/optimize/minpack.py:794: OptimizeWarning: Covariance of the parameters could not be estimated\n",
      "  category=OptimizeWarning)\n"
     ]
    },
    {
     "name": "stdout",
     "output_type": "stream",
     "text": [
      "10.0% complete.\n",
      "20.0% complete.\n",
      "30.0% complete.\n",
      "40.0% complete.\n",
      "50.0% complete.\n",
      "60.0% complete.\n",
      "70.0% complete.\n",
      "80.0% complete.\n",
      "90.0% complete.\n",
      "100.0% complete.\n"
     ]
    },
    {
     "name": "stderr",
     "output_type": "stream",
     "text": [
      "/home/bknight/anaconda3/lib/python3.7/site-packages/scipy/optimize/minpack.py:794: OptimizeWarning: Covariance of the parameters could not be estimated\n",
      "  category=OptimizeWarning)\n"
     ]
    },
    {
     "name": "stdout",
     "output_type": "stream",
     "text": [
      "10.0% complete.\n",
      "20.0% complete.\n",
      "30.0% complete.\n",
      "40.0% complete.\n",
      "50.0% complete.\n",
      "60.0% complete.\n",
      "70.0% complete.\n",
      "80.0% complete.\n",
      "90.0% complete.\n",
      "100.0% complete.\n"
     ]
    },
    {
     "name": "stderr",
     "output_type": "stream",
     "text": [
      "/home/bknight/anaconda3/lib/python3.7/site-packages/scipy/optimize/minpack.py:794: OptimizeWarning: Covariance of the parameters could not be estimated\n",
      "  category=OptimizeWarning)\n"
     ]
    },
    {
     "name": "stdout",
     "output_type": "stream",
     "text": [
      "10.0% complete.\n",
      "20.0% complete.\n",
      "30.0% complete.\n",
      "40.0% complete.\n",
      "50.0% complete.\n",
      "60.0% complete.\n",
      "70.0% complete.\n",
      "80.0% complete.\n",
      "90.0% complete.\n",
      "100.0% complete.\n"
     ]
    },
    {
     "name": "stderr",
     "output_type": "stream",
     "text": [
      "/home/bknight/anaconda3/lib/python3.7/site-packages/scipy/optimize/minpack.py:794: OptimizeWarning: Covariance of the parameters could not be estimated\n",
      "  category=OptimizeWarning)\n"
     ]
    },
    {
     "name": "stdout",
     "output_type": "stream",
     "text": [
      "10.0% complete.\n",
      "20.0% complete.\n",
      "30.0% complete.\n",
      "40.0% complete.\n",
      "50.0% complete.\n",
      "60.0% complete.\n",
      "70.0% complete.\n",
      "80.0% complete.\n",
      "90.0% complete.\n",
      "100.0% complete.\n"
     ]
    },
    {
     "name": "stderr",
     "output_type": "stream",
     "text": [
      "/home/bknight/anaconda3/lib/python3.7/site-packages/scipy/optimize/minpack.py:794: OptimizeWarning: Covariance of the parameters could not be estimated\n",
      "  category=OptimizeWarning)\n"
     ]
    },
    {
     "name": "stdout",
     "output_type": "stream",
     "text": [
      "10.0% complete.\n",
      "20.0% complete.\n",
      "30.0% complete.\n",
      "40.0% complete.\n",
      "50.0% complete.\n",
      "60.0% complete.\n",
      "70.0% complete.\n",
      "80.0% complete.\n",
      "90.0% complete.\n",
      "100.0% complete.\n"
     ]
    },
    {
     "name": "stderr",
     "output_type": "stream",
     "text": [
      "/home/bknight/anaconda3/lib/python3.7/site-packages/scipy/optimize/minpack.py:794: OptimizeWarning: Covariance of the parameters could not be estimated\n",
      "  category=OptimizeWarning)\n"
     ]
    },
    {
     "name": "stdout",
     "output_type": "stream",
     "text": [
      "10.0% complete.\n",
      "20.0% complete.\n",
      "30.0% complete.\n",
      "40.0% complete.\n",
      "50.0% complete.\n",
      "60.0% complete.\n",
      "70.0% complete.\n",
      "80.0% complete.\n",
      "90.0% complete.\n",
      "100.0% complete.\n"
     ]
    },
    {
     "name": "stderr",
     "output_type": "stream",
     "text": [
      "/home/bknight/anaconda3/lib/python3.7/site-packages/scipy/optimize/minpack.py:794: OptimizeWarning: Covariance of the parameters could not be estimated\n",
      "  category=OptimizeWarning)\n"
     ]
    },
    {
     "name": "stdout",
     "output_type": "stream",
     "text": [
      "10.0% complete.\n",
      "20.0% complete.\n",
      "30.0% complete.\n",
      "40.0% complete.\n",
      "50.0% complete.\n",
      "60.0% complete.\n",
      "70.0% complete.\n",
      "80.0% complete.\n",
      "90.0% complete.\n",
      "100.0% complete.\n"
     ]
    },
    {
     "name": "stderr",
     "output_type": "stream",
     "text": [
      "/home/bknight/anaconda3/lib/python3.7/site-packages/scipy/optimize/minpack.py:794: OptimizeWarning: Covariance of the parameters could not be estimated\n",
      "  category=OptimizeWarning)\n"
     ]
    },
    {
     "name": "stdout",
     "output_type": "stream",
     "text": [
      "10.0% complete.\n",
      "20.0% complete.\n",
      "30.0% complete.\n",
      "40.0% complete.\n",
      "50.0% complete.\n",
      "60.0% complete.\n",
      "70.0% complete.\n",
      "80.0% complete.\n",
      "90.0% complete.\n",
      "100.0% complete.\n"
     ]
    },
    {
     "name": "stderr",
     "output_type": "stream",
     "text": [
      "/home/bknight/anaconda3/lib/python3.7/site-packages/scipy/optimize/minpack.py:794: OptimizeWarning: Covariance of the parameters could not be estimated\n",
      "  category=OptimizeWarning)\n"
     ]
    },
    {
     "name": "stdout",
     "output_type": "stream",
     "text": [
      "10.0% complete.\n",
      "20.0% complete.\n",
      "30.0% complete.\n",
      "40.0% complete.\n",
      "50.0% complete.\n",
      "60.0% complete.\n",
      "70.0% complete.\n",
      "80.0% complete.\n",
      "90.0% complete.\n",
      "100.0% complete.\n"
     ]
    },
    {
     "name": "stderr",
     "output_type": "stream",
     "text": [
      "/home/bknight/anaconda3/lib/python3.7/site-packages/scipy/optimize/minpack.py:794: OptimizeWarning: Covariance of the parameters could not be estimated\n",
      "  category=OptimizeWarning)\n"
     ]
    },
    {
     "name": "stdout",
     "output_type": "stream",
     "text": [
      "10.0% complete.\n",
      "20.0% complete.\n",
      "30.0% complete.\n",
      "40.0% complete.\n",
      "50.0% complete.\n",
      "60.0% complete.\n",
      "70.0% complete.\n",
      "80.0% complete.\n",
      "90.0% complete.\n",
      "100.0% complete.\n"
     ]
    },
    {
     "name": "stderr",
     "output_type": "stream",
     "text": [
      "/home/bknight/anaconda3/lib/python3.7/site-packages/scipy/optimize/minpack.py:794: OptimizeWarning: Covariance of the parameters could not be estimated\n",
      "  category=OptimizeWarning)\n"
     ]
    },
    {
     "name": "stdout",
     "output_type": "stream",
     "text": [
      "10.0% complete.\n",
      "20.0% complete.\n",
      "30.0% complete.\n",
      "40.0% complete.\n",
      "50.0% complete.\n",
      "60.0% complete.\n",
      "70.0% complete.\n",
      "80.0% complete.\n",
      "90.0% complete.\n",
      "100.0% complete.\n"
     ]
    },
    {
     "name": "stderr",
     "output_type": "stream",
     "text": [
      "/home/bknight/anaconda3/lib/python3.7/site-packages/scipy/optimize/minpack.py:794: OptimizeWarning: Covariance of the parameters could not be estimated\n",
      "  category=OptimizeWarning)\n"
     ]
    },
    {
     "name": "stdout",
     "output_type": "stream",
     "text": [
      "10.0% complete.\n",
      "20.0% complete.\n",
      "30.0% complete.\n",
      "40.0% complete.\n",
      "50.0% complete.\n",
      "60.0% complete.\n",
      "70.0% complete.\n",
      "80.0% complete.\n",
      "90.0% complete.\n",
      "100.0% complete.\n"
     ]
    },
    {
     "name": "stderr",
     "output_type": "stream",
     "text": [
      "/home/bknight/anaconda3/lib/python3.7/site-packages/scipy/optimize/minpack.py:794: OptimizeWarning: Covariance of the parameters could not be estimated\n",
      "  category=OptimizeWarning)\n"
     ]
    },
    {
     "name": "stdout",
     "output_type": "stream",
     "text": [
      "10.0% complete.\n",
      "20.0% complete.\n",
      "30.0% complete.\n",
      "40.0% complete.\n",
      "50.0% complete.\n",
      "60.0% complete.\n",
      "70.0% complete.\n",
      "80.0% complete.\n",
      "90.0% complete.\n",
      "100.0% complete.\n"
     ]
    },
    {
     "name": "stderr",
     "output_type": "stream",
     "text": [
      "/home/bknight/anaconda3/lib/python3.7/site-packages/scipy/optimize/minpack.py:794: OptimizeWarning: Covariance of the parameters could not be estimated\n",
      "  category=OptimizeWarning)\n"
     ]
    },
    {
     "name": "stdout",
     "output_type": "stream",
     "text": [
      "10.0% complete.\n",
      "20.0% complete.\n",
      "30.0% complete.\n",
      "40.0% complete.\n",
      "50.0% complete.\n",
      "60.0% complete.\n",
      "70.0% complete.\n",
      "80.0% complete.\n",
      "90.0% complete.\n",
      "100.0% complete.\n"
     ]
    },
    {
     "name": "stderr",
     "output_type": "stream",
     "text": [
      "/home/bknight/anaconda3/lib/python3.7/site-packages/scipy/optimize/minpack.py:794: OptimizeWarning: Covariance of the parameters could not be estimated\n",
      "  category=OptimizeWarning)\n"
     ]
    },
    {
     "name": "stdout",
     "output_type": "stream",
     "text": [
      "10.0% complete.\n",
      "20.0% complete.\n",
      "30.0% complete.\n",
      "40.0% complete.\n",
      "50.0% complete.\n",
      "60.0% complete.\n",
      "70.0% complete.\n",
      "80.0% complete.\n",
      "90.0% complete.\n",
      "100.0% complete.\n"
     ]
    },
    {
     "name": "stderr",
     "output_type": "stream",
     "text": [
      "/home/bknight/anaconda3/lib/python3.7/site-packages/scipy/optimize/minpack.py:794: OptimizeWarning: Covariance of the parameters could not be estimated\n",
      "  category=OptimizeWarning)\n"
     ]
    },
    {
     "name": "stdout",
     "output_type": "stream",
     "text": [
      "10.0% complete.\n",
      "20.0% complete.\n",
      "30.0% complete.\n",
      "40.0% complete.\n",
      "50.0% complete.\n",
      "60.0% complete.\n",
      "70.0% complete.\n",
      "80.0% complete.\n",
      "90.0% complete.\n",
      "100.0% complete.\n"
     ]
    },
    {
     "name": "stderr",
     "output_type": "stream",
     "text": [
      "/home/bknight/anaconda3/lib/python3.7/site-packages/scipy/optimize/minpack.py:794: OptimizeWarning: Covariance of the parameters could not be estimated\n",
      "  category=OptimizeWarning)\n"
     ]
    },
    {
     "name": "stdout",
     "output_type": "stream",
     "text": [
      "10.0% complete.\n",
      "20.0% complete.\n",
      "30.0% complete.\n",
      "40.0% complete.\n",
      "50.0% complete.\n",
      "60.0% complete.\n",
      "70.0% complete.\n",
      "80.0% complete.\n",
      "90.0% complete.\n",
      "100.0% complete.\n"
     ]
    },
    {
     "name": "stderr",
     "output_type": "stream",
     "text": [
      "/home/bknight/anaconda3/lib/python3.7/site-packages/scipy/optimize/minpack.py:794: OptimizeWarning: Covariance of the parameters could not be estimated\n",
      "  category=OptimizeWarning)\n"
     ]
    },
    {
     "name": "stdout",
     "output_type": "stream",
     "text": [
      "10.0% complete.\n",
      "20.0% complete.\n",
      "30.0% complete.\n",
      "40.0% complete.\n",
      "50.0% complete.\n",
      "60.0% complete.\n",
      "70.0% complete.\n",
      "80.0% complete.\n",
      "90.0% complete.\n",
      "100.0% complete.\n"
     ]
    },
    {
     "name": "stderr",
     "output_type": "stream",
     "text": [
      "/home/bknight/anaconda3/lib/python3.7/site-packages/scipy/optimize/minpack.py:794: OptimizeWarning: Covariance of the parameters could not be estimated\n",
      "  category=OptimizeWarning)\n"
     ]
    },
    {
     "name": "stdout",
     "output_type": "stream",
     "text": [
      "10.0% complete.\n",
      "20.0% complete.\n",
      "30.0% complete.\n",
      "40.0% complete.\n",
      "50.0% complete.\n",
      "60.0% complete.\n",
      "70.0% complete.\n",
      "80.0% complete.\n",
      "90.0% complete.\n",
      "100.0% complete.\n"
     ]
    },
    {
     "name": "stderr",
     "output_type": "stream",
     "text": [
      "/home/bknight/anaconda3/lib/python3.7/site-packages/scipy/optimize/minpack.py:794: OptimizeWarning: Covariance of the parameters could not be estimated\n",
      "  category=OptimizeWarning)\n"
     ]
    },
    {
     "name": "stdout",
     "output_type": "stream",
     "text": [
      "10.0% complete.\n",
      "20.0% complete.\n",
      "30.0% complete.\n",
      "40.0% complete.\n",
      "50.0% complete.\n",
      "60.0% complete.\n",
      "70.0% complete.\n",
      "80.0% complete.\n",
      "90.0% complete.\n",
      "100.0% complete.\n"
     ]
    },
    {
     "name": "stderr",
     "output_type": "stream",
     "text": [
      "/home/bknight/anaconda3/lib/python3.7/site-packages/scipy/optimize/minpack.py:794: OptimizeWarning: Covariance of the parameters could not be estimated\n",
      "  category=OptimizeWarning)\n"
     ]
    },
    {
     "name": "stdout",
     "output_type": "stream",
     "text": [
      "10.0% complete.\n",
      "20.0% complete.\n",
      "30.0% complete.\n",
      "40.0% complete.\n",
      "50.0% complete.\n",
      "60.0% complete.\n",
      "70.0% complete.\n",
      "80.0% complete.\n",
      "90.0% complete.\n",
      "100.0% complete.\n"
     ]
    },
    {
     "name": "stderr",
     "output_type": "stream",
     "text": [
      "/home/bknight/anaconda3/lib/python3.7/site-packages/scipy/optimize/minpack.py:794: OptimizeWarning: Covariance of the parameters could not be estimated\n",
      "  category=OptimizeWarning)\n"
     ]
    },
    {
     "name": "stdout",
     "output_type": "stream",
     "text": [
      "10.0% complete.\n",
      "20.0% complete.\n",
      "30.0% complete.\n",
      "40.0% complete.\n",
      "50.0% complete.\n",
      "60.0% complete.\n",
      "70.0% complete.\n",
      "80.0% complete.\n",
      "90.0% complete.\n",
      "100.0% complete.\n",
      "Framework 6 completed.\n",
      "10.0% complete.\n",
      "20.0% complete.\n",
      "30.0% complete.\n",
      "40.0% complete.\n",
      "50.0% complete.\n",
      "60.0% complete.\n",
      "70.0% complete.\n",
      "80.0% complete.\n",
      "90.0% complete.\n",
      "100.0% complete.\n",
      "10.0% complete.\n",
      "20.0% complete.\n",
      "30.0% complete.\n",
      "40.0% complete.\n",
      "50.0% complete.\n",
      "60.0% complete.\n",
      "70.0% complete.\n",
      "80.0% complete.\n",
      "90.0% complete.\n",
      "100.0% complete.\n",
      "10.0% complete.\n",
      "20.0% complete.\n",
      "30.0% complete.\n",
      "40.0% complete.\n",
      "50.0% complete.\n",
      "60.0% complete.\n",
      "70.0% complete.\n",
      "80.0% complete.\n",
      "90.0% complete.\n",
      "100.0% complete.\n",
      "10.0% complete.\n",
      "20.0% complete.\n",
      "30.0% complete.\n",
      "40.0% complete.\n",
      "50.0% complete.\n",
      "60.0% complete.\n",
      "70.0% complete.\n",
      "80.0% complete.\n",
      "90.0% complete.\n",
      "100.0% complete.\n",
      "10.0% complete.\n",
      "20.0% complete.\n",
      "30.0% complete.\n",
      "40.0% complete.\n",
      "50.0% complete.\n",
      "60.0% complete.\n",
      "70.0% complete.\n",
      "80.0% complete.\n",
      "90.0% complete.\n",
      "100.0% complete.\n",
      "10.0% complete.\n",
      "20.0% complete.\n",
      "30.0% complete.\n",
      "40.0% complete.\n",
      "50.0% complete.\n",
      "60.0% complete.\n",
      "70.0% complete.\n",
      "80.0% complete.\n",
      "90.0% complete.\n",
      "100.0% complete.\n",
      "10.0% complete.\n",
      "20.0% complete.\n",
      "30.0% complete.\n",
      "40.0% complete.\n",
      "50.0% complete.\n",
      "60.0% complete.\n",
      "70.0% complete.\n",
      "80.0% complete.\n",
      "90.0% complete.\n",
      "100.0% complete.\n",
      "10.0% complete.\n",
      "20.0% complete.\n",
      "30.0% complete.\n",
      "40.0% complete.\n",
      "50.0% complete.\n",
      "60.0% complete.\n",
      "70.0% complete.\n",
      "80.0% complete.\n",
      "90.0% complete.\n",
      "100.0% complete.\n",
      "10.0% complete.\n",
      "20.0% complete.\n",
      "30.0% complete.\n",
      "40.0% complete.\n",
      "50.0% complete.\n",
      "60.0% complete.\n",
      "70.0% complete.\n",
      "80.0% complete.\n",
      "90.0% complete.\n",
      "100.0% complete.\n",
      "10.0% complete.\n",
      "20.0% complete.\n",
      "30.0% complete.\n",
      "40.0% complete.\n",
      "50.0% complete.\n",
      "60.0% complete.\n",
      "70.0% complete.\n",
      "80.0% complete.\n",
      "90.0% complete.\n",
      "100.0% complete.\n",
      "10.0% complete.\n",
      "20.0% complete.\n",
      "30.0% complete.\n",
      "40.0% complete.\n",
      "50.0% complete.\n",
      "60.0% complete.\n",
      "70.0% complete.\n",
      "80.0% complete.\n",
      "90.0% complete.\n",
      "100.0% complete.\n",
      "10.0% complete.\n",
      "20.0% complete.\n",
      "30.0% complete.\n",
      "40.0% complete.\n",
      "50.0% complete.\n",
      "60.0% complete.\n",
      "70.0% complete.\n",
      "80.0% complete.\n",
      "90.0% complete.\n",
      "100.0% complete.\n",
      "10.0% complete.\n",
      "20.0% complete.\n",
      "30.0% complete.\n",
      "40.0% complete.\n",
      "50.0% complete.\n",
      "60.0% complete.\n",
      "70.0% complete.\n",
      "80.0% complete.\n",
      "90.0% complete.\n",
      "100.0% complete.\n",
      "10.0% complete.\n",
      "20.0% complete.\n",
      "30.0% complete.\n",
      "40.0% complete.\n",
      "50.0% complete.\n",
      "60.0% complete.\n",
      "70.0% complete.\n",
      "80.0% complete.\n",
      "90.0% complete.\n",
      "100.0% complete.\n",
      "10.0% complete.\n",
      "20.0% complete.\n",
      "30.0% complete.\n",
      "40.0% complete.\n",
      "50.0% complete.\n",
      "60.0% complete.\n",
      "70.0% complete.\n",
      "80.0% complete.\n",
      "90.0% complete.\n",
      "100.0% complete.\n",
      "10.0% complete.\n",
      "20.0% complete.\n",
      "30.0% complete.\n",
      "40.0% complete.\n",
      "50.0% complete.\n",
      "60.0% complete.\n",
      "70.0% complete.\n",
      "80.0% complete.\n",
      "90.0% complete.\n",
      "100.0% complete.\n",
      "10.0% complete.\n",
      "20.0% complete.\n",
      "30.0% complete.\n",
      "40.0% complete.\n",
      "50.0% complete.\n",
      "60.0% complete.\n",
      "70.0% complete.\n",
      "80.0% complete.\n",
      "90.0% complete.\n",
      "100.0% complete.\n",
      "10.0% complete.\n",
      "20.0% complete.\n",
      "30.0% complete.\n",
      "40.0% complete.\n",
      "50.0% complete.\n",
      "60.0% complete.\n",
      "70.0% complete.\n",
      "80.0% complete.\n",
      "90.0% complete.\n",
      "100.0% complete.\n",
      "10.0% complete.\n",
      "20.0% complete.\n",
      "30.0% complete.\n",
      "40.0% complete.\n",
      "50.0% complete.\n",
      "60.0% complete.\n",
      "70.0% complete.\n",
      "80.0% complete.\n",
      "90.0% complete.\n",
      "100.0% complete.\n",
      "10.0% complete.\n",
      "20.0% complete.\n",
      "30.0% complete.\n",
      "40.0% complete.\n",
      "50.0% complete.\n",
      "60.0% complete.\n",
      "70.0% complete.\n",
      "80.0% complete.\n",
      "90.0% complete.\n",
      "100.0% complete.\n",
      "10.0% complete.\n",
      "20.0% complete.\n",
      "30.0% complete.\n",
      "40.0% complete.\n",
      "50.0% complete.\n",
      "60.0% complete.\n",
      "70.0% complete.\n",
      "80.0% complete.\n",
      "90.0% complete.\n",
      "100.0% complete.\n",
      "10.0% complete.\n",
      "20.0% complete.\n",
      "30.0% complete.\n",
      "40.0% complete.\n",
      "50.0% complete.\n",
      "60.0% complete.\n",
      "70.0% complete.\n",
      "80.0% complete.\n",
      "90.0% complete.\n",
      "100.0% complete.\n",
      "10.0% complete.\n",
      "20.0% complete.\n",
      "30.0% complete.\n",
      "40.0% complete.\n",
      "50.0% complete.\n",
      "60.0% complete.\n",
      "70.0% complete.\n",
      "80.0% complete.\n",
      "90.0% complete.\n",
      "100.0% complete.\n",
      "10.0% complete.\n",
      "20.0% complete.\n",
      "30.0% complete.\n",
      "40.0% complete.\n",
      "50.0% complete.\n",
      "60.0% complete.\n",
      "70.0% complete.\n",
      "80.0% complete.\n",
      "90.0% complete.\n",
      "100.0% complete.\n",
      "10.0% complete.\n",
      "20.0% complete.\n",
      "30.0% complete.\n",
      "40.0% complete.\n",
      "50.0% complete.\n",
      "60.0% complete.\n",
      "70.0% complete.\n",
      "80.0% complete.\n",
      "90.0% complete.\n",
      "100.0% complete.\n",
      "10.0% complete.\n",
      "20.0% complete.\n",
      "30.0% complete.\n",
      "40.0% complete.\n",
      "50.0% complete.\n",
      "60.0% complete.\n",
      "70.0% complete.\n",
      "80.0% complete.\n",
      "90.0% complete.\n",
      "100.0% complete.\n",
      "10.0% complete.\n",
      "20.0% complete.\n",
      "30.0% complete.\n",
      "40.0% complete.\n",
      "50.0% complete.\n",
      "60.0% complete.\n",
      "70.0% complete.\n",
      "80.0% complete.\n",
      "90.0% complete.\n",
      "100.0% complete.\n",
      "10.0% complete.\n",
      "20.0% complete.\n",
      "30.0% complete.\n",
      "40.0% complete.\n",
      "50.0% complete.\n",
      "60.0% complete.\n",
      "70.0% complete.\n",
      "80.0% complete.\n",
      "90.0% complete.\n",
      "100.0% complete.\n",
      "10.0% complete.\n",
      "20.0% complete.\n",
      "30.0% complete.\n",
      "40.0% complete.\n",
      "50.0% complete.\n",
      "60.0% complete.\n",
      "70.0% complete.\n",
      "80.0% complete.\n",
      "90.0% complete.\n",
      "100.0% complete.\n",
      "10.0% complete.\n",
      "20.0% complete.\n",
      "30.0% complete.\n",
      "40.0% complete.\n",
      "50.0% complete.\n",
      "60.0% complete.\n",
      "70.0% complete.\n",
      "80.0% complete.\n",
      "90.0% complete.\n",
      "100.0% complete.\n",
      "10.0% complete.\n",
      "20.0% complete.\n",
      "30.0% complete.\n",
      "40.0% complete.\n",
      "50.0% complete.\n",
      "60.0% complete.\n",
      "70.0% complete.\n",
      "80.0% complete.\n",
      "90.0% complete.\n",
      "100.0% complete.\n",
      "10.0% complete.\n",
      "20.0% complete.\n",
      "30.0% complete.\n",
      "40.0% complete.\n",
      "50.0% complete.\n",
      "60.0% complete.\n",
      "70.0% complete.\n",
      "80.0% complete.\n",
      "90.0% complete.\n",
      "100.0% complete.\n",
      "10.0% complete.\n",
      "20.0% complete.\n",
      "30.0% complete.\n",
      "40.0% complete.\n",
      "50.0% complete.\n",
      "60.0% complete.\n",
      "70.0% complete.\n",
      "80.0% complete.\n",
      "90.0% complete.\n",
      "100.0% complete.\n",
      "10.0% complete.\n",
      "20.0% complete.\n",
      "30.0% complete.\n",
      "40.0% complete.\n",
      "50.0% complete.\n",
      "60.0% complete.\n"
     ]
    }
   ],
   "source": [
    "meta_iterations = 100\n",
    "\n",
    "frameworks = \\\n",
    "[\n",
    "(100, [30000, 40000, 50000]),\n",
    "(100, [20000, 30000, 40000, 50000, 60000]),\n",
    "(100, [10000, 20000, 30000, 40000, 50000, 60000, 70000]),\n",
    "(200, [30000, 40000, 50000]),\n",
    "(200, [20000, 30000, 40000, 50000, 60000]),\n",
    "(200, [10000, 20000, 30000, 40000, 50000, 60000, 70000]),\n",
    "(300, [30000, 40000, 50000]),\n",
    "(300, [20000, 30000, 40000, 50000, 60000]),\n",
    "(300, [10000, 20000, 30000, 40000, 50000, 60000, 70000])  \n",
    "]\n",
    "\n",
    "for i in list(range(0, len(frameworks), 1)):\n",
    "    df = create_df(frameworks[i][1], meta_iterations, frameworks[i][0], 0.05, 0.8, 500)\n",
    "    print(\"Framework {} completed.\".format(str(i)))"
   ]
  }
 ],
 "metadata": {
  "kernelspec": {
   "display_name": "Python 3",
   "language": "python",
   "name": "python3"
  },
  "language_info": {
   "codemirror_mode": {
    "name": "ipython",
    "version": 3
   },
   "file_extension": ".py",
   "mimetype": "text/x-python",
   "name": "python",
   "nbconvert_exporter": "python",
   "pygments_lexer": "ipython3",
   "version": "3.7.1"
  }
 },
 "nbformat": 4,
 "nbformat_minor": 2
}
